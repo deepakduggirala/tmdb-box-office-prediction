{
 "cells": [
  {
   "cell_type": "code",
   "execution_count": 1,
   "id": "3eb1e8ff-c5a8-491c-9c9f-a2895d1e699d",
   "metadata": {},
   "outputs": [],
   "source": [
    "import numpy as np\n",
    "import pandas as pd\n",
    "import matplotlib.pyplot as plt\n",
    "import scipy\n",
    "from scipy import stats\n",
    "%matplotlib inline"
   ]
  },
  {
   "cell_type": "code",
   "execution_count": 33,
   "id": "a18430a2-00df-46f3-8563-97ac0e721108",
   "metadata": {},
   "outputs": [],
   "source": [
    "from sklearn.impute import SimpleImputer\n",
    "from sklearn.pipeline import make_pipeline"
   ]
  },
  {
   "cell_type": "code",
   "execution_count": 22,
   "id": "392ec5df-0b89-4dee-9738-fd51d0564dd9",
   "metadata": {},
   "outputs": [
    {
     "data": {
      "text/plain": [
       "<module 'custom_transformers' from '/Users/deepakduggirala/Documents/kaggle/tmdb-box-office-prediction/custom_transformers.py'>"
      ]
     },
     "execution_count": 22,
     "metadata": {},
     "output_type": "execute_result"
    }
   ],
   "source": [
    "import importlib\n",
    "importlib.reload(ctf)"
   ]
  },
  {
   "cell_type": "code",
   "execution_count": 23,
   "id": "c8b60c65-b73d-4e69-9c4e-58f4c89d524b",
   "metadata": {},
   "outputs": [],
   "source": [
    "import custom_transformers as ctf\n",
    "from custom_transformers import *"
   ]
  },
  {
   "cell_type": "markdown",
   "id": "291bf9c1-94f0-4bee-a1b2-d65c7d125c0a",
   "metadata": {
    "tags": []
   },
   "source": [
    "## Load Data"
   ]
  },
  {
   "cell_type": "code",
   "execution_count": 6,
   "id": "b9ddb9fb-16f4-48d5-8dc9-db585a2169cf",
   "metadata": {},
   "outputs": [],
   "source": [
    "train_data = pd.read_csv('data/train.csv')\n",
    "test_data = pd.read_csv('data/test.csv')"
   ]
  },
  {
   "cell_type": "markdown",
   "id": "a4981e06-5cfc-4a1f-92b0-236d0e0b721f",
   "metadata": {
    "jp-MarkdownHeadingCollapsed": true,
    "tags": []
   },
   "source": [
    "## ReleaseDateTransformer"
   ]
  },
  {
   "cell_type": "code",
   "execution_count": 7,
   "id": "dc10e83a-f810-4df5-ae68-66dc6a8d22fc",
   "metadata": {},
   "outputs": [
    {
     "data": {
      "text/plain": [
       "array([[<AxesSubplot:title={'center':'release_year'}>,\n",
       "        <AxesSubplot:title={'center':'release_month'}>],\n",
       "       [<AxesSubplot:title={'center':'release_day_of_week'}>,\n",
       "        <AxesSubplot:>]], dtype=object)"
      ]
     },
     "execution_count": 7,
     "metadata": {},
     "output_type": "execute_result"
    },
    {
     "data": {
      "image/png": "[encoded data removed]",
      "text/plain": [
       "<Figure size 432x288 with 4 Axes>"
      ]
     },
     "metadata": {
      "needs_background": "light"
     },
     "output_type": "display_data"
    }
   ],
   "source": [
    "t = ReleaseDateTransformer()\n",
    "release_date_transformed = t.fit_transform(train_data['release_date'].values)\n",
    "release_date_transformed.hist()"
   ]
  },
  {
   "cell_type": "markdown",
   "id": "9560425b-88de-4218-bd5f-9202fdce4830",
   "metadata": {
    "jp-MarkdownHeadingCollapsed": true,
    "tags": []
   },
   "source": [
    "## AttributeCountTransformer"
   ]
  },
  {
   "cell_type": "code",
   "execution_count": 14,
   "id": "66b2a626-5ead-48dc-9dfc-9f7e52c972bc",
   "metadata": {},
   "outputs": [
    {
     "data": {
      "text/plain": [
       "array([[24.],\n",
       "       [20.],\n",
       "       [51.],\n",
       "       ...,\n",
       "       [15.],\n",
       "       [26.],\n",
       "       [34.]])"
      ]
     },
     "execution_count": 14,
     "metadata": {},
     "output_type": "execute_result"
    }
   ],
   "source": [
    "act = make_pipeline(SimpleImputer(strategy='constant', fill_value='[]'), AttributeCountTransformer(), SimpleImputer(strategy='median', missing_values=0))\n",
    "act.fit_transform(train_data[['cast']].values)"
   ]
  },
  {
   "cell_type": "markdown",
   "id": "ff123212-a331-4fc8-b017-cf621dbdaa75",
   "metadata": {
    "jp-MarkdownHeadingCollapsed": true,
    "tags": []
   },
   "source": [
    "## ExtractionTransformer"
   ]
  },
  {
   "cell_type": "code",
   "execution_count": 25,
   "id": "066809f0-da6f-40cb-92a6-d3e2bd07aeb0",
   "metadata": {},
   "outputs": [
    {
     "data": {
      "text/plain": [
       "0                                 [Comedy]\n",
       "1         [Comedy, Drama, Family, Romance]\n",
       "2                                  [Drama]\n",
       "3                        [Thriller, Drama]\n",
       "4                       [Action, Thriller]\n",
       "                       ...                \n",
       "2988                     [Comedy, Romance]\n",
       "2989                        [Drama, Music]\n",
       "2990    [Crime, Action, Mystery, Thriller]\n",
       "2991                     [Comedy, Romance]\n",
       "2992           [Thriller, Action, Mystery]\n",
       "Length: 2993, dtype: object"
      ]
     },
     "execution_count": 25,
     "metadata": {},
     "output_type": "execute_result"
    }
   ],
   "source": [
    "nameET = ExtractionTransformer('name')\n",
    "nameET.fit_transform(train_data[train_data['genres'].notna()]['genres'].values)"
   ]
  },
  {
   "cell_type": "markdown",
   "id": "158e505a-36e4-4342-9b87-31acfd24a8e2",
   "metadata": {
    "jp-MarkdownHeadingCollapsed": true,
    "tags": []
   },
   "source": [
    "## MultinomialAttributeTransformer - Name Extraction Pipeline"
   ]
  },
  {
   "cell_type": "code",
   "execution_count": null,
   "id": "942e9213-f8e3-4e58-963d-66771240d6dd",
   "metadata": {},
   "outputs": [],
   "source": [
    "mat = MultinomialAttributeTransformer()\n",
    "mat.fit_transform(genres.values), mat.categories_"
   ]
  },
  {
   "cell_type": "code",
   "execution_count": 28,
   "id": "a2b5174d-dc09-46a7-9b42-e8fef067fadd",
   "metadata": {},
   "outputs": [
    {
     "data": {
      "text/plain": [
       "array([[0., 0., 0., ..., 0., 0., 0.],\n",
       "       [0., 0., 0., ..., 0., 0., 0.],\n",
       "       [0., 0., 0., ..., 0., 0., 0.],\n",
       "       ...,\n",
       "       [1., 0., 0., ..., 1., 0., 0.],\n",
       "       [0., 0., 0., ..., 0., 0., 0.],\n",
       "       [1., 0., 0., ..., 1., 0., 0.]])"
      ]
     },
     "execution_count": 28,
     "metadata": {},
     "output_type": "execute_result"
    }
   ],
   "source": [
    "pipe = make_name_extraction_pipeline()\n",
    "pipe.fit_transform(train_data[['genres']])"
   ]
  },
  {
   "cell_type": "code",
   "execution_count": 31,
   "id": "9fbb3ae5-e366-4a93-9739-f3af9bd93be6",
   "metadata": {},
   "outputs": [
    {
     "data": {
      "text/plain": [
       "['Action',\n",
       " 'Adventure',\n",
       " 'Animation',\n",
       " 'Comedy',\n",
       " 'Crime',\n",
       " 'Documentary',\n",
       " 'Drama',\n",
       " 'Family',\n",
       " 'Fantasy',\n",
       " 'Foreign',\n",
       " 'History',\n",
       " 'Horror',\n",
       " 'Music',\n",
       " 'Mystery',\n",
       " 'Romance',\n",
       " 'Science_Fiction',\n",
       " 'TV_Movie',\n",
       " 'Thriller',\n",
       " 'War',\n",
       " 'Western']"
      ]
     },
     "execution_count": 31,
     "metadata": {},
     "output_type": "execute_result"
    }
   ],
   "source": [
    "pipe.named_steps['multinomialattributetransformer'].categories_"
   ]
  },
  {
   "cell_type": "code",
   "execution_count": null,
   "id": "7068a2d8-e565-431d-aaec-e8702fb4a270",
   "metadata": {},
   "outputs": [],
   "source": []
  }
 ],
 "metadata": {
  "kernelspec": {
   "display_name": "Python 3 (ipykernel)",
   "language": "python",
   "name": "python3"
  },
  "language_info": {
   "codemirror_mode": {
    "name": "ipython",
    "version": 3
   },
   "file_extension": ".py",
   "mimetype": "text/x-python",
   "name": "python",
   "nbconvert_exporter": "python",
   "pygments_lexer": "ipython3",
   "version": "3.9.6"
  }
 },
 "nbformat": 4,
 "nbformat_minor": 5
}
