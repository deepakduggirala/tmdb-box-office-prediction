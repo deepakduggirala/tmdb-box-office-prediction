{
 "cells": [
  {
   "cell_type": "code",
   "execution_count": 2,
   "id": "b9e101c9-d417-4e8d-aeed-35f72388d371",
   "metadata": {},
   "outputs": [],
   "source": [
    "import numpy as np\n",
    "import pandas as pd\n",
    "import matplotlib.pyplot as plt\n",
    "import scipy\n",
    "from scipy import stats\n",
    "%matplotlib inline"
   ]
  },
  {
   "cell_type": "code",
   "execution_count": 3,
   "id": "0a54cbc9-bd6f-4c85-bf1a-c5f4c3c4e226",
   "metadata": {},
   "outputs": [],
   "source": [
    "from sklearn.preprocessing import OneHotEncoder\n",
    "from sklearn.base import BaseEstimator, TransformerMixin\n",
    "from sklearn.impute import SimpleImputer\n",
    "from sklearn.pipeline import make_pipeline\n",
    "from sklearn.compose import ColumnTransformer\n",
    "from sklearn.preprocessing import StandardScaler\n",
    "from sklearn.model_selection import train_test_split\n",
    "from sklearn.preprocessing import FunctionTransformer\n",
    "from sklearn.pipeline import Pipeline\n",
    "\n",
    "from sklearn.linear_model import LinearRegression\n",
    "\n",
    "from sklearn.metrics import mean_squared_error\n",
    "from sklearn.metrics import make_scorer\n",
    "\n",
    "from sklearn import set_config\n",
    "set_config(display='diagram')\n",
    "\n",
    "from sklearn.ensemble import RandomForestRegressor\n",
    "\n",
    "from sklearn.decomposition import PCA"
   ]
  },
  {
   "cell_type": "code",
   "execution_count": 4,
   "id": "ed9a7b13-ce07-48a7-b7ab-8656aedf5ad3",
   "metadata": {},
   "outputs": [
    {
     "ename": "NameError",
     "evalue": "name 'ctf' is not defined",
     "output_type": "error",
     "traceback": [
      "\u001b[0;31m---------------------------------------------------------------------------\u001b[0m",
      "\u001b[0;31mNameError\u001b[0m                                 Traceback (most recent call last)",
      "\u001b[0;32m/var/folders/nl/pxf72qk574l1rzzh347l6x2w0000gn/T/ipykernel_89167/3281986067.py\u001b[0m in \u001b[0;36m<module>\u001b[0;34m\u001b[0m\n\u001b[1;32m      1\u001b[0m \u001b[0;32mimport\u001b[0m \u001b[0mimportlib\u001b[0m\u001b[0;34m\u001b[0m\u001b[0;34m\u001b[0m\u001b[0m\n\u001b[0;32m----> 2\u001b[0;31m \u001b[0mimportlib\u001b[0m\u001b[0;34m.\u001b[0m\u001b[0mreload\u001b[0m\u001b[0;34m(\u001b[0m\u001b[0mctf\u001b[0m\u001b[0;34m)\u001b[0m\u001b[0;34m\u001b[0m\u001b[0;34m\u001b[0m\u001b[0m\n\u001b[0m\u001b[1;32m      3\u001b[0m \u001b[0mimportlib\u001b[0m\u001b[0;34m.\u001b[0m\u001b[0mreload\u001b[0m\u001b[0;34m(\u001b[0m\u001b[0mutils\u001b[0m\u001b[0;34m)\u001b[0m\u001b[0;34m\u001b[0m\u001b[0;34m\u001b[0m\u001b[0m\n",
      "\u001b[0;31mNameError\u001b[0m: name 'ctf' is not defined"
     ]
    }
   ],
   "source": [
    "import importlib\n",
    "importlib.reload(ctf)\n",
    "importlib.reload(utils)"
   ]
  },
  {
   "cell_type": "code",
   "execution_count": 5,
   "id": "0f4abc06-8fc0-4ee7-ba8e-fa0d52bede27",
   "metadata": {},
   "outputs": [],
   "source": [
    "import custom_transformers as ctf\n",
    "from custom_transformers import *\n",
    "\n",
    "import utils as utils\n",
    "from utils import *"
   ]
  },
  {
   "cell_type": "markdown",
   "id": "f5354c8a-23e1-4fd7-83eb-2a1acec30619",
   "metadata": {
    "tags": []
   },
   "source": [
    "## Load Data"
   ]
  },
  {
   "cell_type": "code",
   "execution_count": 6,
   "id": "72210225-9ee3-4ce7-a38b-bd3ae069149e",
   "metadata": {},
   "outputs": [],
   "source": [
    "train_data = pd.read_csv('data/train.csv')\n",
    "test_data = pd.read_csv('data/test.csv')"
   ]
  },
  {
   "cell_type": "markdown",
   "id": "9461b2de-25c8-4d66-a908-882ea5314bc7",
   "metadata": {},
   "source": [
    "## Missing Value Analysis"
   ]
  },
  {
   "cell_type": "code",
   "execution_count": 7,
   "id": "3a36dbbb-98e7-448e-bd59-611e5e777700",
   "metadata": {},
   "outputs": [
    {
     "data": {
      "text/plain": [
       "belongs_to_collection    79.9\n",
       "homepage                 68.5\n",
       "tagline                  19.9\n",
       "Keywords                  9.2\n",
       "production_companies      5.2\n",
       "production_countries      1.8\n",
       "spoken_languages          0.7\n",
       "crew                      0.5\n",
       "cast                      0.4\n",
       "overview                  0.3\n",
       "genres                    0.2\n",
       "runtime                   0.1\n",
       "title                     0.0\n",
       "status                    0.0\n",
       "id                        0.0\n",
       "release_date              0.0\n",
       "poster_path               0.0\n",
       "popularity                0.0\n",
       "original_title            0.0\n",
       "original_language         0.0\n",
       "imdb_id                   0.0\n",
       "budget                    0.0\n",
       "revenue                   0.0\n",
       "dtype: float64"
      ]
     },
     "execution_count": 7,
     "metadata": {},
     "output_type": "execute_result"
    }
   ],
   "source": [
    "np.round(100*train_data.isna().sum()/train_data.shape[0],1).sort_values(ascending=False)"
   ]
  },
  {
   "cell_type": "markdown",
   "id": "35cac056-df04-48c1-8a5f-33d5f99ba3a5",
   "metadata": {},
   "source": [
    "## Features\n",
    "\n",
    "- id: no relation to revenue\n",
    "- belongs_to_collection: useful for sequels, prequels, remakes. but how to encode it?\n",
    "    - use collection_id with OHE, if null set it to 'original'\n",
    "- budget: use as it is / log transform?; numerical; used in base estimator\n",
    "- genres: use id, how to encode multivalue attributes?\n",
    "    - create as many columns as there are unique ids, if a movie belongs to a genre, its column is set to 1\n",
    "    - what happens during test time? - unseen genre? - ignore it\n",
    "    - quickly increases the feature space dimensionality - use dimensionality reduction?\n",
    "        - use dimensionality reduction on just genres or on all features?\n",
    "        - there is not much correlation between genres, dimensionality reduction isn't effective - prove this\n",
    "- homepage: has homepage or not?\n",
    "- imdb_id: not relevant - see if any null? if it doesn't have an IMDB page, not a very popular movie\n",
    "- original_language - OHE\n",
    "- original_title - how to encode text? n - grams? - embedding?\n",
    "- overview - how to encode text?\n",
    "- popularity: numerical; used in base estimator\n",
    "- poster_path: how to use images?\n",
    "- production_companies: use the same approach as genres\n",
    "- production_countries: use the same approach as genres\n",
    "- release date: split into date, month, year; numerical; used in base estimator\n",
    "- runtime: numerical; used in base estimator\n",
    "- spoken_languages: use the same approach as genres\n",
    "- status: OHE\n",
    "- tagline: how to encode text\n",
    "    - presence\n",
    "- title: how to encode text\n",
    "- keywords: use the same approach as genres\n",
    "- cast:\n",
    "    - number of members\n",
    "    - number by gender\n",
    "    - presence of a cast member (same approach as genre) - multinomial attribute\n",
    "    - presence of a character (same approach as genre) - multinomial attribute\n",
    "- crew:\n",
    "    - number of members\n",
    "    - number by gender\n",
    "    - presence of a crew member (same approach as genre) - multinomial attribute\n",
    "    - presence of a role (same approach as genre) - multinomial attribute\n",
    "    - number of people in a department\n",
    "- revenue: log transform; used in base estimator"
   ]
  },
  {
   "cell_type": "markdown",
   "id": "73764524-f110-4e5a-9c63-ba7fa5dd8da6",
   "metadata": {
    "tags": []
   },
   "source": [
    "### Features to One Hot Encode\n",
    "- No transformation\n",
    "    - original_language\n",
    "    - status\n",
    "- Needs Transformation (presence Y/N)\n",
    "    - homepage\n",
    "    - tagline\n",
    "\n",
    "### Counts (of multinomial attributes)\n",
    "- genres\n",
    "- cast\n",
    "- crew\n",
    "- keywords\n",
    "- spoken_languages\n",
    "- production_countries\n",
    "- production_companies\n",
    "\n",
    "\n",
    "\n",
    "### Multinomial Name Extraction:\n",
    "- genres\n",
    "- keywords\n",
    "- spoken_languages\n",
    "- production_countries\n",
    "- production_companies\n",
    "\n",
    "### Custom Features\n",
    "- belongs_to_collection\n",
    "- Cast\n",
    "- Crew\n",
    "\n",
    "### Text Analysis\n",
    "- original_title\n",
    "- overview\n",
    "- tagline (only presence was used)\n",
    "- title\n",
    "\n",
    "### Discarded Features\n",
    "- id\n",
    "- imdb_id\n",
    "- poster_path\n"
   ]
  },
  {
   "cell_type": "markdown",
   "id": "096a9fc2-789b-4f32-ad7b-8e00a0bee7ea",
   "metadata": {
    "tags": []
   },
   "source": [
    "## Data Exploration"
   ]
  },
  {
   "cell_type": "code",
   "execution_count": 8,
   "id": "a488e474-010f-49ca-aca5-8b5dc69faac6",
   "metadata": {},
   "outputs": [],
   "source": [
    "y = np.log(train_data['revenue'])\n",
    "X = train_data.drop(['revenue'], axis=1)\n",
    "X_train, X_test, y_train, y_test = train_test_split(X, y, test_size=0.2, random_state=0, shuffle=True)"
   ]
  },
  {
   "cell_type": "markdown",
   "id": "eb3a31d7-e4a4-4315-b2ed-f2e3d1e7c809",
   "metadata": {},
   "source": [
    "### Keywords"
   ]
  },
  {
   "cell_type": "code",
   "execution_count": 43,
   "id": "ce26a836-aede-4280-8139-f7090725f57c",
   "metadata": {},
   "outputs": [
    {
     "data": {
      "text/plain": [
       "woman_director          175.0\n",
       "independent_film        155.0\n",
       "duringcreditsstinger    134.0\n",
       "murder                  123.0\n",
       "based_on_novel          111.0\n",
       "violence                 87.0\n",
       "sport                    82.0\n",
       "biography                77.0\n",
       "aftercreditsstinger      75.0\n",
       "dystopia                 73.0\n",
       "revenge                  73.0\n",
       "friendship               72.0\n",
       "sex                      71.0\n",
       "suspense                 67.0\n",
       "sequel                   66.0\n",
       "police                   64.0\n",
       "love                     64.0\n",
       "teenager                 61.0\n",
       "nudity                   57.0\n",
       "female_nudity            53.0\n",
       "drug                     52.0\n",
       "prison                   50.0\n",
       "high_school              49.0\n",
       "musical                  49.0\n",
       "los_angeles              48.0\n",
       "dtype: float64"
      ]
     },
     "execution_count": 43,
     "metadata": {},
     "output_type": "execute_result"
    }
   ],
   "source": [
    "pipeline = make_name_extraction_pipeline()\n",
    "tf = pipeline.fit_transform(X[['Keywords']])\n",
    "columns = pipeline.named_steps['multinomialattributetransformer'].categories_\n",
    "tf_df = pd.DataFrame(tf, columns=columns)\n",
    "tf_df.sum().sort_values(ascending=False).iloc[:25]"
   ]
  },
  {
   "cell_type": "code",
   "execution_count": 44,
   "id": "b9febed6-1755-4ce8-80cb-75019f405522",
   "metadata": {},
   "outputs": [
    {
     "data": {
      "text/plain": [
       "(3000, 7400)"
      ]
     },
     "execution_count": 44,
     "metadata": {},
     "output_type": "execute_result"
    }
   ],
   "source": [
    "tf_df.shape"
   ]
  },
  {
   "cell_type": "code",
   "execution_count": 47,
   "id": "595c4242-8e37-4347-9395-5d59f8a56f26",
   "metadata": {},
   "outputs": [
    {
     "data": {
      "text/plain": [
       "52"
      ]
     },
     "execution_count": 47,
     "metadata": {},
     "output_type": "execute_result"
    }
   ],
   "source": [
    "np.sum(tf_df.var() > 0.01)"
   ]
  },
  {
   "cell_type": "code",
   "execution_count": 57,
   "id": "ef768346-e4f3-42ca-bf4b-b4ac3dc36541",
   "metadata": {},
   "outputs": [
    {
     "data": {
      "text/plain": [
       "0.0099999985857975"
      ]
     },
     "execution_count": 57,
     "metadata": {},
     "output_type": "execute_result"
    }
   ],
   "source": [
    "p=0.01010205\n",
    "p*(1-p)"
   ]
  },
  {
   "cell_type": "code",
   "execution_count": 50,
   "id": "74cc006c-8fb1-46ad-aef5-72b11f6ef059",
   "metadata": {},
   "outputs": [
    {
     "data": {
      "text/plain": [
       "(0.010102051443364402, 0.9898979485566356)"
      ]
     },
     "execution_count": 50,
     "metadata": {},
     "output_type": "execute_result"
    }
   ],
   "source": [
    "def quad_root(a,b,c):\n",
    "    t = np.sqrt(b**2-4*a*c)\n",
    "    return (-b-t)/(2*a), (-b+t)/(2*a)\n",
    "quad_root(1, -1, 0.01)"
   ]
  },
  {
   "cell_type": "code",
   "execution_count": 63,
   "id": "6ac0e5f3-df2d-4f62-8cab-730d8c7170c8",
   "metadata": {},
   "outputs": [],
   "source": [
    "pca = PCA(n_components=1000)\n",
    "\n",
    "tf2 = pca.fit_transform(tf_df)"
   ]
  },
  {
   "cell_type": "code",
   "execution_count": 69,
   "id": "90433eb5-206e-4c61-96f9-22413401f708",
   "metadata": {},
   "outputs": [
    {
     "data": {
      "text/plain": [
       "124"
      ]
     },
     "execution_count": 69,
     "metadata": {},
     "output_type": "execute_result"
    }
   ],
   "source": [
    "np.sum(np.var(tf2, axis=0)>0.01)"
   ]
  },
  {
   "cell_type": "markdown",
   "id": "b8e34888-89f6-4785-8c12-da1fa82074a9",
   "metadata": {},
   "source": [
    "### spoken_languages"
   ]
  },
  {
   "cell_type": "code",
   "execution_count": 11,
   "id": "1453b67f-9650-4941-8d15-3e3ec00b6f6e",
   "metadata": {},
   "outputs": [
    {
     "data": {
      "text/plain": [
       "English      2618.0\n",
       "Français      288.0\n",
       "Español       239.0\n",
       "Deutsch       169.0\n",
       "Pусский       152.0\n",
       "Italiano      124.0\n",
       "日本語            89.0\n",
       "普通话            68.0\n",
       "हिन्दी         56.0\n",
       "               43.0\n",
       "Português      43.0\n",
       "العربية        40.0\n",
       "한국어/조선말        37.0\n",
       "广州话_/_廣州話      36.0\n",
       "தமிழ்          27.0\n",
       "Polski         25.0\n",
       "Magyar         24.0\n",
       "Latin          23.0\n",
       "svenska        22.0\n",
       "ภาษาไทย        22.0\n",
       "Český          20.0\n",
       "עִבְרִית       15.0\n",
       "ελληνικά       15.0\n",
       "Dansk          13.0\n",
       "Türkçe         13.0\n",
       "dtype: float64"
      ]
     },
     "execution_count": 11,
     "metadata": {},
     "output_type": "execute_result"
    }
   ],
   "source": [
    "pipeline = make_name_extraction_pipeline()\n",
    "tf = pipeline.fit_transform(X[['spoken_languages']])\n",
    "columns = pipeline.named_steps['multinomialattributetransformer'].categories_\n",
    "tf_df = pd.DataFrame(tf, columns=columns)\n",
    "tf_df.sum().sort_values(ascending=False).iloc[:25]"
   ]
  },
  {
   "cell_type": "code",
   "execution_count": 12,
   "id": "af974efe-8b1a-4c55-97ea-a430d6562f48",
   "metadata": {},
   "outputs": [
    {
     "data": {
      "text/plain": [
       "(3000, 56)"
      ]
     },
     "execution_count": 12,
     "metadata": {},
     "output_type": "execute_result"
    }
   ],
   "source": [
    "tf_df.shape"
   ]
  },
  {
   "cell_type": "markdown",
   "id": "c35b4387-b88e-4ee1-9ced-c97367eae442",
   "metadata": {},
   "source": [
    "### production_countries"
   ]
  },
  {
   "cell_type": "code",
   "execution_count": 13,
   "id": "622ba112-55d0-4ab7-aab2-8a4a700d6393",
   "metadata": {},
   "outputs": [
    {
     "data": {
      "text/plain": [
       "United_States_of_America    2282.0\n",
       "United_Kingdom               380.0\n",
       "France                       222.0\n",
       "Germany                      167.0\n",
       "Canada                       120.0\n",
       "India                         81.0\n",
       "Italy                         64.0\n",
       "Australia                     61.0\n",
       "Japan                         61.0\n",
       "Russia                        58.0\n",
       "Spain                         54.0\n",
       "Hong_Kong                     42.0\n",
       "China                         42.0\n",
       "Belgium                       23.0\n",
       "Ireland                       23.0\n",
       "South_Korea                   22.0\n",
       "Mexico                        19.0\n",
       "Sweden                        18.0\n",
       "New_Zealand                   17.0\n",
       "Netherlands                   15.0\n",
       "Czech_Republic                14.0\n",
       "Denmark                       13.0\n",
       "Brazil                        12.0\n",
       "South_Africa                  10.0\n",
       "Luxembourg                    10.0\n",
       "dtype: float64"
      ]
     },
     "execution_count": 13,
     "metadata": {},
     "output_type": "execute_result"
    }
   ],
   "source": [
    "pipeline = make_name_extraction_pipeline()\n",
    "tf = pipeline.fit_transform(X[['production_countries']])\n",
    "columns = pipeline.named_steps['multinomialattributetransformer'].categories_\n",
    "tf_df = pd.DataFrame(tf, columns=columns)\n",
    "tf_df.sum().sort_values(ascending=False).iloc[:25]"
   ]
  },
  {
   "cell_type": "code",
   "execution_count": 14,
   "id": "88e61226-fe8e-41a2-8c75-a6b6dbfd9fd6",
   "metadata": {},
   "outputs": [
    {
     "data": {
      "text/plain": [
       "(3000, 74)"
      ]
     },
     "execution_count": 14,
     "metadata": {},
     "output_type": "execute_result"
    }
   ],
   "source": [
    "tf_df.shape"
   ]
  },
  {
   "cell_type": "markdown",
   "id": "5a478480-9d5b-466b-8b27-e93c6afad8e8",
   "metadata": {},
   "source": [
    "### production_companies"
   ]
  },
  {
   "cell_type": "code",
   "execution_count": 15,
   "id": "8c2a79a9-22ef-4321-8f31-dbfc16ef6e0a",
   "metadata": {},
   "outputs": [
    {
     "data": {
      "text/plain": [
       "Warner_Bros.                              202.0\n",
       "Universal_Pictures                        188.0\n",
       "Paramount_Pictures                        161.0\n",
       "Twentieth_Century_Fox_Film_Corporation    138.0\n",
       "Columbia_Pictures                          91.0\n",
       "Metro-Goldwyn-Mayer_(MGM)                  84.0\n",
       "New_Line_Cinema                            75.0\n",
       "Touchstone_Pictures                        63.0\n",
       "Walt_Disney_Pictures                       62.0\n",
       "Columbia_Pictures_Corporation              61.0\n",
       "TriStar_Pictures                           53.0\n",
       "Relativity_Media                           48.0\n",
       "Canal+                                     46.0\n",
       "United_Artists                             44.0\n",
       "Miramax_Films                              40.0\n",
       "Village_Roadshow_Pictures                  36.0\n",
       "Regency_Enterprises                        31.0\n",
       "BBC_Films                                  30.0\n",
       "Dune_Entertainment                         30.0\n",
       "Working_Title_Films                        30.0\n",
       "Fox_Searchlight_Pictures                   29.0\n",
       "Lionsgate                                  28.0\n",
       "StudioCanal                                28.0\n",
       "DreamWorks_SKG                             27.0\n",
       "Fox_2000_Pictures                          25.0\n",
       "dtype: float64"
      ]
     },
     "execution_count": 15,
     "metadata": {},
     "output_type": "execute_result"
    }
   ],
   "source": [
    "pipeline = make_name_extraction_pipeline()\n",
    "tf = pipeline.fit_transform(X[['production_companies']])\n",
    "columns = pipeline.named_steps['multinomialattributetransformer'].categories_\n",
    "tf_df = pd.DataFrame(tf, columns=columns)\n",
    "tf_df.sum().sort_values(ascending=False).iloc[:25]"
   ]
  },
  {
   "cell_type": "code",
   "execution_count": 16,
   "id": "9193713e-b25b-4390-957b-011f2d81e4f9",
   "metadata": {},
   "outputs": [
    {
     "data": {
      "text/plain": [
       "(3000, 3695)"
      ]
     },
     "execution_count": 16,
     "metadata": {},
     "output_type": "execute_result"
    }
   ],
   "source": [
    "tf_df.shape"
   ]
  },
  {
   "cell_type": "markdown",
   "id": "f5f7b7c4-440f-4b8e-b95f-641109346d2c",
   "metadata": {},
   "source": [
    "### Cast - names"
   ]
  },
  {
   "cell_type": "code",
   "execution_count": 17,
   "id": "99ea67e4-81ad-41a2-8d70-7ec8998c5dfc",
   "metadata": {},
   "outputs": [
    {
     "data": {
      "text/plain": [
       "Robert_De_Niro        30.0\n",
       "Samuel_L._Jackson     30.0\n",
       "Morgan_Freeman        27.0\n",
       "Susan_Sarandon        25.0\n",
       "Bruce_Willis          25.0\n",
       "Liam_Neeson           25.0\n",
       "J.K._Simmons          25.0\n",
       "Bruce_McGill          24.0\n",
       "John_Turturro         24.0\n",
       "Forest_Whitaker       23.0\n",
       "Willem_Dafoe          23.0\n",
       "Nicolas_Cage          22.0\n",
       "Bill_Murray           22.0\n",
       "Owen_Wilson           22.0\n",
       "Mel_Gibson            21.0\n",
       "Sigourney_Weaver      21.0\n",
       "John_Goodman          21.0\n",
       "Sylvester_Stallone    21.0\n",
       "Jason_Statham         21.0\n",
       "Keith_David           21.0\n",
       "Matt_Damon            20.0\n",
       "Dennis_Quaid          20.0\n",
       "Richard_Jenkins       20.0\n",
       "Ed_Harris             20.0\n",
       "Michael_Caine         20.0\n",
       "dtype: float64"
      ]
     },
     "execution_count": 17,
     "metadata": {},
     "output_type": "execute_result"
    }
   ],
   "source": [
    "pipeline = make_name_extraction_pipeline()\n",
    "tf = pipeline.fit_transform(X[['cast']])\n",
    "columns = pipeline.named_steps['multinomialattributetransformer'].categories_\n",
    "tf_df = pd.DataFrame(tf, columns=columns)\n",
    "tf_df.sum().sort_values(ascending=False).iloc[:25]"
   ]
  },
  {
   "cell_type": "code",
   "execution_count": 18,
   "id": "61607d7a-9bbd-401d-8291-a5caa9c3c32f",
   "metadata": {},
   "outputs": [
    {
     "data": {
      "text/plain": [
       "(3000, 38588)"
      ]
     },
     "execution_count": 18,
     "metadata": {},
     "output_type": "execute_result"
    }
   ],
   "source": [
    "tf_df.shape"
   ]
  },
  {
   "cell_type": "markdown",
   "id": "d6cbf50b-3724-4f69-a726-9dc340920b79",
   "metadata": {},
   "source": [
    "### cast - gender"
   ]
  },
  {
   "cell_type": "code",
   "execution_count": 19,
   "id": "f68113b4-cd94-4697-9b5c-b1ff5c036991",
   "metadata": {},
   "outputs": [],
   "source": [
    "class UniqueCountTransformer(BaseEstimator, TransformerMixin):\n",
    "    def __init__(self):\n",
    "        self.categories_ = None\n",
    "    def fit(self, X, y=None):\n",
    "        return self\n",
    "    def transform(self, X):\n",
    "        res =  pd.DataFrame(map(lambda c: dict(zip(*np.unique(c, return_counts=True))), X))\n",
    "        self.categories_ = list(res.columns)\n",
    "        return res"
   ]
  },
  {
   "cell_type": "code",
   "execution_count": 20,
   "id": "a300850a-15e1-48ed-8556-920c4d3d9a43",
   "metadata": {},
   "outputs": [],
   "source": [
    "pipe = make_pipeline(\n",
    "        SimpleImputer(strategy='constant', fill_value='[]'), \n",
    "        ExtractionTransformer('gender'),\n",
    "        # FunctionTransformer(lambda x: pd.DataFrame(list(x.apply(lambda c: dict(zip(*np.unique(c, return_counts=True))))))),\n",
    "        UniqueCountTransformer(),\n",
    "        SimpleImputer(strategy='constant', fill_value=0)\n",
    "    )\n",
    "\n",
    "x = pipe.fit_transform(X[['cast']])"
   ]
  },
  {
   "cell_type": "code",
   "execution_count": 21,
   "id": "02fa7f8a-592c-4829-a44f-a78fa754a21c",
   "metadata": {},
   "outputs": [
    {
     "data": {
      "text/plain": [
       "(3000, 3)"
      ]
     },
     "execution_count": 21,
     "metadata": {},
     "output_type": "execute_result"
    }
   ],
   "source": [
    "x.shape"
   ]
  },
  {
   "cell_type": "code",
   "execution_count": 22,
   "id": "055bb519-53f2-4696-b9b0-d4becafba59f",
   "metadata": {},
   "outputs": [
    {
     "data": {
      "text/plain": [
       "[0, 1, 2]"
      ]
     },
     "execution_count": 22,
     "metadata": {},
     "output_type": "execute_result"
    }
   ],
   "source": [
    "pipe.named_steps['uniquecounttransformer'].categories_"
   ]
  },
  {
   "cell_type": "markdown",
   "id": "e8a080b3-37fc-49ca-9ff0-21c27dd4b1eb",
   "metadata": {},
   "source": [
    "### cast - characters"
   ]
  },
  {
   "cell_type": "code",
   "execution_count": 23,
   "id": "5af69691-5c2f-45e6-b37d-3b6ea3231195",
   "metadata": {},
   "outputs": [
    {
     "data": {
      "text/plain": [
       "                  208.0\n",
       "Himself           162.0\n",
       "Doctor             77.0\n",
       "Herself            66.0\n",
       "Waitress           66.0\n",
       "Nurse              59.0\n",
       "Bartender          53.0\n",
       "Jack               53.0\n",
       "Paul               48.0\n",
       "Security_Guard     48.0\n",
       "Reporter           45.0\n",
       "Frank              44.0\n",
       "Charlie            41.0\n",
       "Priest             40.0\n",
       "Waiter             39.0\n",
       "Tony               38.0\n",
       "David              38.0\n",
       "Mary               38.0\n",
       "Sam                37.0\n",
       "Tommy              37.0\n",
       "John               36.0\n",
       "Sarah              36.0\n",
       "Judge              35.0\n",
       "Anna               35.0\n",
       "Cop                35.0\n",
       "dtype: float64"
      ]
     },
     "execution_count": 23,
     "metadata": {},
     "output_type": "execute_result"
    }
   ],
   "source": [
    "pipeline = make_pipeline(\n",
    "        SimpleImputer(strategy='constant', fill_value='[]'), \n",
    "        ExtractionTransformer('character'),\n",
    "        MultinomialAttributeTransformer()\n",
    "    )\n",
    "tf = pipeline.fit_transform(X[['cast']])\n",
    "columns = pipeline.named_steps['multinomialattributetransformer'].categories_\n",
    "tf_df = pd.DataFrame(tf, columns=columns)\n",
    "tf_df.sum().sort_values(ascending=False).iloc[:25]"
   ]
  },
  {
   "cell_type": "code",
   "execution_count": 24,
   "id": "f5220a5f-390b-4371-a4a6-d0f7c207c2e3",
   "metadata": {},
   "outputs": [
    {
     "data": {
      "text/plain": [
       "(3000, 44422)"
      ]
     },
     "execution_count": 24,
     "metadata": {},
     "output_type": "execute_result"
    }
   ],
   "source": [
    "tf_df.shape"
   ]
  },
  {
   "cell_type": "markdown",
   "id": "86bdf1e9-6dbe-4735-920a-9c3b1b1b9a8a",
   "metadata": {
    "tags": []
   },
   "source": [
    "### Crew - names"
   ]
  },
  {
   "cell_type": "code",
   "execution_count": 25,
   "id": "c72cd4f8-5ffd-485d-bff4-be065571953c",
   "metadata": {},
   "outputs": [
    {
     "data": {
      "text/plain": [
       "Avy_Kaufman            50.0\n",
       "Deborah_Aquila         40.0\n",
       "James_Newton_Howard    39.0\n",
       "Jerry_Goldsmith        37.0\n",
       "Mary_Vernieu           37.0\n",
       "Francine_Maisler       35.0\n",
       "Tricia_Wood            35.0\n",
       "James_Horner           33.0\n",
       "Kerry_Barden           32.0\n",
       "Steven_Spielberg       31.0\n",
       "Janet_Hirshenson       30.0\n",
       "Harvey_Weinstein       30.0\n",
       "Bob_Weinstein          30.0\n",
       "Jane_Jenkins           29.0\n",
       "Hans_Zimmer            28.0\n",
       "John_Papsidera         28.0\n",
       "John_Debney            28.0\n",
       "Billy_Hopkins          27.0\n",
       "Hans_Bjerno            26.0\n",
       "Mark_Isham             26.0\n",
       "Danny_Elfman           26.0\n",
       "Mindy_Marin            26.0\n",
       "Neal_H._Moritz         26.0\n",
       "Tim_Bevan              26.0\n",
       "Sarah_Finn             25.0\n",
       "dtype: float64"
      ]
     },
     "execution_count": 25,
     "metadata": {},
     "output_type": "execute_result"
    }
   ],
   "source": [
    "pipeline = make_name_extraction_pipeline()\n",
    "tf = pipeline.fit_transform(X[['crew']])\n",
    "columns = pipeline.named_steps['multinomialattributetransformer'].categories_\n",
    "tf_df = pd.DataFrame(tf, columns=columns)\n",
    "tf_df.sum().sort_values(ascending=False).iloc[:25]"
   ]
  },
  {
   "cell_type": "code",
   "execution_count": 26,
   "id": "08d5520b-4131-400a-ba79-bf66ec70ad70",
   "metadata": {},
   "outputs": [
    {
     "data": {
      "text/plain": [
       "(3000, 38554)"
      ]
     },
     "execution_count": 26,
     "metadata": {},
     "output_type": "execute_result"
    }
   ],
   "source": [
    "tf_df.shape"
   ]
  },
  {
   "cell_type": "markdown",
   "id": "f2bef438-48d5-4a5b-9200-c24de8cd1af4",
   "metadata": {},
   "source": [
    "### crew - job"
   ]
  },
  {
   "cell_type": "code",
   "execution_count": 70,
   "id": "41eb2f26-316f-4933-bfc7-2e665dee69e4",
   "metadata": {},
   "outputs": [
    {
     "data": {
      "text/plain": [
       "Director                    2984.0\n",
       "Producer                    2373.0\n",
       "Editor                      2195.0\n",
       "Director_of_Photography     2177.0\n",
       "Screenplay                  1797.0\n",
       "Original_Music_Composer     1732.0\n",
       "Production_Design           1582.0\n",
       "Casting                     1504.0\n",
       "Costume_Design              1449.0\n",
       "Executive_Producer          1318.0\n",
       "Art_Direction               1242.0\n",
       "Set_Decoration              1154.0\n",
       "Writer                      1029.0\n",
       "Script_Supervisor            781.0\n",
       "Makeup_Artist                650.0\n",
       "Still_Photographer           622.0\n",
       "Music                        541.0\n",
       "Music_Editor                 533.0\n",
       "Stunt_Coordinator            521.0\n",
       "Supervising_Sound_Editor     503.0\n",
       "Sound_Re-Recording_Mixer     499.0\n",
       "Camera_Operator              487.0\n",
       "Hairstylist                  484.0\n",
       "Costume_Supervisor           463.0\n",
       "Novel                        443.0\n",
       "dtype: float64"
      ]
     },
     "execution_count": 70,
     "metadata": {},
     "output_type": "execute_result"
    }
   ],
   "source": [
    "pipeline = make_pipeline(\n",
    "        SimpleImputer(strategy='constant', fill_value='[]'), \n",
    "        ExtractionTransformer('job'),\n",
    "        MultinomialAttributeTransformer()\n",
    "    )\n",
    "tf = pipeline.fit_transform(X[['crew']])\n",
    "columns = pipeline.named_steps['multinomialattributetransformer'].categories_\n",
    "tf_df = pd.DataFrame(tf, columns=columns)\n",
    "tf_df.sum().sort_values(ascending=False).iloc[:25]"
   ]
  },
  {
   "cell_type": "code",
   "execution_count": 28,
   "id": "6ded04f6-7750-4e0a-acb5-f604713de63a",
   "metadata": {},
   "outputs": [
    {
     "data": {
      "text/plain": [
       "(3000, 412)"
      ]
     },
     "execution_count": 28,
     "metadata": {},
     "output_type": "execute_result"
    }
   ],
   "source": [
    "tf_df.shape"
   ]
  },
  {
   "cell_type": "markdown",
   "id": "13c37996-ef6a-4cdc-8434-0ec6b5d7ab6b",
   "metadata": {
    "tags": []
   },
   "source": [
    "### crew - gender"
   ]
  },
  {
   "cell_type": "code",
   "execution_count": 29,
   "id": "712ecc6c-7304-4384-8636-bf50e60f27be",
   "metadata": {},
   "outputs": [],
   "source": [
    "pipe = make_pipeline(\n",
    "        SimpleImputer(strategy='constant', fill_value='[]'), \n",
    "        ExtractionTransformer('gender'),\n",
    "        # FunctionTransformer(lambda x: pd.DataFrame(list(x.apply(lambda c: dict(zip(*np.unique(c, return_counts=True))))))),\n",
    "        UniqueCountTransformer(),\n",
    "        SimpleImputer(strategy='constant', fill_value=0)\n",
    "    )\n",
    "\n",
    "x = pipe.fit_transform(X[['crew']])"
   ]
  },
  {
   "cell_type": "code",
   "execution_count": 30,
   "id": "bde22a95-f24c-4edb-8123-50bc3734286f",
   "metadata": {},
   "outputs": [
    {
     "data": {
      "text/plain": [
       "array([[<AxesSubplot:title={'center':'0'}>,\n",
       "        <AxesSubplot:title={'center':'1'}>],\n",
       "       [<AxesSubplot:title={'center':'2'}>, <AxesSubplot:>]], dtype=object)"
      ]
     },
     "execution_count": 30,
     "metadata": {},
     "output_type": "execute_result"
    },
    {
     "data": {
      "image/png": "[encoded data removed]",
      "text/plain": [
       "<Figure size 432x288 with 4 Axes>"
      ]
     },
     "metadata": {
      "needs_background": "light"
     },
     "output_type": "display_data"
    }
   ],
   "source": [
    "pd.DataFrame(x, columns=[0,1,2]).hist()"
   ]
  },
  {
   "cell_type": "markdown",
   "id": "38597d97-2bb6-4251-a998-7d6067b41a28",
   "metadata": {
    "tags": []
   },
   "source": [
    "### crew - department"
   ]
  },
  {
   "cell_type": "code",
   "execution_count": 31,
   "id": "7871fe84-b1ce-48f3-a59f-b3f80ed290c5",
   "metadata": {},
   "outputs": [],
   "source": [
    "pipe = make_pipeline(\n",
    "        SimpleImputer(strategy='constant', fill_value='[]'), \n",
    "        ExtractionTransformer('department'),\n",
    "        # FunctionTransformer(lambda x: pd.DataFrame(list(x.apply(lambda c: dict(zip(*np.unique(c, return_counts=True))))))),\n",
    "        UniqueCountTransformer(),\n",
    "        SimpleImputer(strategy='constant', fill_value=0)\n",
    "    )\n",
    "\n",
    "x = pipe.fit_transform(X[['crew']])"
   ]
  },
  {
   "cell_type": "code",
   "execution_count": 32,
   "id": "01c87ce3-51fb-4a32-a98e-2baa17fd42bd",
   "metadata": {},
   "outputs": [
    {
     "data": {
      "text/plain": [
       "(3000, 12)"
      ]
     },
     "execution_count": 32,
     "metadata": {},
     "output_type": "execute_result"
    }
   ],
   "source": [
    "x.shape"
   ]
  },
  {
   "cell_type": "code",
   "execution_count": 33,
   "id": "d35c34c4-b264-48fb-b57a-da0a1d75c040",
   "metadata": {},
   "outputs": [
    {
     "data": {
      "text/plain": [
       "['Art',\n",
       " 'Camera',\n",
       " 'Costume & Make-Up',\n",
       " 'Crew',\n",
       " 'Directing',\n",
       " 'Editing',\n",
       " 'Lighting',\n",
       " 'Production',\n",
       " 'Sound',\n",
       " 'Visual Effects',\n",
       " 'Writing',\n",
       " 'Actors']"
      ]
     },
     "execution_count": 33,
     "metadata": {},
     "output_type": "execute_result"
    }
   ],
   "source": [
    "pipe.named_steps['uniquecounttransformer'].categories_"
   ]
  },
  {
   "cell_type": "code",
   "execution_count": 34,
   "id": "4c170ed4-4df7-478f-bee4-f8cba71ab937",
   "metadata": {},
   "outputs": [
    {
     "data": {
      "text/plain": [
       "array([[<AxesSubplot:title={'center':'Art'}>,\n",
       "        <AxesSubplot:title={'center':'Camera'}>,\n",
       "        <AxesSubplot:title={'center':'Costume & Make-Up'}>],\n",
       "       [<AxesSubplot:title={'center':'Crew'}>,\n",
       "        <AxesSubplot:title={'center':'Directing'}>,\n",
       "        <AxesSubplot:title={'center':'Editing'}>],\n",
       "       [<AxesSubplot:title={'center':'Lighting'}>,\n",
       "        <AxesSubplot:title={'center':'Production'}>,\n",
       "        <AxesSubplot:title={'center':'Sound'}>],\n",
       "       [<AxesSubplot:title={'center':'Visual Effects'}>,\n",
       "        <AxesSubplot:title={'center':'Writing'}>,\n",
       "        <AxesSubplot:title={'center':'Actors'}>]], dtype=object)"
      ]
     },
     "execution_count": 34,
     "metadata": {},
     "output_type": "execute_result"
    },
    {
     "data": {
      "image/png": "[encoded data removed]",
      "text/plain": [
       "<Figure size 432x288 with 12 Axes>"
      ]
     },
     "metadata": {
      "needs_background": "light"
     },
     "output_type": "display_data"
    }
   ],
   "source": [
    "pd.DataFrame(x, columns=pipe.named_steps['uniquecounttransformer'].categories_).hist()"
   ]
  },
  {
   "cell_type": "markdown",
   "id": "25471868-a4ea-4cad-af18-7511ae314ff8",
   "metadata": {},
   "source": [
    "## SelectMostKFrequent"
   ]
  },
  {
   "cell_type": "code",
   "execution_count": 35,
   "id": "35d61e01-6fd3-43e6-8cb8-716d18436604",
   "metadata": {},
   "outputs": [],
   "source": [
    "class SelectMostKFrequent(BaseEstimator, TransformerMixin):\n",
    "    def __init__(self, k):\n",
    "        self.k = k\n",
    "        self.k_frequent_ = None\n",
    "    def fit(self, X, y=None):\n",
    "        return self\n",
    "    def transform(self, X):\n",
    "        X_df = pd.DataFrame(X)\n",
    "        self.k_frequent_ = list(X_df.sum().sort_values(ascending=False).iloc[:self.k].index)\n",
    "        \n",
    "        return X_df.iloc[:, self.k_frequent_]\n",
    "    \n",
    "pipeline = make_pipeline(\n",
    "        SimpleImputer(strategy='constant', fill_value='[]'), \n",
    "        ExtractionTransformer('job'),\n",
    "        MultinomialAttributeTransformer(),\n",
    "        SelectMostKFrequent(25)\n",
    "    )\n",
    "\n",
    "tf = pipeline.fit_transform(X[['crew']])"
   ]
  },
  {
   "cell_type": "code",
   "execution_count": 36,
   "id": "b40a0f33-cf1d-4c31-8155-c0a659acbf28",
   "metadata": {},
   "outputs": [
    {
     "data": {
      "text/plain": [
       "Director                    2984.0\n",
       "Producer                    2373.0\n",
       "Editor                      2195.0\n",
       "Director_of_Photography     2177.0\n",
       "Screenplay                  1797.0\n",
       "Original_Music_Composer     1732.0\n",
       "Production_Design           1582.0\n",
       "Casting                     1504.0\n",
       "Costume_Design              1449.0\n",
       "Executive_Producer          1318.0\n",
       "Art_Direction               1242.0\n",
       "Set_Decoration              1154.0\n",
       "Writer                      1029.0\n",
       "Script_Supervisor            781.0\n",
       "Makeup_Artist                650.0\n",
       "Still_Photographer           622.0\n",
       "Music                        541.0\n",
       "Music_Editor                 533.0\n",
       "Stunt_Coordinator            521.0\n",
       "Supervising_Sound_Editor     503.0\n",
       "Sound_Re-Recording_Mixer     499.0\n",
       "Camera_Operator              487.0\n",
       "Hairstylist                  484.0\n",
       "Costume_Supervisor           463.0\n",
       "Novel                        443.0\n",
       "dtype: float64"
      ]
     },
     "execution_count": 36,
     "metadata": {},
     "output_type": "execute_result"
    }
   ],
   "source": [
    "columns = np.array(pipeline.named_steps['multinomialattributetransformer'].categories_)\n",
    "k_frequent = pipeline.named_steps['selectmostkfrequent'].k_frequent_\n",
    "\n",
    "tf.columns = columns[k_frequent]\n",
    "tf.sum()"
   ]
  },
  {
   "cell_type": "markdown",
   "id": "6efdeffe-37c9-4c82-8fdd-f6f6e94cf618",
   "metadata": {},
   "source": [
    "## Base Estimator\n",
    "\n",
    "Conditional Pipelien: Train two models, one on data where a meaningful budget is present, other without the budget feature"
   ]
  },
  {
   "cell_type": "code",
   "execution_count": 78,
   "id": "f31367c3-9c53-4762-adbc-bf08d00e4775",
   "metadata": {},
   "outputs": [],
   "source": [
    "y = np.log(train_data['revenue'])\n",
    "X = train_data.drop(['revenue'], axis=1)\n",
    "X_train, X_test, y_train, y_test = train_test_split(X, y, test_size=0.2, random_state=0, shuffle=True)\n",
    "\n",
    "def make_mask(X, thresh=500):\n",
    "    return X['budget'] < thresh"
   ]
  },
  {
   "cell_type": "code",
   "execution_count": 86,
   "id": "9f2b04e7-37e2-4738-b6f5-9f16cff7820d",
   "metadata": {},
   "outputs": [],
   "source": [
    "class FeaturePipelines():\n",
    "    def __init__(self):\n",
    "        pass\n",
    "        \n",
    "    def get_config(self, include_budget=True):\n",
    "        common_config = [\n",
    "            ('popularity', make_pipeline(\n",
    "                SimpleImputer(strategy='median'), \n",
    "                StandardScaler()\n",
    "            ), ['popularity']),\n",
    "\n",
    "            ('runtime', make_pipeline(\n",
    "                RuntimeImputer, \n",
    "                StandardScaler()\n",
    "            ), ['runtime']),\n",
    "\n",
    "            ('release_date', make_pipeline(\n",
    "                SimpleImputer(strategy='most_frequent'), \n",
    "                ReleaseDateTransformer()\n",
    "            ), ['release_date']), \n",
    "            \n",
    "            ('original_language+status', make_pipeline(\n",
    "                SimpleImputer(strategy='most_frequent'), \n",
    "                OneHotEncoder(handle_unknown='ignore')\n",
    "            ), ['original_language', 'status']),\n",
    "            \n",
    "            ('homepage+tagline', presenceBinarizer\n",
    "             , ['homepage', 'tagline']),\n",
    "            \n",
    "            ('genres_counts', make_attribute_count_pipeline(), ['genres']),\n",
    "            ('cast_counts', make_attribute_count_pipeline(), ['cast']),\n",
    "            ('crew_counts', make_attribute_count_pipeline(), ['crew']),\n",
    "            ('keywords_counts', make_attribute_count_pipeline(), ['Keywords']),\n",
    "            ('production_companies_counts', make_attribute_count_pipeline(), ['production_companies']),\n",
    "            ('production_countries_counts', make_attribute_count_pipeline(), ['production_countries']),\n",
    "            ('spoken_languages_counts', make_attribute_count_pipeline(), ['spoken_languages']),\n",
    "            \n",
    "            ('genres', make_name_extraction_pipeline(), ['genres']),\n",
    "            \n",
    "            ('cast_gender', make_pipeline(\n",
    "                SimpleImputer(strategy='constant', fill_value='[]'), \n",
    "                ExtractionTransformer('gender'),\n",
    "                UniqueCountTransformer(),\n",
    "                SimpleImputer(strategy='constant', fill_value=0)\n",
    "            ), ['cast']), \n",
    "            \n",
    "            ('crew_gender', make_pipeline(\n",
    "                SimpleImputer(strategy='constant', fill_value='[]'), \n",
    "                ExtractionTransformer('gender'),\n",
    "                UniqueCountTransformer(),\n",
    "                SimpleImputer(strategy='constant', fill_value=0)\n",
    "            ), ['crew']),\n",
    "            \n",
    "            ('crew_department', make_pipeline(\n",
    "                SimpleImputer(strategy='constant', fill_value='[]'), \n",
    "                ExtractionTransformer('department'),\n",
    "                UniqueCountTransformer(),\n",
    "                SimpleImputer(strategy='constant', fill_value=0)\n",
    "            ), ['crew']),\n",
    "            \n",
    "            ('crew_jobs', make_pipeline(\n",
    "                SimpleImputer(strategy='constant', fill_value='[]'), \n",
    "                ExtractionTransformer('job'),\n",
    "                MultinomialAttributeTransformer(),\n",
    "                # SelectMostKFrequent(25)\n",
    "            ), ['crew']),\n",
    "            \n",
    "             ('crew_names', make_pipeline(\n",
    "                SimpleImputer(strategy='constant', fill_value='[]'), \n",
    "                ExtractionTransformer('name'),\n",
    "                MultinomialAttributeTransformer(),\n",
    "                # SelectMostKFrequent(50)\n",
    "                PCA(100)\n",
    "            ), ['crew']),\n",
    "            \n",
    "            ('cast_names', make_pipeline(\n",
    "                SimpleImputer(strategy='constant', fill_value='[]'), \n",
    "                ExtractionTransformer('name'),\n",
    "                MultinomialAttributeTransformer(),\n",
    "                # SelectMostKFrequent(50)\n",
    "                PCA(100)\n",
    "            ), ['cast']),\n",
    "            \n",
    "            ('cast_characters', make_pipeline(\n",
    "                SimpleImputer(strategy='constant', fill_value='[]'), \n",
    "                ExtractionTransformer('character'),\n",
    "                MultinomialAttributeTransformer(),\n",
    "                # SelectMostKFrequent(50)\n",
    "                PCA(100)\n",
    "            ), ['cast']),\n",
    "            \n",
    "            ('keywords', make_pipeline(\n",
    "                SimpleImputer(strategy='constant', fill_value='[]'), \n",
    "                ExtractionTransformer('name'),\n",
    "                MultinomialAttributeTransformer(),\n",
    "                # SelectMostKFrequent(50)\n",
    "                PCA(100)\n",
    "            ), ['Keywords']),\n",
    "            \n",
    "            ('spoken_languages', make_pipeline(\n",
    "                SimpleImputer(strategy='constant', fill_value='[]'), \n",
    "                ExtractionTransformer('name'),\n",
    "                MultinomialAttributeTransformer(),\n",
    "                # SelectMostKFrequent(50)\n",
    "            ), ['spoken_languages']),\n",
    "            \n",
    "            ('production_countries', make_pipeline(\n",
    "                SimpleImputer(strategy='constant', fill_value='[]'), \n",
    "                ExtractionTransformer('name'),\n",
    "                MultinomialAttributeTransformer(),\n",
    "                # SelectMostKFrequent(50)\n",
    "            ), ['production_countries']),\n",
    "            \n",
    "            ('production_companies', make_pipeline(\n",
    "                SimpleImputer(strategy='constant', fill_value='[]'), \n",
    "                ExtractionTransformer('name'),\n",
    "                MultinomialAttributeTransformer(),\n",
    "                # SelectMostKFrequent(50)\n",
    "                PCA(100)\n",
    "            ), ['production_companies'])\n",
    "        ]\n",
    "        \n",
    "        budget_config = [\n",
    "            ('budget', make_pipeline(\n",
    "                SimpleImputer(strategy='median'),\n",
    "                FunctionTransformer(np.log1p),\n",
    "                StandardScaler()\n",
    "            ), ['budget'])\n",
    "        ]\n",
    "        \n",
    "        return (budget_config if include_budget else []) + common_config\n",
    "    \n",
    "    def get_features(self, prep_pipeline, include_budget=True):\n",
    "        features = ['popularity', 'runtime', 'release_year', 'release_month', 'release_DOW']\n",
    "        orig_lang, status = prep_pipeline.named_transformers_['original_language+status'].named_steps['onehotencoder'].categories_\n",
    "        features += list(orig_lang) + list(status)\n",
    "        features += ['homepage', 'tagline']\n",
    "        features += ['genres_counts', 'cast_counts', 'crew_counts', 'keywords_counts', 'production_companies_counts', 'production_countries_counts', 'spoken_languages_counts']\n",
    "        features += prep_pipeline.named_transformers_['genres'].named_steps['multinomialattributetransformer'].categories_\n",
    "        features += ['cast_gender_'+str(f) for f in prep_pipeline.named_transformers_['cast_gender'].named_steps['uniquecounttransformer'].categories_]\n",
    "        features += ['crew_gender_'+str(f) for f in prep_pipeline.named_transformers_['crew_gender'].named_steps['uniquecounttransformer'].categories_]\n",
    "        features += ['crew_dept_'+str(f) for f in prep_pipeline.named_transformers_['crew_department'].named_steps['uniquecounttransformer'].categories_]\n",
    "        \n",
    "        pipeline = prep_pipeline.named_transformers_['crew_jobs']\n",
    "        columns = np.array(pipeline.named_steps['multinomialattributetransformer'].categories_)\n",
    "        # k_frequent = pipeline.named_steps['selectmostkfrequent'].k_frequent_\n",
    "        # features += ['crew_jobs_'+str(f) for f in columns[k_frequent]]\n",
    "        features += ['crew_jobs_'+str(f) for f in columns]\n",
    "        \n",
    "        pipeline = prep_pipeline.named_transformers_['crew_names']\n",
    "        # columns = np.array(pipeline.named_steps['multinomialattributetransformer'].categories_)\n",
    "        # k_frequent = pipeline.named_steps['selectmostkfrequent'].k_frequent_\n",
    "        # features += ['crew_names_'+str(f) for f in columns[k_frequent]]\n",
    "        features += ['crew_names_'+str(i+1) for i in range(pipeline.named_steps['pca'].n_components)]\n",
    "        \n",
    "        pipeline = prep_pipeline.named_transformers_['cast_names']\n",
    "        # columns = np.array(pipeline.named_steps['multinomialattributetransformer'].categories_)\n",
    "        # k_frequent = pipeline.named_steps['selectmostkfrequent'].k_frequent_\n",
    "        # features += ['cast_names_'+str(f) for f in columns[k_frequent]]\n",
    "        features += ['cast_names_'+str(i+1) for i in range(pipeline.named_steps['pca'].n_components)]\n",
    "        \n",
    "        pipeline = prep_pipeline.named_transformers_['cast_characters']\n",
    "        # columns = np.array(pipeline.named_steps['multinomialattributetransformer'].categories_)\n",
    "        # k_frequent = pipeline.named_steps['selectmostkfrequent'].k_frequent_\n",
    "        # features += ['cast_char_'+str(f) for f in columns[k_frequent]]\n",
    "        features += ['cast_char_'+str(i+1) for i in range(pipeline.named_steps['pca'].n_components)]\n",
    "        \n",
    "        pipeline = prep_pipeline.named_transformers_['keywords']\n",
    "        # columns = np.array(pipeline.named_steps['multinomialattributetransformer'].categories_)\n",
    "        # k_frequent = pipeline.named_steps['selectmostkfrequent'].k_frequent_\n",
    "        # features += ['kw_'+str(f) for f in columns[k_frequent]]\n",
    "        features += ['kw_'+str(i+1) for i in range(pipeline.named_steps['pca'].n_components)]\n",
    "        \n",
    "        pipeline = prep_pipeline.named_transformers_['spoken_languages']\n",
    "        columns = np.array(pipeline.named_steps['multinomialattributetransformer'].categories_)\n",
    "        # k_frequent = pipeline.named_steps['selectmostkfrequent'].k_frequent_\n",
    "        # features += ['sl_'+str(f) for f in columns[k_frequent]]\n",
    "        features += ['sl_'+str(f) for f in columns]\n",
    "        \n",
    "        pipeline = prep_pipeline.named_transformers_['production_countries']\n",
    "        columns = np.array(pipeline.named_steps['multinomialattributetransformer'].categories_)\n",
    "        # k_frequent = pipeline.named_steps['selectmostkfrequent'].k_frequent_\n",
    "        # features += ['prod_countries_'+str(f) for f in columns[k_frequent]]\n",
    "        features += ['prod_countries_'+str(f) for f in columns]\n",
    "        \n",
    "        pipeline = prep_pipeline.named_transformers_['production_companies']\n",
    "        # columns = np.array(pipeline.named_steps['multinomialattributetransformer'].categories_)\n",
    "        # k_frequent = pipeline.named_steps['selectmostkfrequent'].k_frequent_\n",
    "        # features += ['prod_compnaies_'+str(f) for f in columns[k_frequent]]\n",
    "        features += ['prod_compnaies_'+str(i+1) for i in range(pipeline.named_steps['pca'].n_components)]\n",
    "        \n",
    "        return (['budget'] if include_budget else []) + features\n",
    "    "
   ]
  },
  {
   "cell_type": "code",
   "execution_count": 87,
   "id": "6227298b-2616-4d06-ac61-5684dd693cae",
   "metadata": {},
   "outputs": [
    {
     "data": {
      "text/html": [
       "<style>#sk-f2a19d2a-005b-4dc4-a27a-408bc8425acf {color: black;background-color: white;}#sk-f2a19d2a-005b-4dc4-a27a-408bc8425acf pre{padding: 0;}#sk-f2a19d2a-005b-4dc4-a27a-408bc8425acf div.sk-toggleable {background-color: white;}#sk-f2a19d2a-005b-4dc4-a27a-408bc8425acf label.sk-toggleable__label {cursor: pointer;display: block;width: 100%;margin-bottom: 0;padding: 0.2em 0.3em;box-sizing: border-box;text-align: center;}#sk-f2a19d2a-005b-4dc4-a27a-408bc8425acf div.sk-toggleable__content {max-height: 0;max-width: 0;overflow: hidden;text-align: left;background-color: #f0f8ff;}#sk-f2a19d2a-005b-4dc4-a27a-408bc8425acf div.sk-toggleable__content pre {margin: 0.2em;color: black;border-radius: 0.25em;background-color: #f0f8ff;}#sk-f2a19d2a-005b-4dc4-a27a-408bc8425acf input.sk-toggleable__control:checked~div.sk-toggleable__content {max-height: 200px;max-width: 100%;overflow: auto;}#sk-f2a19d2a-005b-4dc4-a27a-408bc8425acf div.sk-estimator input.sk-toggleable__control:checked~label.sk-toggleable__label {background-color: #d4ebff;}#sk-f2a19d2a-005b-4dc4-a27a-408bc8425acf div.sk-label input.sk-toggleable__control:checked~label.sk-toggleable__label {background-color: #d4ebff;}#sk-f2a19d2a-005b-4dc4-a27a-408bc8425acf input.sk-hidden--visually {border: 0;clip: rect(1px 1px 1px 1px);clip: rect(1px, 1px, 1px, 1px);height: 1px;margin: -1px;overflow: hidden;padding: 0;position: absolute;width: 1px;}#sk-f2a19d2a-005b-4dc4-a27a-408bc8425acf div.sk-estimator {font-family: monospace;background-color: #f0f8ff;margin: 0.25em 0.25em;border: 1px dotted black;border-radius: 0.25em;box-sizing: border-box;}#sk-f2a19d2a-005b-4dc4-a27a-408bc8425acf div.sk-estimator:hover {background-color: #d4ebff;}#sk-f2a19d2a-005b-4dc4-a27a-408bc8425acf div.sk-parallel-item::after {content: \"\";width: 100%;border-bottom: 1px solid gray;flex-grow: 1;}#sk-f2a19d2a-005b-4dc4-a27a-408bc8425acf div.sk-label:hover label.sk-toggleable__label {background-color: #d4ebff;}#sk-f2a19d2a-005b-4dc4-a27a-408bc8425acf div.sk-serial::before {content: \"\";position: absolute;border-left: 1px solid gray;box-sizing: border-box;top: 2em;bottom: 0;left: 50%;}#sk-f2a19d2a-005b-4dc4-a27a-408bc8425acf div.sk-serial {display: flex;flex-direction: column;align-items: center;background-color: white;}#sk-f2a19d2a-005b-4dc4-a27a-408bc8425acf div.sk-item {z-index: 1;}#sk-f2a19d2a-005b-4dc4-a27a-408bc8425acf div.sk-parallel {display: flex;align-items: stretch;justify-content: center;background-color: white;}#sk-f2a19d2a-005b-4dc4-a27a-408bc8425acf div.sk-parallel-item {display: flex;flex-direction: column;position: relative;background-color: white;}#sk-f2a19d2a-005b-4dc4-a27a-408bc8425acf div.sk-parallel-item:first-child::after {align-self: flex-end;width: 50%;}#sk-f2a19d2a-005b-4dc4-a27a-408bc8425acf div.sk-parallel-item:last-child::after {align-self: flex-start;width: 50%;}#sk-f2a19d2a-005b-4dc4-a27a-408bc8425acf div.sk-parallel-item:only-child::after {width: 0;}#sk-f2a19d2a-005b-4dc4-a27a-408bc8425acf div.sk-dashed-wrapped {border: 1px dashed gray;margin: 0.2em;box-sizing: border-box;padding-bottom: 0.1em;background-color: white;position: relative;}#sk-f2a19d2a-005b-4dc4-a27a-408bc8425acf div.sk-label label {font-family: monospace;font-weight: bold;background-color: white;display: inline-block;line-height: 1.2em;}#sk-f2a19d2a-005b-4dc4-a27a-408bc8425acf div.sk-label-container {position: relative;z-index: 2;text-align: center;}#sk-f2a19d2a-005b-4dc4-a27a-408bc8425acf div.sk-container {display: inline-block;position: relative;}</style><div id=\"sk-f2a19d2a-005b-4dc4-a27a-408bc8425acf\" class\"sk-top-container\"><div class=\"sk-container\"><div class=\"sk-item sk-dashed-wrapped\"><div class=\"sk-label-container\"><div class=\"sk-label sk-toggleable\"><input class=\"sk-toggleable__control sk-hidden--visually\" id=\"53c423d8-009e-49f5-9dc4-1a5305ae1bc9\" type=\"checkbox\" ><label class=\"sk-toggleable__label\" for=\"53c423d8-009e-49f5-9dc4-1a5305ae1bc9\">ConditionalPredictor</label><div class=\"sk-toggleable__content\"><pre>ConditionalPredictor(make_mask=<function make_mask at 0x17ebe2040>,\n",
       "                     pipelineA=Pipeline(steps=[('prep_A',\n",
       "                                                ColumnTransformer(transformers=[('popularity',\n",
       "                                                                                 Pipeline(steps=[('simpleimputer',\n",
       "                                                                                                  SimpleImputer(strategy='median')),\n",
       "                                                                                                 ('standardscaler',\n",
       "                                                                                                  StandardScaler())]),\n",
       "                                                                                 ['popularity']),\n",
       "                                                                                ('runtime',\n",
       "                                                                                 Pipeline(steps=[('pipeline',\n",
       "                                                                                                  Pipeline(steps=[('simpleimputer-1',\n",
       "                                                                                                                   SimpleImp...\n",
       "                                                                                 Pipeline(steps=[('simpleimputer',\n",
       "                                                                                                  SimpleImputer(fill_value='[]',\n",
       "                                                                                                                strategy='constant')),\n",
       "                                                                                                 ('extractiontransformer',\n",
       "                                                                                                  ExtractionTransformer(key='name')),\n",
       "                                                                                                 ('multinomialattributetransformer',\n",
       "                                                                                                  MultinomialAttributeTransformer()),\n",
       "                                                                                                 ('pca',\n",
       "                                                                                                  PCA(n_components=100))]),\n",
       "                                                                                 ['production_companies'])])),\n",
       "                                               ('model',\n",
       "                                                RandomForestRegressor(max_depth=40,\n",
       "                                                                      min_samples_leaf=10,\n",
       "                                                                      n_jobs=4))]),\n",
       "                     thresh=50)</pre></div></div></div><div class=\"sk-parallel\"><div class=\"sk-parallel-item\"><div class=\"sk-item\"><div class=\"sk-serial\"><div class=\"sk-item\"><div class=\"sk-serial\"><div class=\"sk-item sk-dashed-wrapped\"><div class=\"sk-label-container\"><div class=\"sk-label sk-toggleable\"><input class=\"sk-toggleable__control sk-hidden--visually\" id=\"537da9dc-81cc-426f-8a83-55211d0e6b60\" type=\"checkbox\" ><label class=\"sk-toggleable__label\" for=\"537da9dc-81cc-426f-8a83-55211d0e6b60\">prep_A: ColumnTransformer</label><div class=\"sk-toggleable__content\"><pre>ColumnTransformer(transformers=[('popularity',\n",
       "                                 Pipeline(steps=[('simpleimputer',\n",
       "                                                  SimpleImputer(strategy='median')),\n",
       "                                                 ('standardscaler',\n",
       "                                                  StandardScaler())]),\n",
       "                                 ['popularity']),\n",
       "                                ('runtime',\n",
       "                                 Pipeline(steps=[('pipeline',\n",
       "                                                  Pipeline(steps=[('simpleimputer-1',\n",
       "                                                                   SimpleImputer(strategy='median')),\n",
       "                                                                  ('simpleimputer-2',\n",
       "                                                                   SimpleImputer(missing_values=0,\n",
       "                                                                                 strategy='median'))])),\n",
       "                                                 ('...\n",
       "                                                  MultinomialAttributeTransformer())]),\n",
       "                                 ['production_countries']),\n",
       "                                ('production_companies',\n",
       "                                 Pipeline(steps=[('simpleimputer',\n",
       "                                                  SimpleImputer(fill_value='[]',\n",
       "                                                                strategy='constant')),\n",
       "                                                 ('extractiontransformer',\n",
       "                                                  ExtractionTransformer(key='name')),\n",
       "                                                 ('multinomialattributetransformer',\n",
       "                                                  MultinomialAttributeTransformer()),\n",
       "                                                 ('pca',\n",
       "                                                  PCA(n_components=100))]),\n",
       "                                 ['production_companies'])])</pre></div></div></div><div class=\"sk-parallel\"><div class=\"sk-parallel-item\"><div class=\"sk-item\"><div class=\"sk-label-container\"><div class=\"sk-label sk-toggleable\"><input class=\"sk-toggleable__control sk-hidden--visually\" id=\"1d3d831f-ed13-424e-9f83-5522bc1ecb53\" type=\"checkbox\" ><label class=\"sk-toggleable__label\" for=\"1d3d831f-ed13-424e-9f83-5522bc1ecb53\">popularity</label><div class=\"sk-toggleable__content\"><pre>['popularity']</pre></div></div></div><div class=\"sk-serial\"><div class=\"sk-item\"><div class=\"sk-serial\"><div class=\"sk-item\"><div class=\"sk-estimator sk-toggleable\"><input class=\"sk-toggleable__control sk-hidden--visually\" id=\"1283586e-d959-42f9-966c-9fd004c4e54e\" type=\"checkbox\" ><label class=\"sk-toggleable__label\" for=\"1283586e-d959-42f9-966c-9fd004c4e54e\">SimpleImputer</label><div class=\"sk-toggleable__content\"><pre>SimpleImputer(strategy='median')</pre></div></div></div><div class=\"sk-item\"><div class=\"sk-estimator sk-toggleable\"><input class=\"sk-toggleable__control sk-hidden--visually\" id=\"2b310613-2d04-4f96-b6fa-8336d408681c\" type=\"checkbox\" ><label class=\"sk-toggleable__label\" for=\"2b310613-2d04-4f96-b6fa-8336d408681c\">StandardScaler</label><div class=\"sk-toggleable__content\"><pre>StandardScaler()</pre></div></div></div></div></div></div></div></div><div class=\"sk-parallel-item\"><div class=\"sk-item\"><div class=\"sk-label-container\"><div class=\"sk-label sk-toggleable\"><input class=\"sk-toggleable__control sk-hidden--visually\" id=\"fe0a1e04-2d40-4573-829c-5ed2a46c5b25\" type=\"checkbox\" ><label class=\"sk-toggleable__label\" for=\"fe0a1e04-2d40-4573-829c-5ed2a46c5b25\">runtime</label><div class=\"sk-toggleable__content\"><pre>['runtime']</pre></div></div></div><div class=\"sk-serial\"><div class=\"sk-item\"><div class=\"sk-serial\"><div class=\"sk-item\"><div class=\"sk-label-container\"><div class=\"sk-label sk-toggleable\"><input class=\"sk-toggleable__control sk-hidden--visually\" id=\"6292b728-e6d8-408e-b34f-2dc0f75e5ec0\" type=\"checkbox\" ><label class=\"sk-toggleable__label\" for=\"6292b728-e6d8-408e-b34f-2dc0f75e5ec0\">pipeline: Pipeline</label><div class=\"sk-toggleable__content\"><pre>Pipeline(steps=[('simpleimputer-1', SimpleImputer(strategy='median')),\n",
       "                ('simpleimputer-2',\n",
       "                 SimpleImputer(missing_values=0, strategy='median'))])</pre></div></div></div><div class=\"sk-serial\"><div class=\"sk-item\"><div class=\"sk-estimator sk-toggleable\"><input class=\"sk-toggleable__control sk-hidden--visually\" id=\"6639a8d0-10c1-4ed3-a89f-c0513aded3ce\" type=\"checkbox\" ><label class=\"sk-toggleable__label\" for=\"6639a8d0-10c1-4ed3-a89f-c0513aded3ce\">SimpleImputer</label><div class=\"sk-toggleable__content\"><pre>SimpleImputer(strategy='median')</pre></div></div></div><div class=\"sk-item\"><div class=\"sk-estimator sk-toggleable\"><input class=\"sk-toggleable__control sk-hidden--visually\" id=\"c7c11405-ec8d-4089-b3cc-b5d34f93ce59\" type=\"checkbox\" ><label class=\"sk-toggleable__label\" for=\"c7c11405-ec8d-4089-b3cc-b5d34f93ce59\">SimpleImputer</label><div class=\"sk-toggleable__content\"><pre>SimpleImputer(missing_values=0, strategy='median')</pre></div></div></div></div></div><div class=\"sk-item\"><div class=\"sk-estimator sk-toggleable\"><input class=\"sk-toggleable__control sk-hidden--visually\" id=\"9e0ef543-56aa-48e4-be59-158496faca4a\" type=\"checkbox\" ><label class=\"sk-toggleable__label\" for=\"9e0ef543-56aa-48e4-be59-158496faca4a\">StandardScaler</label><div class=\"sk-toggleable__content\"><pre>StandardScaler()</pre></div></div></div></div></div></div></div></div><div class=\"sk-parallel-item\"><div class=\"sk-item\"><div class=\"sk-label-container\"><div class=\"sk-label sk-toggleable\"><input class=\"sk-toggleable__control sk-hidden--visually\" id=\"2238fdf2-ce92-412d-9f4e-6b82602a318c\" type=\"checkbox\" ><label class=\"sk-toggleable__label\" for=\"2238fdf2-ce92-412d-9f4e-6b82602a318c\">release_date</label><div class=\"sk-toggleable__content\"><pre>['release_date']</pre></div></div></div><div class=\"sk-serial\"><div class=\"sk-item\"><div class=\"sk-serial\"><div class=\"sk-item\"><div class=\"sk-estimator sk-toggleable\"><input class=\"sk-toggleable__control sk-hidden--visually\" id=\"35ad71a2-951d-4d7d-b41b-9e81ff4f689b\" type=\"checkbox\" ><label class=\"sk-toggleable__label\" for=\"35ad71a2-951d-4d7d-b41b-9e81ff4f689b\">SimpleImputer</label><div class=\"sk-toggleable__content\"><pre>SimpleImputer(strategy='most_frequent')</pre></div></div></div><div class=\"sk-item\"><div class=\"sk-estimator sk-toggleable\"><input class=\"sk-toggleable__control sk-hidden--visually\" id=\"6a70c58a-aa0b-4d58-8d1d-96831255756e\" type=\"checkbox\" ><label class=\"sk-toggleable__label\" for=\"6a70c58a-aa0b-4d58-8d1d-96831255756e\">ReleaseDateTransformer</label><div class=\"sk-toggleable__content\"><pre>ReleaseDateTransformer()</pre></div></div></div></div></div></div></div></div><div class=\"sk-parallel-item\"><div class=\"sk-item\"><div class=\"sk-label-container\"><div class=\"sk-label sk-toggleable\"><input class=\"sk-toggleable__control sk-hidden--visually\" id=\"3312be1d-07b6-4c23-b566-4ef25ef44e11\" type=\"checkbox\" ><label class=\"sk-toggleable__label\" for=\"3312be1d-07b6-4c23-b566-4ef25ef44e11\">original_language+status</label><div class=\"sk-toggleable__content\"><pre>['original_language', 'status']</pre></div></div></div><div class=\"sk-serial\"><div class=\"sk-item\"><div class=\"sk-serial\"><div class=\"sk-item\"><div class=\"sk-estimator sk-toggleable\"><input class=\"sk-toggleable__control sk-hidden--visually\" id=\"37534435-1e5a-4204-a9af-b9d1f105746a\" type=\"checkbox\" ><label class=\"sk-toggleable__label\" for=\"37534435-1e5a-4204-a9af-b9d1f105746a\">SimpleImputer</label><div class=\"sk-toggleable__content\"><pre>SimpleImputer(strategy='most_frequent')</pre></div></div></div><div class=\"sk-item\"><div class=\"sk-estimator sk-toggleable\"><input class=\"sk-toggleable__control sk-hidden--visually\" id=\"7785bd4b-fe2b-4ea8-b6c6-525cf1406148\" type=\"checkbox\" ><label class=\"sk-toggleable__label\" for=\"7785bd4b-fe2b-4ea8-b6c6-525cf1406148\">OneHotEncoder</label><div class=\"sk-toggleable__content\"><pre>OneHotEncoder(handle_unknown='ignore')</pre></div></div></div></div></div></div></div></div><div class=\"sk-parallel-item\"><div class=\"sk-item\"><div class=\"sk-label-container\"><div class=\"sk-label sk-toggleable\"><input class=\"sk-toggleable__control sk-hidden--visually\" id=\"b165aaf1-6b4f-40f6-b664-9635be856063\" type=\"checkbox\" ><label class=\"sk-toggleable__label\" for=\"b165aaf1-6b4f-40f6-b664-9635be856063\">homepage+tagline</label><div class=\"sk-toggleable__content\"><pre>['homepage', 'tagline']</pre></div></div></div><div class=\"sk-serial\"><div class=\"sk-item\"><div class=\"sk-estimator sk-toggleable\"><input class=\"sk-toggleable__control sk-hidden--visually\" id=\"0ef8af4a-1764-47b6-8c7a-6314cff1f049\" type=\"checkbox\" ><label class=\"sk-toggleable__label\" for=\"0ef8af4a-1764-47b6-8c7a-6314cff1f049\">FunctionTransformer</label><div class=\"sk-toggleable__content\"><pre>FunctionTransformer(func=<function <lambda> at 0x1740098b0>)</pre></div></div></div></div></div></div><div class=\"sk-parallel-item\"><div class=\"sk-item\"><div class=\"sk-label-container\"><div class=\"sk-label sk-toggleable\"><input class=\"sk-toggleable__control sk-hidden--visually\" id=\"f5d55a20-b659-4a73-bcd8-4f3ecba8bf85\" type=\"checkbox\" ><label class=\"sk-toggleable__label\" for=\"f5d55a20-b659-4a73-bcd8-4f3ecba8bf85\">genres_counts</label><div class=\"sk-toggleable__content\"><pre>['genres']</pre></div></div></div><div class=\"sk-serial\"><div class=\"sk-item\"><div class=\"sk-serial\"><div class=\"sk-item\"><div class=\"sk-estimator sk-toggleable\"><input class=\"sk-toggleable__control sk-hidden--visually\" id=\"715b85e2-fae5-4ed6-807a-9858961306dd\" type=\"checkbox\" ><label class=\"sk-toggleable__label\" for=\"715b85e2-fae5-4ed6-807a-9858961306dd\">SimpleImputer</label><div class=\"sk-toggleable__content\"><pre>SimpleImputer(fill_value='[]', strategy='constant')</pre></div></div></div><div class=\"sk-item\"><div class=\"sk-estimator sk-toggleable\"><input class=\"sk-toggleable__control sk-hidden--visually\" id=\"6f80ec20-2c01-49ae-97ad-b3d2aea98c32\" type=\"checkbox\" ><label class=\"sk-toggleable__label\" for=\"6f80ec20-2c01-49ae-97ad-b3d2aea98c32\">AttributeCountTransformer</label><div class=\"sk-toggleable__content\"><pre>AttributeCountTransformer()</pre></div></div></div><div class=\"sk-item\"><div class=\"sk-estimator sk-toggleable\"><input class=\"sk-toggleable__control sk-hidden--visually\" id=\"ee402e46-925c-4d28-98e1-1d0377d91803\" type=\"checkbox\" ><label class=\"sk-toggleable__label\" for=\"ee402e46-925c-4d28-98e1-1d0377d91803\">SimpleImputer</label><div class=\"sk-toggleable__content\"><pre>SimpleImputer(missing_values=0, strategy='median')</pre></div></div></div><div class=\"sk-item\"><div class=\"sk-estimator sk-toggleable\"><input class=\"sk-toggleable__control sk-hidden--visually\" id=\"652bb56d-506e-48b3-a631-25c386ac3556\" type=\"checkbox\" ><label class=\"sk-toggleable__label\" for=\"652bb56d-506e-48b3-a631-25c386ac3556\">StandardScaler</label><div class=\"sk-toggleable__content\"><pre>StandardScaler()</pre></div></div></div></div></div></div></div></div><div class=\"sk-parallel-item\"><div class=\"sk-item\"><div class=\"sk-label-container\"><div class=\"sk-label sk-toggleable\"><input class=\"sk-toggleable__control sk-hidden--visually\" id=\"6a8e5e72-3c31-45c8-a356-8318c120f2f4\" type=\"checkbox\" ><label class=\"sk-toggleable__label\" for=\"6a8e5e72-3c31-45c8-a356-8318c120f2f4\">cast_counts</label><div class=\"sk-toggleable__content\"><pre>['cast']</pre></div></div></div><div class=\"sk-serial\"><div class=\"sk-item\"><div class=\"sk-serial\"><div class=\"sk-item\"><div class=\"sk-estimator sk-toggleable\"><input class=\"sk-toggleable__control sk-hidden--visually\" id=\"195495a7-05f8-45a7-89a2-f8f651f0a942\" type=\"checkbox\" ><label class=\"sk-toggleable__label\" for=\"195495a7-05f8-45a7-89a2-f8f651f0a942\">SimpleImputer</label><div class=\"sk-toggleable__content\"><pre>SimpleImputer(fill_value='[]', strategy='constant')</pre></div></div></div><div class=\"sk-item\"><div class=\"sk-estimator sk-toggleable\"><input class=\"sk-toggleable__control sk-hidden--visually\" id=\"68a2b4c0-704d-49a4-a439-2900c94ab05e\" type=\"checkbox\" ><label class=\"sk-toggleable__label\" for=\"68a2b4c0-704d-49a4-a439-2900c94ab05e\">AttributeCountTransformer</label><div class=\"sk-toggleable__content\"><pre>AttributeCountTransformer()</pre></div></div></div><div class=\"sk-item\"><div class=\"sk-estimator sk-toggleable\"><input class=\"sk-toggleable__control sk-hidden--visually\" id=\"b58f4e7c-11c9-4832-88ed-d5808ea0f38c\" type=\"checkbox\" ><label class=\"sk-toggleable__label\" for=\"b58f4e7c-11c9-4832-88ed-d5808ea0f38c\">SimpleImputer</label><div class=\"sk-toggleable__content\"><pre>SimpleImputer(missing_values=0, strategy='median')</pre></div></div></div><div class=\"sk-item\"><div class=\"sk-estimator sk-toggleable\"><input class=\"sk-toggleable__control sk-hidden--visually\" id=\"61c28737-0135-47f4-8c9b-18193a27f11e\" type=\"checkbox\" ><label class=\"sk-toggleable__label\" for=\"61c28737-0135-47f4-8c9b-18193a27f11e\">StandardScaler</label><div class=\"sk-toggleable__content\"><pre>StandardScaler()</pre></div></div></div></div></div></div></div></div><div class=\"sk-parallel-item\"><div class=\"sk-item\"><div class=\"sk-label-container\"><div class=\"sk-label sk-toggleable\"><input class=\"sk-toggleable__control sk-hidden--visually\" id=\"baa9db4a-998f-484b-b511-fcc2bd699cfd\" type=\"checkbox\" ><label class=\"sk-toggleable__label\" for=\"baa9db4a-998f-484b-b511-fcc2bd699cfd\">crew_counts</label><div class=\"sk-toggleable__content\"><pre>['crew']</pre></div></div></div><div class=\"sk-serial\"><div class=\"sk-item\"><div class=\"sk-serial\"><div class=\"sk-item\"><div class=\"sk-estimator sk-toggleable\"><input class=\"sk-toggleable__control sk-hidden--visually\" id=\"a647a60b-0dd3-4d81-94c2-fb3544cab03d\" type=\"checkbox\" ><label class=\"sk-toggleable__label\" for=\"a647a60b-0dd3-4d81-94c2-fb3544cab03d\">SimpleImputer</label><div class=\"sk-toggleable__content\"><pre>SimpleImputer(fill_value='[]', strategy='constant')</pre></div></div></div><div class=\"sk-item\"><div class=\"sk-estimator sk-toggleable\"><input class=\"sk-toggleable__control sk-hidden--visually\" id=\"8d24a3fc-de91-443b-b30f-6d9a5386ffbb\" type=\"checkbox\" ><label class=\"sk-toggleable__label\" for=\"8d24a3fc-de91-443b-b30f-6d9a5386ffbb\">AttributeCountTransformer</label><div class=\"sk-toggleable__content\"><pre>AttributeCountTransformer()</pre></div></div></div><div class=\"sk-item\"><div class=\"sk-estimator sk-toggleable\"><input class=\"sk-toggleable__control sk-hidden--visually\" id=\"da3855f1-6987-4cf0-86c7-8a5cbf52ba3d\" type=\"checkbox\" ><label class=\"sk-toggleable__label\" for=\"da3855f1-6987-4cf0-86c7-8a5cbf52ba3d\">SimpleImputer</label><div class=\"sk-toggleable__content\"><pre>SimpleImputer(missing_values=0, strategy='median')</pre></div></div></div><div class=\"sk-item\"><div class=\"sk-estimator sk-toggleable\"><input class=\"sk-toggleable__control sk-hidden--visually\" id=\"796bab66-9cfd-41b1-98e6-00de18ee1d71\" type=\"checkbox\" ><label class=\"sk-toggleable__label\" for=\"796bab66-9cfd-41b1-98e6-00de18ee1d71\">StandardScaler</label><div class=\"sk-toggleable__content\"><pre>StandardScaler()</pre></div></div></div></div></div></div></div></div><div class=\"sk-parallel-item\"><div class=\"sk-item\"><div class=\"sk-label-container\"><div class=\"sk-label sk-toggleable\"><input class=\"sk-toggleable__control sk-hidden--visually\" id=\"d6abbe5d-bf7c-4199-bff9-3eabc2d1d24a\" type=\"checkbox\" ><label class=\"sk-toggleable__label\" for=\"d6abbe5d-bf7c-4199-bff9-3eabc2d1d24a\">keywords_counts</label><div class=\"sk-toggleable__content\"><pre>['Keywords']</pre></div></div></div><div class=\"sk-serial\"><div class=\"sk-item\"><div class=\"sk-serial\"><div class=\"sk-item\"><div class=\"sk-estimator sk-toggleable\"><input class=\"sk-toggleable__control sk-hidden--visually\" id=\"cab6466c-8f95-4f1a-9f26-c09b31fd1922\" type=\"checkbox\" ><label class=\"sk-toggleable__label\" for=\"cab6466c-8f95-4f1a-9f26-c09b31fd1922\">SimpleImputer</label><div class=\"sk-toggleable__content\"><pre>SimpleImputer(fill_value='[]', strategy='constant')</pre></div></div></div><div class=\"sk-item\"><div class=\"sk-estimator sk-toggleable\"><input class=\"sk-toggleable__control sk-hidden--visually\" id=\"1c882f8d-95cc-4bf2-82d7-a5a972a5b6bf\" type=\"checkbox\" ><label class=\"sk-toggleable__label\" for=\"1c882f8d-95cc-4bf2-82d7-a5a972a5b6bf\">AttributeCountTransformer</label><div class=\"sk-toggleable__content\"><pre>AttributeCountTransformer()</pre></div></div></div><div class=\"sk-item\"><div class=\"sk-estimator sk-toggleable\"><input class=\"sk-toggleable__control sk-hidden--visually\" id=\"3f48a128-5c78-41dc-bed9-880e407b215e\" type=\"checkbox\" ><label class=\"sk-toggleable__label\" for=\"3f48a128-5c78-41dc-bed9-880e407b215e\">SimpleImputer</label><div class=\"sk-toggleable__content\"><pre>SimpleImputer(missing_values=0, strategy='median')</pre></div></div></div><div class=\"sk-item\"><div class=\"sk-estimator sk-toggleable\"><input class=\"sk-toggleable__control sk-hidden--visually\" id=\"2a10d5f0-c478-441a-ba29-2cc1080f06a2\" type=\"checkbox\" ><label class=\"sk-toggleable__label\" for=\"2a10d5f0-c478-441a-ba29-2cc1080f06a2\">StandardScaler</label><div class=\"sk-toggleable__content\"><pre>StandardScaler()</pre></div></div></div></div></div></div></div></div><div class=\"sk-parallel-item\"><div class=\"sk-item\"><div class=\"sk-label-container\"><div class=\"sk-label sk-toggleable\"><input class=\"sk-toggleable__control sk-hidden--visually\" id=\"f118775f-8ad7-4b79-96d5-b11e8a53770b\" type=\"checkbox\" ><label class=\"sk-toggleable__label\" for=\"f118775f-8ad7-4b79-96d5-b11e8a53770b\">production_companies_counts</label><div class=\"sk-toggleable__content\"><pre>['production_companies']</pre></div></div></div><div class=\"sk-serial\"><div class=\"sk-item\"><div class=\"sk-serial\"><div class=\"sk-item\"><div class=\"sk-estimator sk-toggleable\"><input class=\"sk-toggleable__control sk-hidden--visually\" id=\"4298c699-a8b8-4a7d-b1c5-f96433d5b47d\" type=\"checkbox\" ><label class=\"sk-toggleable__label\" for=\"4298c699-a8b8-4a7d-b1c5-f96433d5b47d\">SimpleImputer</label><div class=\"sk-toggleable__content\"><pre>SimpleImputer(fill_value='[]', strategy='constant')</pre></div></div></div><div class=\"sk-item\"><div class=\"sk-estimator sk-toggleable\"><input class=\"sk-toggleable__control sk-hidden--visually\" id=\"b540e562-a208-4544-aa03-80f590a52beb\" type=\"checkbox\" ><label class=\"sk-toggleable__label\" for=\"b540e562-a208-4544-aa03-80f590a52beb\">AttributeCountTransformer</label><div class=\"sk-toggleable__content\"><pre>AttributeCountTransformer()</pre></div></div></div><div class=\"sk-item\"><div class=\"sk-estimator sk-toggleable\"><input class=\"sk-toggleable__control sk-hidden--visually\" id=\"e8690c68-4627-44e3-a05e-c1ed1a766737\" type=\"checkbox\" ><label class=\"sk-toggleable__label\" for=\"e8690c68-4627-44e3-a05e-c1ed1a766737\">SimpleImputer</label><div class=\"sk-toggleable__content\"><pre>SimpleImputer(missing_values=0, strategy='median')</pre></div></div></div><div class=\"sk-item\"><div class=\"sk-estimator sk-toggleable\"><input class=\"sk-toggleable__control sk-hidden--visually\" id=\"ced8499b-4e87-480d-8c74-0d3fcd04c8b0\" type=\"checkbox\" ><label class=\"sk-toggleable__label\" for=\"ced8499b-4e87-480d-8c74-0d3fcd04c8b0\">StandardScaler</label><div class=\"sk-toggleable__content\"><pre>StandardScaler()</pre></div></div></div></div></div></div></div></div><div class=\"sk-parallel-item\"><div class=\"sk-item\"><div class=\"sk-label-container\"><div class=\"sk-label sk-toggleable\"><input class=\"sk-toggleable__control sk-hidden--visually\" id=\"dda36cf6-217d-4abf-9781-5ded7217b12a\" type=\"checkbox\" ><label class=\"sk-toggleable__label\" for=\"dda36cf6-217d-4abf-9781-5ded7217b12a\">production_countries_counts</label><div class=\"sk-toggleable__content\"><pre>['production_countries']</pre></div></div></div><div class=\"sk-serial\"><div class=\"sk-item\"><div class=\"sk-serial\"><div class=\"sk-item\"><div class=\"sk-estimator sk-toggleable\"><input class=\"sk-toggleable__control sk-hidden--visually\" id=\"12cd6317-cbcb-431d-8470-6b4ac5844c69\" type=\"checkbox\" ><label class=\"sk-toggleable__label\" for=\"12cd6317-cbcb-431d-8470-6b4ac5844c69\">SimpleImputer</label><div class=\"sk-toggleable__content\"><pre>SimpleImputer(fill_value='[]', strategy='constant')</pre></div></div></div><div class=\"sk-item\"><div class=\"sk-estimator sk-toggleable\"><input class=\"sk-toggleable__control sk-hidden--visually\" id=\"e06d76f2-36a2-428a-9b87-c43da1d099a8\" type=\"checkbox\" ><label class=\"sk-toggleable__label\" for=\"e06d76f2-36a2-428a-9b87-c43da1d099a8\">AttributeCountTransformer</label><div class=\"sk-toggleable__content\"><pre>AttributeCountTransformer()</pre></div></div></div><div class=\"sk-item\"><div class=\"sk-estimator sk-toggleable\"><input class=\"sk-toggleable__control sk-hidden--visually\" id=\"d571ce02-3538-432b-af40-5a2c52fc1db8\" type=\"checkbox\" ><label class=\"sk-toggleable__label\" for=\"d571ce02-3538-432b-af40-5a2c52fc1db8\">SimpleImputer</label><div class=\"sk-toggleable__content\"><pre>SimpleImputer(missing_values=0, strategy='median')</pre></div></div></div><div class=\"sk-item\"><div class=\"sk-estimator sk-toggleable\"><input class=\"sk-toggleable__control sk-hidden--visually\" id=\"c617cb35-b981-41ac-bc21-3b549eaf5561\" type=\"checkbox\" ><label class=\"sk-toggleable__label\" for=\"c617cb35-b981-41ac-bc21-3b549eaf5561\">StandardScaler</label><div class=\"sk-toggleable__content\"><pre>StandardScaler()</pre></div></div></div></div></div></div></div></div><div class=\"sk-parallel-item\"><div class=\"sk-item\"><div class=\"sk-label-container\"><div class=\"sk-label sk-toggleable\"><input class=\"sk-toggleable__control sk-hidden--visually\" id=\"ce97ad6f-0c21-4c6e-9272-933867a2a3d7\" type=\"checkbox\" ><label class=\"sk-toggleable__label\" for=\"ce97ad6f-0c21-4c6e-9272-933867a2a3d7\">spoken_languages_counts</label><div class=\"sk-toggleable__content\"><pre>['spoken_languages']</pre></div></div></div><div class=\"sk-serial\"><div class=\"sk-item\"><div class=\"sk-serial\"><div class=\"sk-item\"><div class=\"sk-estimator sk-toggleable\"><input class=\"sk-toggleable__control sk-hidden--visually\" id=\"84eee13e-0cdf-4924-81ca-a354224b3adf\" type=\"checkbox\" ><label class=\"sk-toggleable__label\" for=\"84eee13e-0cdf-4924-81ca-a354224b3adf\">SimpleImputer</label><div class=\"sk-toggleable__content\"><pre>SimpleImputer(fill_value='[]', strategy='constant')</pre></div></div></div><div class=\"sk-item\"><div class=\"sk-estimator sk-toggleable\"><input class=\"sk-toggleable__control sk-hidden--visually\" id=\"027b20ee-e9f1-45c6-8ee5-2aba3578f25b\" type=\"checkbox\" ><label class=\"sk-toggleable__label\" for=\"027b20ee-e9f1-45c6-8ee5-2aba3578f25b\">AttributeCountTransformer</label><div class=\"sk-toggleable__content\"><pre>AttributeCountTransformer()</pre></div></div></div><div class=\"sk-item\"><div class=\"sk-estimator sk-toggleable\"><input class=\"sk-toggleable__control sk-hidden--visually\" id=\"f0e8795d-8189-4a0d-89d4-0c45fe55d66a\" type=\"checkbox\" ><label class=\"sk-toggleable__label\" for=\"f0e8795d-8189-4a0d-89d4-0c45fe55d66a\">SimpleImputer</label><div class=\"sk-toggleable__content\"><pre>SimpleImputer(missing_values=0, strategy='median')</pre></div></div></div><div class=\"sk-item\"><div class=\"sk-estimator sk-toggleable\"><input class=\"sk-toggleable__control sk-hidden--visually\" id=\"0c475933-11e7-44e2-be85-e2f225f8525c\" type=\"checkbox\" ><label class=\"sk-toggleable__label\" for=\"0c475933-11e7-44e2-be85-e2f225f8525c\">StandardScaler</label><div class=\"sk-toggleable__content\"><pre>StandardScaler()</pre></div></div></div></div></div></div></div></div><div class=\"sk-parallel-item\"><div class=\"sk-item\"><div class=\"sk-label-container\"><div class=\"sk-label sk-toggleable\"><input class=\"sk-toggleable__control sk-hidden--visually\" id=\"3f044da7-728e-456a-be22-ddf07a92b127\" type=\"checkbox\" ><label class=\"sk-toggleable__label\" for=\"3f044da7-728e-456a-be22-ddf07a92b127\">genres</label><div class=\"sk-toggleable__content\"><pre>['genres']</pre></div></div></div><div class=\"sk-serial\"><div class=\"sk-item\"><div class=\"sk-serial\"><div class=\"sk-item\"><div class=\"sk-estimator sk-toggleable\"><input class=\"sk-toggleable__control sk-hidden--visually\" id=\"89cccd65-26ca-4127-ad38-26ffa946370e\" type=\"checkbox\" ><label class=\"sk-toggleable__label\" for=\"89cccd65-26ca-4127-ad38-26ffa946370e\">SimpleImputer</label><div class=\"sk-toggleable__content\"><pre>SimpleImputer(fill_value='[]', strategy='constant')</pre></div></div></div><div class=\"sk-item\"><div class=\"sk-estimator sk-toggleable\"><input class=\"sk-toggleable__control sk-hidden--visually\" id=\"452baee2-7b0f-4bec-84a2-cd445347f09c\" type=\"checkbox\" ><label class=\"sk-toggleable__label\" for=\"452baee2-7b0f-4bec-84a2-cd445347f09c\">ExtractionTransformer</label><div class=\"sk-toggleable__content\"><pre>ExtractionTransformer(key='name')</pre></div></div></div><div class=\"sk-item\"><div class=\"sk-estimator sk-toggleable\"><input class=\"sk-toggleable__control sk-hidden--visually\" id=\"2b6fea1f-f8ee-4860-aad4-d98c9620d929\" type=\"checkbox\" ><label class=\"sk-toggleable__label\" for=\"2b6fea1f-f8ee-4860-aad4-d98c9620d929\">MultinomialAttributeTransformer</label><div class=\"sk-toggleable__content\"><pre>MultinomialAttributeTransformer()</pre></div></div></div></div></div></div></div></div><div class=\"sk-parallel-item\"><div class=\"sk-item\"><div class=\"sk-label-container\"><div class=\"sk-label sk-toggleable\"><input class=\"sk-toggleable__control sk-hidden--visually\" id=\"7e590d05-35be-490f-b39c-4df5ece49242\" type=\"checkbox\" ><label class=\"sk-toggleable__label\" for=\"7e590d05-35be-490f-b39c-4df5ece49242\">cast_gender</label><div class=\"sk-toggleable__content\"><pre>['cast']</pre></div></div></div><div class=\"sk-serial\"><div class=\"sk-item\"><div class=\"sk-serial\"><div class=\"sk-item\"><div class=\"sk-estimator sk-toggleable\"><input class=\"sk-toggleable__control sk-hidden--visually\" id=\"03cf03cf-4bbd-4de2-a910-a086be0283bb\" type=\"checkbox\" ><label class=\"sk-toggleable__label\" for=\"03cf03cf-4bbd-4de2-a910-a086be0283bb\">SimpleImputer</label><div class=\"sk-toggleable__content\"><pre>SimpleImputer(fill_value='[]', strategy='constant')</pre></div></div></div><div class=\"sk-item\"><div class=\"sk-estimator sk-toggleable\"><input class=\"sk-toggleable__control sk-hidden--visually\" id=\"931012c9-5eb0-4eaf-b16a-6ac2e9bf78b7\" type=\"checkbox\" ><label class=\"sk-toggleable__label\" for=\"931012c9-5eb0-4eaf-b16a-6ac2e9bf78b7\">ExtractionTransformer</label><div class=\"sk-toggleable__content\"><pre>ExtractionTransformer(key='gender')</pre></div></div></div><div class=\"sk-item\"><div class=\"sk-estimator sk-toggleable\"><input class=\"sk-toggleable__control sk-hidden--visually\" id=\"406a3669-407f-40d5-9453-0bd165ecdc3d\" type=\"checkbox\" ><label class=\"sk-toggleable__label\" for=\"406a3669-407f-40d5-9453-0bd165ecdc3d\">UniqueCountTransformer</label><div class=\"sk-toggleable__content\"><pre>UniqueCountTransformer()</pre></div></div></div><div class=\"sk-item\"><div class=\"sk-estimator sk-toggleable\"><input class=\"sk-toggleable__control sk-hidden--visually\" id=\"eeb91341-cd35-42e4-8cfd-dad19a47266f\" type=\"checkbox\" ><label class=\"sk-toggleable__label\" for=\"eeb91341-cd35-42e4-8cfd-dad19a47266f\">SimpleImputer</label><div class=\"sk-toggleable__content\"><pre>SimpleImputer(fill_value=0, strategy='constant')</pre></div></div></div></div></div></div></div></div><div class=\"sk-parallel-item\"><div class=\"sk-item\"><div class=\"sk-label-container\"><div class=\"sk-label sk-toggleable\"><input class=\"sk-toggleable__control sk-hidden--visually\" id=\"42a9cae3-c9d4-4f29-9a09-82305a2f2b22\" type=\"checkbox\" ><label class=\"sk-toggleable__label\" for=\"42a9cae3-c9d4-4f29-9a09-82305a2f2b22\">crew_gender</label><div class=\"sk-toggleable__content\"><pre>['crew']</pre></div></div></div><div class=\"sk-serial\"><div class=\"sk-item\"><div class=\"sk-serial\"><div class=\"sk-item\"><div class=\"sk-estimator sk-toggleable\"><input class=\"sk-toggleable__control sk-hidden--visually\" id=\"f4b9f9ac-b4dd-4caa-8d5f-2b185c036433\" type=\"checkbox\" ><label class=\"sk-toggleable__label\" for=\"f4b9f9ac-b4dd-4caa-8d5f-2b185c036433\">SimpleImputer</label><div class=\"sk-toggleable__content\"><pre>SimpleImputer(fill_value='[]', strategy='constant')</pre></div></div></div><div class=\"sk-item\"><div class=\"sk-estimator sk-toggleable\"><input class=\"sk-toggleable__control sk-hidden--visually\" id=\"24c46017-d3ff-4c17-b3ce-71f8f77766d0\" type=\"checkbox\" ><label class=\"sk-toggleable__label\" for=\"24c46017-d3ff-4c17-b3ce-71f8f77766d0\">ExtractionTransformer</label><div class=\"sk-toggleable__content\"><pre>ExtractionTransformer(key='gender')</pre></div></div></div><div class=\"sk-item\"><div class=\"sk-estimator sk-toggleable\"><input class=\"sk-toggleable__control sk-hidden--visually\" id=\"1e70caeb-bea5-4941-b427-cde0e76875d8\" type=\"checkbox\" ><label class=\"sk-toggleable__label\" for=\"1e70caeb-bea5-4941-b427-cde0e76875d8\">UniqueCountTransformer</label><div class=\"sk-toggleable__content\"><pre>UniqueCountTransformer()</pre></div></div></div><div class=\"sk-item\"><div class=\"sk-estimator sk-toggleable\"><input class=\"sk-toggleable__control sk-hidden--visually\" id=\"527a5b6a-fd10-4156-8d3c-b773f19ca2f3\" type=\"checkbox\" ><label class=\"sk-toggleable__label\" for=\"527a5b6a-fd10-4156-8d3c-b773f19ca2f3\">SimpleImputer</label><div class=\"sk-toggleable__content\"><pre>SimpleImputer(fill_value=0, strategy='constant')</pre></div></div></div></div></div></div></div></div><div class=\"sk-parallel-item\"><div class=\"sk-item\"><div class=\"sk-label-container\"><div class=\"sk-label sk-toggleable\"><input class=\"sk-toggleable__control sk-hidden--visually\" id=\"294c3fbd-8259-4b76-9267-0d399dd770d9\" type=\"checkbox\" ><label class=\"sk-toggleable__label\" for=\"294c3fbd-8259-4b76-9267-0d399dd770d9\">crew_department</label><div class=\"sk-toggleable__content\"><pre>['crew']</pre></div></div></div><div class=\"sk-serial\"><div class=\"sk-item\"><div class=\"sk-serial\"><div class=\"sk-item\"><div class=\"sk-estimator sk-toggleable\"><input class=\"sk-toggleable__control sk-hidden--visually\" id=\"1072d6a3-1b03-41ee-9da5-8de878a2cd54\" type=\"checkbox\" ><label class=\"sk-toggleable__label\" for=\"1072d6a3-1b03-41ee-9da5-8de878a2cd54\">SimpleImputer</label><div class=\"sk-toggleable__content\"><pre>SimpleImputer(fill_value='[]', strategy='constant')</pre></div></div></div><div class=\"sk-item\"><div class=\"sk-estimator sk-toggleable\"><input class=\"sk-toggleable__control sk-hidden--visually\" id=\"7cb995e7-8288-4db5-a2d1-9e946e9fd05f\" type=\"checkbox\" ><label class=\"sk-toggleable__label\" for=\"7cb995e7-8288-4db5-a2d1-9e946e9fd05f\">ExtractionTransformer</label><div class=\"sk-toggleable__content\"><pre>ExtractionTransformer(key='department')</pre></div></div></div><div class=\"sk-item\"><div class=\"sk-estimator sk-toggleable\"><input class=\"sk-toggleable__control sk-hidden--visually\" id=\"a13edf3b-086c-4ba4-8066-12f909f860bd\" type=\"checkbox\" ><label class=\"sk-toggleable__label\" for=\"a13edf3b-086c-4ba4-8066-12f909f860bd\">UniqueCountTransformer</label><div class=\"sk-toggleable__content\"><pre>UniqueCountTransformer()</pre></div></div></div><div class=\"sk-item\"><div class=\"sk-estimator sk-toggleable\"><input class=\"sk-toggleable__control sk-hidden--visually\" id=\"0188e266-f4da-436d-a7e9-baaea809e6a7\" type=\"checkbox\" ><label class=\"sk-toggleable__label\" for=\"0188e266-f4da-436d-a7e9-baaea809e6a7\">SimpleImputer</label><div class=\"sk-toggleable__content\"><pre>SimpleImputer(fill_value=0, strategy='constant')</pre></div></div></div></div></div></div></div></div><div class=\"sk-parallel-item\"><div class=\"sk-item\"><div class=\"sk-label-container\"><div class=\"sk-label sk-toggleable\"><input class=\"sk-toggleable__control sk-hidden--visually\" id=\"9ff37167-9d55-4f5e-91dd-f443feab60f9\" type=\"checkbox\" ><label class=\"sk-toggleable__label\" for=\"9ff37167-9d55-4f5e-91dd-f443feab60f9\">crew_jobs</label><div class=\"sk-toggleable__content\"><pre>['crew']</pre></div></div></div><div class=\"sk-serial\"><div class=\"sk-item\"><div class=\"sk-serial\"><div class=\"sk-item\"><div class=\"sk-estimator sk-toggleable\"><input class=\"sk-toggleable__control sk-hidden--visually\" id=\"04af69bd-468d-433e-855d-746485354b32\" type=\"checkbox\" ><label class=\"sk-toggleable__label\" for=\"04af69bd-468d-433e-855d-746485354b32\">SimpleImputer</label><div class=\"sk-toggleable__content\"><pre>SimpleImputer(fill_value='[]', strategy='constant')</pre></div></div></div><div class=\"sk-item\"><div class=\"sk-estimator sk-toggleable\"><input class=\"sk-toggleable__control sk-hidden--visually\" id=\"5356971a-24a1-42c7-bab0-d04768d4bccf\" type=\"checkbox\" ><label class=\"sk-toggleable__label\" for=\"5356971a-24a1-42c7-bab0-d04768d4bccf\">ExtractionTransformer</label><div class=\"sk-toggleable__content\"><pre>ExtractionTransformer(key='job')</pre></div></div></div><div class=\"sk-item\"><div class=\"sk-estimator sk-toggleable\"><input class=\"sk-toggleable__control sk-hidden--visually\" id=\"8b5a2f8b-b12f-4cb8-bd64-cfea8381495d\" type=\"checkbox\" ><label class=\"sk-toggleable__label\" for=\"8b5a2f8b-b12f-4cb8-bd64-cfea8381495d\">MultinomialAttributeTransformer</label><div class=\"sk-toggleable__content\"><pre>MultinomialAttributeTransformer()</pre></div></div></div></div></div></div></div></div><div class=\"sk-parallel-item\"><div class=\"sk-item\"><div class=\"sk-label-container\"><div class=\"sk-label sk-toggleable\"><input class=\"sk-toggleable__control sk-hidden--visually\" id=\"76e471a0-2502-4b6b-9f6a-9c489cf7ab99\" type=\"checkbox\" ><label class=\"sk-toggleable__label\" for=\"76e471a0-2502-4b6b-9f6a-9c489cf7ab99\">crew_names</label><div class=\"sk-toggleable__content\"><pre>['crew']</pre></div></div></div><div class=\"sk-serial\"><div class=\"sk-item\"><div class=\"sk-serial\"><div class=\"sk-item\"><div class=\"sk-estimator sk-toggleable\"><input class=\"sk-toggleable__control sk-hidden--visually\" id=\"f96c3601-cbb2-46b3-892f-f19ffac7fe3b\" type=\"checkbox\" ><label class=\"sk-toggleable__label\" for=\"f96c3601-cbb2-46b3-892f-f19ffac7fe3b\">SimpleImputer</label><div class=\"sk-toggleable__content\"><pre>SimpleImputer(fill_value='[]', strategy='constant')</pre></div></div></div><div class=\"sk-item\"><div class=\"sk-estimator sk-toggleable\"><input class=\"sk-toggleable__control sk-hidden--visually\" id=\"b33cef39-d5cd-4bf9-849b-92481d2e957f\" type=\"checkbox\" ><label class=\"sk-toggleable__label\" for=\"b33cef39-d5cd-4bf9-849b-92481d2e957f\">ExtractionTransformer</label><div class=\"sk-toggleable__content\"><pre>ExtractionTransformer(key='name')</pre></div></div></div><div class=\"sk-item\"><div class=\"sk-estimator sk-toggleable\"><input class=\"sk-toggleable__control sk-hidden--visually\" id=\"2c69d344-386c-493c-89ae-5dfe034394cc\" type=\"checkbox\" ><label class=\"sk-toggleable__label\" for=\"2c69d344-386c-493c-89ae-5dfe034394cc\">MultinomialAttributeTransformer</label><div class=\"sk-toggleable__content\"><pre>MultinomialAttributeTransformer()</pre></div></div></div><div class=\"sk-item\"><div class=\"sk-estimator sk-toggleable\"><input class=\"sk-toggleable__control sk-hidden--visually\" id=\"dd6bda13-02a3-476e-9887-0c5fdedd901d\" type=\"checkbox\" ><label class=\"sk-toggleable__label\" for=\"dd6bda13-02a3-476e-9887-0c5fdedd901d\">PCA</label><div class=\"sk-toggleable__content\"><pre>PCA(n_components=100)</pre></div></div></div></div></div></div></div></div><div class=\"sk-parallel-item\"><div class=\"sk-item\"><div class=\"sk-label-container\"><div class=\"sk-label sk-toggleable\"><input class=\"sk-toggleable__control sk-hidden--visually\" id=\"7c1562f6-3ffb-4222-b4f4-5ff18a928bda\" type=\"checkbox\" ><label class=\"sk-toggleable__label\" for=\"7c1562f6-3ffb-4222-b4f4-5ff18a928bda\">cast_names</label><div class=\"sk-toggleable__content\"><pre>['cast']</pre></div></div></div><div class=\"sk-serial\"><div class=\"sk-item\"><div class=\"sk-serial\"><div class=\"sk-item\"><div class=\"sk-estimator sk-toggleable\"><input class=\"sk-toggleable__control sk-hidden--visually\" id=\"a1f38351-2ba3-4e69-99e7-047dd566f524\" type=\"checkbox\" ><label class=\"sk-toggleable__label\" for=\"a1f38351-2ba3-4e69-99e7-047dd566f524\">SimpleImputer</label><div class=\"sk-toggleable__content\"><pre>SimpleImputer(fill_value='[]', strategy='constant')</pre></div></div></div><div class=\"sk-item\"><div class=\"sk-estimator sk-toggleable\"><input class=\"sk-toggleable__control sk-hidden--visually\" id=\"81debda6-bfa5-448d-8a7d-76b8cbdd6fdd\" type=\"checkbox\" ><label class=\"sk-toggleable__label\" for=\"81debda6-bfa5-448d-8a7d-76b8cbdd6fdd\">ExtractionTransformer</label><div class=\"sk-toggleable__content\"><pre>ExtractionTransformer(key='name')</pre></div></div></div><div class=\"sk-item\"><div class=\"sk-estimator sk-toggleable\"><input class=\"sk-toggleable__control sk-hidden--visually\" id=\"a5a6ea36-7187-4921-a598-9910d624b88f\" type=\"checkbox\" ><label class=\"sk-toggleable__label\" for=\"a5a6ea36-7187-4921-a598-9910d624b88f\">MultinomialAttributeTransformer</label><div class=\"sk-toggleable__content\"><pre>MultinomialAttributeTransformer()</pre></div></div></div><div class=\"sk-item\"><div class=\"sk-estimator sk-toggleable\"><input class=\"sk-toggleable__control sk-hidden--visually\" id=\"38eed4a8-befa-4bb1-bb3d-c72ac522cf9d\" type=\"checkbox\" ><label class=\"sk-toggleable__label\" for=\"38eed4a8-befa-4bb1-bb3d-c72ac522cf9d\">PCA</label><div class=\"sk-toggleable__content\"><pre>PCA(n_components=100)</pre></div></div></div></div></div></div></div></div><div class=\"sk-parallel-item\"><div class=\"sk-item\"><div class=\"sk-label-container\"><div class=\"sk-label sk-toggleable\"><input class=\"sk-toggleable__control sk-hidden--visually\" id=\"0b4453a5-5f37-4ae0-9bb6-021534e5de1a\" type=\"checkbox\" ><label class=\"sk-toggleable__label\" for=\"0b4453a5-5f37-4ae0-9bb6-021534e5de1a\">cast_characters</label><div class=\"sk-toggleable__content\"><pre>['cast']</pre></div></div></div><div class=\"sk-serial\"><div class=\"sk-item\"><div class=\"sk-serial\"><div class=\"sk-item\"><div class=\"sk-estimator sk-toggleable\"><input class=\"sk-toggleable__control sk-hidden--visually\" id=\"74ace0d0-af60-485c-8146-8d17a3455d0e\" type=\"checkbox\" ><label class=\"sk-toggleable__label\" for=\"74ace0d0-af60-485c-8146-8d17a3455d0e\">SimpleImputer</label><div class=\"sk-toggleable__content\"><pre>SimpleImputer(fill_value='[]', strategy='constant')</pre></div></div></div><div class=\"sk-item\"><div class=\"sk-estimator sk-toggleable\"><input class=\"sk-toggleable__control sk-hidden--visually\" id=\"0249cce3-e89e-4380-a61d-ff14eab92dfd\" type=\"checkbox\" ><label class=\"sk-toggleable__label\" for=\"0249cce3-e89e-4380-a61d-ff14eab92dfd\">ExtractionTransformer</label><div class=\"sk-toggleable__content\"><pre>ExtractionTransformer(key='character')</pre></div></div></div><div class=\"sk-item\"><div class=\"sk-estimator sk-toggleable\"><input class=\"sk-toggleable__control sk-hidden--visually\" id=\"10172725-01a0-4dea-b8c4-f977d2ae71ce\" type=\"checkbox\" ><label class=\"sk-toggleable__label\" for=\"10172725-01a0-4dea-b8c4-f977d2ae71ce\">MultinomialAttributeTransformer</label><div class=\"sk-toggleable__content\"><pre>MultinomialAttributeTransformer()</pre></div></div></div><div class=\"sk-item\"><div class=\"sk-estimator sk-toggleable\"><input class=\"sk-toggleable__control sk-hidden--visually\" id=\"866d87e8-30a3-4adc-8a4b-96ddc327093f\" type=\"checkbox\" ><label class=\"sk-toggleable__label\" for=\"866d87e8-30a3-4adc-8a4b-96ddc327093f\">PCA</label><div class=\"sk-toggleable__content\"><pre>PCA(n_components=100)</pre></div></div></div></div></div></div></div></div><div class=\"sk-parallel-item\"><div class=\"sk-item\"><div class=\"sk-label-container\"><div class=\"sk-label sk-toggleable\"><input class=\"sk-toggleable__control sk-hidden--visually\" id=\"fa594d00-aa4f-4793-84d0-4715dde0bd65\" type=\"checkbox\" ><label class=\"sk-toggleable__label\" for=\"fa594d00-aa4f-4793-84d0-4715dde0bd65\">keywords</label><div class=\"sk-toggleable__content\"><pre>['Keywords']</pre></div></div></div><div class=\"sk-serial\"><div class=\"sk-item\"><div class=\"sk-serial\"><div class=\"sk-item\"><div class=\"sk-estimator sk-toggleable\"><input class=\"sk-toggleable__control sk-hidden--visually\" id=\"47bc5f1d-e682-4275-a4ba-038c04ec8116\" type=\"checkbox\" ><label class=\"sk-toggleable__label\" for=\"47bc5f1d-e682-4275-a4ba-038c04ec8116\">SimpleImputer</label><div class=\"sk-toggleable__content\"><pre>SimpleImputer(fill_value='[]', strategy='constant')</pre></div></div></div><div class=\"sk-item\"><div class=\"sk-estimator sk-toggleable\"><input class=\"sk-toggleable__control sk-hidden--visually\" id=\"1dea4253-dd04-4396-90ef-a7cc7a5430ba\" type=\"checkbox\" ><label class=\"sk-toggleable__label\" for=\"1dea4253-dd04-4396-90ef-a7cc7a5430ba\">ExtractionTransformer</label><div class=\"sk-toggleable__content\"><pre>ExtractionTransformer(key='name')</pre></div></div></div><div class=\"sk-item\"><div class=\"sk-estimator sk-toggleable\"><input class=\"sk-toggleable__control sk-hidden--visually\" id=\"df25d148-2102-43ef-abb3-c0b5000f6720\" type=\"checkbox\" ><label class=\"sk-toggleable__label\" for=\"df25d148-2102-43ef-abb3-c0b5000f6720\">MultinomialAttributeTransformer</label><div class=\"sk-toggleable__content\"><pre>MultinomialAttributeTransformer()</pre></div></div></div><div class=\"sk-item\"><div class=\"sk-estimator sk-toggleable\"><input class=\"sk-toggleable__control sk-hidden--visually\" id=\"280cbb28-5b57-4f48-86ad-93c5856cae1a\" type=\"checkbox\" ><label class=\"sk-toggleable__label\" for=\"280cbb28-5b57-4f48-86ad-93c5856cae1a\">PCA</label><div class=\"sk-toggleable__content\"><pre>PCA(n_components=100)</pre></div></div></div></div></div></div></div></div><div class=\"sk-parallel-item\"><div class=\"sk-item\"><div class=\"sk-label-container\"><div class=\"sk-label sk-toggleable\"><input class=\"sk-toggleable__control sk-hidden--visually\" id=\"523e9a4d-5dc6-4046-8f36-e94170f72696\" type=\"checkbox\" ><label class=\"sk-toggleable__label\" for=\"523e9a4d-5dc6-4046-8f36-e94170f72696\">spoken_languages</label><div class=\"sk-toggleable__content\"><pre>['spoken_languages']</pre></div></div></div><div class=\"sk-serial\"><div class=\"sk-item\"><div class=\"sk-serial\"><div class=\"sk-item\"><div class=\"sk-estimator sk-toggleable\"><input class=\"sk-toggleable__control sk-hidden--visually\" id=\"6f75a3d5-7b52-41d0-9abb-04c795033c6f\" type=\"checkbox\" ><label class=\"sk-toggleable__label\" for=\"6f75a3d5-7b52-41d0-9abb-04c795033c6f\">SimpleImputer</label><div class=\"sk-toggleable__content\"><pre>SimpleImputer(fill_value='[]', strategy='constant')</pre></div></div></div><div class=\"sk-item\"><div class=\"sk-estimator sk-toggleable\"><input class=\"sk-toggleable__control sk-hidden--visually\" id=\"04f1ce14-0068-47de-a5e9-7bd82dcbf30d\" type=\"checkbox\" ><label class=\"sk-toggleable__label\" for=\"04f1ce14-0068-47de-a5e9-7bd82dcbf30d\">ExtractionTransformer</label><div class=\"sk-toggleable__content\"><pre>ExtractionTransformer(key='name')</pre></div></div></div><div class=\"sk-item\"><div class=\"sk-estimator sk-toggleable\"><input class=\"sk-toggleable__control sk-hidden--visually\" id=\"51d0e835-eb56-4671-8b45-3d38b9749398\" type=\"checkbox\" ><label class=\"sk-toggleable__label\" for=\"51d0e835-eb56-4671-8b45-3d38b9749398\">MultinomialAttributeTransformer</label><div class=\"sk-toggleable__content\"><pre>MultinomialAttributeTransformer()</pre></div></div></div></div></div></div></div></div><div class=\"sk-parallel-item\"><div class=\"sk-item\"><div class=\"sk-label-container\"><div class=\"sk-label sk-toggleable\"><input class=\"sk-toggleable__control sk-hidden--visually\" id=\"b8807bab-3934-4b99-84a6-19b698cdb52c\" type=\"checkbox\" ><label class=\"sk-toggleable__label\" for=\"b8807bab-3934-4b99-84a6-19b698cdb52c\">production_countries</label><div class=\"sk-toggleable__content\"><pre>['production_countries']</pre></div></div></div><div class=\"sk-serial\"><div class=\"sk-item\"><div class=\"sk-serial\"><div class=\"sk-item\"><div class=\"sk-estimator sk-toggleable\"><input class=\"sk-toggleable__control sk-hidden--visually\" id=\"1d113036-8540-4c9b-a879-3625c4a35853\" type=\"checkbox\" ><label class=\"sk-toggleable__label\" for=\"1d113036-8540-4c9b-a879-3625c4a35853\">SimpleImputer</label><div class=\"sk-toggleable__content\"><pre>SimpleImputer(fill_value='[]', strategy='constant')</pre></div></div></div><div class=\"sk-item\"><div class=\"sk-estimator sk-toggleable\"><input class=\"sk-toggleable__control sk-hidden--visually\" id=\"52729600-95d8-4ece-a2b2-444405f01a93\" type=\"checkbox\" ><label class=\"sk-toggleable__label\" for=\"52729600-95d8-4ece-a2b2-444405f01a93\">ExtractionTransformer</label><div class=\"sk-toggleable__content\"><pre>ExtractionTransformer(key='name')</pre></div></div></div><div class=\"sk-item\"><div class=\"sk-estimator sk-toggleable\"><input class=\"sk-toggleable__control sk-hidden--visually\" id=\"06eee1c4-a377-40b2-8848-d4c5bf1add58\" type=\"checkbox\" ><label class=\"sk-toggleable__label\" for=\"06eee1c4-a377-40b2-8848-d4c5bf1add58\">MultinomialAttributeTransformer</label><div class=\"sk-toggleable__content\"><pre>MultinomialAttributeTransformer()</pre></div></div></div></div></div></div></div></div><div class=\"sk-parallel-item\"><div class=\"sk-item\"><div class=\"sk-label-container\"><div class=\"sk-label sk-toggleable\"><input class=\"sk-toggleable__control sk-hidden--visually\" id=\"63668ac7-75cb-462e-9998-f65e89d27cb6\" type=\"checkbox\" ><label class=\"sk-toggleable__label\" for=\"63668ac7-75cb-462e-9998-f65e89d27cb6\">production_companies</label><div class=\"sk-toggleable__content\"><pre>['production_companies']</pre></div></div></div><div class=\"sk-serial\"><div class=\"sk-item\"><div class=\"sk-serial\"><div class=\"sk-item\"><div class=\"sk-estimator sk-toggleable\"><input class=\"sk-toggleable__control sk-hidden--visually\" id=\"7fc4c4ca-a314-49a5-9644-3df5230892e9\" type=\"checkbox\" ><label class=\"sk-toggleable__label\" for=\"7fc4c4ca-a314-49a5-9644-3df5230892e9\">SimpleImputer</label><div class=\"sk-toggleable__content\"><pre>SimpleImputer(fill_value='[]', strategy='constant')</pre></div></div></div><div class=\"sk-item\"><div class=\"sk-estimator sk-toggleable\"><input class=\"sk-toggleable__control sk-hidden--visually\" id=\"c96ccf92-6106-4eeb-85f3-70928c390cdb\" type=\"checkbox\" ><label class=\"sk-toggleable__label\" for=\"c96ccf92-6106-4eeb-85f3-70928c390cdb\">ExtractionTransformer</label><div class=\"sk-toggleable__content\"><pre>ExtractionTransformer(key='name')</pre></div></div></div><div class=\"sk-item\"><div class=\"sk-estimator sk-toggleable\"><input class=\"sk-toggleable__control sk-hidden--visually\" id=\"29856549-6e6f-4378-942d-cda218e3ba87\" type=\"checkbox\" ><label class=\"sk-toggleable__label\" for=\"29856549-6e6f-4378-942d-cda218e3ba87\">MultinomialAttributeTransformer</label><div class=\"sk-toggleable__content\"><pre>MultinomialAttributeTransformer()</pre></div></div></div><div class=\"sk-item\"><div class=\"sk-estimator sk-toggleable\"><input class=\"sk-toggleable__control sk-hidden--visually\" id=\"252b091a-9b53-4de1-b882-fa125238b5a7\" type=\"checkbox\" ><label class=\"sk-toggleable__label\" for=\"252b091a-9b53-4de1-b882-fa125238b5a7\">PCA</label><div class=\"sk-toggleable__content\"><pre>PCA(n_components=100)</pre></div></div></div></div></div></div></div></div></div></div><div class=\"sk-item\"><div class=\"sk-estimator sk-toggleable\"><input class=\"sk-toggleable__control sk-hidden--visually\" id=\"d8e39b1f-ff59-44b3-81a0-bfe420a0d0d5\" type=\"checkbox\" ><label class=\"sk-toggleable__label\" for=\"d8e39b1f-ff59-44b3-81a0-bfe420a0d0d5\">RandomForestRegressor</label><div class=\"sk-toggleable__content\"><pre>RandomForestRegressor(max_depth=40, min_samples_leaf=10, n_jobs=4)</pre></div></div></div></div></div></div></div></div><div class=\"sk-parallel-item\"><div class=\"sk-item\"><div class=\"sk-serial\"><div class=\"sk-item\"><div class=\"sk-serial\"><div class=\"sk-item sk-dashed-wrapped\"><div class=\"sk-label-container\"><div class=\"sk-label sk-toggleable\"><input class=\"sk-toggleable__control sk-hidden--visually\" id=\"b8001888-c697-4e55-b20e-ec03401dc777\" type=\"checkbox\" ><label class=\"sk-toggleable__label\" for=\"b8001888-c697-4e55-b20e-ec03401dc777\">prep_B: ColumnTransformer</label><div class=\"sk-toggleable__content\"><pre>ColumnTransformer(transformers=[('budget',\n",
       "                                 Pipeline(steps=[('simpleimputer',\n",
       "                                                  SimpleImputer(strategy='median')),\n",
       "                                                 ('functiontransformer',\n",
       "                                                  FunctionTransformer(func=<ufunc 'log1p'>)),\n",
       "                                                 ('standardscaler',\n",
       "                                                  StandardScaler())]),\n",
       "                                 ['budget']),\n",
       "                                ('popularity',\n",
       "                                 Pipeline(steps=[('simpleimputer',\n",
       "                                                  SimpleImputer(strategy='median')),\n",
       "                                                 ('standardscaler',\n",
       "                                                  StandardScaler())]),\n",
       "                                 ['popul...\n",
       "                                                  MultinomialAttributeTransformer())]),\n",
       "                                 ['production_countries']),\n",
       "                                ('production_companies',\n",
       "                                 Pipeline(steps=[('simpleimputer',\n",
       "                                                  SimpleImputer(fill_value='[]',\n",
       "                                                                strategy='constant')),\n",
       "                                                 ('extractiontransformer',\n",
       "                                                  ExtractionTransformer(key='name')),\n",
       "                                                 ('multinomialattributetransformer',\n",
       "                                                  MultinomialAttributeTransformer()),\n",
       "                                                 ('pca',\n",
       "                                                  PCA(n_components=100))]),\n",
       "                                 ['production_companies'])])</pre></div></div></div><div class=\"sk-parallel\"><div class=\"sk-parallel-item\"><div class=\"sk-item\"><div class=\"sk-label-container\"><div class=\"sk-label sk-toggleable\"><input class=\"sk-toggleable__control sk-hidden--visually\" id=\"0f90e16a-557a-431c-ad63-50416eceb9b7\" type=\"checkbox\" ><label class=\"sk-toggleable__label\" for=\"0f90e16a-557a-431c-ad63-50416eceb9b7\">budget</label><div class=\"sk-toggleable__content\"><pre>['budget']</pre></div></div></div><div class=\"sk-serial\"><div class=\"sk-item\"><div class=\"sk-serial\"><div class=\"sk-item\"><div class=\"sk-estimator sk-toggleable\"><input class=\"sk-toggleable__control sk-hidden--visually\" id=\"ec15d858-b5d3-4e7f-a2e7-3044cf390a22\" type=\"checkbox\" ><label class=\"sk-toggleable__label\" for=\"ec15d858-b5d3-4e7f-a2e7-3044cf390a22\">SimpleImputer</label><div class=\"sk-toggleable__content\"><pre>SimpleImputer(strategy='median')</pre></div></div></div><div class=\"sk-item\"><div class=\"sk-estimator sk-toggleable\"><input class=\"sk-toggleable__control sk-hidden--visually\" id=\"0b375ae7-87d5-4161-8c76-3ccb230c96cd\" type=\"checkbox\" ><label class=\"sk-toggleable__label\" for=\"0b375ae7-87d5-4161-8c76-3ccb230c96cd\">FunctionTransformer</label><div class=\"sk-toggleable__content\"><pre>FunctionTransformer(func=<ufunc 'log1p'>)</pre></div></div></div><div class=\"sk-item\"><div class=\"sk-estimator sk-toggleable\"><input class=\"sk-toggleable__control sk-hidden--visually\" id=\"2489f799-5d16-4337-9e07-a2f809ef17a9\" type=\"checkbox\" ><label class=\"sk-toggleable__label\" for=\"2489f799-5d16-4337-9e07-a2f809ef17a9\">StandardScaler</label><div class=\"sk-toggleable__content\"><pre>StandardScaler()</pre></div></div></div></div></div></div></div></div><div class=\"sk-parallel-item\"><div class=\"sk-item\"><div class=\"sk-label-container\"><div class=\"sk-label sk-toggleable\"><input class=\"sk-toggleable__control sk-hidden--visually\" id=\"ce1abd0a-53fa-4c8b-af12-fe0fe76e661b\" type=\"checkbox\" ><label class=\"sk-toggleable__label\" for=\"ce1abd0a-53fa-4c8b-af12-fe0fe76e661b\">popularity</label><div class=\"sk-toggleable__content\"><pre>['popularity']</pre></div></div></div><div class=\"sk-serial\"><div class=\"sk-item\"><div class=\"sk-serial\"><div class=\"sk-item\"><div class=\"sk-estimator sk-toggleable\"><input class=\"sk-toggleable__control sk-hidden--visually\" id=\"3ded17f5-8fce-4b12-a20f-cbfb9aa0d8f1\" type=\"checkbox\" ><label class=\"sk-toggleable__label\" for=\"3ded17f5-8fce-4b12-a20f-cbfb9aa0d8f1\">SimpleImputer</label><div class=\"sk-toggleable__content\"><pre>SimpleImputer(strategy='median')</pre></div></div></div><div class=\"sk-item\"><div class=\"sk-estimator sk-toggleable\"><input class=\"sk-toggleable__control sk-hidden--visually\" id=\"2fe1aa09-eaef-472f-8695-14e2e2f230ed\" type=\"checkbox\" ><label class=\"sk-toggleable__label\" for=\"2fe1aa09-eaef-472f-8695-14e2e2f230ed\">StandardScaler</label><div class=\"sk-toggleable__content\"><pre>StandardScaler()</pre></div></div></div></div></div></div></div></div><div class=\"sk-parallel-item\"><div class=\"sk-item\"><div class=\"sk-label-container\"><div class=\"sk-label sk-toggleable\"><input class=\"sk-toggleable__control sk-hidden--visually\" id=\"4bd81419-fc89-410b-a017-0cb785d46ff2\" type=\"checkbox\" ><label class=\"sk-toggleable__label\" for=\"4bd81419-fc89-410b-a017-0cb785d46ff2\">runtime</label><div class=\"sk-toggleable__content\"><pre>['runtime']</pre></div></div></div><div class=\"sk-serial\"><div class=\"sk-item\"><div class=\"sk-serial\"><div class=\"sk-item\"><div class=\"sk-label-container\"><div class=\"sk-label sk-toggleable\"><input class=\"sk-toggleable__control sk-hidden--visually\" id=\"c186743c-f1ff-4b4a-9f87-c8792ec6f10a\" type=\"checkbox\" ><label class=\"sk-toggleable__label\" for=\"c186743c-f1ff-4b4a-9f87-c8792ec6f10a\">pipeline: Pipeline</label><div class=\"sk-toggleable__content\"><pre>Pipeline(steps=[('simpleimputer-1', SimpleImputer(strategy='median')),\n",
       "                ('simpleimputer-2',\n",
       "                 SimpleImputer(missing_values=0, strategy='median'))])</pre></div></div></div><div class=\"sk-serial\"><div class=\"sk-item\"><div class=\"sk-estimator sk-toggleable\"><input class=\"sk-toggleable__control sk-hidden--visually\" id=\"33f1048f-c743-4e75-a731-47ea2a7b0964\" type=\"checkbox\" ><label class=\"sk-toggleable__label\" for=\"33f1048f-c743-4e75-a731-47ea2a7b0964\">SimpleImputer</label><div class=\"sk-toggleable__content\"><pre>SimpleImputer(strategy='median')</pre></div></div></div><div class=\"sk-item\"><div class=\"sk-estimator sk-toggleable\"><input class=\"sk-toggleable__control sk-hidden--visually\" id=\"c3794535-967e-4985-9e18-6798f9cab2ad\" type=\"checkbox\" ><label class=\"sk-toggleable__label\" for=\"c3794535-967e-4985-9e18-6798f9cab2ad\">SimpleImputer</label><div class=\"sk-toggleable__content\"><pre>SimpleImputer(missing_values=0, strategy='median')</pre></div></div></div></div></div><div class=\"sk-item\"><div class=\"sk-estimator sk-toggleable\"><input class=\"sk-toggleable__control sk-hidden--visually\" id=\"5f0ae07e-db86-42d7-ada5-28c4e41f2170\" type=\"checkbox\" ><label class=\"sk-toggleable__label\" for=\"5f0ae07e-db86-42d7-ada5-28c4e41f2170\">StandardScaler</label><div class=\"sk-toggleable__content\"><pre>StandardScaler()</pre></div></div></div></div></div></div></div></div><div class=\"sk-parallel-item\"><div class=\"sk-item\"><div class=\"sk-label-container\"><div class=\"sk-label sk-toggleable\"><input class=\"sk-toggleable__control sk-hidden--visually\" id=\"f5f0cc14-155b-481d-af88-bfa660e70cff\" type=\"checkbox\" ><label class=\"sk-toggleable__label\" for=\"f5f0cc14-155b-481d-af88-bfa660e70cff\">release_date</label><div class=\"sk-toggleable__content\"><pre>['release_date']</pre></div></div></div><div class=\"sk-serial\"><div class=\"sk-item\"><div class=\"sk-serial\"><div class=\"sk-item\"><div class=\"sk-estimator sk-toggleable\"><input class=\"sk-toggleable__control sk-hidden--visually\" id=\"4654d757-84b4-4b56-8ac1-2281618eb1d3\" type=\"checkbox\" ><label class=\"sk-toggleable__label\" for=\"4654d757-84b4-4b56-8ac1-2281618eb1d3\">SimpleImputer</label><div class=\"sk-toggleable__content\"><pre>SimpleImputer(strategy='most_frequent')</pre></div></div></div><div class=\"sk-item\"><div class=\"sk-estimator sk-toggleable\"><input class=\"sk-toggleable__control sk-hidden--visually\" id=\"ac39c4ff-4202-405f-b2cc-e0d938175f6f\" type=\"checkbox\" ><label class=\"sk-toggleable__label\" for=\"ac39c4ff-4202-405f-b2cc-e0d938175f6f\">ReleaseDateTransformer</label><div class=\"sk-toggleable__content\"><pre>ReleaseDateTransformer()</pre></div></div></div></div></div></div></div></div><div class=\"sk-parallel-item\"><div class=\"sk-item\"><div class=\"sk-label-container\"><div class=\"sk-label sk-toggleable\"><input class=\"sk-toggleable__control sk-hidden--visually\" id=\"aa3fff83-75c5-4ec6-b921-8fcbb806da86\" type=\"checkbox\" ><label class=\"sk-toggleable__label\" for=\"aa3fff83-75c5-4ec6-b921-8fcbb806da86\">original_language+status</label><div class=\"sk-toggleable__content\"><pre>['original_language', 'status']</pre></div></div></div><div class=\"sk-serial\"><div class=\"sk-item\"><div class=\"sk-serial\"><div class=\"sk-item\"><div class=\"sk-estimator sk-toggleable\"><input class=\"sk-toggleable__control sk-hidden--visually\" id=\"522646d5-7c95-4b2d-8de8-bb6014ce14eb\" type=\"checkbox\" ><label class=\"sk-toggleable__label\" for=\"522646d5-7c95-4b2d-8de8-bb6014ce14eb\">SimpleImputer</label><div class=\"sk-toggleable__content\"><pre>SimpleImputer(strategy='most_frequent')</pre></div></div></div><div class=\"sk-item\"><div class=\"sk-estimator sk-toggleable\"><input class=\"sk-toggleable__control sk-hidden--visually\" id=\"d9370215-5c5f-486d-9feb-890c3a38a326\" type=\"checkbox\" ><label class=\"sk-toggleable__label\" for=\"d9370215-5c5f-486d-9feb-890c3a38a326\">OneHotEncoder</label><div class=\"sk-toggleable__content\"><pre>OneHotEncoder(handle_unknown='ignore')</pre></div></div></div></div></div></div></div></div><div class=\"sk-parallel-item\"><div class=\"sk-item\"><div class=\"sk-label-container\"><div class=\"sk-label sk-toggleable\"><input class=\"sk-toggleable__control sk-hidden--visually\" id=\"831c60fd-fe0d-4da4-ac78-25b1bf584682\" type=\"checkbox\" ><label class=\"sk-toggleable__label\" for=\"831c60fd-fe0d-4da4-ac78-25b1bf584682\">homepage+tagline</label><div class=\"sk-toggleable__content\"><pre>['homepage', 'tagline']</pre></div></div></div><div class=\"sk-serial\"><div class=\"sk-item\"><div class=\"sk-estimator sk-toggleable\"><input class=\"sk-toggleable__control sk-hidden--visually\" id=\"e3ea8cc6-4970-426f-9110-6373beab0730\" type=\"checkbox\" ><label class=\"sk-toggleable__label\" for=\"e3ea8cc6-4970-426f-9110-6373beab0730\">FunctionTransformer</label><div class=\"sk-toggleable__content\"><pre>FunctionTransformer(func=<function <lambda> at 0x1740098b0>)</pre></div></div></div></div></div></div><div class=\"sk-parallel-item\"><div class=\"sk-item\"><div class=\"sk-label-container\"><div class=\"sk-label sk-toggleable\"><input class=\"sk-toggleable__control sk-hidden--visually\" id=\"e34977fc-cb46-43ac-adf9-73d176dc3bae\" type=\"checkbox\" ><label class=\"sk-toggleable__label\" for=\"e34977fc-cb46-43ac-adf9-73d176dc3bae\">genres_counts</label><div class=\"sk-toggleable__content\"><pre>['genres']</pre></div></div></div><div class=\"sk-serial\"><div class=\"sk-item\"><div class=\"sk-serial\"><div class=\"sk-item\"><div class=\"sk-estimator sk-toggleable\"><input class=\"sk-toggleable__control sk-hidden--visually\" id=\"25642d71-222d-43ef-ac50-4b5a05188403\" type=\"checkbox\" ><label class=\"sk-toggleable__label\" for=\"25642d71-222d-43ef-ac50-4b5a05188403\">SimpleImputer</label><div class=\"sk-toggleable__content\"><pre>SimpleImputer(fill_value='[]', strategy='constant')</pre></div></div></div><div class=\"sk-item\"><div class=\"sk-estimator sk-toggleable\"><input class=\"sk-toggleable__control sk-hidden--visually\" id=\"b28f2036-4166-4e09-a304-fa05dd6a898a\" type=\"checkbox\" ><label class=\"sk-toggleable__label\" for=\"b28f2036-4166-4e09-a304-fa05dd6a898a\">AttributeCountTransformer</label><div class=\"sk-toggleable__content\"><pre>AttributeCountTransformer()</pre></div></div></div><div class=\"sk-item\"><div class=\"sk-estimator sk-toggleable\"><input class=\"sk-toggleable__control sk-hidden--visually\" id=\"5600d13b-e392-44f0-86ca-56f679c5a3eb\" type=\"checkbox\" ><label class=\"sk-toggleable__label\" for=\"5600d13b-e392-44f0-86ca-56f679c5a3eb\">SimpleImputer</label><div class=\"sk-toggleable__content\"><pre>SimpleImputer(missing_values=0, strategy='median')</pre></div></div></div><div class=\"sk-item\"><div class=\"sk-estimator sk-toggleable\"><input class=\"sk-toggleable__control sk-hidden--visually\" id=\"da5db7aa-0aa9-42b2-bb83-cb65250029d7\" type=\"checkbox\" ><label class=\"sk-toggleable__label\" for=\"da5db7aa-0aa9-42b2-bb83-cb65250029d7\">StandardScaler</label><div class=\"sk-toggleable__content\"><pre>StandardScaler()</pre></div></div></div></div></div></div></div></div><div class=\"sk-parallel-item\"><div class=\"sk-item\"><div class=\"sk-label-container\"><div class=\"sk-label sk-toggleable\"><input class=\"sk-toggleable__control sk-hidden--visually\" id=\"9b6d7099-381a-4287-8682-2f7087ff50d3\" type=\"checkbox\" ><label class=\"sk-toggleable__label\" for=\"9b6d7099-381a-4287-8682-2f7087ff50d3\">cast_counts</label><div class=\"sk-toggleable__content\"><pre>['cast']</pre></div></div></div><div class=\"sk-serial\"><div class=\"sk-item\"><div class=\"sk-serial\"><div class=\"sk-item\"><div class=\"sk-estimator sk-toggleable\"><input class=\"sk-toggleable__control sk-hidden--visually\" id=\"f86d34f8-d593-4fa9-8d3f-055fb365ddb5\" type=\"checkbox\" ><label class=\"sk-toggleable__label\" for=\"f86d34f8-d593-4fa9-8d3f-055fb365ddb5\">SimpleImputer</label><div class=\"sk-toggleable__content\"><pre>SimpleImputer(fill_value='[]', strategy='constant')</pre></div></div></div><div class=\"sk-item\"><div class=\"sk-estimator sk-toggleable\"><input class=\"sk-toggleable__control sk-hidden--visually\" id=\"3fea1c79-c5c8-4627-b00d-ffb90df65a84\" type=\"checkbox\" ><label class=\"sk-toggleable__label\" for=\"3fea1c79-c5c8-4627-b00d-ffb90df65a84\">AttributeCountTransformer</label><div class=\"sk-toggleable__content\"><pre>AttributeCountTransformer()</pre></div></div></div><div class=\"sk-item\"><div class=\"sk-estimator sk-toggleable\"><input class=\"sk-toggleable__control sk-hidden--visually\" id=\"6ce2bee6-1a2e-419e-8e51-a7cb5e42193a\" type=\"checkbox\" ><label class=\"sk-toggleable__label\" for=\"6ce2bee6-1a2e-419e-8e51-a7cb5e42193a\">SimpleImputer</label><div class=\"sk-toggleable__content\"><pre>SimpleImputer(missing_values=0, strategy='median')</pre></div></div></div><div class=\"sk-item\"><div class=\"sk-estimator sk-toggleable\"><input class=\"sk-toggleable__control sk-hidden--visually\" id=\"b3127287-0df9-44d9-8530-1d77df56bacb\" type=\"checkbox\" ><label class=\"sk-toggleable__label\" for=\"b3127287-0df9-44d9-8530-1d77df56bacb\">StandardScaler</label><div class=\"sk-toggleable__content\"><pre>StandardScaler()</pre></div></div></div></div></div></div></div></div><div class=\"sk-parallel-item\"><div class=\"sk-item\"><div class=\"sk-label-container\"><div class=\"sk-label sk-toggleable\"><input class=\"sk-toggleable__control sk-hidden--visually\" id=\"ecf6e637-72a7-49d8-86ae-01bbb7cf021d\" type=\"checkbox\" ><label class=\"sk-toggleable__label\" for=\"ecf6e637-72a7-49d8-86ae-01bbb7cf021d\">crew_counts</label><div class=\"sk-toggleable__content\"><pre>['crew']</pre></div></div></div><div class=\"sk-serial\"><div class=\"sk-item\"><div class=\"sk-serial\"><div class=\"sk-item\"><div class=\"sk-estimator sk-toggleable\"><input class=\"sk-toggleable__control sk-hidden--visually\" id=\"2c9086bb-d925-40cf-9b37-fd56ec053909\" type=\"checkbox\" ><label class=\"sk-toggleable__label\" for=\"2c9086bb-d925-40cf-9b37-fd56ec053909\">SimpleImputer</label><div class=\"sk-toggleable__content\"><pre>SimpleImputer(fill_value='[]', strategy='constant')</pre></div></div></div><div class=\"sk-item\"><div class=\"sk-estimator sk-toggleable\"><input class=\"sk-toggleable__control sk-hidden--visually\" id=\"cceab266-31bf-457f-9a4d-746d011c894b\" type=\"checkbox\" ><label class=\"sk-toggleable__label\" for=\"cceab266-31bf-457f-9a4d-746d011c894b\">AttributeCountTransformer</label><div class=\"sk-toggleable__content\"><pre>AttributeCountTransformer()</pre></div></div></div><div class=\"sk-item\"><div class=\"sk-estimator sk-toggleable\"><input class=\"sk-toggleable__control sk-hidden--visually\" id=\"4017e7ea-c6df-4d6e-a7bc-a7fb4fedc250\" type=\"checkbox\" ><label class=\"sk-toggleable__label\" for=\"4017e7ea-c6df-4d6e-a7bc-a7fb4fedc250\">SimpleImputer</label><div class=\"sk-toggleable__content\"><pre>SimpleImputer(missing_values=0, strategy='median')</pre></div></div></div><div class=\"sk-item\"><div class=\"sk-estimator sk-toggleable\"><input class=\"sk-toggleable__control sk-hidden--visually\" id=\"1bf83216-4793-4e63-bb2e-1c76e3e4e78f\" type=\"checkbox\" ><label class=\"sk-toggleable__label\" for=\"1bf83216-4793-4e63-bb2e-1c76e3e4e78f\">StandardScaler</label><div class=\"sk-toggleable__content\"><pre>StandardScaler()</pre></div></div></div></div></div></div></div></div><div class=\"sk-parallel-item\"><div class=\"sk-item\"><div class=\"sk-label-container\"><div class=\"sk-label sk-toggleable\"><input class=\"sk-toggleable__control sk-hidden--visually\" id=\"793314d9-80ae-43b4-9f2b-584f8c249219\" type=\"checkbox\" ><label class=\"sk-toggleable__label\" for=\"793314d9-80ae-43b4-9f2b-584f8c249219\">keywords_counts</label><div class=\"sk-toggleable__content\"><pre>['Keywords']</pre></div></div></div><div class=\"sk-serial\"><div class=\"sk-item\"><div class=\"sk-serial\"><div class=\"sk-item\"><div class=\"sk-estimator sk-toggleable\"><input class=\"sk-toggleable__control sk-hidden--visually\" id=\"88968f15-40c6-4e48-99ee-140c1282be31\" type=\"checkbox\" ><label class=\"sk-toggleable__label\" for=\"88968f15-40c6-4e48-99ee-140c1282be31\">SimpleImputer</label><div class=\"sk-toggleable__content\"><pre>SimpleImputer(fill_value='[]', strategy='constant')</pre></div></div></div><div class=\"sk-item\"><div class=\"sk-estimator sk-toggleable\"><input class=\"sk-toggleable__control sk-hidden--visually\" id=\"65329715-49e1-4fd9-b577-b8b02e6ce1f9\" type=\"checkbox\" ><label class=\"sk-toggleable__label\" for=\"65329715-49e1-4fd9-b577-b8b02e6ce1f9\">AttributeCountTransformer</label><div class=\"sk-toggleable__content\"><pre>AttributeCountTransformer()</pre></div></div></div><div class=\"sk-item\"><div class=\"sk-estimator sk-toggleable\"><input class=\"sk-toggleable__control sk-hidden--visually\" id=\"e8bdbfd7-4bbd-4a35-8440-19e51a43c163\" type=\"checkbox\" ><label class=\"sk-toggleable__label\" for=\"e8bdbfd7-4bbd-4a35-8440-19e51a43c163\">SimpleImputer</label><div class=\"sk-toggleable__content\"><pre>SimpleImputer(missing_values=0, strategy='median')</pre></div></div></div><div class=\"sk-item\"><div class=\"sk-estimator sk-toggleable\"><input class=\"sk-toggleable__control sk-hidden--visually\" id=\"da955833-629e-4bb7-9c4e-a71fbfa19c17\" type=\"checkbox\" ><label class=\"sk-toggleable__label\" for=\"da955833-629e-4bb7-9c4e-a71fbfa19c17\">StandardScaler</label><div class=\"sk-toggleable__content\"><pre>StandardScaler()</pre></div></div></div></div></div></div></div></div><div class=\"sk-parallel-item\"><div class=\"sk-item\"><div class=\"sk-label-container\"><div class=\"sk-label sk-toggleable\"><input class=\"sk-toggleable__control sk-hidden--visually\" id=\"dc2cda7a-8d6d-4db1-871e-d7a9b6049b78\" type=\"checkbox\" ><label class=\"sk-toggleable__label\" for=\"dc2cda7a-8d6d-4db1-871e-d7a9b6049b78\">production_companies_counts</label><div class=\"sk-toggleable__content\"><pre>['production_companies']</pre></div></div></div><div class=\"sk-serial\"><div class=\"sk-item\"><div class=\"sk-serial\"><div class=\"sk-item\"><div class=\"sk-estimator sk-toggleable\"><input class=\"sk-toggleable__control sk-hidden--visually\" id=\"a0f0cd0c-d0cd-4191-9c21-42d9d9acf3e0\" type=\"checkbox\" ><label class=\"sk-toggleable__label\" for=\"a0f0cd0c-d0cd-4191-9c21-42d9d9acf3e0\">SimpleImputer</label><div class=\"sk-toggleable__content\"><pre>SimpleImputer(fill_value='[]', strategy='constant')</pre></div></div></div><div class=\"sk-item\"><div class=\"sk-estimator sk-toggleable\"><input class=\"sk-toggleable__control sk-hidden--visually\" id=\"1da8c600-3fb4-4bdd-9115-ee91963d14cc\" type=\"checkbox\" ><label class=\"sk-toggleable__label\" for=\"1da8c600-3fb4-4bdd-9115-ee91963d14cc\">AttributeCountTransformer</label><div class=\"sk-toggleable__content\"><pre>AttributeCountTransformer()</pre></div></div></div><div class=\"sk-item\"><div class=\"sk-estimator sk-toggleable\"><input class=\"sk-toggleable__control sk-hidden--visually\" id=\"b9e4c27a-2e94-4a92-95c3-497e1c0ca2c3\" type=\"checkbox\" ><label class=\"sk-toggleable__label\" for=\"b9e4c27a-2e94-4a92-95c3-497e1c0ca2c3\">SimpleImputer</label><div class=\"sk-toggleable__content\"><pre>SimpleImputer(missing_values=0, strategy='median')</pre></div></div></div><div class=\"sk-item\"><div class=\"sk-estimator sk-toggleable\"><input class=\"sk-toggleable__control sk-hidden--visually\" id=\"6a100fa1-ba67-44eb-b4f9-9c54d718df45\" type=\"checkbox\" ><label class=\"sk-toggleable__label\" for=\"6a100fa1-ba67-44eb-b4f9-9c54d718df45\">StandardScaler</label><div class=\"sk-toggleable__content\"><pre>StandardScaler()</pre></div></div></div></div></div></div></div></div><div class=\"sk-parallel-item\"><div class=\"sk-item\"><div class=\"sk-label-container\"><div class=\"sk-label sk-toggleable\"><input class=\"sk-toggleable__control sk-hidden--visually\" id=\"5d239de1-ea4d-46db-a286-be4028464d20\" type=\"checkbox\" ><label class=\"sk-toggleable__label\" for=\"5d239de1-ea4d-46db-a286-be4028464d20\">production_countries_counts</label><div class=\"sk-toggleable__content\"><pre>['production_countries']</pre></div></div></div><div class=\"sk-serial\"><div class=\"sk-item\"><div class=\"sk-serial\"><div class=\"sk-item\"><div class=\"sk-estimator sk-toggleable\"><input class=\"sk-toggleable__control sk-hidden--visually\" id=\"e34ea16b-6432-43c1-bec0-f4300aa9784e\" type=\"checkbox\" ><label class=\"sk-toggleable__label\" for=\"e34ea16b-6432-43c1-bec0-f4300aa9784e\">SimpleImputer</label><div class=\"sk-toggleable__content\"><pre>SimpleImputer(fill_value='[]', strategy='constant')</pre></div></div></div><div class=\"sk-item\"><div class=\"sk-estimator sk-toggleable\"><input class=\"sk-toggleable__control sk-hidden--visually\" id=\"935f31a5-457c-4fee-9ff8-dc1f22352c08\" type=\"checkbox\" ><label class=\"sk-toggleable__label\" for=\"935f31a5-457c-4fee-9ff8-dc1f22352c08\">AttributeCountTransformer</label><div class=\"sk-toggleable__content\"><pre>AttributeCountTransformer()</pre></div></div></div><div class=\"sk-item\"><div class=\"sk-estimator sk-toggleable\"><input class=\"sk-toggleable__control sk-hidden--visually\" id=\"cc220458-72fe-43fe-b4cf-ecba4beef5f7\" type=\"checkbox\" ><label class=\"sk-toggleable__label\" for=\"cc220458-72fe-43fe-b4cf-ecba4beef5f7\">SimpleImputer</label><div class=\"sk-toggleable__content\"><pre>SimpleImputer(missing_values=0, strategy='median')</pre></div></div></div><div class=\"sk-item\"><div class=\"sk-estimator sk-toggleable\"><input class=\"sk-toggleable__control sk-hidden--visually\" id=\"a2e419e4-3ef1-431b-b51c-cff7a476d0ae\" type=\"checkbox\" ><label class=\"sk-toggleable__label\" for=\"a2e419e4-3ef1-431b-b51c-cff7a476d0ae\">StandardScaler</label><div class=\"sk-toggleable__content\"><pre>StandardScaler()</pre></div></div></div></div></div></div></div></div><div class=\"sk-parallel-item\"><div class=\"sk-item\"><div class=\"sk-label-container\"><div class=\"sk-label sk-toggleable\"><input class=\"sk-toggleable__control sk-hidden--visually\" id=\"9260f4c9-e1b1-4c0e-aca3-d31ceeabaa7b\" type=\"checkbox\" ><label class=\"sk-toggleable__label\" for=\"9260f4c9-e1b1-4c0e-aca3-d31ceeabaa7b\">spoken_languages_counts</label><div class=\"sk-toggleable__content\"><pre>['spoken_languages']</pre></div></div></div><div class=\"sk-serial\"><div class=\"sk-item\"><div class=\"sk-serial\"><div class=\"sk-item\"><div class=\"sk-estimator sk-toggleable\"><input class=\"sk-toggleable__control sk-hidden--visually\" id=\"b41b5de0-2868-4349-b6fe-0978f3964fa1\" type=\"checkbox\" ><label class=\"sk-toggleable__label\" for=\"b41b5de0-2868-4349-b6fe-0978f3964fa1\">SimpleImputer</label><div class=\"sk-toggleable__content\"><pre>SimpleImputer(fill_value='[]', strategy='constant')</pre></div></div></div><div class=\"sk-item\"><div class=\"sk-estimator sk-toggleable\"><input class=\"sk-toggleable__control sk-hidden--visually\" id=\"b346e7d0-6e32-41b0-8a1f-69d72358b300\" type=\"checkbox\" ><label class=\"sk-toggleable__label\" for=\"b346e7d0-6e32-41b0-8a1f-69d72358b300\">AttributeCountTransformer</label><div class=\"sk-toggleable__content\"><pre>AttributeCountTransformer()</pre></div></div></div><div class=\"sk-item\"><div class=\"sk-estimator sk-toggleable\"><input class=\"sk-toggleable__control sk-hidden--visually\" id=\"b73a20af-4425-4b28-a1d1-4b1834f2163d\" type=\"checkbox\" ><label class=\"sk-toggleable__label\" for=\"b73a20af-4425-4b28-a1d1-4b1834f2163d\">SimpleImputer</label><div class=\"sk-toggleable__content\"><pre>SimpleImputer(missing_values=0, strategy='median')</pre></div></div></div><div class=\"sk-item\"><div class=\"sk-estimator sk-toggleable\"><input class=\"sk-toggleable__control sk-hidden--visually\" id=\"6978c24a-7aff-441a-a218-f6d0a0ac495e\" type=\"checkbox\" ><label class=\"sk-toggleable__label\" for=\"6978c24a-7aff-441a-a218-f6d0a0ac495e\">StandardScaler</label><div class=\"sk-toggleable__content\"><pre>StandardScaler()</pre></div></div></div></div></div></div></div></div><div class=\"sk-parallel-item\"><div class=\"sk-item\"><div class=\"sk-label-container\"><div class=\"sk-label sk-toggleable\"><input class=\"sk-toggleable__control sk-hidden--visually\" id=\"4a2cbf40-1262-4faf-bb82-96d6f7cdf89a\" type=\"checkbox\" ><label class=\"sk-toggleable__label\" for=\"4a2cbf40-1262-4faf-bb82-96d6f7cdf89a\">genres</label><div class=\"sk-toggleable__content\"><pre>['genres']</pre></div></div></div><div class=\"sk-serial\"><div class=\"sk-item\"><div class=\"sk-serial\"><div class=\"sk-item\"><div class=\"sk-estimator sk-toggleable\"><input class=\"sk-toggleable__control sk-hidden--visually\" id=\"47e9e75b-5a94-40e9-b542-4eb41118e447\" type=\"checkbox\" ><label class=\"sk-toggleable__label\" for=\"47e9e75b-5a94-40e9-b542-4eb41118e447\">SimpleImputer</label><div class=\"sk-toggleable__content\"><pre>SimpleImputer(fill_value='[]', strategy='constant')</pre></div></div></div><div class=\"sk-item\"><div class=\"sk-estimator sk-toggleable\"><input class=\"sk-toggleable__control sk-hidden--visually\" id=\"1e175bad-30f9-422d-985e-ef98936edbd7\" type=\"checkbox\" ><label class=\"sk-toggleable__label\" for=\"1e175bad-30f9-422d-985e-ef98936edbd7\">ExtractionTransformer</label><div class=\"sk-toggleable__content\"><pre>ExtractionTransformer(key='name')</pre></div></div></div><div class=\"sk-item\"><div class=\"sk-estimator sk-toggleable\"><input class=\"sk-toggleable__control sk-hidden--visually\" id=\"4f1b0c1f-b8ca-4e8f-9d08-b9a61e5be8ab\" type=\"checkbox\" ><label class=\"sk-toggleable__label\" for=\"4f1b0c1f-b8ca-4e8f-9d08-b9a61e5be8ab\">MultinomialAttributeTransformer</label><div class=\"sk-toggleable__content\"><pre>MultinomialAttributeTransformer()</pre></div></div></div></div></div></div></div></div><div class=\"sk-parallel-item\"><div class=\"sk-item\"><div class=\"sk-label-container\"><div class=\"sk-label sk-toggleable\"><input class=\"sk-toggleable__control sk-hidden--visually\" id=\"10d6b67d-da91-4e7a-944b-fb01b2349ade\" type=\"checkbox\" ><label class=\"sk-toggleable__label\" for=\"10d6b67d-da91-4e7a-944b-fb01b2349ade\">cast_gender</label><div class=\"sk-toggleable__content\"><pre>['cast']</pre></div></div></div><div class=\"sk-serial\"><div class=\"sk-item\"><div class=\"sk-serial\"><div class=\"sk-item\"><div class=\"sk-estimator sk-toggleable\"><input class=\"sk-toggleable__control sk-hidden--visually\" id=\"3a507c70-186b-4a60-be9a-8c75bf7ac565\" type=\"checkbox\" ><label class=\"sk-toggleable__label\" for=\"3a507c70-186b-4a60-be9a-8c75bf7ac565\">SimpleImputer</label><div class=\"sk-toggleable__content\"><pre>SimpleImputer(fill_value='[]', strategy='constant')</pre></div></div></div><div class=\"sk-item\"><div class=\"sk-estimator sk-toggleable\"><input class=\"sk-toggleable__control sk-hidden--visually\" id=\"0f402891-4e15-4157-88c3-c4ec38be5219\" type=\"checkbox\" ><label class=\"sk-toggleable__label\" for=\"0f402891-4e15-4157-88c3-c4ec38be5219\">ExtractionTransformer</label><div class=\"sk-toggleable__content\"><pre>ExtractionTransformer(key='gender')</pre></div></div></div><div class=\"sk-item\"><div class=\"sk-estimator sk-toggleable\"><input class=\"sk-toggleable__control sk-hidden--visually\" id=\"1be8a99d-816f-4a9d-8c98-a4b41dcb9615\" type=\"checkbox\" ><label class=\"sk-toggleable__label\" for=\"1be8a99d-816f-4a9d-8c98-a4b41dcb9615\">UniqueCountTransformer</label><div class=\"sk-toggleable__content\"><pre>UniqueCountTransformer()</pre></div></div></div><div class=\"sk-item\"><div class=\"sk-estimator sk-toggleable\"><input class=\"sk-toggleable__control sk-hidden--visually\" id=\"64ca7d91-f179-4764-99b6-2e0dc52381c4\" type=\"checkbox\" ><label class=\"sk-toggleable__label\" for=\"64ca7d91-f179-4764-99b6-2e0dc52381c4\">SimpleImputer</label><div class=\"sk-toggleable__content\"><pre>SimpleImputer(fill_value=0, strategy='constant')</pre></div></div></div></div></div></div></div></div><div class=\"sk-parallel-item\"><div class=\"sk-item\"><div class=\"sk-label-container\"><div class=\"sk-label sk-toggleable\"><input class=\"sk-toggleable__control sk-hidden--visually\" id=\"77c572e0-90fe-4a97-82c3-37ead1d7a82c\" type=\"checkbox\" ><label class=\"sk-toggleable__label\" for=\"77c572e0-90fe-4a97-82c3-37ead1d7a82c\">crew_gender</label><div class=\"sk-toggleable__content\"><pre>['crew']</pre></div></div></div><div class=\"sk-serial\"><div class=\"sk-item\"><div class=\"sk-serial\"><div class=\"sk-item\"><div class=\"sk-estimator sk-toggleable\"><input class=\"sk-toggleable__control sk-hidden--visually\" id=\"cb114f36-089c-497c-ba15-b64d116277b4\" type=\"checkbox\" ><label class=\"sk-toggleable__label\" for=\"cb114f36-089c-497c-ba15-b64d116277b4\">SimpleImputer</label><div class=\"sk-toggleable__content\"><pre>SimpleImputer(fill_value='[]', strategy='constant')</pre></div></div></div><div class=\"sk-item\"><div class=\"sk-estimator sk-toggleable\"><input class=\"sk-toggleable__control sk-hidden--visually\" id=\"4e1099e3-6462-4597-a7cd-6e6e8d286f6b\" type=\"checkbox\" ><label class=\"sk-toggleable__label\" for=\"4e1099e3-6462-4597-a7cd-6e6e8d286f6b\">ExtractionTransformer</label><div class=\"sk-toggleable__content\"><pre>ExtractionTransformer(key='gender')</pre></div></div></div><div class=\"sk-item\"><div class=\"sk-estimator sk-toggleable\"><input class=\"sk-toggleable__control sk-hidden--visually\" id=\"549c19b7-f25c-4551-b699-7c97d5487430\" type=\"checkbox\" ><label class=\"sk-toggleable__label\" for=\"549c19b7-f25c-4551-b699-7c97d5487430\">UniqueCountTransformer</label><div class=\"sk-toggleable__content\"><pre>UniqueCountTransformer()</pre></div></div></div><div class=\"sk-item\"><div class=\"sk-estimator sk-toggleable\"><input class=\"sk-toggleable__control sk-hidden--visually\" id=\"84626f47-d3f0-4b92-bb77-cda8abf87b48\" type=\"checkbox\" ><label class=\"sk-toggleable__label\" for=\"84626f47-d3f0-4b92-bb77-cda8abf87b48\">SimpleImputer</label><div class=\"sk-toggleable__content\"><pre>SimpleImputer(fill_value=0, strategy='constant')</pre></div></div></div></div></div></div></div></div><div class=\"sk-parallel-item\"><div class=\"sk-item\"><div class=\"sk-label-container\"><div class=\"sk-label sk-toggleable\"><input class=\"sk-toggleable__control sk-hidden--visually\" id=\"556a693a-753e-4c46-a582-aad76e8ce98e\" type=\"checkbox\" ><label class=\"sk-toggleable__label\" for=\"556a693a-753e-4c46-a582-aad76e8ce98e\">crew_department</label><div class=\"sk-toggleable__content\"><pre>['crew']</pre></div></div></div><div class=\"sk-serial\"><div class=\"sk-item\"><div class=\"sk-serial\"><div class=\"sk-item\"><div class=\"sk-estimator sk-toggleable\"><input class=\"sk-toggleable__control sk-hidden--visually\" id=\"fe765b0f-4d8a-481a-bbab-b1c39cdcb904\" type=\"checkbox\" ><label class=\"sk-toggleable__label\" for=\"fe765b0f-4d8a-481a-bbab-b1c39cdcb904\">SimpleImputer</label><div class=\"sk-toggleable__content\"><pre>SimpleImputer(fill_value='[]', strategy='constant')</pre></div></div></div><div class=\"sk-item\"><div class=\"sk-estimator sk-toggleable\"><input class=\"sk-toggleable__control sk-hidden--visually\" id=\"9e25b897-e15e-4c8a-a9b6-0b66b150c716\" type=\"checkbox\" ><label class=\"sk-toggleable__label\" for=\"9e25b897-e15e-4c8a-a9b6-0b66b150c716\">ExtractionTransformer</label><div class=\"sk-toggleable__content\"><pre>ExtractionTransformer(key='department')</pre></div></div></div><div class=\"sk-item\"><div class=\"sk-estimator sk-toggleable\"><input class=\"sk-toggleable__control sk-hidden--visually\" id=\"bce4cce7-cd7a-497c-96af-0955303427ef\" type=\"checkbox\" ><label class=\"sk-toggleable__label\" for=\"bce4cce7-cd7a-497c-96af-0955303427ef\">UniqueCountTransformer</label><div class=\"sk-toggleable__content\"><pre>UniqueCountTransformer()</pre></div></div></div><div class=\"sk-item\"><div class=\"sk-estimator sk-toggleable\"><input class=\"sk-toggleable__control sk-hidden--visually\" id=\"fc14346a-2f66-4cc9-b465-7d14f27d1b6c\" type=\"checkbox\" ><label class=\"sk-toggleable__label\" for=\"fc14346a-2f66-4cc9-b465-7d14f27d1b6c\">SimpleImputer</label><div class=\"sk-toggleable__content\"><pre>SimpleImputer(fill_value=0, strategy='constant')</pre></div></div></div></div></div></div></div></div><div class=\"sk-parallel-item\"><div class=\"sk-item\"><div class=\"sk-label-container\"><div class=\"sk-label sk-toggleable\"><input class=\"sk-toggleable__control sk-hidden--visually\" id=\"510320b3-5638-45f4-8d97-d6501a67509c\" type=\"checkbox\" ><label class=\"sk-toggleable__label\" for=\"510320b3-5638-45f4-8d97-d6501a67509c\">crew_jobs</label><div class=\"sk-toggleable__content\"><pre>['crew']</pre></div></div></div><div class=\"sk-serial\"><div class=\"sk-item\"><div class=\"sk-serial\"><div class=\"sk-item\"><div class=\"sk-estimator sk-toggleable\"><input class=\"sk-toggleable__control sk-hidden--visually\" id=\"4d832917-b3c9-4c03-8d15-0a236b0f1ac7\" type=\"checkbox\" ><label class=\"sk-toggleable__label\" for=\"4d832917-b3c9-4c03-8d15-0a236b0f1ac7\">SimpleImputer</label><div class=\"sk-toggleable__content\"><pre>SimpleImputer(fill_value='[]', strategy='constant')</pre></div></div></div><div class=\"sk-item\"><div class=\"sk-estimator sk-toggleable\"><input class=\"sk-toggleable__control sk-hidden--visually\" id=\"78877498-fa72-4734-8976-0d03790f094b\" type=\"checkbox\" ><label class=\"sk-toggleable__label\" for=\"78877498-fa72-4734-8976-0d03790f094b\">ExtractionTransformer</label><div class=\"sk-toggleable__content\"><pre>ExtractionTransformer(key='job')</pre></div></div></div><div class=\"sk-item\"><div class=\"sk-estimator sk-toggleable\"><input class=\"sk-toggleable__control sk-hidden--visually\" id=\"b899800d-ee03-41ab-89aa-193e5177b195\" type=\"checkbox\" ><label class=\"sk-toggleable__label\" for=\"b899800d-ee03-41ab-89aa-193e5177b195\">MultinomialAttributeTransformer</label><div class=\"sk-toggleable__content\"><pre>MultinomialAttributeTransformer()</pre></div></div></div></div></div></div></div></div><div class=\"sk-parallel-item\"><div class=\"sk-item\"><div class=\"sk-label-container\"><div class=\"sk-label sk-toggleable\"><input class=\"sk-toggleable__control sk-hidden--visually\" id=\"7073886e-beff-43f8-93b5-3891e0724064\" type=\"checkbox\" ><label class=\"sk-toggleable__label\" for=\"7073886e-beff-43f8-93b5-3891e0724064\">crew_names</label><div class=\"sk-toggleable__content\"><pre>['crew']</pre></div></div></div><div class=\"sk-serial\"><div class=\"sk-item\"><div class=\"sk-serial\"><div class=\"sk-item\"><div class=\"sk-estimator sk-toggleable\"><input class=\"sk-toggleable__control sk-hidden--visually\" id=\"a222fad4-629a-48d5-bdcd-8becafc9b01d\" type=\"checkbox\" ><label class=\"sk-toggleable__label\" for=\"a222fad4-629a-48d5-bdcd-8becafc9b01d\">SimpleImputer</label><div class=\"sk-toggleable__content\"><pre>SimpleImputer(fill_value='[]', strategy='constant')</pre></div></div></div><div class=\"sk-item\"><div class=\"sk-estimator sk-toggleable\"><input class=\"sk-toggleable__control sk-hidden--visually\" id=\"8b92a818-3333-4885-82d9-1534f2a44cdf\" type=\"checkbox\" ><label class=\"sk-toggleable__label\" for=\"8b92a818-3333-4885-82d9-1534f2a44cdf\">ExtractionTransformer</label><div class=\"sk-toggleable__content\"><pre>ExtractionTransformer(key='name')</pre></div></div></div><div class=\"sk-item\"><div class=\"sk-estimator sk-toggleable\"><input class=\"sk-toggleable__control sk-hidden--visually\" id=\"eff0f4f0-4446-4b6b-a1ff-fc1b19200843\" type=\"checkbox\" ><label class=\"sk-toggleable__label\" for=\"eff0f4f0-4446-4b6b-a1ff-fc1b19200843\">MultinomialAttributeTransformer</label><div class=\"sk-toggleable__content\"><pre>MultinomialAttributeTransformer()</pre></div></div></div><div class=\"sk-item\"><div class=\"sk-estimator sk-toggleable\"><input class=\"sk-toggleable__control sk-hidden--visually\" id=\"b4953173-f1ce-49ef-8e7b-732c7dae1b50\" type=\"checkbox\" ><label class=\"sk-toggleable__label\" for=\"b4953173-f1ce-49ef-8e7b-732c7dae1b50\">PCA</label><div class=\"sk-toggleable__content\"><pre>PCA(n_components=100)</pre></div></div></div></div></div></div></div></div><div class=\"sk-parallel-item\"><div class=\"sk-item\"><div class=\"sk-label-container\"><div class=\"sk-label sk-toggleable\"><input class=\"sk-toggleable__control sk-hidden--visually\" id=\"1438630a-1a0a-4eee-82b9-1a63368e4f10\" type=\"checkbox\" ><label class=\"sk-toggleable__label\" for=\"1438630a-1a0a-4eee-82b9-1a63368e4f10\">cast_names</label><div class=\"sk-toggleable__content\"><pre>['cast']</pre></div></div></div><div class=\"sk-serial\"><div class=\"sk-item\"><div class=\"sk-serial\"><div class=\"sk-item\"><div class=\"sk-estimator sk-toggleable\"><input class=\"sk-toggleable__control sk-hidden--visually\" id=\"0ed48711-3514-4e96-8626-7ee547b020b6\" type=\"checkbox\" ><label class=\"sk-toggleable__label\" for=\"0ed48711-3514-4e96-8626-7ee547b020b6\">SimpleImputer</label><div class=\"sk-toggleable__content\"><pre>SimpleImputer(fill_value='[]', strategy='constant')</pre></div></div></div><div class=\"sk-item\"><div class=\"sk-estimator sk-toggleable\"><input class=\"sk-toggleable__control sk-hidden--visually\" id=\"a8c6e192-aa1b-40d5-bfea-e2920408e2d3\" type=\"checkbox\" ><label class=\"sk-toggleable__label\" for=\"a8c6e192-aa1b-40d5-bfea-e2920408e2d3\">ExtractionTransformer</label><div class=\"sk-toggleable__content\"><pre>ExtractionTransformer(key='name')</pre></div></div></div><div class=\"sk-item\"><div class=\"sk-estimator sk-toggleable\"><input class=\"sk-toggleable__control sk-hidden--visually\" id=\"ef4d2813-32f4-4e86-aea5-fe435ea69a70\" type=\"checkbox\" ><label class=\"sk-toggleable__label\" for=\"ef4d2813-32f4-4e86-aea5-fe435ea69a70\">MultinomialAttributeTransformer</label><div class=\"sk-toggleable__content\"><pre>MultinomialAttributeTransformer()</pre></div></div></div><div class=\"sk-item\"><div class=\"sk-estimator sk-toggleable\"><input class=\"sk-toggleable__control sk-hidden--visually\" id=\"10638b7f-6d51-42f4-b940-de1b9d0a070b\" type=\"checkbox\" ><label class=\"sk-toggleable__label\" for=\"10638b7f-6d51-42f4-b940-de1b9d0a070b\">PCA</label><div class=\"sk-toggleable__content\"><pre>PCA(n_components=100)</pre></div></div></div></div></div></div></div></div><div class=\"sk-parallel-item\"><div class=\"sk-item\"><div class=\"sk-label-container\"><div class=\"sk-label sk-toggleable\"><input class=\"sk-toggleable__control sk-hidden--visually\" id=\"6b0d9026-5511-434c-b46f-b6c9d8bc6f0d\" type=\"checkbox\" ><label class=\"sk-toggleable__label\" for=\"6b0d9026-5511-434c-b46f-b6c9d8bc6f0d\">cast_characters</label><div class=\"sk-toggleable__content\"><pre>['cast']</pre></div></div></div><div class=\"sk-serial\"><div class=\"sk-item\"><div class=\"sk-serial\"><div class=\"sk-item\"><div class=\"sk-estimator sk-toggleable\"><input class=\"sk-toggleable__control sk-hidden--visually\" id=\"d3be01ca-344c-4ef7-8e93-74fe8bacd90b\" type=\"checkbox\" ><label class=\"sk-toggleable__label\" for=\"d3be01ca-344c-4ef7-8e93-74fe8bacd90b\">SimpleImputer</label><div class=\"sk-toggleable__content\"><pre>SimpleImputer(fill_value='[]', strategy='constant')</pre></div></div></div><div class=\"sk-item\"><div class=\"sk-estimator sk-toggleable\"><input class=\"sk-toggleable__control sk-hidden--visually\" id=\"d92364f4-1d72-41cf-a927-11dffd59f871\" type=\"checkbox\" ><label class=\"sk-toggleable__label\" for=\"d92364f4-1d72-41cf-a927-11dffd59f871\">ExtractionTransformer</label><div class=\"sk-toggleable__content\"><pre>ExtractionTransformer(key='character')</pre></div></div></div><div class=\"sk-item\"><div class=\"sk-estimator sk-toggleable\"><input class=\"sk-toggleable__control sk-hidden--visually\" id=\"30bee395-354e-465d-bcd7-0aa1d3e079d8\" type=\"checkbox\" ><label class=\"sk-toggleable__label\" for=\"30bee395-354e-465d-bcd7-0aa1d3e079d8\">MultinomialAttributeTransformer</label><div class=\"sk-toggleable__content\"><pre>MultinomialAttributeTransformer()</pre></div></div></div><div class=\"sk-item\"><div class=\"sk-estimator sk-toggleable\"><input class=\"sk-toggleable__control sk-hidden--visually\" id=\"5f8dbe34-27b8-44ef-bbbd-245a7438ce56\" type=\"checkbox\" ><label class=\"sk-toggleable__label\" for=\"5f8dbe34-27b8-44ef-bbbd-245a7438ce56\">PCA</label><div class=\"sk-toggleable__content\"><pre>PCA(n_components=100)</pre></div></div></div></div></div></div></div></div><div class=\"sk-parallel-item\"><div class=\"sk-item\"><div class=\"sk-label-container\"><div class=\"sk-label sk-toggleable\"><input class=\"sk-toggleable__control sk-hidden--visually\" id=\"1ea40257-7f82-4fb0-a3c4-b59333ee452d\" type=\"checkbox\" ><label class=\"sk-toggleable__label\" for=\"1ea40257-7f82-4fb0-a3c4-b59333ee452d\">keywords</label><div class=\"sk-toggleable__content\"><pre>['Keywords']</pre></div></div></div><div class=\"sk-serial\"><div class=\"sk-item\"><div class=\"sk-serial\"><div class=\"sk-item\"><div class=\"sk-estimator sk-toggleable\"><input class=\"sk-toggleable__control sk-hidden--visually\" id=\"0b7b255b-140b-4ff6-b434-11d224af72f1\" type=\"checkbox\" ><label class=\"sk-toggleable__label\" for=\"0b7b255b-140b-4ff6-b434-11d224af72f1\">SimpleImputer</label><div class=\"sk-toggleable__content\"><pre>SimpleImputer(fill_value='[]', strategy='constant')</pre></div></div></div><div class=\"sk-item\"><div class=\"sk-estimator sk-toggleable\"><input class=\"sk-toggleable__control sk-hidden--visually\" id=\"02ef579f-5fd9-495c-9867-f9c594144172\" type=\"checkbox\" ><label class=\"sk-toggleable__label\" for=\"02ef579f-5fd9-495c-9867-f9c594144172\">ExtractionTransformer</label><div class=\"sk-toggleable__content\"><pre>ExtractionTransformer(key='name')</pre></div></div></div><div class=\"sk-item\"><div class=\"sk-estimator sk-toggleable\"><input class=\"sk-toggleable__control sk-hidden--visually\" id=\"0e34e5d6-aec2-4e71-9ac1-978f6246bd2b\" type=\"checkbox\" ><label class=\"sk-toggleable__label\" for=\"0e34e5d6-aec2-4e71-9ac1-978f6246bd2b\">MultinomialAttributeTransformer</label><div class=\"sk-toggleable__content\"><pre>MultinomialAttributeTransformer()</pre></div></div></div><div class=\"sk-item\"><div class=\"sk-estimator sk-toggleable\"><input class=\"sk-toggleable__control sk-hidden--visually\" id=\"0b4b66eb-6e9d-4458-8358-f0189785900f\" type=\"checkbox\" ><label class=\"sk-toggleable__label\" for=\"0b4b66eb-6e9d-4458-8358-f0189785900f\">PCA</label><div class=\"sk-toggleable__content\"><pre>PCA(n_components=100)</pre></div></div></div></div></div></div></div></div><div class=\"sk-parallel-item\"><div class=\"sk-item\"><div class=\"sk-label-container\"><div class=\"sk-label sk-toggleable\"><input class=\"sk-toggleable__control sk-hidden--visually\" id=\"dcf07782-369f-4f8d-88ed-b5608e24e317\" type=\"checkbox\" ><label class=\"sk-toggleable__label\" for=\"dcf07782-369f-4f8d-88ed-b5608e24e317\">spoken_languages</label><div class=\"sk-toggleable__content\"><pre>['spoken_languages']</pre></div></div></div><div class=\"sk-serial\"><div class=\"sk-item\"><div class=\"sk-serial\"><div class=\"sk-item\"><div class=\"sk-estimator sk-toggleable\"><input class=\"sk-toggleable__control sk-hidden--visually\" id=\"d75133ef-cb46-4bf1-92c6-6f70580ab9fa\" type=\"checkbox\" ><label class=\"sk-toggleable__label\" for=\"d75133ef-cb46-4bf1-92c6-6f70580ab9fa\">SimpleImputer</label><div class=\"sk-toggleable__content\"><pre>SimpleImputer(fill_value='[]', strategy='constant')</pre></div></div></div><div class=\"sk-item\"><div class=\"sk-estimator sk-toggleable\"><input class=\"sk-toggleable__control sk-hidden--visually\" id=\"d8184dc8-c576-4b4a-a8c8-79603d0c9b0a\" type=\"checkbox\" ><label class=\"sk-toggleable__label\" for=\"d8184dc8-c576-4b4a-a8c8-79603d0c9b0a\">ExtractionTransformer</label><div class=\"sk-toggleable__content\"><pre>ExtractionTransformer(key='name')</pre></div></div></div><div class=\"sk-item\"><div class=\"sk-estimator sk-toggleable\"><input class=\"sk-toggleable__control sk-hidden--visually\" id=\"8924fe23-3637-4562-8369-ef1626696aec\" type=\"checkbox\" ><label class=\"sk-toggleable__label\" for=\"8924fe23-3637-4562-8369-ef1626696aec\">MultinomialAttributeTransformer</label><div class=\"sk-toggleable__content\"><pre>MultinomialAttributeTransformer()</pre></div></div></div></div></div></div></div></div><div class=\"sk-parallel-item\"><div class=\"sk-item\"><div class=\"sk-label-container\"><div class=\"sk-label sk-toggleable\"><input class=\"sk-toggleable__control sk-hidden--visually\" id=\"4301c4ac-7f81-4b67-9358-5dbdd77bc8b9\" type=\"checkbox\" ><label class=\"sk-toggleable__label\" for=\"4301c4ac-7f81-4b67-9358-5dbdd77bc8b9\">production_countries</label><div class=\"sk-toggleable__content\"><pre>['production_countries']</pre></div></div></div><div class=\"sk-serial\"><div class=\"sk-item\"><div class=\"sk-serial\"><div class=\"sk-item\"><div class=\"sk-estimator sk-toggleable\"><input class=\"sk-toggleable__control sk-hidden--visually\" id=\"2a58b26b-f396-4479-a0bd-9bc7ef04b06c\" type=\"checkbox\" ><label class=\"sk-toggleable__label\" for=\"2a58b26b-f396-4479-a0bd-9bc7ef04b06c\">SimpleImputer</label><div class=\"sk-toggleable__content\"><pre>SimpleImputer(fill_value='[]', strategy='constant')</pre></div></div></div><div class=\"sk-item\"><div class=\"sk-estimator sk-toggleable\"><input class=\"sk-toggleable__control sk-hidden--visually\" id=\"f768d86f-b50d-4719-9013-04cf769e8014\" type=\"checkbox\" ><label class=\"sk-toggleable__label\" for=\"f768d86f-b50d-4719-9013-04cf769e8014\">ExtractionTransformer</label><div class=\"sk-toggleable__content\"><pre>ExtractionTransformer(key='name')</pre></div></div></div><div class=\"sk-item\"><div class=\"sk-estimator sk-toggleable\"><input class=\"sk-toggleable__control sk-hidden--visually\" id=\"5ab271d6-1c83-4917-a859-4dab83efd8e1\" type=\"checkbox\" ><label class=\"sk-toggleable__label\" for=\"5ab271d6-1c83-4917-a859-4dab83efd8e1\">MultinomialAttributeTransformer</label><div class=\"sk-toggleable__content\"><pre>MultinomialAttributeTransformer()</pre></div></div></div></div></div></div></div></div><div class=\"sk-parallel-item\"><div class=\"sk-item\"><div class=\"sk-label-container\"><div class=\"sk-label sk-toggleable\"><input class=\"sk-toggleable__control sk-hidden--visually\" id=\"0b1d6f72-26b1-4753-a1f1-1058043782f6\" type=\"checkbox\" ><label class=\"sk-toggleable__label\" for=\"0b1d6f72-26b1-4753-a1f1-1058043782f6\">production_companies</label><div class=\"sk-toggleable__content\"><pre>['production_companies']</pre></div></div></div><div class=\"sk-serial\"><div class=\"sk-item\"><div class=\"sk-serial\"><div class=\"sk-item\"><div class=\"sk-estimator sk-toggleable\"><input class=\"sk-toggleable__control sk-hidden--visually\" id=\"3d2e3af6-c8c2-4ed5-940b-aa44cd782206\" type=\"checkbox\" ><label class=\"sk-toggleable__label\" for=\"3d2e3af6-c8c2-4ed5-940b-aa44cd782206\">SimpleImputer</label><div class=\"sk-toggleable__content\"><pre>SimpleImputer(fill_value='[]', strategy='constant')</pre></div></div></div><div class=\"sk-item\"><div class=\"sk-estimator sk-toggleable\"><input class=\"sk-toggleable__control sk-hidden--visually\" id=\"42f8e808-7bbd-4d1d-990e-e7794cf0cca9\" type=\"checkbox\" ><label class=\"sk-toggleable__label\" for=\"42f8e808-7bbd-4d1d-990e-e7794cf0cca9\">ExtractionTransformer</label><div class=\"sk-toggleable__content\"><pre>ExtractionTransformer(key='name')</pre></div></div></div><div class=\"sk-item\"><div class=\"sk-estimator sk-toggleable\"><input class=\"sk-toggleable__control sk-hidden--visually\" id=\"9d710e86-e46f-4f3e-9a9b-53db6a09964f\" type=\"checkbox\" ><label class=\"sk-toggleable__label\" for=\"9d710e86-e46f-4f3e-9a9b-53db6a09964f\">MultinomialAttributeTransformer</label><div class=\"sk-toggleable__content\"><pre>MultinomialAttributeTransformer()</pre></div></div></div><div class=\"sk-item\"><div class=\"sk-estimator sk-toggleable\"><input class=\"sk-toggleable__control sk-hidden--visually\" id=\"5251a69c-a225-4d60-aad1-5c1a210104f5\" type=\"checkbox\" ><label class=\"sk-toggleable__label\" for=\"5251a69c-a225-4d60-aad1-5c1a210104f5\">PCA</label><div class=\"sk-toggleable__content\"><pre>PCA(n_components=100)</pre></div></div></div></div></div></div></div></div></div></div><div class=\"sk-item\"><div class=\"sk-estimator sk-toggleable\"><input class=\"sk-toggleable__control sk-hidden--visually\" id=\"978bdad8-3ccc-47c4-9300-7dcb2c746d39\" type=\"checkbox\" ><label class=\"sk-toggleable__label\" for=\"978bdad8-3ccc-47c4-9300-7dcb2c746d39\">RandomForestRegressor</label><div class=\"sk-toggleable__content\"><pre>RandomForestRegressor(max_depth=40, min_samples_leaf=10, n_jobs=4)</pre></div></div></div></div></div></div></div></div></div></div></div></div>"
      ],
      "text/plain": [
       "ConditionalPredictor(make_mask=<function make_mask at 0x17ebe2040>,\n",
       "                     pipelineA=Pipeline(steps=[('prep_A',\n",
       "                                                ColumnTransformer(transformers=[('popularity',\n",
       "                                                                                 Pipeline(steps=[('simpleimputer',\n",
       "                                                                                                  SimpleImputer(strategy='median')),\n",
       "                                                                                                 ('standardscaler',\n",
       "                                                                                                  StandardScaler())]),\n",
       "                                                                                 ['popularity']),\n",
       "                                                                                ('runtime',\n",
       "                                                                                 Pipeline(steps=[('pipeline',\n",
       "                                                                                                  Pipeline(steps=[('simpleimputer-1',\n",
       "                                                                                                                   SimpleImp...\n",
       "                                                                                 Pipeline(steps=[('simpleimputer',\n",
       "                                                                                                  SimpleImputer(fill_value='[]',\n",
       "                                                                                                                strategy='constant')),\n",
       "                                                                                                 ('extractiontransformer',\n",
       "                                                                                                  ExtractionTransformer(key='name')),\n",
       "                                                                                                 ('multinomialattributetransformer',\n",
       "                                                                                                  MultinomialAttributeTransformer()),\n",
       "                                                                                                 ('pca',\n",
       "                                                                                                  PCA(n_components=100))]),\n",
       "                                                                                 ['production_companies'])])),\n",
       "                                               ('model',\n",
       "                                                RandomForestRegressor(max_depth=40,\n",
       "                                                                      min_samples_leaf=10,\n",
       "                                                                      n_jobs=4))]),\n",
       "                     thresh=50)"
      ]
     },
     "execution_count": 87,
     "metadata": {},
     "output_type": "execute_result"
    }
   ],
   "source": [
    "featurePipelines = FeaturePipelines()\n",
    "\n",
    "prep_pipeline_A = ColumnTransformer(featurePipelines.get_config(include_budget=False), remainder='drop')\n",
    "prep_pipeline_B = ColumnTransformer(featurePipelines.get_config(), remainder='drop')\n",
    "\n",
    "full_pipeline_A = Pipeline([('prep_A', prep_pipeline_A), ('model', RandomForestRegressor(max_depth=40, min_samples_leaf=10, n_jobs=4))])\n",
    "full_pipeline_B = Pipeline([('prep_B', prep_pipeline_B), ('model', RandomForestRegressor(max_depth=40, min_samples_leaf=10, n_jobs=4))])\n",
    "\n",
    "base_pipeline = ConditionalPredictor(full_pipeline_A, full_pipeline_B, make_mask, 50)\n",
    "base_pipeline.fit(X_train, y_train)"
   ]
  },
  {
   "cell_type": "markdown",
   "id": "9847beb2-fe7e-47be-8c8b-5bf02f8f6db7",
   "metadata": {},
   "source": [
    "### Evaluation"
   ]
  },
  {
   "cell_type": "code",
   "execution_count": 88,
   "id": "3eb00b33-e95a-4dee-8cfa-2d9297c669f7",
   "metadata": {},
   "outputs": [],
   "source": [
    "expLog = pd.DataFrame(columns=[\"exp_name\", \n",
    "                               \"Train MSE\",\n",
    "                               \"Train MSE-A\",\n",
    "                               \"Train MSE-B\",\n",
    "                               \"Valid MSE\",\n",
    "                               \"Valid MSE-A\",\n",
    "                               \"Valid MSE-B\",\n",
    "                               \"Test  MSE\",\n",
    "                               \"Test MSE-A\",\n",
    "                               \"Test MSE-B\",\n",
    "                              ])"
   ]
  },
  {
   "cell_type": "code",
   "execution_count": 89,
   "id": "8a3b274b-f546-4e2e-bd07-159e8c989798",
   "metadata": {},
   "outputs": [
    {
     "data": {
      "text/html": [
       "<div>\n",
       "<style scoped>\n",
       "    .dataframe tbody tr th:only-of-type {\n",
       "        vertical-align: middle;\n",
       "    }\n",
       "\n",
       "    .dataframe tbody tr th {\n",
       "        vertical-align: top;\n",
       "    }\n",
       "\n",
       "    .dataframe thead th {\n",
       "        text-align: right;\n",
       "    }\n",
       "</style>\n",
       "<table border=\"1\" class=\"dataframe\">\n",
       "  <thead>\n",
       "    <tr style=\"text-align: right;\">\n",
       "      <th></th>\n",
       "      <th>exp_name</th>\n",
       "      <th>Train MSE</th>\n",
       "      <th>Train MSE-A</th>\n",
       "      <th>Train MSE-B</th>\n",
       "      <th>Valid MSE</th>\n",
       "      <th>Valid MSE-A</th>\n",
       "      <th>Valid MSE-B</th>\n",
       "      <th>Test  MSE</th>\n",
       "      <th>Test MSE-A</th>\n",
       "      <th>Test MSE-B</th>\n",
       "    </tr>\n",
       "  </thead>\n",
       "  <tbody>\n",
       "    <tr>\n",
       "      <th>0</th>\n",
       "      <td>RFC_1092_features</td>\n",
       "      <td>1.5088</td>\n",
       "      <td>2.1596</td>\n",
       "      <td>1.1732</td>\n",
       "      <td>0.0</td>\n",
       "      <td>0.0</td>\n",
       "      <td>0.0</td>\n",
       "      <td>2.1477</td>\n",
       "      <td>2.7241</td>\n",
       "      <td>1.8763</td>\n",
       "    </tr>\n",
       "  </tbody>\n",
       "</table>\n",
       "</div>"
      ],
      "text/plain": [
       "            exp_name  Train MSE  Train MSE-A  Train MSE-B  Valid MSE  \\\n",
       "0  RFC_1092_features     1.5088       2.1596       1.1732        0.0   \n",
       "\n",
       "   Valid MSE-A  Valid MSE-B  Test  MSE  Test MSE-A  Test MSE-B  \n",
       "0          0.0          0.0     2.1477      2.7241      1.8763  "
      ]
     },
     "execution_count": 89,
     "metadata": {},
     "output_type": "execute_result"
    }
   ],
   "source": [
    "features = featurePipelines.get_features(prep_pipeline_B, include_budget=True)\n",
    "\n",
    "exp_name = f\"RFC_{len(features)}_features\"\n",
    "scores = {}\n",
    "\n",
    "\n",
    "scores['test'] = base_pipeline.score(y_test, base_pipeline.predict(X_test))\n",
    "scores['train'] = base_pipeline.score(y_train, base_pipeline.predict(X_train))\n",
    "\n",
    "\n",
    "expLog.loc[len(expLog)] = [f\"{exp_name}\"] + list(np.round([*scores['train'], 0,0,0, *scores['test']], 4)) \n",
    "expLog\n",
    "\n"
   ]
  },
  {
   "attachments": {
    "f428bf3b-78a6-4c76-9dcf-b6b0435b9f71.png": {
     "image/png": "[encoded data removed]"
    }
   },
   "cell_type": "markdown",
   "id": "92552e07-406f-459a-861b-f6ed5a522b6f",
   "metadata": {},
   "source": [
    "![image.png](attachment:f428bf3b-78a6-4c76-9dcf-b6b0435b9f71.png)"
   ]
  },
  {
   "attachments": {
    "5d70e24f-6e82-46bb-8add-d25e30922358.png": {
     "image/png": "[encoded data removed]"
    }
   },
   "cell_type": "markdown",
   "id": "30d80215-5907-4fed-bc8a-84b0b2e7f2f1",
   "metadata": {},
   "source": [
    "![image.png](attachment:5d70e24f-6e82-46bb-8add-d25e30922358.png)"
   ]
  },
  {
   "cell_type": "markdown",
   "id": "0575e448-a9a1-4c55-944a-6a1a5b746d82",
   "metadata": {},
   "source": [
    "### Feature importance of pipeline without budget"
   ]
  },
  {
   "cell_type": "code",
   "execution_count": 90,
   "id": "070fbe0f-3ceb-4d6f-9aa3-cda17021bec6",
   "metadata": {},
   "outputs": [
    {
     "data": {
      "text/html": [
       "<div>\n",
       "<style scoped>\n",
       "    .dataframe tbody tr th:only-of-type {\n",
       "        vertical-align: middle;\n",
       "    }\n",
       "\n",
       "    .dataframe tbody tr th {\n",
       "        vertical-align: top;\n",
       "    }\n",
       "\n",
       "    .dataframe thead th {\n",
       "        text-align: right;\n",
       "    }\n",
       "</style>\n",
       "<table border=\"1\" class=\"dataframe\">\n",
       "  <thead>\n",
       "    <tr style=\"text-align: right;\">\n",
       "      <th></th>\n",
       "      <th>0</th>\n",
       "      <th>imp_cumsum</th>\n",
       "    </tr>\n",
       "  </thead>\n",
       "  <tbody>\n",
       "    <tr>\n",
       "      <th>popularity</th>\n",
       "      <td>0.14</td>\n",
       "      <td>0.14</td>\n",
       "    </tr>\n",
       "    <tr>\n",
       "      <th>prod_compnaies_54</th>\n",
       "      <td>0.07</td>\n",
       "      <td>0.21</td>\n",
       "    </tr>\n",
       "    <tr>\n",
       "      <th>release_year</th>\n",
       "      <td>0.04</td>\n",
       "      <td>0.26</td>\n",
       "    </tr>\n",
       "    <tr>\n",
       "      <th>cast_names_73</th>\n",
       "      <td>0.02</td>\n",
       "      <td>0.27</td>\n",
       "    </tr>\n",
       "    <tr>\n",
       "      <th>prod_compnaies_51</th>\n",
       "      <td>0.01</td>\n",
       "      <td>0.28</td>\n",
       "    </tr>\n",
       "    <tr>\n",
       "      <th>cast_char_96</th>\n",
       "      <td>0.01</td>\n",
       "      <td>0.29</td>\n",
       "    </tr>\n",
       "    <tr>\n",
       "      <th>prod_compnaies_44</th>\n",
       "      <td>0.01</td>\n",
       "      <td>0.30</td>\n",
       "    </tr>\n",
       "    <tr>\n",
       "      <th>cast_char_41</th>\n",
       "      <td>0.01</td>\n",
       "      <td>0.31</td>\n",
       "    </tr>\n",
       "    <tr>\n",
       "      <th>prod_compnaies_46</th>\n",
       "      <td>0.01</td>\n",
       "      <td>0.32</td>\n",
       "    </tr>\n",
       "    <tr>\n",
       "      <th>cast_gender_2</th>\n",
       "      <td>0.01</td>\n",
       "      <td>0.32</td>\n",
       "    </tr>\n",
       "    <tr>\n",
       "      <th>cast_char_70</th>\n",
       "      <td>0.01</td>\n",
       "      <td>0.33</td>\n",
       "    </tr>\n",
       "    <tr>\n",
       "      <th>kw_51</th>\n",
       "      <td>0.01</td>\n",
       "      <td>0.33</td>\n",
       "    </tr>\n",
       "    <tr>\n",
       "      <th>crew_names_27</th>\n",
       "      <td>0.01</td>\n",
       "      <td>0.34</td>\n",
       "    </tr>\n",
       "    <tr>\n",
       "      <th>crew_names_89</th>\n",
       "      <td>0.01</td>\n",
       "      <td>0.34</td>\n",
       "    </tr>\n",
       "    <tr>\n",
       "      <th>crew_names_92</th>\n",
       "      <td>0.01</td>\n",
       "      <td>0.35</td>\n",
       "    </tr>\n",
       "    <tr>\n",
       "      <th>cast_char_11</th>\n",
       "      <td>0.01</td>\n",
       "      <td>0.35</td>\n",
       "    </tr>\n",
       "    <tr>\n",
       "      <th>cast_char_88</th>\n",
       "      <td>0.01</td>\n",
       "      <td>0.36</td>\n",
       "    </tr>\n",
       "    <tr>\n",
       "      <th>cast_char_100</th>\n",
       "      <td>0.01</td>\n",
       "      <td>0.36</td>\n",
       "    </tr>\n",
       "    <tr>\n",
       "      <th>prod_compnaies_96</th>\n",
       "      <td>0.00</td>\n",
       "      <td>0.37</td>\n",
       "    </tr>\n",
       "    <tr>\n",
       "      <th>prod_compnaies_13</th>\n",
       "      <td>0.00</td>\n",
       "      <td>0.37</td>\n",
       "    </tr>\n",
       "    <tr>\n",
       "      <th>cast_char_81</th>\n",
       "      <td>0.00</td>\n",
       "      <td>0.38</td>\n",
       "    </tr>\n",
       "    <tr>\n",
       "      <th>cast_char_30</th>\n",
       "      <td>0.00</td>\n",
       "      <td>0.38</td>\n",
       "    </tr>\n",
       "    <tr>\n",
       "      <th>prod_compnaies_17</th>\n",
       "      <td>0.00</td>\n",
       "      <td>0.39</td>\n",
       "    </tr>\n",
       "    <tr>\n",
       "      <th>prod_compnaies_1</th>\n",
       "      <td>0.00</td>\n",
       "      <td>0.39</td>\n",
       "    </tr>\n",
       "    <tr>\n",
       "      <th>cast_char_92</th>\n",
       "      <td>0.00</td>\n",
       "      <td>0.40</td>\n",
       "    </tr>\n",
       "  </tbody>\n",
       "</table>\n",
       "</div>"
      ],
      "text/plain": [
       "                      0  imp_cumsum\n",
       "popularity         0.14        0.14\n",
       "prod_compnaies_54  0.07        0.21\n",
       "release_year       0.04        0.26\n",
       "cast_names_73      0.02        0.27\n",
       "prod_compnaies_51  0.01        0.28\n",
       "cast_char_96       0.01        0.29\n",
       "prod_compnaies_44  0.01        0.30\n",
       "cast_char_41       0.01        0.31\n",
       "prod_compnaies_46  0.01        0.32\n",
       "cast_gender_2      0.01        0.32\n",
       "cast_char_70       0.01        0.33\n",
       "kw_51              0.01        0.33\n",
       "crew_names_27      0.01        0.34\n",
       "crew_names_89      0.01        0.34\n",
       "crew_names_92      0.01        0.35\n",
       "cast_char_11       0.01        0.35\n",
       "cast_char_88       0.01        0.36\n",
       "cast_char_100      0.01        0.36\n",
       "prod_compnaies_96  0.00        0.37\n",
       "prod_compnaies_13  0.00        0.37\n",
       "cast_char_81       0.00        0.38\n",
       "cast_char_30       0.00        0.38\n",
       "prod_compnaies_17  0.00        0.39\n",
       "prod_compnaies_1   0.00        0.39\n",
       "cast_char_92       0.00        0.40"
      ]
     },
     "execution_count": 90,
     "metadata": {},
     "output_type": "execute_result"
    }
   ],
   "source": [
    "rfr = base_pipeline.pipelineA.named_steps['model']\n",
    "feat_imp = pd.DataFrame(rfr.feature_importances_.reshape(1, -1), columns=featurePipelines.get_features(prep_pipeline_A, include_budget=False))\n",
    "feat_imp_sorted = feat_imp.T.sort_values(by=0, ascending=False)\n",
    "feat_imp_sorted['imp_cumsum'] = feat_imp_sorted.cumsum()\n",
    "np.round(feat_imp_sorted.iloc[:25],2)"
   ]
  },
  {
   "cell_type": "markdown",
   "id": "1cd426ff-4fb2-439f-9f76-8ed26d0cbf22",
   "metadata": {},
   "source": [
    "### Feature importance of pipeline with budget"
   ]
  },
  {
   "cell_type": "code",
   "execution_count": 91,
   "id": "cc66f65d-a13f-4fb4-9899-772122318f36",
   "metadata": {},
   "outputs": [
    {
     "data": {
      "text/html": [
       "<div>\n",
       "<style scoped>\n",
       "    .dataframe tbody tr th:only-of-type {\n",
       "        vertical-align: middle;\n",
       "    }\n",
       "\n",
       "    .dataframe tbody tr th {\n",
       "        vertical-align: top;\n",
       "    }\n",
       "\n",
       "    .dataframe thead th {\n",
       "        text-align: right;\n",
       "    }\n",
       "</style>\n",
       "<table border=\"1\" class=\"dataframe\">\n",
       "  <thead>\n",
       "    <tr style=\"text-align: right;\">\n",
       "      <th></th>\n",
       "      <th>0</th>\n",
       "      <th>imp_cumsum</th>\n",
       "    </tr>\n",
       "  </thead>\n",
       "  <tbody>\n",
       "    <tr>\n",
       "      <th>budget</th>\n",
       "      <td>0.48</td>\n",
       "      <td>0.48</td>\n",
       "    </tr>\n",
       "    <tr>\n",
       "      <th>popularity</th>\n",
       "      <td>0.13</td>\n",
       "      <td>0.60</td>\n",
       "    </tr>\n",
       "    <tr>\n",
       "      <th>prod_compnaies_20</th>\n",
       "      <td>0.01</td>\n",
       "      <td>0.61</td>\n",
       "    </tr>\n",
       "    <tr>\n",
       "      <th>prod_compnaies_23</th>\n",
       "      <td>0.01</td>\n",
       "      <td>0.62</td>\n",
       "    </tr>\n",
       "    <tr>\n",
       "      <th>cast_names_99</th>\n",
       "      <td>0.01</td>\n",
       "      <td>0.63</td>\n",
       "    </tr>\n",
       "    <tr>\n",
       "      <th>release_year</th>\n",
       "      <td>0.01</td>\n",
       "      <td>0.63</td>\n",
       "    </tr>\n",
       "    <tr>\n",
       "      <th>cast_names_20</th>\n",
       "      <td>0.01</td>\n",
       "      <td>0.64</td>\n",
       "    </tr>\n",
       "    <tr>\n",
       "      <th>cast_counts</th>\n",
       "      <td>0.00</td>\n",
       "      <td>0.64</td>\n",
       "    </tr>\n",
       "    <tr>\n",
       "      <th>prod_compnaies_56</th>\n",
       "      <td>0.00</td>\n",
       "      <td>0.65</td>\n",
       "    </tr>\n",
       "    <tr>\n",
       "      <th>prod_compnaies_59</th>\n",
       "      <td>0.00</td>\n",
       "      <td>0.65</td>\n",
       "    </tr>\n",
       "    <tr>\n",
       "      <th>cast_names_17</th>\n",
       "      <td>0.00</td>\n",
       "      <td>0.65</td>\n",
       "    </tr>\n",
       "    <tr>\n",
       "      <th>cast_char_89</th>\n",
       "      <td>0.00</td>\n",
       "      <td>0.66</td>\n",
       "    </tr>\n",
       "    <tr>\n",
       "      <th>runtime</th>\n",
       "      <td>0.00</td>\n",
       "      <td>0.66</td>\n",
       "    </tr>\n",
       "    <tr>\n",
       "      <th>crew_gender_2</th>\n",
       "      <td>0.00</td>\n",
       "      <td>0.66</td>\n",
       "    </tr>\n",
       "    <tr>\n",
       "      <th>crew_names_57</th>\n",
       "      <td>0.00</td>\n",
       "      <td>0.67</td>\n",
       "    </tr>\n",
       "    <tr>\n",
       "      <th>cast_char_45</th>\n",
       "      <td>0.00</td>\n",
       "      <td>0.67</td>\n",
       "    </tr>\n",
       "    <tr>\n",
       "      <th>crew_names_18</th>\n",
       "      <td>0.00</td>\n",
       "      <td>0.67</td>\n",
       "    </tr>\n",
       "    <tr>\n",
       "      <th>keywords_counts</th>\n",
       "      <td>0.00</td>\n",
       "      <td>0.68</td>\n",
       "    </tr>\n",
       "    <tr>\n",
       "      <th>kw_8</th>\n",
       "      <td>0.00</td>\n",
       "      <td>0.68</td>\n",
       "    </tr>\n",
       "    <tr>\n",
       "      <th>prod_compnaies_80</th>\n",
       "      <td>0.00</td>\n",
       "      <td>0.68</td>\n",
       "    </tr>\n",
       "    <tr>\n",
       "      <th>cast_names_53</th>\n",
       "      <td>0.00</td>\n",
       "      <td>0.68</td>\n",
       "    </tr>\n",
       "    <tr>\n",
       "      <th>cast_char_94</th>\n",
       "      <td>0.00</td>\n",
       "      <td>0.69</td>\n",
       "    </tr>\n",
       "    <tr>\n",
       "      <th>prod_compnaies_18</th>\n",
       "      <td>0.00</td>\n",
       "      <td>0.69</td>\n",
       "    </tr>\n",
       "    <tr>\n",
       "      <th>cast_char_99</th>\n",
       "      <td>0.00</td>\n",
       "      <td>0.69</td>\n",
       "    </tr>\n",
       "    <tr>\n",
       "      <th>kw_93</th>\n",
       "      <td>0.00</td>\n",
       "      <td>0.69</td>\n",
       "    </tr>\n",
       "  </tbody>\n",
       "</table>\n",
       "</div>"
      ],
      "text/plain": [
       "                      0  imp_cumsum\n",
       "budget             0.48        0.48\n",
       "popularity         0.13        0.60\n",
       "prod_compnaies_20  0.01        0.61\n",
       "prod_compnaies_23  0.01        0.62\n",
       "cast_names_99      0.01        0.63\n",
       "release_year       0.01        0.63\n",
       "cast_names_20      0.01        0.64\n",
       "cast_counts        0.00        0.64\n",
       "prod_compnaies_56  0.00        0.65\n",
       "prod_compnaies_59  0.00        0.65\n",
       "cast_names_17      0.00        0.65\n",
       "cast_char_89       0.00        0.66\n",
       "runtime            0.00        0.66\n",
       "crew_gender_2      0.00        0.66\n",
       "crew_names_57      0.00        0.67\n",
       "cast_char_45       0.00        0.67\n",
       "crew_names_18      0.00        0.67\n",
       "keywords_counts    0.00        0.68\n",
       "kw_8               0.00        0.68\n",
       "prod_compnaies_80  0.00        0.68\n",
       "cast_names_53      0.00        0.68\n",
       "cast_char_94       0.00        0.69\n",
       "prod_compnaies_18  0.00        0.69\n",
       "cast_char_99       0.00        0.69\n",
       "kw_93              0.00        0.69"
      ]
     },
     "execution_count": 91,
     "metadata": {},
     "output_type": "execute_result"
    }
   ],
   "source": [
    "rfr = base_pipeline.pipelineB.named_steps['model']\n",
    "feat_imp = pd.DataFrame(rfr.feature_importances_.reshape(1, -1), columns=featurePipelines.get_features(prep_pipeline_B, include_budget=True))\n",
    "feat_imp_sorted = feat_imp.T.sort_values(by=0, ascending=False)\n",
    "feat_imp_sorted['imp_cumsum'] = feat_imp_sorted.cumsum()\n",
    "np.round(feat_imp_sorted.iloc[:25], 2)"
   ]
  },
  {
   "cell_type": "code",
   "execution_count": null,
   "id": "abfb12e6-d06d-4569-b387-40672f03a674",
   "metadata": {},
   "outputs": [],
   "source": [
    "featurePipelines.get_features(prep_pipeline_B, include_budget=True)"
   ]
  },
  {
   "cell_type": "markdown",
   "id": "61dada4e-d912-4a2c-ae24-a6909f4d31f1",
   "metadata": {},
   "source": [
    "## Kaggle Submission"
   ]
  },
  {
   "cell_type": "code",
   "execution_count": 217,
   "id": "263e986a-ccf5-44a1-bf96-287470cba6a1",
   "metadata": {},
   "outputs": [
    {
     "name": "stdout",
     "output_type": "stream",
     "text": [
      "kaggle competitions submit -c tmdb-box-office-prediction -f predictions/RFC_286_features.csv -m \"RFC_286_features\"\n"
     ]
    }
   ],
   "source": [
    "make_submission_file(exp_name, base_pipeline, X, y, test_data, 'data/sample_submission.csv', 'predictions')"
   ]
  },
  {
   "cell_type": "code",
   "execution_count": 218,
   "id": "36f1702b-b6bd-4d0c-8991-25283ac919f8",
   "metadata": {},
   "outputs": [
    {
     "name": "stdout",
     "output_type": "stream",
     "text": [
      "100%|████████████████████████████████████████| 100k/100k [00:01<00:00, 81.2kB/s]\n",
      "Successfully submitted to TMDB Box Office Prediction"
     ]
    }
   ],
   "source": [
    "!kaggle competitions submit -c tmdb-box-office-prediction -f predictions/RFC_286_features.csv -m \"RFC_286_features\""
   ]
  },
  {
   "cell_type": "code",
   "execution_count": null,
   "id": "f7c2e177-2b72-43bf-9667-40029914ec51",
   "metadata": {},
   "outputs": [],
   "source": []
  },
  {
   "cell_type": "code",
   "execution_count": null,
   "id": "53e59cd6-74c2-4545-9468-4c149dae3e5e",
   "metadata": {},
   "outputs": [],
   "source": []
  },
  {
   "cell_type": "markdown",
   "id": "b096a224-28bd-4683-be6a-065e3781456d",
   "metadata": {},
   "source": [
    "## Feature Selection"
   ]
  },
  {
   "cell_type": "code",
   "execution_count": 176,
   "id": "42d766d7-e9cb-40e3-a4aa-624d195a6396",
   "metadata": {},
   "outputs": [],
   "source": [
    "class FeatureSelectionPipelines():\n",
    "    def __init__(self):\n",
    "        pass\n",
    "        \n",
    "    def get_config(self, include_budget=True):\n",
    "        common_config = [\n",
    "            ('popularity', make_pipeline(\n",
    "                SimpleImputer(strategy='median'), \n",
    "                StandardScaler()\n",
    "            ), ['popularity']),\n",
    "\n",
    "            ('runtime', make_pipeline(\n",
    "                RuntimeImputer, \n",
    "                StandardScaler()\n",
    "            ), ['runtime']),\n",
    "\n",
    "            ('release_date', make_pipeline(\n",
    "                SimpleImputer(strategy='most_frequent'), \n",
    "                ReleaseDateTransformer()\n",
    "            ), ['release_date']), \n",
    "            \n",
    "            ('original_language+status', make_pipeline(\n",
    "                SimpleImputer(strategy='most_frequent'), \n",
    "                OneHotEncoder(handle_unknown='ignore')\n",
    "            ), ['original_language', 'status']),\n",
    "            \n",
    "            ('homepage+tagline', presenceBinarizer\n",
    "             , ['homepage', 'tagline']),\n",
    "            \n",
    "            ('genres_counts', make_attribute_count_pipeline(), ['genres']),\n",
    "            ('cast_counts', make_attribute_count_pipeline(), ['cast']),\n",
    "            ('crew_counts', make_attribute_count_pipeline(), ['crew']),\n",
    "            ('keywords_counts', make_attribute_count_pipeline(), ['Keywords']),\n",
    "            ('production_companies_counts', make_attribute_count_pipeline(), ['production_companies']),\n",
    "            ('production_countries_counts', make_attribute_count_pipeline(), ['production_countries']),\n",
    "            ('spoken_languages_counts', make_attribute_count_pipeline(), ['spoken_languages']),\n",
    "            \n",
    "            # ('genres', make_name_extraction_pipeline(), ['genres']),\n",
    "            \n",
    "#             ('cast_gender', make_pipeline(\n",
    "#                 SimpleImputer(strategy='constant', fill_value='[]'), \n",
    "#                 ExtractionTransformer('gender'),\n",
    "#                 UniqueCountTransformer(),\n",
    "#                 SimpleImputer(strategy='constant', fill_value=0)\n",
    "#             ), ['cast']), \n",
    "            \n",
    "#             ('crew_gender', make_pipeline(\n",
    "#                 SimpleImputer(strategy='constant', fill_value='[]'), \n",
    "#                 ExtractionTransformer('gender'),\n",
    "#                 UniqueCountTransformer(),\n",
    "#                 SimpleImputer(strategy='constant', fill_value=0)\n",
    "#             ), ['crew']),\n",
    "            \n",
    "#             ('crew_department', make_pipeline(\n",
    "#                 SimpleImputer(strategy='constant', fill_value='[]'), \n",
    "#                 ExtractionTransformer('department'),\n",
    "#                 UniqueCountTransformer(),\n",
    "#                 SimpleImputer(strategy='constant', fill_value=0)\n",
    "#             ), ['crew']),\n",
    "            \n",
    "#             ('crew_jobs', make_pipeline(\n",
    "#                 SimpleImputer(strategy='constant', fill_value='[]'), \n",
    "#                 ExtractionTransformer('job'),\n",
    "#                 MultinomialAttributeTransformer(),\n",
    "#                 # SelectMostKFrequent(25)\n",
    "#             ), ['crew']),\n",
    "            \n",
    "#              ('crew_names', make_pipeline(\n",
    "#                 SimpleImputer(strategy='constant', fill_value='[]'), \n",
    "#                 ExtractionTransformer('name'),\n",
    "#                 MultinomialAttributeTransformer(),\n",
    "#                 # SelectMostKFrequent(50)\n",
    "#                 # PCA(100)\n",
    "#             ), ['crew']),\n",
    "            \n",
    "#             ('cast_names', make_pipeline(\n",
    "#                 SimpleImputer(strategy='constant', fill_value='[]'), \n",
    "#                 ExtractionTransformer('name'),\n",
    "#                 MultinomialAttributeTransformer(),\n",
    "#                 # SelectMostKFrequent(50)\n",
    "#                 # PCA(100)\n",
    "#             ), ['cast']),\n",
    "            \n",
    "#             ('cast_characters', make_pipeline(\n",
    "#                 SimpleImputer(strategy='constant', fill_value='[]'), \n",
    "#                 ExtractionTransformer('character'),\n",
    "#                 MultinomialAttributeTransformer(),\n",
    "#                 # SelectMostKFrequent(50)\n",
    "#                 # PCA(100)\n",
    "#             ), ['cast']),\n",
    "            \n",
    "            ('keywords', make_pipeline(\n",
    "                SimpleImputer(strategy='constant', fill_value='[]'), \n",
    "                ExtractionTransformer('name'),\n",
    "                MultinomialAttributeTransformer(),\n",
    "                # SelectMostKFrequent(50)\n",
    "                # PCA(100)\n",
    "            ), ['Keywords']),\n",
    "            \n",
    "#             ('spoken_languages', make_pipeline(\n",
    "#                 SimpleImputer(strategy='constant', fill_value='[]'), \n",
    "#                 ExtractionTransformer('name'),\n",
    "#                 MultinomialAttributeTransformer(),\n",
    "#                 # SelectMostKFrequent(50)\n",
    "#             ), ['spoken_languages']),\n",
    "            \n",
    "#             ('production_countries', make_pipeline(\n",
    "#                 SimpleImputer(strategy='constant', fill_value='[]'), \n",
    "#                 ExtractionTransformer('name'),\n",
    "#                 MultinomialAttributeTransformer(),\n",
    "#                 # SelectMostKFrequent(50)\n",
    "#             ), ['production_countries']),\n",
    "            \n",
    "#             ('production_companies', make_pipeline(\n",
    "#                 SimpleImputer(strategy='constant', fill_value='[]'), \n",
    "#                 ExtractionTransformer('name'),\n",
    "#                 MultinomialAttributeTransformer(),\n",
    "#                 # SelectMostKFrequent(50)\n",
    "#                 # PCA(100)\n",
    "#             ), ['production_companies'])\n",
    "        ]\n",
    "        \n",
    "        budget_config = [\n",
    "            ('budget', make_pipeline(\n",
    "                SimpleImputer(strategy='median'),\n",
    "                FunctionTransformer(np.log1p),\n",
    "                StandardScaler()\n",
    "            ), ['budget'])\n",
    "        ]\n",
    "        \n",
    "        return (budget_config if include_budget else []) + common_config\n",
    "    \n",
    "    def get_features(self, prep_pipeline, include_budget=True):\n",
    "        features = ['popularity', 'runtime', 'release_year', 'release_month', 'release_DOW']\n",
    "        orig_lang, status = prep_pipeline.named_transformers_['original_language+status'].named_steps['onehotencoder'].categories_\n",
    "        features += list(orig_lang) + list(status)\n",
    "        features += ['homepage', 'tagline']\n",
    "        features += ['genres_counts', 'cast_counts', 'crew_counts', 'keywords_counts', 'production_companies_counts', 'production_countries_counts', 'spoken_languages_counts']\n",
    "        # features += prep_pipeline.named_transformers_['genres'].named_steps['multinomialattributetransformer'].categories_\n",
    "        # features += ['cast_gender_'+str(f) for f in prep_pipeline.named_transformers_['cast_gender'].named_steps['uniquecounttransformer'].categories_]\n",
    "        # features += ['crew_gender_'+str(f) for f in prep_pipeline.named_transformers_['crew_gender'].named_steps['uniquecounttransformer'].categories_]\n",
    "        # features += ['crew_dept_'+str(f) for f in prep_pipeline.named_transformers_['crew_department'].named_steps['uniquecounttransformer'].categories_]\n",
    "        \n",
    "#         pipeline = prep_pipeline.named_transformers_['crew_jobs']\n",
    "#         columns = np.array(pipeline.named_steps['multinomialattributetransformer'].categories_)\n",
    "#         # k_frequent = pipeline.named_steps['selectmostkfrequent'].k_frequent_\n",
    "#         # features += ['crew_jobs_'+str(f) for f in columns[k_frequent]]\n",
    "#         features += ['crew_jobs_'+str(f) for f in columns]\n",
    "        \n",
    "#         pipeline = prep_pipeline.named_transformers_['crew_names']\n",
    "#         columns = np.array(pipeline.named_steps['multinomialattributetransformer'].categories_)\n",
    "#         # k_frequent = pipeline.named_steps['selectmostkfrequent'].k_frequent_\n",
    "#         # features += ['crew_names_'+str(f) for f in columns[k_frequent]]\n",
    "#         # features += ['crew_names_'+str(i+1) for i in range(pipeline.named_steps['pca'].n_components)]\n",
    "#         features += ['crew_names_'+str(f) for f in columns]\n",
    "        \n",
    "#         pipeline = prep_pipeline.named_transformers_['cast_names']\n",
    "#         columns = np.array(pipeline.named_steps['multinomialattributetransformer'].categories_)\n",
    "#         # k_frequent = pipeline.named_steps['selectmostkfrequent'].k_frequent_\n",
    "#         # features += ['cast_names_'+str(f) for f in columns[k_frequent]]\n",
    "#         # features += ['cast_names_'+str(i+1) for i in range(pipeline.named_steps['pca'].n_components)]\n",
    "#         features += ['cast_names_'+str(f) for f in columns]\n",
    "        \n",
    "#         pipeline = prep_pipeline.named_transformers_['cast_characters']\n",
    "#         columns = np.array(pipeline.named_steps['multinomialattributetransformer'].categories_)\n",
    "#         # k_frequent = pipeline.named_steps['selectmostkfrequent'].k_frequent_\n",
    "#         # features += ['cast_char_'+str(f) for f in columns[k_frequent]]\n",
    "#         # features += ['cast_char_'+str(i+1) for i in range(pipeline.named_steps['pca'].n_components)]\n",
    "#         features += ['cast_char_'+str(f) for f in columns]\n",
    "        \n",
    "        pipeline = prep_pipeline.named_transformers_['keywords']\n",
    "        columns = np.array(pipeline.named_steps['multinomialattributetransformer'].categories_)\n",
    "        # k_frequent = pipeline.named_steps['selectmostkfrequent'].k_frequent_\n",
    "        # features += ['kw_'+str(f) for f in columns[k_frequent]]\n",
    "        # features += ['kw_'+str(i+1) for i in range(pipeline.named_steps['pca'].n_components)]\n",
    "        features += ['kw_'+str(f) for f in columns]\n",
    "        \n",
    "        # pipeline = prep_pipeline.named_transformers_['spoken_languages']\n",
    "        # columns = np.array(pipeline.named_steps['multinomialattributetransformer'].categories_)\n",
    "        # # k_frequent = pipeline.named_steps['selectmostkfrequent'].k_frequent_\n",
    "        # # features += ['sl_'+str(f) for f in columns[k_frequent]]\n",
    "        # features += ['sl_'+str(f) for f in columns]\n",
    "        \n",
    "#         pipeline = prep_pipeline.named_transformers_['production_countries']\n",
    "#         columns = np.array(pipeline.named_steps['multinomialattributetransformer'].categories_)\n",
    "#         # k_frequent = pipeline.named_steps['selectmostkfrequent'].k_frequent_\n",
    "#         # features += ['prod_countries_'+str(f) for f in columns[k_frequent]]\n",
    "#         features += ['prod_countries_'+str(f) for f in columns]\n",
    "        \n",
    "#         pipeline = prep_pipeline.named_transformers_['production_companies']\n",
    "#         # columns = np.array(pipeline.named_steps['multinomialattributetransformer'].categories_)\n",
    "#         # k_frequent = pipeline.named_steps['selectmostkfrequent'].k_frequent_\n",
    "#         # features += ['prod_compnaies_'+str(f) for f in columns[k_frequent]]\n",
    "#         # features += ['prod_compnaies_'+str(i+1) for i in range(pipeline.named_steps['pca'].n_components)]\n",
    "#         features += ['prod_compnaies_'+str(f) for f in columns]\n",
    "        \n",
    "        return (['budget'] if include_budget else []) + features\n",
    "    "
   ]
  },
  {
   "cell_type": "code",
   "execution_count": 177,
   "id": "e6bfc63b-838c-46e9-b589-db3912252057",
   "metadata": {},
   "outputs": [],
   "source": [
    "fsp = FeatureSelectionPipelines()\n",
    "y = np.log(train_data['revenue'])\n",
    "X = train_data.drop(['revenue'], axis=1)\n",
    "prep_pipeline = ColumnTransformer(fsp.get_config(), remainder='drop')\n",
    "X_tf = prep_pipeline.fit_transform(X, y)"
   ]
  },
  {
   "cell_type": "code",
   "execution_count": 178,
   "id": "d9260ead-7a86-47f4-af99-bb82045d2309",
   "metadata": {},
   "outputs": [
    {
     "data": {
      "text/plain": [
       "(3000, 7446)"
      ]
     },
     "execution_count": 178,
     "metadata": {},
     "output_type": "execute_result"
    }
   ],
   "source": [
    "X_tf.shape"
   ]
  },
  {
   "cell_type": "code",
   "execution_count": 179,
   "id": "f3a04e2a-7038-490b-91d4-d52f2b090608",
   "metadata": {},
   "outputs": [],
   "source": [
    "from sklearn.feature_selection import SelectFromModel\n",
    "from sklearn.linear_model import LassoCV\n",
    "\n",
    "lasso = LassoCV(n_jobs=4)\n",
    "lasso.fit(X_tf, y)\n",
    "model = SelectFromModel(lasso, prefit=True)\n",
    "X_new = model.transform(X_tf)"
   ]
  },
  {
   "cell_type": "code",
   "execution_count": 180,
   "id": "8f8819f3-5c5d-4e74-ada8-e87a2727e707",
   "metadata": {},
   "outputs": [
    {
     "data": {
      "text/plain": [
       "((3000, 174), 0.0036540134397394157)"
      ]
     },
     "execution_count": 180,
     "metadata": {},
     "output_type": "execute_result"
    }
   ],
   "source": [
    "X_new.shape, lasso.alpha_"
   ]
  },
  {
   "cell_type": "code",
   "execution_count": 181,
   "id": "fe3d0e4a-dc23-48c2-9f2e-1ee45a121a55",
   "metadata": {},
   "outputs": [],
   "source": [
    "features_in = np.array(fsp.get_features(prep_pipeline))\n",
    "features_out = features_in[model.get_support()]"
   ]
  },
  {
   "cell_type": "code",
   "execution_count": 182,
   "id": "5f75e2f3-4c27-4528-bc67-1d5094c4a3bf",
   "metadata": {},
   "outputs": [
    {
     "data": {
      "text/plain": [
       "['budget',\n",
       " 'popularity',\n",
       " 'runtime',\n",
       " 'release_year',\n",
       " 'release_month',\n",
       " 'release_DOW',\n",
       " 'cn',\n",
       " 'en',\n",
       " 'es',\n",
       " 'fr',\n",
       " 'hi',\n",
       " 'ja',\n",
       " 'homepage',\n",
       " 'tagline',\n",
       " 'kw_3d',\n",
       " 'kw_aftercreditsstinger',\n",
       " 'kw_afterlife',\n",
       " 'kw_alcoholism',\n",
       " 'kw_alien',\n",
       " 'kw_american_football',\n",
       " 'kw_amnesia',\n",
       " 'kw_animation',\n",
       " 'kw_artist',\n",
       " 'kw_baby',\n",
       " 'kw_based_on_comic',\n",
       " 'kw_based_on_novel',\n",
       " 'kw_based_on_tv_series',\n",
       " 'kw_based_on_young_adult_novel',\n",
       " 'kw_bat_attack',\n",
       " 'kw_beach',\n",
       " 'kw_beans',\n",
       " 'kw_beer',\n",
       " 'kw_berlin',\n",
       " 'kw_biography',\n",
       " 'kw_birthday',\n",
       " 'kw_boy_eaten',\n",
       " 'kw_british_secret_service',\n",
       " 'kw_brother_brother_relationship',\n",
       " 'kw_brother_sister_relationship',\n",
       " 'kw_business_man',\n",
       " 'kw_car_race',\n",
       " 'kw_chainsaw',\n",
       " 'kw_child_murder',\n",
       " 'kw_christmas',\n",
       " 'kw_cia',\n",
       " 'kw_closed_mine',\n",
       " 'kw_competition',\n",
       " 'kw_conspiracy',\n",
       " 'kw_cop',\n",
       " 'kw_corruption',\n",
       " 'kw_cow',\n",
       " 'kw_crime',\n",
       " 'kw_crime_boss',\n",
       " 'kw_criminal',\n",
       " 'kw_culture_clash',\n",
       " 'kw_dance',\n",
       " 'kw_detective',\n",
       " 'kw_diary',\n",
       " 'kw_dinosaur',\n",
       " 'kw_disk',\n",
       " 'kw_divorce',\n",
       " 'kw_dog',\n",
       " 'kw_drug_trip',\n",
       " 'kw_duringcreditsstinger',\n",
       " 'kw_dying_and_death',\n",
       " 'kw_dying_wish',\n",
       " 'kw_engagement',\n",
       " 'kw_eroticism',\n",
       " 'kw_explosion',\n",
       " 'kw_face_slap',\n",
       " 'kw_faith',\n",
       " 'kw_false_identity',\n",
       " 'kw_family_vacation',\n",
       " 'kw_farm',\n",
       " 'kw_father_son_relationship',\n",
       " 'kw_fbi_agent',\n",
       " 'kw_fear',\n",
       " 'kw_first_time',\n",
       " 'kw_found_footage',\n",
       " 'kw_friendship',\n",
       " 'kw_garbage_dump',\n",
       " 'kw_girlfriend',\n",
       " 'kw_high_school',\n",
       " 'kw_holiday',\n",
       " 'kw_hoodlum',\n",
       " 'kw_imax',\n",
       " 'kw_independent_film',\n",
       " 'kw_lawyer',\n",
       " 'kw_lgbt',\n",
       " 'kw_london_england',\n",
       " 'kw_los_angeles',\n",
       " \"kw_love_of_one's_life\",\n",
       " 'kw_lover_(female)',\n",
       " 'kw_magic',\n",
       " 'kw_male_nudity',\n",
       " 'kw_martial_arts',\n",
       " 'kw_memory_loss',\n",
       " 'kw_midlife_crisis',\n",
       " 'kw_mob',\n",
       " 'kw_money',\n",
       " 'kw_monster',\n",
       " 'kw_motel',\n",
       " 'kw_motorcycle',\n",
       " 'kw_movie_star',\n",
       " 'kw_mumblegore',\n",
       " 'kw_murder',\n",
       " 'kw_musical',\n",
       " 'kw_narration',\n",
       " 'kw_neo-noir',\n",
       " 'kw_new_love',\n",
       " 'kw_new_mexico',\n",
       " 'kw_nightmare',\n",
       " 'kw_nurse',\n",
       " 'kw_obsession',\n",
       " 'kw_ocean',\n",
       " 'kw_oscar_award',\n",
       " 'kw_overprotective_father',\n",
       " 'kw_paris',\n",
       " 'kw_party',\n",
       " 'kw_pilot',\n",
       " 'kw_police',\n",
       " 'kw_police_operation',\n",
       " 'kw_police_psychologist',\n",
       " 'kw_political_satire',\n",
       " 'kw_prague',\n",
       " 'kw_psychopath',\n",
       " 'kw_punk_band',\n",
       " 'kw_rebel',\n",
       " 'kw_remake',\n",
       " 'kw_rescue',\n",
       " 'kw_restaurant',\n",
       " 'kw_revenge',\n",
       " 'kw_riddle',\n",
       " 'kw_road_movie',\n",
       " 'kw_robbery',\n",
       " 'kw_romantic_comedy',\n",
       " 'kw_san_francisco',\n",
       " 'kw_saving_the_world',\n",
       " 'kw_secret',\n",
       " 'kw_secret_identity',\n",
       " 'kw_sequel',\n",
       " 'kw_serial_killer',\n",
       " 'kw_silent_film',\n",
       " 'kw_sister_sister_relationship',\n",
       " 'kw_smoking',\n",
       " 'kw_space_opera',\n",
       " 'kw_sport',\n",
       " 'kw_spy',\n",
       " 'kw_studies',\n",
       " 'kw_suspicion_of_murder',\n",
       " 'kw_swamp',\n",
       " 'kw_swordsman',\n",
       " 'kw_talking_animal',\n",
       " 'kw_teacher',\n",
       " 'kw_teenager',\n",
       " 'kw_telephone',\n",
       " 'kw_texas',\n",
       " 'kw_threesome',\n",
       " 'kw_trailer',\n",
       " 'kw_twins',\n",
       " 'kw_uncle',\n",
       " 'kw_undercover',\n",
       " 'kw_undercover_agent',\n",
       " 'kw_vacation',\n",
       " 'kw_vietnam_veteran',\n",
       " 'kw_violence',\n",
       " 'kw_violent_husband',\n",
       " 'kw_wedding',\n",
       " 'kw_wife_husband_relationship',\n",
       " 'kw_wild_party',\n",
       " 'kw_witch',\n",
       " 'kw_woman_director',\n",
       " 'kw_world_war_i',\n",
       " 'kw_young_adult']"
      ]
     },
     "execution_count": 182,
     "metadata": {},
     "output_type": "execute_result"
    }
   ],
   "source": [
    "list(features_out)"
   ]
  },
  {
   "cell_type": "code",
   "execution_count": null,
   "id": "f31ba2ed-777d-42e3-b923-abd8a43ecb0b",
   "metadata": {},
   "outputs": [],
   "source": []
  }
 ],
 "metadata": {
  "kernelspec": {
   "display_name": "Python 3 (ipykernel)",
   "language": "python",
   "name": "python3"
  },
  "language_info": {
   "codemirror_mode": {
    "name": "ipython",
    "version": 3
   },
   "file_extension": ".py",
   "mimetype": "text/x-python",
   "name": "python",
   "nbconvert_exporter": "python",
   "pygments_lexer": "ipython3",
   "version": "3.9.6"
  }
 },
 "nbformat": 4,
 "nbformat_minor": 5
}
