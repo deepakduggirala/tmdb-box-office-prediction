{
 "cells": [
  {
   "cell_type": "markdown",
   "id": "1d7e7c39-a965-4171-8e0f-59fc25307e72",
   "metadata": {},
   "source": [
    "# TMDB Box Office Prediction"
   ]
  },
  {
   "cell_type": "code",
   "execution_count": 64,
   "id": "3f89114a",
   "metadata": {
    "ExecuteTime": {
     "end_time": "2021-11-10T06:34:47.265640Z",
     "start_time": "2021-11-10T06:34:47.021181Z"
    }
   },
   "outputs": [],
   "source": [
    "import numpy as np\n",
    "import pandas as pd\n",
    "import matplotlib.pyplot as plt\n",
    "import scipy\n",
    "from scipy import stats\n",
    "%matplotlib inline"
   ]
  },
  {
   "cell_type": "code",
   "execution_count": 545,
   "id": "18386119",
   "metadata": {
    "ExecuteTime": {
     "end_time": "2021-11-10T16:25:40.395276Z",
     "start_time": "2021-11-10T16:25:40.387383Z"
    }
   },
   "outputs": [],
   "source": [
    "from sklearn.preprocessing import OneHotEncoder\n",
    "from sklearn.base import BaseEstimator, TransformerMixin\n",
    "from sklearn.impute import SimpleImputer\n",
    "from sklearn.pipeline import make_pipeline\n",
    "from sklearn.compose import ColumnTransformer\n",
    "from sklearn.preprocessing import StandardScaler\n",
    "from sklearn.model_selection import train_test_split\n",
    "from sklearn.preprocessing import FunctionTransformer\n",
    "from sklearn.pipeline import Pipeline\n",
    "\n",
    "from sklearn.linear_model import RidgeCV\n",
    "from sklearn.linear_model import LinearRegression\n",
    "from sklearn.linear_model import SGDRegressor\n",
    "from sklearn.linear_model import ElasticNet\n",
    "from sklearn.linear_model import Lasso\n",
    "from sklearn.linear_model import Ridge\n",
    "\n",
    "from sklearn.model_selection import GridSearchCV\n",
    "\n",
    "from sklearn.metrics import mean_squared_error\n",
    "from sklearn.metrics import make_scorer\n",
    "\n",
    "from sklearn.decomposition import PCA\n",
    "\n",
    "import ast\n",
    "import time\n",
    "import json"
   ]
  },
  {
   "cell_type": "code",
   "execution_count": 6,
   "id": "20660dca",
   "metadata": {
    "ExecuteTime": {
     "end_time": "2021-11-10T06:42:06.843771Z",
     "start_time": "2021-11-10T06:42:06.267379Z"
    }
   },
   "outputs": [],
   "source": [
    "train_data = pd.read_csv('data/train.csv')\n",
    "test_data = pd.read_csv('data/test.csv')"
   ]
  },
  {
   "cell_type": "code",
   "execution_count": 7,
   "id": "0e14058e",
   "metadata": {
    "ExecuteTime": {
     "end_time": "2021-11-10T06:42:16.056931Z",
     "start_time": "2021-11-10T06:42:16.049540Z"
    }
   },
   "outputs": [
    {
     "data": {
      "text/plain": [
       "Index(['id', 'belongs_to_collection', 'budget', 'genres', 'homepage',\n",
       "       'imdb_id', 'original_language', 'original_title', 'overview',\n",
       "       'popularity', 'poster_path', 'production_companies',\n",
       "       'production_countries', 'release_date', 'runtime', 'spoken_languages',\n",
       "       'status', 'tagline', 'title', 'Keywords', 'cast', 'crew', 'revenue'],\n",
       "      dtype='object')"
      ]
     },
     "execution_count": 7,
     "metadata": {},
     "output_type": "execute_result"
    }
   ],
   "source": [
    "train_data.columns"
   ]
  },
  {
   "cell_type": "markdown",
   "id": "15ebd6eb-dafd-4c54-9542-df6ab89b922f",
   "metadata": {
    "jp-MarkdownHeadingCollapsed": true,
    "tags": []
   },
   "source": [
    "## Data Description"
   ]
  },
  {
   "cell_type": "code",
   "execution_count": 8,
   "id": "1dad6c23",
   "metadata": {
    "ExecuteTime": {
     "end_time": "2021-11-10T08:14:19.580299Z",
     "start_time": "2021-11-10T08:14:19.574946Z"
    }
   },
   "outputs": [
    {
     "data": {
      "text/plain": [
       "(3000, 23)"
      ]
     },
     "execution_count": 8,
     "metadata": {},
     "output_type": "execute_result"
    }
   ],
   "source": [
    "train_data.shape"
   ]
  },
  {
   "cell_type": "code",
   "execution_count": 9,
   "id": "faefdb93",
   "metadata": {
    "ExecuteTime": {
     "end_time": "2021-11-10T08:14:28.814817Z",
     "start_time": "2021-11-10T08:14:28.767691Z"
    }
   },
   "outputs": [
    {
     "data": {
      "text/html": [
       "<div>\n",
       "<style scoped>\n",
       "    .dataframe tbody tr th:only-of-type {\n",
       "        vertical-align: middle;\n",
       "    }\n",
       "\n",
       "    .dataframe tbody tr th {\n",
       "        vertical-align: top;\n",
       "    }\n",
       "\n",
       "    .dataframe thead th {\n",
       "        text-align: right;\n",
       "    }\n",
       "</style>\n",
       "<table border=\"1\" class=\"dataframe\">\n",
       "  <thead>\n",
       "    <tr style=\"text-align: right;\">\n",
       "      <th></th>\n",
       "      <th>id</th>\n",
       "      <th>budget</th>\n",
       "      <th>popularity</th>\n",
       "      <th>runtime</th>\n",
       "      <th>revenue</th>\n",
       "    </tr>\n",
       "  </thead>\n",
       "  <tbody>\n",
       "    <tr>\n",
       "      <th>count</th>\n",
       "      <td>3000.000000</td>\n",
       "      <td>3.000000e+03</td>\n",
       "      <td>3000.000000</td>\n",
       "      <td>2998.000000</td>\n",
       "      <td>3.000000e+03</td>\n",
       "    </tr>\n",
       "    <tr>\n",
       "      <th>mean</th>\n",
       "      <td>1500.500000</td>\n",
       "      <td>2.253133e+07</td>\n",
       "      <td>8.463274</td>\n",
       "      <td>107.856571</td>\n",
       "      <td>6.672585e+07</td>\n",
       "    </tr>\n",
       "    <tr>\n",
       "      <th>std</th>\n",
       "      <td>866.169729</td>\n",
       "      <td>3.702609e+07</td>\n",
       "      <td>12.104000</td>\n",
       "      <td>22.086434</td>\n",
       "      <td>1.375323e+08</td>\n",
       "    </tr>\n",
       "    <tr>\n",
       "      <th>min</th>\n",
       "      <td>1.000000</td>\n",
       "      <td>0.000000e+00</td>\n",
       "      <td>0.000001</td>\n",
       "      <td>0.000000</td>\n",
       "      <td>1.000000e+00</td>\n",
       "    </tr>\n",
       "    <tr>\n",
       "      <th>25%</th>\n",
       "      <td>750.750000</td>\n",
       "      <td>0.000000e+00</td>\n",
       "      <td>4.018053</td>\n",
       "      <td>94.000000</td>\n",
       "      <td>2.379808e+06</td>\n",
       "    </tr>\n",
       "    <tr>\n",
       "      <th>50%</th>\n",
       "      <td>1500.500000</td>\n",
       "      <td>8.000000e+06</td>\n",
       "      <td>7.374861</td>\n",
       "      <td>104.000000</td>\n",
       "      <td>1.680707e+07</td>\n",
       "    </tr>\n",
       "    <tr>\n",
       "      <th>75%</th>\n",
       "      <td>2250.250000</td>\n",
       "      <td>2.900000e+07</td>\n",
       "      <td>10.890983</td>\n",
       "      <td>118.000000</td>\n",
       "      <td>6.891920e+07</td>\n",
       "    </tr>\n",
       "    <tr>\n",
       "      <th>max</th>\n",
       "      <td>3000.000000</td>\n",
       "      <td>3.800000e+08</td>\n",
       "      <td>294.337037</td>\n",
       "      <td>338.000000</td>\n",
       "      <td>1.519558e+09</td>\n",
       "    </tr>\n",
       "  </tbody>\n",
       "</table>\n",
       "</div>"
      ],
      "text/plain": [
       "                id        budget   popularity      runtime       revenue\n",
       "count  3000.000000  3.000000e+03  3000.000000  2998.000000  3.000000e+03\n",
       "mean   1500.500000  2.253133e+07     8.463274   107.856571  6.672585e+07\n",
       "std     866.169729  3.702609e+07    12.104000    22.086434  1.375323e+08\n",
       "min       1.000000  0.000000e+00     0.000001     0.000000  1.000000e+00\n",
       "25%     750.750000  0.000000e+00     4.018053    94.000000  2.379808e+06\n",
       "50%    1500.500000  8.000000e+06     7.374861   104.000000  1.680707e+07\n",
       "75%    2250.250000  2.900000e+07    10.890983   118.000000  6.891920e+07\n",
       "max    3000.000000  3.800000e+08   294.337037   338.000000  1.519558e+09"
      ]
     },
     "execution_count": 9,
     "metadata": {},
     "output_type": "execute_result"
    }
   ],
   "source": [
    "train_data.describe()"
   ]
  },
  {
   "cell_type": "code",
   "execution_count": 10,
   "id": "71a75dab",
   "metadata": {
    "ExecuteTime": {
     "end_time": "2021-11-10T15:10:13.141270Z",
     "start_time": "2021-11-10T15:10:12.973976Z"
    }
   },
   "outputs": [
    {
     "name": "stdout",
     "output_type": "stream",
     "text": [
      "<class 'pandas.core.frame.DataFrame'>\n",
      "RangeIndex: 3000 entries, 0 to 2999\n",
      "Data columns (total 23 columns):\n",
      " #   Column                 Non-Null Count  Dtype  \n",
      "---  ------                 --------------  -----  \n",
      " 0   id                     3000 non-null   int64  \n",
      " 1   belongs_to_collection  604 non-null    object \n",
      " 2   budget                 3000 non-null   int64  \n",
      " 3   genres                 2993 non-null   object \n",
      " 4   homepage               946 non-null    object \n",
      " 5   imdb_id                3000 non-null   object \n",
      " 6   original_language      3000 non-null   object \n",
      " 7   original_title         3000 non-null   object \n",
      " 8   overview               2992 non-null   object \n",
      " 9   popularity             3000 non-null   float64\n",
      " 10  poster_path            2999 non-null   object \n",
      " 11  production_companies   2844 non-null   object \n",
      " 12  production_countries   2945 non-null   object \n",
      " 13  release_date           3000 non-null   object \n",
      " 14  runtime                2998 non-null   float64\n",
      " 15  spoken_languages       2980 non-null   object \n",
      " 16  status                 3000 non-null   object \n",
      " 17  tagline                2403 non-null   object \n",
      " 18  title                  3000 non-null   object \n",
      " 19  Keywords               2724 non-null   object \n",
      " 20  cast                   2987 non-null   object \n",
      " 21  crew                   2984 non-null   object \n",
      " 22  revenue                3000 non-null   int64  \n",
      "dtypes: float64(2), int64(3), object(18)\n",
      "memory usage: 539.2+ KB\n"
     ]
    }
   ],
   "source": [
    "train_data.info()"
   ]
  },
  {
   "cell_type": "code",
   "execution_count": 11,
   "id": "6b801d72",
   "metadata": {
    "ExecuteTime": {
     "end_time": "2021-11-10T15:17:04.083155Z",
     "start_time": "2021-11-10T15:17:04.069277Z"
    }
   },
   "outputs": [
    {
     "data": {
      "text/plain": [
       "id                          0\n",
       "belongs_to_collection    2396\n",
       "budget                      0\n",
       "genres                      7\n",
       "homepage                 2054\n",
       "imdb_id                     0\n",
       "original_language           0\n",
       "original_title              0\n",
       "overview                    8\n",
       "popularity                  0\n",
       "poster_path                 1\n",
       "production_companies      156\n",
       "production_countries       55\n",
       "release_date                0\n",
       "runtime                     2\n",
       "spoken_languages           20\n",
       "status                      0\n",
       "tagline                   597\n",
       "title                       0\n",
       "Keywords                  276\n",
       "cast                       13\n",
       "crew                       16\n",
       "revenue                     0\n",
       "dtype: int64"
      ]
     },
     "execution_count": 11,
     "metadata": {},
     "output_type": "execute_result"
    }
   ],
   "source": [
    "train_data.isna().sum()"
   ]
  },
  {
   "cell_type": "code",
   "execution_count": 72,
   "id": "85b7c345-2fc2-4dde-8f9e-a66b95a8b7e3",
   "metadata": {},
   "outputs": [
    {
     "data": {
      "text/plain": [
       "id                          0\n",
       "belongs_to_collection    3521\n",
       "budget                      0\n",
       "genres                     16\n",
       "homepage                 2978\n",
       "imdb_id                     0\n",
       "original_language           0\n",
       "original_title              0\n",
       "overview                   14\n",
       "popularity                  0\n",
       "poster_path                 1\n",
       "production_companies      258\n",
       "production_countries      102\n",
       "release_date                1\n",
       "runtime                     4\n",
       "spoken_languages           42\n",
       "status                      2\n",
       "tagline                   863\n",
       "title                       3\n",
       "Keywords                  393\n",
       "cast                       13\n",
       "crew                       22\n",
       "dtype: int64"
      ]
     },
     "execution_count": 72,
     "metadata": {},
     "output_type": "execute_result"
    }
   ],
   "source": [
    "test_data.isna().sum()"
   ]
  },
  {
   "cell_type": "code",
   "execution_count": 754,
   "id": "ec810a99-b2e0-4fc4-b141-7d83c6c0fcd1",
   "metadata": {},
   "outputs": [
    {
     "data": {
      "text/plain": [
       "<matplotlib.collections.PathCollection at 0x2893bc5e0>"
      ]
     },
     "execution_count": 754,
     "metadata": {},
     "output_type": "execute_result"
    },
    {
     "data": {
      "image/png": "[encoded data removed]",
      "text/plain": [
       "<Figure size 432x288 with 1 Axes>"
      ]
     },
     "metadata": {
      "needs_background": "light"
     },
     "output_type": "display_data"
    }
   ],
   "source": [
    "mask = train_data['budget'] < 50\n",
    "plt.scatter(train_data[mask]['budget'], train_data[mask]['revenue'])"
   ]
  },
  {
   "cell_type": "code",
   "execution_count": 753,
   "id": "9fd000e2-b682-4f4e-af9a-16e8a1fab635",
   "metadata": {},
   "outputs": [
    {
     "data": {
      "text/plain": [
       "[('budget < 5', 819),\n",
       " ('budget < 50', 825),\n",
       " ('budget < 500', 829),\n",
       " ('budget < 5000', 831),\n",
       " ('budget < 50000', 843),\n",
       " ('budget < 100000', 849),\n",
       " ('budget < 500000', 901),\n",
       " ('budget < 1000000', 968)]"
      ]
     },
     "execution_count": 753,
     "metadata": {},
     "output_type": "execute_result"
    }
   ],
   "source": [
    "[(f'budget < {x}', np.sum(train_data['budget'] < x)) for x in [5, 50, 500, 5000, 50000, 100000, 500000, 1000000]]"
   ]
  },
  {
   "cell_type": "code",
   "execution_count": 132,
   "id": "8822989d-e232-4819-88fc-e77911a7f1ef",
   "metadata": {},
   "outputs": [
    {
     "data": {
      "text/plain": [
       "<matplotlib.collections.PathCollection at 0x285020280>"
      ]
     },
     "execution_count": 132,
     "metadata": {},
     "output_type": "execute_result"
    },
    {
     "data": {
      "image/png": "[encoded data removed]",
      "text/plain": [
       "<Figure size 432x288 with 1 Axes>"
      ]
     },
     "metadata": {
      "needs_background": "light"
     },
     "output_type": "display_data"
    }
   ],
   "source": [
    "plt.scatter(np.log(1+train_data['budget']), np.log(train_data['revenue']))"
   ]
  },
  {
   "cell_type": "code",
   "execution_count": 755,
   "id": "01ade4fd-fa7c-483d-84f7-0deb9d7b22e0",
   "metadata": {},
   "outputs": [
    {
     "data": {
      "text/plain": [
       "<matplotlib.collections.PathCollection at 0x289704400>"
      ]
     },
     "execution_count": 755,
     "metadata": {},
     "output_type": "execute_result"
    },
    {
     "data": {
      "image/png": "[encoded data removed]",
      "text/plain": [
       "<Figure size 432x288 with 1 Axes>"
      ]
     },
     "metadata": {
      "needs_background": "light"
     },
     "output_type": "display_data"
    }
   ],
   "source": [
    "plt.scatter(np.log(1+train_data[~mask]['budget']), np.log(train_data[~mask]['revenue']))"
   ]
  },
  {
   "cell_type": "markdown",
   "id": "9c073a11-bc48-4f2a-ba05-5a29120996a1",
   "metadata": {
    "tags": []
   },
   "source": [
    "## Feature Exploration and Engineering"
   ]
  },
  {
   "cell_type": "markdown",
   "id": "42609202-74c7-4906-8218-736efbb90193",
   "metadata": {},
   "source": [
    "- id: no relation to revenue\n",
    "- belongs_to_collection: useful for sequels, prequels, remakes. but how to encode it?\n",
    "    - use collection_id with OHE, if null set it to 'original'\n",
    "- budget: use as it is / log transform?\n",
    "- genres: use id, how to encode multivalue attributes?\n",
    "    - create as many columns as there are unique ids, if a movie belongs to a genre, its column is set to 1\n",
    "    - what happens during test time? - unseen genre? - ignore it\n",
    "    - quickly increases the feature space dimensionality - use dimensionality reduction?\n",
    "        - use dimensionality reduction on just genres or on all features?\n",
    "        - there is not much correlation between genres, dimensionality reduction isn't effective - prove this\n",
    "- homepage: has homepage or not?\n",
    "- imdb_id: not relevant - see if any null? if it doesn't have an IMDB page, not a very popular movie\n",
    "- original_language - OHE\n",
    "- original_title - how to encode text? n - grams? - embedding?\n",
    "- overview - how to encode text?\n",
    "- popularity: numerical\n",
    "- poster_path: how to use images?\n",
    "- production_companies: use the same approach as genres\n",
    "- production_countries: use the same approach as genres\n",
    "- release date: split into date, month, year\n",
    "- runtime: numerical\n",
    "- spoken_languages: use the same approach as genres\n",
    "- status: OHE\n",
    "- tagline: how to encode text\n",
    "    - presence\n",
    "- title: how to encode text\n",
    "- keywords: use the same approach as genres\n",
    "- cast: ??\n",
    "- crew: ??\n",
    "- revenue: log transform?"
   ]
  },
  {
   "cell_type": "markdown",
   "id": "08876bbf-3c62-4f76-a083-73a9fe05c21e",
   "metadata": {
    "tags": []
   },
   "source": [
    "### Numerical Attributes"
   ]
  },
  {
   "cell_type": "markdown",
   "id": "e46caff1",
   "metadata": {},
   "source": [
    "Questions to ask while exploring the data:\n",
    "- are there any missing values?\n",
    "- is the data cut-off or transformed to exist in a min and max values?\n",
    "- is the distribution skewed? - why is this a problem?\n",
    "    - very few datapoints have very high / low values - so what?\n",
    "\n",
    "Numerical:\n",
    "- budget\n",
    "    - there are movies with budget 0; 826 movies with below budget of 100 - what to do?; bad data; most likely that testing data will have the same problem.\n",
    "    - right skewed; use log1p transformation\n",
    "    - what are the units? (same units for films filmed outside US?)\n",
    "    - test set have 1211 values with budget = 0 and 1245 with budget <= 500\n",
    "    - either estimate budget from fields or develope two models one where budget has a meaningful value and other model without the budget feature\n",
    "- popularity\n",
    "    - how is it measured / interpretted?\n",
    "    - what is its intended scale?\n",
    "    - has outliers - valid or noise from data measurement?\n",
    "- month\n",
    "    - December has the highest number of releases\n",
    "- year\n",
    "    - follows yy convention. hard to distinguish a yy such that 00<=yy<=18 if it belongs to 1900-1918 or 2000-2018?\n",
    "    - if yy > 17, assume 19yy, esle 20yy\n",
    "- day of the month\n",
    "- day of the week\n",
    "- runtime\n",
    "    - has 2 null values; replace with median\n",
    "    - has 12 zero values; replace with median\n",
    "- revenue\n",
    "    - right skewed\n",
    "    - min is 1\n",
    "    - what are the units?\n",
    "    - 39 movies with revenue below 100; bad data; most likely that testing data will have the same problem.\n",
    "    \n",
    "    \n",
    "What to do when data has obvious issues like measurement errors, but you know the test set has the same problems?\n",
    "- can't drop the entire rows because you can't do that with test set\n",
    "- remove feature? - use cv\n",
    "- replace it with a mean / median value if it is numerical, or a new category if it is a categorical"
   ]
  },
  {
   "cell_type": "markdown",
   "id": "247a955d-3e15-462a-a989-272406f38e57",
   "metadata": {
    "jp-MarkdownHeadingCollapsed": true,
    "tags": []
   },
   "source": [
    "#### budget, revenue, popularity, runtime"
   ]
  },
  {
   "cell_type": "code",
   "execution_count": 12,
   "id": "8970329b",
   "metadata": {
    "ExecuteTime": {
     "end_time": "2021-11-10T08:30:56.581513Z",
     "start_time": "2021-11-10T08:30:56.447687Z"
    }
   },
   "outputs": [
    {
     "data": {
      "text/plain": [
       "<AxesSubplot:>"
      ]
     },
     "execution_count": 12,
     "metadata": {},
     "output_type": "execute_result"
    },
    {
     "data": {
      "image/png": "[encoded data removed]",
      "text/plain": [
       "<Figure size 432x288 with 1 Axes>"
      ]
     },
     "metadata": {
      "needs_background": "light"
     },
     "output_type": "display_data"
    }
   ],
   "source": [
    "train_data['budget'].hist(bins=100)"
   ]
  },
  {
   "cell_type": "code",
   "execution_count": 577,
   "id": "716244ca",
   "metadata": {
    "ExecuteTime": {
     "end_time": "2021-11-10T15:18:16.121333Z",
     "start_time": "2021-11-10T15:18:16.116004Z"
    }
   },
   "outputs": [
    {
     "data": {
      "text/plain": [
       "829"
      ]
     },
     "execution_count": 577,
     "metadata": {},
     "output_type": "execute_result"
    }
   ],
   "source": [
    "(train_data['budget']<=500).sum()"
   ]
  },
  {
   "cell_type": "code",
   "execution_count": 576,
   "id": "02255a9d-d6bf-4c09-adaa-425e3f261191",
   "metadata": {},
   "outputs": [
    {
     "data": {
      "text/plain": [
       "1245"
      ]
     },
     "execution_count": 576,
     "metadata": {},
     "output_type": "execute_result"
    }
   ],
   "source": [
    "(test_data['budget']<=500).sum()"
   ]
  },
  {
   "cell_type": "code",
   "execution_count": 14,
   "id": "2fad6d02",
   "metadata": {
    "ExecuteTime": {
     "end_time": "2021-11-10T08:30:49.632777Z",
     "start_time": "2021-11-10T08:30:49.494591Z"
    }
   },
   "outputs": [
    {
     "data": {
      "text/plain": [
       "<AxesSubplot:>"
      ]
     },
     "execution_count": 14,
     "metadata": {},
     "output_type": "execute_result"
    },
    {
     "data": {
      "image/png": "[encoded data removed]",
      "text/plain": [
       "<Figure size 432x288 with 1 Axes>"
      ]
     },
     "metadata": {
      "needs_background": "light"
     },
     "output_type": "display_data"
    }
   ],
   "source": [
    "train_data['revenue'].hist(bins=100)"
   ]
  },
  {
   "cell_type": "code",
   "execution_count": 15,
   "id": "68b9518f",
   "metadata": {
    "ExecuteTime": {
     "end_time": "2021-11-10T15:18:47.567815Z",
     "start_time": "2021-11-10T15:18:47.561492Z"
    }
   },
   "outputs": [
    {
     "data": {
      "text/plain": [
       "39"
      ]
     },
     "execution_count": 15,
     "metadata": {},
     "output_type": "execute_result"
    }
   ],
   "source": [
    "(train_data['revenue']<100).sum()"
   ]
  },
  {
   "cell_type": "code",
   "execution_count": 16,
   "id": "31eb9005",
   "metadata": {
    "ExecuteTime": {
     "end_time": "2021-11-10T08:30:09.190844Z",
     "start_time": "2021-11-10T08:30:08.960393Z"
    }
   },
   "outputs": [
    {
     "data": {
      "text/plain": [
       "<AxesSubplot:>"
      ]
     },
     "execution_count": 16,
     "metadata": {},
     "output_type": "execute_result"
    },
    {
     "data": {
      "image/png": "[encoded data removed]",
      "text/plain": [
       "<Figure size 432x288 with 1 Axes>"
      ]
     },
     "metadata": {
      "needs_background": "light"
     },
     "output_type": "display_data"
    }
   ],
   "source": [
    "train_data['popularity'].hist(bins=100)"
   ]
  },
  {
   "cell_type": "code",
   "execution_count": 17,
   "id": "bdf70b13",
   "metadata": {
    "ExecuteTime": {
     "end_time": "2021-11-10T08:31:02.180694Z",
     "start_time": "2021-11-10T08:31:02.043862Z"
    }
   },
   "outputs": [
    {
     "data": {
      "text/plain": [
       "<AxesSubplot:>"
      ]
     },
     "execution_count": 17,
     "metadata": {},
     "output_type": "execute_result"
    },
    {
     "data": {
      "image/png": "[encoded data removed]",
      "text/plain": [
       "<Figure size 432x288 with 1 Axes>"
      ]
     },
     "metadata": {
      "needs_background": "light"
     },
     "output_type": "display_data"
    }
   ],
   "source": [
    "train_data['runtime'].hist(bins=100)"
   ]
  },
  {
   "cell_type": "code",
   "execution_count": 47,
   "id": "f39d34b1",
   "metadata": {
    "ExecuteTime": {
     "end_time": "2021-11-10T15:32:37.211299Z",
     "start_time": "2021-11-10T15:32:37.199111Z"
    }
   },
   "outputs": [
    {
     "data": {
      "text/plain": [
       "(12, 23)"
      ]
     },
     "execution_count": 47,
     "metadata": {},
     "output_type": "execute_result"
    }
   ],
   "source": [
    "train_data[(train_data['runtime']==0)].shape"
   ]
  },
  {
   "cell_type": "code",
   "execution_count": 65,
   "id": "be55c24b-335b-4674-9c18-6c42394dd12a",
   "metadata": {},
   "outputs": [
    {
     "data": {
      "text/plain": [
       "DescribeResult(nobs=3000, minmax=(array([11.]), array([338.])), mean=array([108.27]), variance=array([440.83604535]), skewness=array([1.66653171]), kurtosis=array([7.75439472]))"
      ]
     },
     "execution_count": 65,
     "metadata": {},
     "output_type": "execute_result"
    }
   ],
   "source": [
    "runtime_imputer = make_pipeline(SimpleImputer(strategy='median'), SimpleImputer(missing_values=0, strategy='median'), 'passthrough')\n",
    "runtime_tf = runtime_imputer.fit_transform(train_data[['runtime']])\n",
    "stats.describe(runtime_tf)"
   ]
  },
  {
   "cell_type": "markdown",
   "id": "82cb9d1f-4454-4b47-9296-591df0e64736",
   "metadata": {
    "tags": []
   },
   "source": [
    "#### release_date"
   ]
  },
  {
   "cell_type": "code",
   "execution_count": 19,
   "id": "b3859b5e",
   "metadata": {
    "ExecuteTime": {
     "end_time": "2021-11-10T15:51:09.038645Z",
     "start_time": "2021-11-10T15:51:09.027312Z"
    }
   },
   "outputs": [
    {
     "data": {
      "text/plain": [
       "(40, 0, 0, 0, 1)"
      ]
     },
     "execution_count": 19,
     "metadata": {},
     "output_type": "execute_result"
    }
   ],
   "source": [
    "yy = train_data['release_date'].apply(lambda s: int(s.split('/')[2]))\n",
    "(yy == 17).sum(), (yy == 18).sum(), (yy == 19).sum(), (yy == 20).sum(), (yy == 21).sum()"
   ]
  },
  {
   "cell_type": "code",
   "execution_count": 20,
   "id": "7912055d",
   "metadata": {
    "ExecuteTime": {
     "end_time": "2021-11-10T21:08:07.357339Z",
     "start_time": "2021-11-10T21:08:07.309427Z"
    }
   },
   "outputs": [],
   "source": [
    "def year_convertor(s):\n",
    "    yy = int(s.split('/')[2])\n",
    "    if yy > 17:\n",
    "        return 1900+yy\n",
    "    else:\n",
    "        return 2000+yy\n",
    "\n",
    "release_year = train_data['release_date'].apply(year_convertor)\n",
    "release_month = train_data['release_date'].apply(lambda s: int(s.split('/')[0]))\n",
    "release_day = train_data['release_date'].apply(lambda s: int(s.split('/')[1]))"
   ]
  },
  {
   "cell_type": "code",
   "execution_count": 21,
   "id": "5666a2a9",
   "metadata": {
    "ExecuteTime": {
     "end_time": "2021-11-10T15:47:45.815619Z",
     "start_time": "2021-11-10T15:47:45.724715Z"
    }
   },
   "outputs": [
    {
     "data": {
      "text/plain": [
       "<AxesSubplot:>"
      ]
     },
     "execution_count": 21,
     "metadata": {},
     "output_type": "execute_result"
    },
    {
     "data": {
      "image/png": "[encoded data removed]",
      "text/plain": [
       "<Figure size 432x288 with 1 Axes>"
      ]
     },
     "metadata": {
      "needs_background": "light"
     },
     "output_type": "display_data"
    }
   ],
   "source": [
    "release_year.hist()"
   ]
  },
  {
   "cell_type": "code",
   "execution_count": 22,
   "id": "b1005667",
   "metadata": {
    "ExecuteTime": {
     "end_time": "2021-11-10T15:43:41.108150Z",
     "start_time": "2021-11-10T15:43:41.012311Z"
    }
   },
   "outputs": [
    {
     "data": {
      "text/plain": [
       "<AxesSubplot:>"
      ]
     },
     "execution_count": 22,
     "metadata": {},
     "output_type": "execute_result"
    },
    {
     "data": {
      "image/png": "[encoded data removed]",
      "text/plain": [
       "<Figure size 432x288 with 1 Axes>"
      ]
     },
     "metadata": {
      "needs_background": "light"
     },
     "output_type": "display_data"
    }
   ],
   "source": [
    "release_month.hist()"
   ]
  },
  {
   "cell_type": "code",
   "execution_count": 23,
   "id": "8d53d15d",
   "metadata": {
    "ExecuteTime": {
     "end_time": "2021-11-10T21:08:16.866277Z",
     "start_time": "2021-11-10T21:08:16.755993Z"
    }
   },
   "outputs": [
    {
     "data": {
      "text/plain": [
       "<AxesSubplot:>"
      ]
     },
     "execution_count": 23,
     "metadata": {},
     "output_type": "execute_result"
    },
    {
     "data": {
      "image/png": "[encoded data removed]",
      "text/plain": [
       "<Figure size 432x288 with 1 Axes>"
      ]
     },
     "metadata": {
      "needs_background": "light"
     },
     "output_type": "display_data"
    }
   ],
   "source": [
    "release_day.hist()"
   ]
  },
  {
   "cell_type": "code",
   "execution_count": 29,
   "id": "1607ff05",
   "metadata": {
    "ExecuteTime": {
     "end_time": "2021-11-10T21:16:40.982097Z",
     "start_time": "2021-11-10T21:16:40.977446Z"
    }
   },
   "outputs": [
    {
     "data": {
      "text/plain": [
       "2"
      ]
     },
     "execution_count": 29,
     "metadata": {},
     "output_type": "execute_result"
    }
   ],
   "source": [
    "import datetime\n",
    "\n",
    "# d = datetime.strptime('2/20/2021', '%m/%d/%Y')\n",
    "\n",
    "d = datetime.date(2021, 11, 10)\n",
    "d.weekday()"
   ]
  },
  {
   "cell_type": "code",
   "execution_count": 110,
   "id": "4140a3aa-8c60-491e-881d-8a6d5cc7660f",
   "metadata": {},
   "outputs": [],
   "source": [
    "class ReleaseDateTransformer(BaseEstimator, TransformerMixin):\n",
    "    def __init__(self):\n",
    "        pass\n",
    "    def fit(self, X, y=None):\n",
    "        return self\n",
    "    def transform(self, X):\n",
    "        \n",
    "        def year_convertor(s):\n",
    "            yy = int(s.split('/')[2])\n",
    "            if yy > 17:\n",
    "                return 1900+yy\n",
    "            else:\n",
    "                return 2000+yy\n",
    "            \n",
    "        def day_of_week_convertor(s):\n",
    "            year = year_convertor(s)\n",
    "            month = int(s.split('/')[0])\n",
    "            day = int(s.split('/')[1])\n",
    "            \n",
    "            return datetime.date(year, month, day).weekday() # Monday is 0\n",
    "        \n",
    "        release_date = pd.Series(X.reshape(-1,))\n",
    "        release_year = release_date.apply(year_convertor)\n",
    "        release_month = release_date.apply(lambda s: int(s.split('/')[1]))\n",
    "        release_day_of_week = release_date.apply(day_of_week_convertor)\n",
    "        \n",
    "        release_year.name = 'release_year'\n",
    "        release_month.name = 'release_month'\n",
    "        release_day_of_week.name = 'release_day_of_week'\n",
    "        \n",
    "        return pd.concat([release_year, release_month, release_day_of_week], axis=1)\n",
    "    \n",
    "t = ReleaseDateTransformer()\n",
    "release_date_transformed = t.fit_transform(train_data['release_date'].values)"
   ]
  },
  {
   "cell_type": "code",
   "execution_count": 108,
   "id": "fce4b4a7-c0fa-498c-a68f-c8851c90890f",
   "metadata": {},
   "outputs": [
    {
     "data": {
      "text/plain": [
       "array([[<AxesSubplot:title={'center':'release_year'}>,\n",
       "        <AxesSubplot:title={'center':'release_month'}>],\n",
       "       [<AxesSubplot:title={'center':'release_day_of_week'}>,\n",
       "        <AxesSubplot:>]], dtype=object)"
      ]
     },
     "execution_count": 108,
     "metadata": {},
     "output_type": "execute_result"
    },
    {
     "data": {
      "image/png": "[encoded data removed]",
      "text/plain": [
       "<Figure size 432x288 with 4 Axes>"
      ]
     },
     "metadata": {
      "needs_background": "light"
     },
     "output_type": "display_data"
    }
   ],
   "source": [
    "release_date_transformed.hist()"
   ]
  },
  {
   "cell_type": "code",
   "execution_count": 44,
   "id": "a937c8d1-5b4d-4764-acbc-ceb7de19df0b",
   "metadata": {},
   "outputs": [
    {
     "data": {
      "text/plain": [
       "4    1348\n",
       "3     615\n",
       "2     449\n",
       "1     190\n",
       "5     161\n",
       "0     124\n",
       "6     113\n",
       "Name: release_day_of_week, dtype: int64"
      ]
     },
     "execution_count": 44,
     "metadata": {},
     "output_type": "execute_result"
    }
   ],
   "source": [
    "release_date_transformed['release_day_of_week'].value_counts()"
   ]
  },
  {
   "cell_type": "markdown",
   "id": "af7af817-2d36-42f8-9b6d-ad43c668c18b",
   "metadata": {},
   "source": [
    "Most releases are on Friday"
   ]
  },
  {
   "cell_type": "markdown",
   "id": "ffa9eb4b-e7c9-48e9-81ec-b217008a74fa",
   "metadata": {
    "tags": []
   },
   "source": [
    "#### Cast and Crew"
   ]
  },
  {
   "cell_type": "code",
   "execution_count": 961,
   "id": "e4ca1a17-61d3-408c-a136-79d6f5c775e5",
   "metadata": {},
   "outputs": [
    {
     "data": {
      "text/plain": [
       "24"
      ]
     },
     "execution_count": 961,
     "metadata": {},
     "output_type": "execute_result"
    }
   ],
   "source": [
    "cast_ex = train_data['cast'].iloc[0]\n",
    "len(ast.literal_eval(cast_ex))"
   ]
  },
  {
   "cell_type": "code",
   "execution_count": 980,
   "id": "602a943e-7bdb-403a-8965-1e4f99733d2b",
   "metadata": {},
   "outputs": [
    {
     "data": {
      "text/plain": [
       "count    2987.000000\n",
       "mean       20.693338\n",
       "std        16.610013\n",
       "min         0.000000\n",
       "25%        11.000000\n",
       "50%        16.000000\n",
       "75%        24.000000\n",
       "max       156.000000\n",
       "Name: cast, dtype: float64"
      ]
     },
     "execution_count": 980,
     "metadata": {},
     "output_type": "execute_result"
    }
   ],
   "source": [
    "mask = train_data['cast'].isna()\n",
    "cast_size = train_data[~mask]['cast'].apply(lambda text: len(ast.literal_eval(text)))\n",
    "cast_size.describe()"
   ]
  },
  {
   "cell_type": "code",
   "execution_count": 981,
   "id": "043f066a-62f4-4c14-8869-a71ff7fab7ea",
   "metadata": {},
   "outputs": [
    {
     "data": {
      "text/plain": [
       "count    2984.000000\n",
       "mean       24.496314\n",
       "std        28.084650\n",
       "min         1.000000\n",
       "25%         8.000000\n",
       "50%        15.000000\n",
       "75%        29.000000\n",
       "max       194.000000\n",
       "Name: crew, dtype: float64"
      ]
     },
     "execution_count": 981,
     "metadata": {},
     "output_type": "execute_result"
    }
   ],
   "source": [
    "mask = train_data['crew'].isna()\n",
    "crew_size = train_data[~mask]['crew'].apply(lambda text: len(ast.literal_eval(text)))\n",
    "crew_size.describe()"
   ]
  },
  {
   "cell_type": "code",
   "execution_count": 991,
   "id": "62d2e446-0eec-4c27-839a-6a445aa6187b",
   "metadata": {},
   "outputs": [
    {
     "data": {
      "text/plain": [
       "(<AxesSubplot:>, <AxesSubplot:>)"
      ]
     },
     "execution_count": 991,
     "metadata": {},
     "output_type": "execute_result"
    },
    {
     "data": {
      "image/png": "[encoded data removed]",
      "text/plain": [
       "<Figure size 432x288 with 1 Axes>"
      ]
     },
     "metadata": {
      "needs_background": "light"
     },
     "output_type": "display_data"
    }
   ],
   "source": [
    "crew_size.hist(), cast_size.hist()"
   ]
  },
  {
   "cell_type": "code",
   "execution_count": 1003,
   "id": "7442a537-2eb9-4232-b564-f568738597be",
   "metadata": {},
   "outputs": [
    {
     "data": {
      "text/plain": [
       "array([[24.],\n",
       "       [20.],\n",
       "       [51.],\n",
       "       ...,\n",
       "       [15.],\n",
       "       [26.],\n",
       "       [34.]])"
      ]
     },
     "execution_count": 1003,
     "metadata": {},
     "output_type": "execute_result"
    }
   ],
   "source": [
    "class AttributeCountTransformer(BaseEstimator, TransformerMixin):\n",
    "    def __init__(self):\n",
    "        pass\n",
    "    def fit(self, X, y=None):\n",
    "        return self\n",
    "    def transform(self, X):\n",
    "        return pd.Series(X.reshape(-1,)).apply(lambda text: len(ast.literal_eval(text))).values.reshape(-1, 1)\n",
    "    \n",
    "act = make_pipeline(SimpleImputer(strategy='constant', fill_value='[]'), AttributeCountTransformer(), SimpleImputer(strategy='median', missing_values=0))\n",
    "act.fit_transform(train_data[['cast']].values)"
   ]
  },
  {
   "cell_type": "markdown",
   "id": "ea097e87-ac8d-4f92-8f60-a5f6d8e5259f",
   "metadata": {
    "tags": []
   },
   "source": [
    "### Categorical Features"
   ]
  },
  {
   "cell_type": "markdown",
   "id": "0c06eebb-ad4f-41e7-9a1d-a153a81641c6",
   "metadata": {
    "tags": []
   },
   "source": [
    "#### original_language and status"
   ]
  },
  {
   "cell_type": "code",
   "execution_count": null,
   "id": "eea7fa1e",
   "metadata": {
    "ExecuteTime": {
     "end_time": "2021-11-10T16:16:45.538467Z",
     "start_time": "2021-11-10T16:16:45.522875Z"
    }
   },
   "outputs": [],
   "source": [
    "train_data[['original_language']].value_counts()"
   ]
  },
  {
   "cell_type": "code",
   "execution_count": null,
   "id": "64aa98a8",
   "metadata": {
    "ExecuteTime": {
     "end_time": "2021-11-10T16:14:55.805301Z",
     "start_time": "2021-11-10T16:14:55.795660Z"
    }
   },
   "outputs": [],
   "source": [
    "enc = OneHotEncoder(handle_unknown='ignore')\n",
    "\n",
    "enc.fit(train_data[['original_language']])\n",
    "\n",
    "enc.categories_"
   ]
  },
  {
   "cell_type": "code",
   "execution_count": null,
   "id": "a91b9794",
   "metadata": {
    "ExecuteTime": {
     "end_time": "2021-11-10T16:17:10.789593Z",
     "start_time": "2021-11-10T16:17:10.777607Z"
    }
   },
   "outputs": [],
   "source": [
    "train_data[['status']].value_counts()"
   ]
  },
  {
   "cell_type": "code",
   "execution_count": null,
   "id": "ca68f98a",
   "metadata": {
    "ExecuteTime": {
     "end_time": "2021-11-10T16:16:13.081040Z",
     "start_time": "2021-11-10T16:16:13.074239Z"
    }
   },
   "outputs": [],
   "source": [
    "enc = OneHotEncoder(handle_unknown='ignore')\n",
    "\n",
    "enc.fit(train_data[['status']])\n",
    "\n",
    "enc.categories_"
   ]
  },
  {
   "cell_type": "markdown",
   "id": "f8e524f5-fca0-4ac4-8c01-25740b7aec32",
   "metadata": {
    "tags": []
   },
   "source": [
    "#### genres, production_companies, production_countries, spoken_languages, and Keywords"
   ]
  },
  {
   "cell_type": "code",
   "execution_count": 374,
   "id": "d87c25bd",
   "metadata": {
    "ExecuteTime": {
     "end_time": "2021-11-10T16:47:31.453958Z",
     "start_time": "2021-11-10T16:47:31.335580Z"
    }
   },
   "outputs": [],
   "source": [
    "def convert(text):\n",
    "    L = []\n",
    "    for i in ast.literal_eval(text):\n",
    "        L.append(i['name'])\n",
    "    return L\n",
    "\n",
    "genres = train_data[train_data['genres'].notna()]['genres'].apply(convert)\n",
    "\n",
    "# train_data[train_data['production_companies'].notna()]['production_companies'].apply(convert)\n",
    "production_countries = train_data[train_data['production_countries'].notna()]['production_countries'].apply(convert)\n",
    "# train_data[train_data['spoken_languages'].notna()]['spoken_languages'].apply(convert)\n",
    "# train_data[train_data['Keywords'].notna()]['Keywords'].apply(convert)"
   ]
  },
  {
   "cell_type": "code",
   "execution_count": 445,
   "id": "6679040b-202b-4b90-833f-7d834952c8a8",
   "metadata": {},
   "outputs": [
    {
     "data": {
      "text/plain": [
       "id                                                                     471\n",
       "belongs_to_collection                                                  NaN\n",
       "budget                                                             2000000\n",
       "genres                                                                 NaN\n",
       "homepage                                                               NaN\n",
       "imdb_id                                                          tt0349159\n",
       "original_language                                                       en\n",
       "original_title             The Book of Mormon Movie, Volume 1: The Journey\n",
       "overview                 The story of Lehi and his wife Sariah and thei...\n",
       "popularity                                                        0.079856\n",
       "poster_path                               /rJnEmqJDMu4aYfALVCcPrjqIDaK.jpg\n",
       "production_companies                                                   NaN\n",
       "production_countries                                                   NaN\n",
       "release_date                                                       9/12/03\n",
       "runtime                                                              120.0\n",
       "spoken_languages                                                       NaN\n",
       "status                                                            Released\n",
       "tagline                  2600 years ago, one family began a remarkable ...\n",
       "title                      The Book of Mormon Movie, Volume 1: The Journey\n",
       "Keywords                                                               NaN\n",
       "cast                     [{'cast_id': 1, 'character': 'Sam', 'credit_id...\n",
       "crew                                                                   NaN\n",
       "revenue                                                            1672730\n",
       "Name: 470, dtype: object"
      ]
     },
     "execution_count": 445,
     "metadata": {},
     "output_type": "execute_result"
    }
   ],
   "source": [
    "train_data.iloc[470]"
   ]
  },
  {
   "cell_type": "code",
   "execution_count": 455,
   "id": "81c77a63-64d3-48b8-8386-2c8978947f4a",
   "metadata": {},
   "outputs": [
    {
     "data": {
      "text/plain": [
       "array([[0., 0., 0., 1., 0., 0., 1., 1., 0., 0., 0., 0., 0., 0., 1., 0.,\n",
       "        0., 0., 0., 0.]])"
      ]
     },
     "execution_count": 455,
     "metadata": {},
     "output_type": "execute_result"
    }
   ],
   "source": [
    "genre_set = set()\n",
    "for gList in genres.values:\n",
    "    genre_set.update(set(gList))\n",
    "genre_map = dict(zip(sorted(genre_set), range(len(genre_set))))\n",
    "\n",
    "arr = np.zeros((1, 20))\n",
    "x = genres.values[1]\n",
    "\n",
    "idx = list(map(lambda g: genre_map[g], x))\n",
    "\n",
    "arr[0, idx] = 1\n",
    "arr"
   ]
  },
  {
   "cell_type": "code",
   "execution_count": 507,
   "id": "63d8a206-76c4-4e38-92ce-b69a0d84fe84",
   "metadata": {},
   "outputs": [
    {
     "data": {
      "text/plain": [
       "{'a'}"
      ]
     },
     "execution_count": 508,
     "metadata": {},
     "output_type": "execute_result"
    }
   ],
   "source": [
    "set(['a', 'b', 'c']) & set()"
   ]
  },
  {
   "cell_type": "code",
   "execution_count": 510,
   "id": "3c2c83e7-4446-414b-8c7a-4e655fcf3b64",
   "metadata": {},
   "outputs": [
    {
     "data": {
      "text/plain": [
       "(array([[0., 0., 0., ..., 0., 0., 0.],\n",
       "        [0., 0., 0., ..., 0., 0., 0.],\n",
       "        [0., 0., 0., ..., 0., 0., 0.],\n",
       "        ...,\n",
       "        [1., 0., 0., ..., 1., 0., 0.],\n",
       "        [0., 0., 0., ..., 0., 0., 0.],\n",
       "        [1., 0., 0., ..., 1., 0., 0.]]),\n",
       " ['Action',\n",
       "  'Adventure',\n",
       "  'Animation',\n",
       "  'Comedy',\n",
       "  'Crime',\n",
       "  'Documentary',\n",
       "  'Drama',\n",
       "  'Family',\n",
       "  'Fantasy',\n",
       "  'Foreign',\n",
       "  'History',\n",
       "  'Horror',\n",
       "  'Music',\n",
       "  'Mystery',\n",
       "  'Romance',\n",
       "  'Science_Fiction',\n",
       "  'TV_Movie',\n",
       "  'Thriller',\n",
       "  'War',\n",
       "  'Western'])"
      ]
     },
     "execution_count": 510,
     "metadata": {},
     "output_type": "execute_result"
    }
   ],
   "source": [
    "class MultinomialAttributeTransformer(BaseEstimator, TransformerMixin):\n",
    "    def __init__(self):\n",
    "        self.categories_ = []\n",
    "        pass\n",
    "    def fit(self, X, y=None):\n",
    "        self.attr_set = set()\n",
    "        for attrList in X:\n",
    "            self.attr_set.update(set(attrList))\n",
    "        self.attr_cardinality = len(self.attr_set)\n",
    "        \n",
    "        self.categories_ = [s.replace(' ', '_') for s in sorted(self.attr_set)]\n",
    "        \n",
    "        self.attr_idx_map = dict(zip(self.categories_, range(self.attr_cardinality)))\n",
    "        return self\n",
    "    def transform(self, X):\n",
    "        arr = np.zeros((X.shape[0], self.attr_cardinality))\n",
    "        \n",
    "        for i, attrList in enumerate(X):\n",
    "            idx = list(map(lambda attr: self.attr_idx_map[attr.replace(' ', '_')], set(attrList)&self.attr_set))\n",
    "            arr[i, idx] = 1\n",
    "            \n",
    "        return arr\n",
    "    \n",
    "mat = MultinomialAttributeTransformer()\n",
    "mat.fit_transform(genres.values), mat.categories_"
   ]
  },
  {
   "cell_type": "code",
   "execution_count": 411,
   "id": "539c7594-679c-4635-8315-fbbc165bafc8",
   "metadata": {},
   "outputs": [
    {
     "data": {
      "text/plain": [
       "(2993,)"
      ]
     },
     "execution_count": 411,
     "metadata": {},
     "output_type": "execute_result"
    }
   ],
   "source": [
    "class ExtractionTransformer(BaseEstimator, TransformerMixin):\n",
    "    def __init__(self):\n",
    "        pass\n",
    "    def fit(self, X, y=None):\n",
    "        return self\n",
    "    def transform(self, X):\n",
    "        return pd.Series(X.reshape(-1,)).apply(convert)\n",
    "    \n",
    "ext = ExtractionTransformer()\n",
    "ext.fit_transform(train_data[train_data['genres'].notna()]['genres'].values).shape"
   ]
  },
  {
   "cell_type": "code",
   "execution_count": 465,
   "id": "42a6af38-7606-4537-a146-1c430f04b136",
   "metadata": {},
   "outputs": [
    {
     "data": {
      "text/plain": [
       "array([0., 0., 0., 0., 0., 0., 0., 0., 0., 0., 0., 0., 0., 0., 0., 0., 0.,\n",
       "       0., 0., 0.])"
      ]
     },
     "execution_count": 465,
     "metadata": {},
     "output_type": "execute_result"
    }
   ],
   "source": [
    "mat_imp = SimpleImputer(strategy='constant', fill_value='[]')\n",
    "mat_pipe = make_pipeline(mat_imp, ExtractionTransformer(), MultinomialAttributeTransformer())\n",
    "genres_tsf = mat_pipe.fit_transform(train_data[['genres']])\n",
    "genres_tsf[470]"
   ]
  },
  {
   "cell_type": "markdown",
   "id": "5c994d4e-4468-4ac8-8518-9531e18d91a4",
   "metadata": {
    "jp-MarkdownHeadingCollapsed": true,
    "tags": []
   },
   "source": [
    "##### Keywords Dimensionality Reduction"
   ]
  },
  {
   "cell_type": "code",
   "execution_count": 557,
   "id": "06594c1a-e2d7-48cf-94c6-12e7f68c89cc",
   "metadata": {},
   "outputs": [
    {
     "data": {
      "text/plain": [
       "(3000, 100)"
      ]
     },
     "execution_count": 557,
     "metadata": {},
     "output_type": "execute_result"
    }
   ],
   "source": [
    "keywords_pipe = make_pipeline(\n",
    "        SimpleImputer(strategy='constant', fill_value='[]'), \n",
    "        ExtractionTransformer(), \n",
    "        MultinomialAttributeTransformer(),\n",
    "        PCA(n_components=100)\n",
    "    )\n",
    "keywords_tsf = keywords_pipe.fit_transform(train_data[['Keywords']])\n",
    "keywords_tsf.shape"
   ]
  },
  {
   "cell_type": "code",
   "execution_count": 560,
   "id": "fc884538-7912-4d9f-a24a-9fe9dcaefdba",
   "metadata": {},
   "outputs": [
    {
     "data": {
      "text/plain": [
       "0.26535779341191496"
      ]
     },
     "execution_count": 560,
     "metadata": {},
     "output_type": "execute_result"
    }
   ],
   "source": [
    "sum(keywords_pipe.named_steps['pca'].explained_variance_ratio_)"
   ]
  },
  {
   "cell_type": "code",
   "execution_count": 547,
   "id": "858a146e-43aa-4e33-a60b-f8505a67b586",
   "metadata": {},
   "outputs": [
    {
     "data": {
      "text/plain": [
       "PCA()"
      ]
     },
     "execution_count": 547,
     "metadata": {},
     "output_type": "execute_result"
    }
   ],
   "source": [
    "pca = PCA()\n",
    "pca.fit(keywords_tsf)"
   ]
  },
  {
   "cell_type": "code",
   "execution_count": 555,
   "id": "af68aafd-0086-4b23-94bc-de13561e8089",
   "metadata": {},
   "outputs": [
    {
     "data": {
      "text/plain": [
       "0.2682089904388687"
      ]
     },
     "execution_count": 555,
     "metadata": {},
     "output_type": "execute_result"
    }
   ],
   "source": [
    "np.cumsum(pca.explained_variance_ratio_)[100]"
   ]
  },
  {
   "cell_type": "code",
   "execution_count": 556,
   "id": "1cd9c7c7-96f2-4ca9-85c9-51e061473015",
   "metadata": {},
   "outputs": [
    {
     "data": {
      "text/plain": [
       "<BarContainer object of 30 artists>"
      ]
     },
     "execution_count": 556,
     "metadata": {},
     "output_type": "execute_result"
    },
    {
     "data": {
      "image/png": "[encoded data removed]",
      "text/plain": [
       "<Figure size 432x288 with 1 Axes>"
      ]
     },
     "metadata": {
      "needs_background": "light"
     },
     "output_type": "display_data"
    }
   ],
   "source": [
    "n=30\n",
    "plt.figure()\n",
    "plt.bar(range(n), 100*pca.explained_variance_ratio_[:n])"
   ]
  },
  {
   "cell_type": "markdown",
   "id": "700b55bf-bcdf-4701-83c6-917b83495d3b",
   "metadata": {
    "tags": []
   },
   "source": [
    "## Conditional Predictor"
   ]
  },
  {
   "cell_type": "code",
   "execution_count": 769,
   "id": "e51c39b1-660a-473f-b3d2-ba63640e77b3",
   "metadata": {},
   "outputs": [],
   "source": [
    "class ConditionalPredictor(BaseEstimator, TransformerMixin):\n",
    "    def __init__(self, pipelineA=None, pipelineB=None, make_mask=None, thresh=None):\n",
    "        self.pipelineA = pipelineA\n",
    "        self.pipelineB = pipelineB\n",
    "        self.make_mask = make_mask\n",
    "        self.thresh = thresh\n",
    "    def fit(self, X, y=None):\n",
    "        mask = self.make_mask(X, self.thresh)\n",
    "        self.pipelineA.fit(X[mask], y[mask])\n",
    "        self.pipelineB.fit(X[~mask], y[~mask])\n",
    "        return self\n",
    "    def predict(self, X):\n",
    "        mask = self.make_mask(X, self.thresh)\n",
    "        y_pred_a = self.pipelineA.predict(X[mask])\n",
    "        y_pred_b = self.pipelineB.predict(X[~mask])\n",
    "        \n",
    "        y = np.zeros_like(np.hstack((y_pred_a, y_pred_b)))\n",
    "        y[mask] = y_pred_a\n",
    "        y[~mask] = y_pred_b\n",
    "        \n",
    "        return y"
   ]
  },
  {
   "cell_type": "code",
   "execution_count": 770,
   "id": "810e65a5-94b3-4759-8f07-9763f0fadaf2",
   "metadata": {},
   "outputs": [],
   "source": [
    "y = np.log(train_data['revenue'])\n",
    "X = train_data.drop(['revenue'], axis=1)\n",
    "X_train, X_test, y_train, y_test = train_test_split(X, y, test_size=0.2, random_state=0, shuffle=True)\n",
    "\n",
    "def make_mask(X, thresh=500):\n",
    "    return X['budget'] < thresh"
   ]
  },
  {
   "cell_type": "code",
   "execution_count": 771,
   "id": "3ce089fa-cc7b-46d6-84e9-00d82df9d188",
   "metadata": {
    "tags": []
   },
   "outputs": [
    {
     "data": {
      "text/plain": [
       "ConditionalPredictor(make_mask=<function make_mask at 0x28c43c940>,\n",
       "                     pipelineA=Pipeline(steps=[('columntransformer',\n",
       "                                                ColumnTransformer(transformers=[('popularity',\n",
       "                                                                                 Pipeline(steps=[('simpleimputer',\n",
       "                                                                                                  SimpleImputer(strategy='median')),\n",
       "                                                                                                 ('standardscaler',\n",
       "                                                                                                  StandardScaler())]),\n",
       "                                                                                 ['popularity']),\n",
       "                                                                                ('runtime',\n",
       "                                                                                 Pipeline(steps=[('pipeline',\n",
       "                                                                                                  Pipeline(steps=[('simpleimputer-1...\n",
       "                                                                                                                   SimpleImputer(strategy='median')),\n",
       "                                                                                                                  ('simpleimputer-2',\n",
       "                                                                                                                   SimpleImputer(missing_values=0,\n",
       "                                                                                                                                 strategy='median'))])),\n",
       "                                                                                                 ('standardscaler',\n",
       "                                                                                                  StandardScaler())]),\n",
       "                                                                                 ['runtime']),\n",
       "                                                                                ('release_date',\n",
       "                                                                                 Pipeline(steps=[('simpleimputer',\n",
       "                                                                                                  SimpleImputer(strategy='most_frequent')),\n",
       "                                                                                                 ('releasedatetransformer',\n",
       "                                                                                                  ReleaseDateTransformer())]),\n",
       "                                                                                 ['release_date'])])),\n",
       "                                               ('ridge', Ridge())]),\n",
       "                     thresh=50)"
      ]
     },
     "execution_count": 771,
     "metadata": {},
     "output_type": "execute_result"
    }
   ],
   "source": [
    "def common_config():\n",
    "    return [\n",
    "    ('popularity', make_pipeline(\n",
    "        SimpleImputer(strategy='median'), \n",
    "        StandardScaler()\n",
    "    ), ['popularity']),\n",
    "    \n",
    "    ('runtime', make_pipeline(\n",
    "        RuntimeImputer, \n",
    "        StandardScaler()\n",
    "    ), ['runtime']),\n",
    "    \n",
    "    ('release_date', make_pipeline(\n",
    "        SimpleImputer(strategy='most_frequent'), \n",
    "        ReleaseDateTransformer()\n",
    "    ), ['release_date'])\n",
    "]\n",
    "\n",
    "prep_pipeline_A = ColumnTransformer(common_config(), remainder='drop')\n",
    "\n",
    "prep_pipeline_B = ColumnTransformer([\n",
    "    ('budget', make_pipeline(\n",
    "        SimpleImputer(strategy='median'),\n",
    "        FunctionTransformer(np.log1p),\n",
    "        StandardScaler()\n",
    "    ), ['budget'])] + \n",
    "    \n",
    "    common_config()\n",
    "    , remainder='drop')\n",
    "\n",
    "full_pipeline_A = make_pipeline(prep_pipeline_A, Ridge())\n",
    "full_pipeline_B = make_pipeline(prep_pipeline_B, Ridge())\n",
    "\n",
    "cond_pipeline = ConditionalPredictor(full_pipeline_A, full_pipeline_B, make_mask, 50)\n",
    "\n",
    "cond_pipeline.fit(X_train, y_train)"
   ]
  },
  {
   "cell_type": "code",
   "execution_count": 772,
   "id": "71620bdc-9718-4d9e-9275-3e28eef843ad",
   "metadata": {},
   "outputs": [
    {
     "data": {
      "text/plain": [
       "2.249930048302935"
      ]
     },
     "execution_count": 772,
     "metadata": {},
     "output_type": "execute_result"
    }
   ],
   "source": [
    "y_pred = cond_pipeline.predict(X_test)\n",
    "\n",
    "mean_squared_error(y_test, y_pred, squared=False)"
   ]
  },
  {
   "cell_type": "markdown",
   "id": "b22b0c8c-d435-4bdd-94f5-cb15a990ecf0",
   "metadata": {
    "tags": []
   },
   "source": [
    "## Baseline Estimator"
   ]
  },
  {
   "cell_type": "markdown",
   "id": "e25fa47e-ff2c-4a3f-8d06-a0f4e2752f99",
   "metadata": {},
   "source": [
    "pipeline\n",
    "\n",
    "- budget, popularity: median imputer and standard scaler\n",
    "- runtime: runtime_imputer and standard scaler\n",
    "- release_date: release_date_transformer, OHE on month and weekday, standard scaler on year\n",
    "- original_language and status: OHE"
   ]
  },
  {
   "cell_type": "code",
   "execution_count": 1033,
   "id": "a6fee90b-3c41-4ea8-a6d2-fe2c3d1ca0b4",
   "metadata": {},
   "outputs": [
    {
     "data": {
      "text/plain": [
       "((2400, 22), (600, 22), (2400,), (600,))"
      ]
     },
     "execution_count": 1033,
     "metadata": {},
     "output_type": "execute_result"
    }
   ],
   "source": [
    "y = np.log(train_data['revenue'])\n",
    "X = train_data.drop(['revenue'], axis=1)\n",
    "X_train, X_test, y_train, y_test = train_test_split(X, y, test_size=0.2, random_state=0, shuffle=True)\n",
    "    \n",
    "X_train.shape, X_test.shape, y_train.shape, y_test.shape"
   ]
  },
  {
   "cell_type": "code",
   "execution_count": 1031,
   "id": "85b83335-af7a-4318-abc9-d6993dd5466a",
   "metadata": {},
   "outputs": [],
   "source": [
    "RuntimeImputer = make_pipeline(SimpleImputer(strategy='median'), SimpleImputer(missing_values=0, strategy='median'))\n",
    "\n",
    "def MAET():\n",
    "    return make_pipeline(\n",
    "        SimpleImputer(strategy='constant', fill_value='[]'), \n",
    "        ExtractionTransformer(), \n",
    "        MultinomialAttributeTransformer()\n",
    "    )\n",
    "\n",
    "def make_attribute_count_pipeline():\n",
    "    return make_pipeline(\n",
    "            SimpleImputer(strategy='constant', fill_value='[]'), \n",
    "            AttributeCountTransformer(), \n",
    "            SimpleImputer(strategy='median', missing_values=0),\n",
    "            StandardScaler()\n",
    "    )\n",
    "\n",
    "KEYWORDS_DIM = 100\n",
    "\n",
    "multinomial_attributes = ['cast', 'crew', 'production_companies', 'production_countries', 'spoken_languages']\n",
    "\n",
    "\n",
    "def make_prep_pipeline(include_budget = True):\n",
    "    budget_config = [('budget', make_pipeline(\n",
    "            SimpleImputer(strategy='median'),\n",
    "            FunctionTransformer(np.log1p),\n",
    "            StandardScaler()\n",
    "        ), ['budget'])]\n",
    "    \n",
    "    config = [\n",
    "        ('popularity', make_pipeline(\n",
    "            SimpleImputer(strategy='median'), \n",
    "            StandardScaler()\n",
    "        ), ['popularity']),\n",
    "\n",
    "        ('runtime', make_pipeline(\n",
    "            RuntimeImputer, \n",
    "            StandardScaler()\n",
    "        ), ['runtime']),\n",
    "\n",
    "        ('release_date', make_pipeline(\n",
    "            SimpleImputer(strategy='most_frequent'), \n",
    "            ReleaseDateTransformer()\n",
    "        ), ['release_date']),\n",
    "\n",
    "        ('original_language and status', make_pipeline(\n",
    "            SimpleImputer(strategy='most_frequent'), \n",
    "            OneHotEncoder(handle_unknown='ignore')\n",
    "        ), ['original_language', 'status']),\n",
    "\n",
    "        ('genres', MAET(), ['genres']),\n",
    "\n",
    "#         ('production_companies', MAET(), ['production_companies']),\n",
    "        \n",
    "#         ('production_countries', MAET(), ['production_countries']),\n",
    "\n",
    "#         ('spoken_languages', MAET(), ['spoken_languages']),\n",
    "\n",
    "        ('Keywords', make_pipeline(\n",
    "            SimpleImputer(strategy='constant', fill_value='[]'), \n",
    "            ExtractionTransformer(), \n",
    "            MultinomialAttributeTransformer(),\n",
    "            PCA(n_components = KEYWORDS_DIM)\n",
    "        ), ['Keywords']),\n",
    "        \n",
    "        ('cast_counts', make_attribute_count_pipeline(), ['cast']),\n",
    "        ('crew_counts', make_attribute_count_pipeline(), ['crew']),\n",
    "        ('production_companies_counts', make_attribute_count_pipeline(), ['production_companies']),\n",
    "        ('production_countries_counts', make_attribute_count_pipeline(), ['production_countries']),\n",
    "        ('spoken_languages_counts', make_attribute_count_pipeline(), ['spoken_languages'])\n",
    "    ]\n",
    "    \n",
    "    if include_budget:\n",
    "        config = budget_config + config\n",
    "    \n",
    "    return ColumnTransformer(config, remainder='drop')\n",
    "\n",
    "def make_full_cond_pipeline(predictorA, predictorB):\n",
    "    full_pipeline_A = make_pipeline(make_prep_pipeline(include_budget=False), predictorA)\n",
    "    full_pipeline_B = make_pipeline(make_prep_pipeline(), predictorB)\n",
    "\n",
    "    return ConditionalPredictor(full_pipeline_A, full_pipeline_B, make_mask, 500)\n",
    "\n",
    "full_cond_pipeline = make_full_cond_pipeline(Ridge(), Ridge())"
   ]
  },
  {
   "cell_type": "code",
   "execution_count": 1032,
   "id": "09cca0b2-3dec-42c3-b544-b0c7ae8abf85",
   "metadata": {},
   "outputs": [
    {
     "data": {
      "text/plain": [
       "(2400, 168)"
      ]
     },
     "execution_count": 1032,
     "metadata": {},
     "output_type": "execute_result"
    }
   ],
   "source": [
    "def get_features(prep_pipeline, budget=True):\n",
    "    x = prep_pipeline.named_transformers_['original_language and status'].named_steps['onehotencoder'].categories_\n",
    "    genres_ft = prep_pipeline.named_transformers_['genres'].named_steps['multinomialattributetransformer'].categories_\n",
    "    # production_companies_ft = prep_pipeline.named_transformers_['production_companies'].named_steps['multinomialattributetransformer'].categories_\n",
    "    # production_countries_ft = prep_pipeline.named_transformers_['production_countries'].named_steps['multinomialattributetransformer'].categories_\n",
    "    # spoken_langauges_ft = prep_pipeline.named_transformers_['spoken_languages'].named_steps['multinomialattributetransformer'].categories_\n",
    "    # keywords_ft = prep_pipeline.named_transformers_['Keywords'].named_steps['multinomialattributetransformer'].categories_\n",
    "    keywords_ft = map(str, range(KEYWORDS_DIM))\n",
    "    counts = [f'{attr}_counts' for attr in multinomial_attributes]\n",
    "# ['comp_'+f for f in production_companies_ft] + \\\n",
    "# ['pc_'+f for f in production_countries_ft] + \\\n",
    "# ['sl_'+f for f in spoken_langauges_ft] + \\\n",
    "    features = ['popularity', 'runtime', 'release_year', 'release_month', 'release_DOW'] + \\\n",
    "                list(x[0]) + list(x[1]) + \\\n",
    "                ['genre_'+f for f in genres_ft] +\\\n",
    "                ['kw_'+f for f in keywords_ft] + \\\n",
    "                counts\n",
    "    if budget:\n",
    "        features = ['budget'] + features\n",
    "    return features\n",
    "\n",
    "prep_pipeline = make_prep_pipeline()\n",
    "X_train_tsf = prep_pipeline.fit_transform(X_train)\n",
    "\n",
    "features = get_features(prep_pipeline)\n",
    "\n",
    "data_tsf = pd.DataFrame(X_train_tsf, columns=features)\n",
    "data_tsf.shape"
   ]
  },
  {
   "cell_type": "code",
   "execution_count": 1034,
   "id": "dde303d5-b397-4307-903d-ac48de9d3469",
   "metadata": {},
   "outputs": [
    {
     "data": {
      "text/plain": [
       "2.3072637778498875"
      ]
     },
     "execution_count": 1034,
     "metadata": {},
     "output_type": "execute_result"
    }
   ],
   "source": [
    "full_cond_pipeline.fit(X_train, y_train)\n",
    "y_pred = full_cond_pipeline.predict(X_test)\n",
    "rmsle = mean_squared_error(y_test, y_pred, squared=False)\n",
    "rmsle"
   ]
  },
  {
   "cell_type": "code",
   "execution_count": 1035,
   "id": "a067322a-d9a7-4f20-b73b-959111007712",
   "metadata": {},
   "outputs": [
    {
     "data": {
      "text/plain": [
       "2.013197917508092"
      ]
     },
     "execution_count": 1035,
     "metadata": {},
     "output_type": "execute_result"
    }
   ],
   "source": [
    "train_error = mean_squared_error(y_train, full_cond_pipeline.predict(X_train), squared=False)\n",
    "train_error"
   ]
  },
  {
   "cell_type": "code",
   "execution_count": 1036,
   "id": "45eeaf00-d707-415b-996d-db960cf6a4c3",
   "metadata": {},
   "outputs": [
    {
     "data": {
      "text/html": [
       "<div>\n",
       "<style scoped>\n",
       "    .dataframe tbody tr th:only-of-type {\n",
       "        vertical-align: middle;\n",
       "    }\n",
       "\n",
       "    .dataframe tbody tr th {\n",
       "        vertical-align: top;\n",
       "    }\n",
       "\n",
       "    .dataframe thead th {\n",
       "        text-align: right;\n",
       "    }\n",
       "</style>\n",
       "<table border=\"1\" class=\"dataframe\">\n",
       "  <thead>\n",
       "    <tr style=\"text-align: right;\">\n",
       "      <th></th>\n",
       "      <th>ExpID</th>\n",
       "      <th>Train Score</th>\n",
       "      <th>CV Score</th>\n",
       "      <th>Test Score</th>\n",
       "      <th>Train Time(s)</th>\n",
       "      <th>Test Time(s)</th>\n",
       "    </tr>\n",
       "  </thead>\n",
       "  <tbody>\n",
       "    <tr>\n",
       "      <th>0</th>\n",
       "      <td>Baseline_Cond_Ridge</td>\n",
       "      <td>---</td>\n",
       "      <td>2.0132</td>\n",
       "      <td>2.30726</td>\n",
       "      <td>---</td>\n",
       "      <td>---</td>\n",
       "    </tr>\n",
       "  </tbody>\n",
       "</table>\n",
       "</div>"
      ],
      "text/plain": [
       "                 ExpID Train Score  CV Score  Test Score Train Time(s)  \\\n",
       "0  Baseline_Cond_Ridge         ---    2.0132     2.30726           ---   \n",
       "\n",
       "  Test Time(s)  \n",
       "0          ---  "
      ]
     },
     "execution_count": 1036,
     "metadata": {},
     "output_type": "execute_result"
    }
   ],
   "source": [
    "results = pd.DataFrame(columns=[\"ExpID\", \"Train Score\", \"CV Score\", \"Test Score\", \"Train Time(s)\", \"Test Time(s)\"])\n",
    "results.loc[0] = [\"Baseline_Cond_Ridge\", \"---\", np.round(train_error, 5), np.round(rmsle, 5), \"---\", \"---\"]\n",
    "results"
   ]
  },
  {
   "cell_type": "code",
   "execution_count": 714,
   "id": "add22ef5-115c-4fc2-8c48-d4edb956e8ac",
   "metadata": {},
   "outputs": [],
   "source": [
    "def kaggle_submission(name, model, X, y, test_data, submissions_filename, output_location):\n",
    "    model.fit(X, y)\n",
    "    y_pred = model.predict(test_data)\n",
    "    \n",
    "    subs = pd.read_csv(submissions_filename)\n",
    "    subs['revenue'] = np.exp(y_pred)\n",
    "    \n",
    "    output_filename = output_location + '/' + name + '.csv'\n",
    "    subs.to_csv(output_filename, index=False)\n",
    "    \n",
    "    print(f'kaggle competitions submit -c tmdb-box-office-prediction -f {output_filename} -m \"{name}\"')"
   ]
  },
  {
   "cell_type": "code",
   "execution_count": 715,
   "id": "d1efd4af-e177-41b9-8ae5-284e34e53dbe",
   "metadata": {},
   "outputs": [
    {
     "name": "stdout",
     "output_type": "stream",
     "text": [
      "kaggle competitions submit -c tmdb-box-office-prediction -f predictions/baseline_cond_Ridge.csv -m \"baseline_cond_Ridge\"\n"
     ]
    }
   ],
   "source": [
    "kaggle_submission('baseline_cond_Ridge', full_cond_pipeline, X, y, test_data, 'data/sample_submission.csv', 'predictions')"
   ]
  },
  {
   "cell_type": "markdown",
   "id": "43e80c35-194e-4c5e-b43f-5c30fe13f24c",
   "metadata": {
    "tags": []
   },
   "source": [
    "## Grid Search over Variety of Algorithms"
   ]
  },
  {
   "cell_type": "code",
   "execution_count": 614,
   "id": "c443450a-b933-4db8-83f6-767f00e01c9b",
   "metadata": {},
   "outputs": [],
   "source": [
    "def log_random(a, b, n):\n",
    "    loga, logb = np.log(a), np.log(b)\n",
    "    x = loga + (logb-loga)*np.random.random(n)\n",
    "    y = np.exp(x)\n",
    "    return y\n",
    "\n",
    "def log_linear(a, b, n):\n",
    "    loga, logb = np.log(a), np.log(b)\n",
    "    x = np.linspace(loga, logb, n)\n",
    "    return np.exp(x)\n",
    "    \n",
    "# sorted(np.round(log_random(0.01, 10, 10), 5)), sorted(np.round(log_linear(0.1, 10, 10), 5))"
   ]
  },
  {
   "cell_type": "markdown",
   "id": "ee95a596-4fda-4e55-8444-8664bc50ab15",
   "metadata": {
    "tags": []
   },
   "source": [
    "### Search for Pipeline with budget (>500)"
   ]
  },
  {
   "cell_type": "code",
   "execution_count": 939,
   "id": "218edbe3-cfa8-467f-94db-0e6219eef6e5",
   "metadata": {},
   "outputs": [
    {
     "name": "stdout",
     "output_type": "stream",
     "text": [
      "(1736, 22) (435, 22) (1736,) (435,)\n",
      "****** START  RandomForestRegressor *****\n",
      "Parameters:\n",
      "\tn_estimators: [100, 200, 300]\n",
      "Fitting 5 folds for each of 3 candidates, totalling 15 fits\n",
      "Best Parameters:\n",
      "\tpredictor__n_estimators: 100\n",
      "****** FINISH  RandomForestRegressor  *****\n",
      "\n"
     ]
    },
    {
     "data": {
      "text/html": [
       "<div>\n",
       "<style scoped>\n",
       "    .dataframe tbody tr th:only-of-type {\n",
       "        vertical-align: middle;\n",
       "    }\n",
       "\n",
       "    .dataframe tbody tr th {\n",
       "        vertical-align: top;\n",
       "    }\n",
       "\n",
       "    .dataframe thead th {\n",
       "        text-align: right;\n",
       "    }\n",
       "</style>\n",
       "<table border=\"1\" class=\"dataframe\">\n",
       "  <thead>\n",
       "    <tr style=\"text-align: right;\">\n",
       "      <th></th>\n",
       "      <th>ExpID</th>\n",
       "      <th>Train Score</th>\n",
       "      <th>CV Score</th>\n",
       "      <th>Test Score</th>\n",
       "      <th>Train Time(s)</th>\n",
       "      <th>Test Time(s)</th>\n",
       "    </tr>\n",
       "  </thead>\n",
       "  <tbody>\n",
       "    <tr>\n",
       "      <th>0</th>\n",
       "      <td>Baseline_Cond_Ridge</td>\n",
       "      <td>---</td>\n",
       "      <td>1.01968</td>\n",
       "      <td>2.31510</td>\n",
       "      <td>---</td>\n",
       "      <td>---</td>\n",
       "    </tr>\n",
       "    <tr>\n",
       "      <th>1</th>\n",
       "      <td>RandomForestRegressor</td>\n",
       "      <td>1.30787</td>\n",
       "      <td>1.77799</td>\n",
       "      <td>1.66521</td>\n",
       "      <td>2.9294</td>\n",
       "      <td>0.0859</td>\n",
       "    </tr>\n",
       "    <tr>\n",
       "      <th>2</th>\n",
       "      <td>wo_budgetExtraTreesRegressor</td>\n",
       "      <td>2.65535</td>\n",
       "      <td>3.14939</td>\n",
       "      <td>2.99258</td>\n",
       "      <td>1.5931</td>\n",
       "      <td>0.0391</td>\n",
       "    </tr>\n",
       "    <tr>\n",
       "      <th>3</th>\n",
       "      <td>wo_budgetKNeighborsRegressor</td>\n",
       "      <td>0.00029</td>\n",
       "      <td>3.33616</td>\n",
       "      <td>3.23951</td>\n",
       "      <td>0.1666</td>\n",
       "      <td>0.0389</td>\n",
       "    </tr>\n",
       "    <tr>\n",
       "      <th>4</th>\n",
       "      <td>wo_budgetRandomForestRegressor</td>\n",
       "      <td>2.36839</td>\n",
       "      <td>3.13262</td>\n",
       "      <td>2.93220</td>\n",
       "      <td>1.2626</td>\n",
       "      <td>0.0438</td>\n",
       "    </tr>\n",
       "  </tbody>\n",
       "</table>\n",
       "</div>"
      ],
      "text/plain": [
       "                            ExpID Train Score  CV Score  Test Score  \\\n",
       "0             Baseline_Cond_Ridge         ---   1.01968     2.31510   \n",
       "1           RandomForestRegressor     1.30787   1.77799     1.66521   \n",
       "2    wo_budgetExtraTreesRegressor     2.65535   3.14939     2.99258   \n",
       "3    wo_budgetKNeighborsRegressor     0.00029   3.33616     3.23951   \n",
       "4  wo_budgetRandomForestRegressor     2.36839   3.13262     2.93220   \n",
       "\n",
       "  Train Time(s) Test Time(s)  \n",
       "0           ---          ---  \n",
       "1        2.9294       0.0859  \n",
       "2        1.5931       0.0391  \n",
       "3        0.1666       0.0389  \n",
       "4        1.2626       0.0438  "
      ]
     },
     "execution_count": 939,
     "metadata": {},
     "output_type": "execute_result"
    }
   ],
   "source": [
    "def conductGridSearch(models, params_grid, prep_pipeline, scoring, \n",
    "                      X_train, y_train, X_test, y_test, \n",
    "                      results, prefix='', i=0, n_jobs=4, verbose=1):\n",
    "    i = 0\n",
    "    for (name, model) in models:\n",
    "        i += 1\n",
    "        # Print model and parameters\n",
    "        print('****** START',prefix, name,'*****')\n",
    "        parameters = params_grid.get(name, {})\n",
    "        print(\"Parameters:\")\n",
    "        if 'features' in param_grid:\n",
    "            for p in sorted(params_grid['features']):\n",
    "                print(\"\\t\"+str(p)+\": \"+ str(params_grid['features'][p]))\n",
    "        for p in sorted(parameters.keys()):\n",
    "            print(\"\\t\"+str(p)+\": \"+ str(parameters[p]))\n",
    "        \n",
    "        # generate the pipeline\n",
    "        full_pipeline_with_predictor = Pipeline([\n",
    "            (\"preparation\", prep_pipeline),\n",
    "            (\"predictor\", model)\n",
    "        ])\n",
    "        \n",
    "        # Execute the grid search\n",
    "        params = params_grid.get('features', {})\n",
    "        for p in parameters.keys():\n",
    "            pipe_key = 'predictor__'+str(p)\n",
    "            params[pipe_key] = parameters[p] \n",
    "        grid_search = GridSearchCV(full_pipeline_with_predictor, params, scoring=scoring, cv=5, \n",
    "                                   n_jobs=n_jobs, verbose=verbose)\n",
    "        grid_search.fit(X_train, y_train)\n",
    "        \n",
    "        \n",
    "        best_train_score = -1*np.round(scoring(grid_search.best_estimator_, X_train, y_train), 5)\n",
    "        \n",
    "        # Best estimator score\n",
    "        best_cv_score = -1*np.round(grid_search.best_score_, 5)\n",
    "\n",
    "        # Best estimator fitting time\n",
    "        start = time.time()\n",
    "        grid_search.best_estimator_.fit(X_train, y_train)\n",
    "        train_time = round(time.time() - start, 4)\n",
    "\n",
    "        # Best estimator prediction time\n",
    "        start = time.time()\n",
    "        best_test_score = -1*np.round(scoring(grid_search.best_estimator_, X_test, y_test), 5)\n",
    "        test_time = round(time.time() - start, 4)\n",
    "        \n",
    "        # Collect the best parameters found by the grid search\n",
    "        print(\"Best Parameters:\")\n",
    "        best_parameters = grid_search.best_estimator_.get_params()\n",
    "        param_dump = []\n",
    "        for param_name in sorted(params.keys()):\n",
    "            param_dump.append((param_name, best_parameters[param_name]))\n",
    "            print(\"\\t\"+str(param_name)+\": \" + str(best_parameters[param_name]))\n",
    "        print(\"****** FINISH\",prefix,name,\" *****\")\n",
    "        print(\"\")\n",
    "        \n",
    "        # Record the results\n",
    "        results.loc[i] = [prefix+name, best_train_score, best_cv_score, best_test_score, train_time, test_time]\n",
    "\n",
    "        \n",
    "from sklearn.neural_network import MLPRegressor   \n",
    "from sklearn.ensemble import ExtraTreesRegressor\n",
    "from sklearn.neighbors import KNeighborsRegressor\n",
    "from sklearn.ensemble import RandomForestRegressor\n",
    "        \n",
    "models = [\n",
    "    # ('Ridge', Ridge(alpha=26)),\n",
    "    # ('ExtraTreesRegressor', ExtraTreesRegressor()),\n",
    "    # ('KNeighborsRegressor', KNeighborsRegressor(n_neighbors=11, weights='distance', p=2)),\n",
    "    ('RandomForestRegressor', RandomForestRegressor(max_depth=40, min_samples_leaf=10, n_jobs=4, random_state=1000))\n",
    "]\n",
    "\n",
    "param_grid = {\n",
    "    # 'features': {\n",
    "    #     'preparation__Keywords__pca__n_components': [30, 100, 300]\n",
    "    # },\n",
    "    # 'Ridge': {\n",
    "    #     'alpha': range(24, 34, 2) #log_linear(25, 100, 10) # 26\n",
    "    # },\n",
    "    # 'KNeighborsRegressor': {\n",
    "    #     'n_neighbors': np.arange(3,30,2), # 11\n",
    "    #     'weights': ['uniform', 'distance'], # distance\n",
    "    #     'p': [1, 2] # 2\n",
    "    # }\n",
    "    'RandomForestRegressor': {\n",
    "            # 'max_depth': np.arange(25, 60, 5), #40\n",
    "            # 'max_features': [\"auto\", \"sqrt\", \"log2\"], #auto\n",
    "            # 'min_samples_split': [2,4,5,6], # 2\n",
    "            # 'min_samples_leaf': [5, 10, 15], # 10\n",
    "            # 'bootstrap': [True, False], # True which is the default\n",
    "            'n_estimators':[100, 200, 300] # 100\n",
    "    },\n",
    "    'ExtraTreesRegressor': {\n",
    "            # 'max_depth': list(range(10, 20)), #16\n",
    "            # 'max_features': [\"auto\", \"sqrt\", \"log2\"], #auto\n",
    "            # 'min_samples_split': range(40, 52, 2), # 47, 48\n",
    "            # 'min_samples_leaf': [1, 5, 7, 10, 12, 14, 16], # 10\n",
    "            # 'bootstrap': [True, False], # True which is the default\n",
    "            # 'n_estimators':[100, 200, 300], # 200\n",
    "    }\n",
    "}\n",
    "\n",
    "root_mean_squared_error = make_scorer(mean_squared_error, squared=False, greater_is_better=False)\n",
    "\n",
    "prep_pipeline = make_prep_pipeline()\n",
    "\n",
    "mask = train_data['budget'] > 500\n",
    "B = train_data[mask]\n",
    "y = np.log(B['revenue'])\n",
    "X = B.drop(['revenue'], axis=1)\n",
    "X_train, X_test, y_train, y_test = train_test_split(X, y, test_size=0.2, shuffle=True, random_state=0)\n",
    "\n",
    "print(X_train.shape, X_test.shape, y_train.shape, y_test.shape)\n",
    "\n",
    "conductGridSearch(models, param_grid, prep_pipeline, root_mean_squared_error, \n",
    "                 X_train, y_train, X_test, y_test,\n",
    "                 results)\n",
    "results"
   ]
  },
  {
   "cell_type": "code",
   "execution_count": 263,
   "id": "8cb9003a",
   "metadata": {},
   "outputs": [
    {
     "data": {
      "text/html": [
       "<div>\n",
       "<style scoped>\n",
       "    .dataframe tbody tr th:only-of-type {\n",
       "        vertical-align: middle;\n",
       "    }\n",
       "\n",
       "    .dataframe tbody tr th {\n",
       "        vertical-align: top;\n",
       "    }\n",
       "\n",
       "    .dataframe thead th {\n",
       "        text-align: right;\n",
       "    }\n",
       "</style>\n",
       "<table border=\"1\" class=\"dataframe\">\n",
       "  <thead>\n",
       "    <tr style=\"text-align: right;\">\n",
       "      <th></th>\n",
       "      <th>ExpID</th>\n",
       "      <th>Best CrossVal Score</th>\n",
       "      <th>Test Score</th>\n",
       "      <th>Train Time(s)</th>\n",
       "      <th>Test Time(s)</th>\n",
       "    </tr>\n",
       "  </thead>\n",
       "  <tbody>\n",
       "    <tr>\n",
       "      <th>0</th>\n",
       "      <td>Baseline_RidgeCV</td>\n",
       "      <td>---</td>\n",
       "      <td>2.52997</td>\n",
       "      <td>---</td>\n",
       "      <td>---</td>\n",
       "    </tr>\n",
       "    <tr>\n",
       "      <th>1</th>\n",
       "      <td>ExtraTreesRegressor</td>\n",
       "      <td>2.20049</td>\n",
       "      <td>2.15591</td>\n",
       "      <td>1.5887</td>\n",
       "      <td>0.0217</td>\n",
       "    </tr>\n",
       "    <tr>\n",
       "      <th>2</th>\n",
       "      <td>KNeighborsRegressor</td>\n",
       "      <td>2.61702</td>\n",
       "      <td>2.43895</td>\n",
       "      <td>0.0165</td>\n",
       "      <td>0.0286</td>\n",
       "    </tr>\n",
       "    <tr>\n",
       "      <th>3</th>\n",
       "      <td>RandomForestRegressor</td>\n",
       "      <td>2.24367</td>\n",
       "      <td>2.11608</td>\n",
       "      <td>1.3337</td>\n",
       "      <td>0.0176</td>\n",
       "    </tr>\n",
       "  </tbody>\n",
       "</table>\n",
       "</div>"
      ],
      "text/plain": [
       "                   ExpID Best CrossVal Score  Test Score Train Time(s)  \\\n",
       "0       Baseline_RidgeCV                 ---     2.52997           ---   \n",
       "1    ExtraTreesRegressor             2.20049     2.15591        1.5887   \n",
       "2    KNeighborsRegressor             2.61702     2.43895        0.0165   \n",
       "3  RandomForestRegressor             2.24367     2.11608        1.3337   \n",
       "\n",
       "  Test Time(s)  \n",
       "0          ---  \n",
       "1       0.0217  \n",
       "2       0.0286  \n",
       "3       0.0176  "
      ]
     },
     "execution_count": 263,
     "metadata": {},
     "output_type": "execute_result"
    }
   ],
   "source": [
    "results"
   ]
  },
  {
   "cell_type": "markdown",
   "id": "1572ab42-8572-449e-971f-a67458d21e8a",
   "metadata": {
    "tags": []
   },
   "source": [
    "### Random Forest Regressor - Feature Importances"
   ]
  },
  {
   "cell_type": "code",
   "execution_count": 1038,
   "id": "970916ed-5dba-469d-80a5-9bdf9ebbb18a",
   "metadata": {},
   "outputs": [
    {
     "data": {
      "text/plain": [
       "Pipeline(steps=[('columntransformer',\n",
       "                 ColumnTransformer(transformers=[('budget',\n",
       "                                                  Pipeline(steps=[('simpleimputer',\n",
       "                                                                   SimpleImputer(strategy='median')),\n",
       "                                                                  ('functiontransformer',\n",
       "                                                                   FunctionTransformer(func=<ufunc 'log1p'>)),\n",
       "                                                                  ('standardscaler',\n",
       "                                                                   StandardScaler())]),\n",
       "                                                  ['budget']),\n",
       "                                                 ('popularity',\n",
       "                                                  Pipeline(steps=[('simpleimputer',\n",
       "                                                                   SimpleImputer(strategy='median')),\n",
       "                                                                  ('standa...\n",
       "                                                  Pipeline(steps=[('simpleimputer-1',\n",
       "                                                                   SimpleImputer(fill_value='[]',\n",
       "                                                                                 strategy='constant')),\n",
       "                                                                  ('attributecounttransformer',\n",
       "                                                                   AttributeCountTransformer()),\n",
       "                                                                  ('simpleimputer-2',\n",
       "                                                                   SimpleImputer(missing_values=0,\n",
       "                                                                                 strategy='median')),\n",
       "                                                                  ('standardscaler',\n",
       "                                                                   StandardScaler())]),\n",
       "                                                  ['spoken_languages'])])),\n",
       "                ('randomforestregressor',\n",
       "                 RandomForestRegressor(max_depth=40, min_samples_leaf=10,\n",
       "                                       n_jobs=4))])"
      ]
     },
     "execution_count": 1038,
     "metadata": {},
     "output_type": "execute_result"
    }
   ],
   "source": [
    "mask = train_data['budget'] > 500\n",
    "B = train_data[mask]\n",
    "y = np.log(B['revenue'])\n",
    "X = B.drop(['revenue'], axis=1)\n",
    "X_train, X_test, y_train, y_test = train_test_split(X, y, test_size=0.2, shuffle=True, random_state=0)\n",
    "\n",
    "rfr = RandomForestRegressor(max_depth=40, min_samples_leaf=10, n_jobs=4)\n",
    "prep_pipeline = make_prep_pipeline()\n",
    "full_pipeline = make_pipeline(prep_pipeline, rfr)\n",
    "full_pipeline.fit(X_train, y_train)"
   ]
  },
  {
   "cell_type": "code",
   "execution_count": 1039,
   "id": "af9d2d76-7ee6-4f97-9229-cc1adedea66b",
   "metadata": {},
   "outputs": [],
   "source": [
    "feat_imp = pd.DataFrame(rfr.feature_importances_.reshape(1, -1), columns=get_features(prep_pipeline))"
   ]
  },
  {
   "cell_type": "code",
   "execution_count": 1040,
   "id": "f0467389-11f6-4547-9cdf-4b6d5bf9bde7",
   "metadata": {},
   "outputs": [
    {
     "data": {
      "text/plain": [
       "(-1.300388111452502, -1.6593874704598732)"
      ]
     },
     "execution_count": 1040,
     "metadata": {},
     "output_type": "execute_result"
    }
   ],
   "source": [
    "root_mean_squared_error(full_pipeline, X_train, y_train), root_mean_squared_error(full_pipeline, X_test, y_test)"
   ]
  },
  {
   "cell_type": "code",
   "execution_count": 1041,
   "id": "b7f47395-60d5-4e76-b61a-51016a7339dc",
   "metadata": {},
   "outputs": [
    {
     "data": {
      "text/html": [
       "<div>\n",
       "<style scoped>\n",
       "    .dataframe tbody tr th:only-of-type {\n",
       "        vertical-align: middle;\n",
       "    }\n",
       "\n",
       "    .dataframe tbody tr th {\n",
       "        vertical-align: top;\n",
       "    }\n",
       "\n",
       "    .dataframe thead th {\n",
       "        text-align: right;\n",
       "    }\n",
       "</style>\n",
       "<table border=\"1\" class=\"dataframe\">\n",
       "  <thead>\n",
       "    <tr style=\"text-align: right;\">\n",
       "      <th></th>\n",
       "      <th>0</th>\n",
       "      <th>imp_cumsum</th>\n",
       "    </tr>\n",
       "  </thead>\n",
       "  <tbody>\n",
       "    <tr>\n",
       "      <th>budget</th>\n",
       "      <td>0.529294</td>\n",
       "      <td>0.529294</td>\n",
       "    </tr>\n",
       "    <tr>\n",
       "      <th>popularity</th>\n",
       "      <td>0.146608</td>\n",
       "      <td>0.675902</td>\n",
       "    </tr>\n",
       "    <tr>\n",
       "      <th>release_year</th>\n",
       "      <td>0.022255</td>\n",
       "      <td>0.698157</td>\n",
       "    </tr>\n",
       "    <tr>\n",
       "      <th>runtime</th>\n",
       "      <td>0.015636</td>\n",
       "      <td>0.713793</td>\n",
       "    </tr>\n",
       "    <tr>\n",
       "      <th>cast_counts</th>\n",
       "      <td>0.014471</td>\n",
       "      <td>0.728264</td>\n",
       "    </tr>\n",
       "    <tr>\n",
       "      <th>crew_counts</th>\n",
       "      <td>0.006185</td>\n",
       "      <td>0.734449</td>\n",
       "    </tr>\n",
       "    <tr>\n",
       "      <th>kw_81</th>\n",
       "      <td>0.006086</td>\n",
       "      <td>0.740535</td>\n",
       "    </tr>\n",
       "    <tr>\n",
       "      <th>kw_5</th>\n",
       "      <td>0.005006</td>\n",
       "      <td>0.745541</td>\n",
       "    </tr>\n",
       "    <tr>\n",
       "      <th>kw_9</th>\n",
       "      <td>0.004941</td>\n",
       "      <td>0.750481</td>\n",
       "    </tr>\n",
       "    <tr>\n",
       "      <th>kw_4</th>\n",
       "      <td>0.004548</td>\n",
       "      <td>0.755029</td>\n",
       "    </tr>\n",
       "    <tr>\n",
       "      <th>kw_46</th>\n",
       "      <td>0.004542</td>\n",
       "      <td>0.759572</td>\n",
       "    </tr>\n",
       "    <tr>\n",
       "      <th>kw_0</th>\n",
       "      <td>0.004449</td>\n",
       "      <td>0.764021</td>\n",
       "    </tr>\n",
       "    <tr>\n",
       "      <th>kw_92</th>\n",
       "      <td>0.004355</td>\n",
       "      <td>0.768376</td>\n",
       "    </tr>\n",
       "    <tr>\n",
       "      <th>release_month</th>\n",
       "      <td>0.004015</td>\n",
       "      <td>0.772390</td>\n",
       "    </tr>\n",
       "    <tr>\n",
       "      <th>kw_7</th>\n",
       "      <td>0.003854</td>\n",
       "      <td>0.776244</td>\n",
       "    </tr>\n",
       "    <tr>\n",
       "      <th>kw_2</th>\n",
       "      <td>0.003796</td>\n",
       "      <td>0.780040</td>\n",
       "    </tr>\n",
       "    <tr>\n",
       "      <th>genre_Crime</th>\n",
       "      <td>0.003514</td>\n",
       "      <td>0.783554</td>\n",
       "    </tr>\n",
       "    <tr>\n",
       "      <th>kw_41</th>\n",
       "      <td>0.003460</td>\n",
       "      <td>0.787014</td>\n",
       "    </tr>\n",
       "    <tr>\n",
       "      <th>kw_85</th>\n",
       "      <td>0.003456</td>\n",
       "      <td>0.790470</td>\n",
       "    </tr>\n",
       "    <tr>\n",
       "      <th>kw_13</th>\n",
       "      <td>0.003376</td>\n",
       "      <td>0.793846</td>\n",
       "    </tr>\n",
       "    <tr>\n",
       "      <th>kw_12</th>\n",
       "      <td>0.003329</td>\n",
       "      <td>0.797175</td>\n",
       "    </tr>\n",
       "    <tr>\n",
       "      <th>kw_6</th>\n",
       "      <td>0.003303</td>\n",
       "      <td>0.800478</td>\n",
       "    </tr>\n",
       "    <tr>\n",
       "      <th>kw_99</th>\n",
       "      <td>0.003298</td>\n",
       "      <td>0.803777</td>\n",
       "    </tr>\n",
       "    <tr>\n",
       "      <th>kw_21</th>\n",
       "      <td>0.003297</td>\n",
       "      <td>0.807074</td>\n",
       "    </tr>\n",
       "    <tr>\n",
       "      <th>kw_64</th>\n",
       "      <td>0.003262</td>\n",
       "      <td>0.810336</td>\n",
       "    </tr>\n",
       "  </tbody>\n",
       "</table>\n",
       "</div>"
      ],
      "text/plain": [
       "                      0  imp_cumsum\n",
       "budget         0.529294    0.529294\n",
       "popularity     0.146608    0.675902\n",
       "release_year   0.022255    0.698157\n",
       "runtime        0.015636    0.713793\n",
       "cast_counts    0.014471    0.728264\n",
       "crew_counts    0.006185    0.734449\n",
       "kw_81          0.006086    0.740535\n",
       "kw_5           0.005006    0.745541\n",
       "kw_9           0.004941    0.750481\n",
       "kw_4           0.004548    0.755029\n",
       "kw_46          0.004542    0.759572\n",
       "kw_0           0.004449    0.764021\n",
       "kw_92          0.004355    0.768376\n",
       "release_month  0.004015    0.772390\n",
       "kw_7           0.003854    0.776244\n",
       "kw_2           0.003796    0.780040\n",
       "genre_Crime    0.003514    0.783554\n",
       "kw_41          0.003460    0.787014\n",
       "kw_85          0.003456    0.790470\n",
       "kw_13          0.003376    0.793846\n",
       "kw_12          0.003329    0.797175\n",
       "kw_6           0.003303    0.800478\n",
       "kw_99          0.003298    0.803777\n",
       "kw_21          0.003297    0.807074\n",
       "kw_64          0.003262    0.810336"
      ]
     },
     "execution_count": 1041,
     "metadata": {},
     "output_type": "execute_result"
    }
   ],
   "source": [
    "feat_imp_sorted = feat_imp.T.sort_values(by=0, ascending=False)\n",
    "feat_imp_sorted['imp_cumsum'] = feat_imp_sorted.cumsum()\n",
    "feat_imp_sorted.iloc[:25]"
   ]
  },
  {
   "cell_type": "code",
   "execution_count": 945,
   "id": "5089e901-78e0-4ce0-952d-ce6173030627",
   "metadata": {},
   "outputs": [
    {
     "data": {
      "text/plain": [
       "2659"
      ]
     },
     "execution_count": 945,
     "metadata": {},
     "output_type": "execute_result"
    }
   ],
   "source": [
    "len(get_features(prep_pipeline))"
   ]
  },
  {
   "cell_type": "markdown",
   "id": "b2472d2b-b5e8-4f02-9a77-97fa7e051fff",
   "metadata": {
    "jp-MarkdownHeadingCollapsed": true,
    "tags": []
   },
   "source": [
    "### Testing the pipeline trained on budget > 500 on budget < 500 data"
   ]
  },
  {
   "cell_type": "code",
   "execution_count": 955,
   "id": "6e7e39a1-d038-4659-9ef4-c30641d24140",
   "metadata": {},
   "outputs": [
    {
     "name": "stdout",
     "output_type": "stream",
     "text": [
      "test error: 3.19184\n"
     ]
    }
   ],
   "source": [
    "mask = train_data['budget'] > 500\n",
    "B = train_data[mask]\n",
    "y = np.log(B['revenue'])\n",
    "X = B.drop(['revenue'], axis=1)\n",
    "\n",
    "rfr = RandomForestRegressor(max_depth=40, min_samples_leaf=10, n_jobs=4)\n",
    "prep_pipeline = make_prep_pipeline()\n",
    "full_pipeline = make_pipeline(prep_pipeline, rfr)\n",
    "full_pipeline.fit(X, y)\n",
    "\n",
    "mask = train_data['budget'] <= 500\n",
    "B = train_data[mask]\n",
    "y = np.log(B['revenue'])\n",
    "X = B.drop(['revenue'], axis=1)\n",
    "\n",
    "y_pred = full_pipeline.predict(X)\n",
    "rmsle = mean_squared_error(y, y_pred, squared=False)\n",
    "\n",
    "print(f'test error: {np.round(rmsle, 5)}')"
   ]
  },
  {
   "cell_type": "code",
   "execution_count": 956,
   "id": "cfcf116e-c942-4fef-8e08-c6fcde1d303b",
   "metadata": {},
   "outputs": [
    {
     "name": "stdout",
     "output_type": "stream",
     "text": [
      "kaggle competitions submit -c tmdb-box-office-prediction -f predictions/budget_above_500_rf.csv -m \"budget_above_500_rf\"\n"
     ]
    }
   ],
   "source": [
    "mask = train_data['budget'] > 500\n",
    "B = train_data[mask]\n",
    "y = np.log(B['revenue'])\n",
    "X = B.drop(['revenue'], axis=1)\n",
    "kaggle_submission('budget_above_500_rf', full_pipeline, X, y, test_data, 'data/sample_submission.csv', 'predictions')"
   ]
  },
  {
   "cell_type": "markdown",
   "id": "04ae0a15-2496-4395-8cd1-eeb614f85555",
   "metadata": {
    "tags": []
   },
   "source": [
    "## Grid Search - without budget"
   ]
  },
  {
   "cell_type": "markdown",
   "id": "19ca0cfc-eab2-4ffe-8d4b-aa49fdea026e",
   "metadata": {},
   "source": [
    "The grid.best_score_ is the average of all cv folds for a single combination of the parameters you specify in the tuned_params.\n",
    "\n",
    "```\n",
    "****** START wo_budget Ridge *****\n",
    "Parameters:\n",
    "\talpha: [20.         20.92163837 21.88574761 22.89428485 23.94929742 25.052927\n",
    " 26.20741394 27.41510186 28.67844235 30.        ]\n",
    "Fitting 5 folds for each of 10 candidates, totalling 50 fits\n",
    "Best Parameters:\n",
    "\tpredictor__alpha: 20.921638372864287\n",
    "****** FINISH wo_budget Ridge  *****\n",
    "```\n",
    "\n",
    "```\n",
    "****** START wo_budget KNeighborsRegressor *****\n",
    "Parameters:\n",
    "\tn_neighbors: [ 1  3  5  7  9 11 13 15 17 19]\n",
    "\tp: [1, 2]\n",
    "\tweights: ['uniform', 'distance']\n",
    "Fitting 5 folds for each of 40 candidates, totalling 200 fits\n",
    "Best Parameters:\n",
    "\tpredictor__n_neighbors: 15\n",
    "\tpredictor__p: 2\n",
    "\tpredictor__weights: distance\n",
    "****** FINISH wo_budget KNeighborsRegressor  *****\n",
    "```\n",
    "\n",
    "\n",
    "Random Forest without hyperparameter tunnig\n",
    "\n",
    "ExpID \tTrain Score \tCV Score \tTest Score \tTrain Time(s) \tTest Time(s)\n",
    "\n",
    "before tuning \t1.16829 \t3.17817 \t2.96911 \t0.9998 \t0.0311\n",
    "\n",
    "after tuning   \t2.36852 \t3.12258 \t2.92533 \t1.1753 \t0.0442"
   ]
  },
  {
   "cell_type": "code",
   "execution_count": 919,
   "id": "84bfccb7-8597-4cf1-a6c8-e1d9a9b11863",
   "metadata": {},
   "outputs": [
    {
     "name": "stdout",
     "output_type": "stream",
     "text": [
      "(663, 22) (166, 22) (663,) (166,)\n",
      "****** START wo_budget Ridge *****\n",
      "Parameters:\n",
      "Fitting 5 folds for each of 1 candidates, totalling 5 fits\n",
      "Best Parameters:\n",
      "****** FINISH wo_budget Ridge  *****\n",
      "\n",
      "****** START wo_budget ExtraTreesRegressor *****\n",
      "Parameters:\n",
      "Fitting 5 folds for each of 1 candidates, totalling 5 fits\n",
      "Best Parameters:\n",
      "****** FINISH wo_budget ExtraTreesRegressor  *****\n",
      "\n",
      "****** START wo_budget KNeighborsRegressor *****\n",
      "Parameters:\n",
      "Fitting 5 folds for each of 1 candidates, totalling 5 fits\n",
      "Best Parameters:\n",
      "****** FINISH wo_budget KNeighborsRegressor  *****\n",
      "\n",
      "****** START wo_budget RandomForestRegressor *****\n",
      "Parameters:\n",
      "Fitting 5 folds for each of 1 candidates, totalling 5 fits\n",
      "Best Parameters:\n",
      "****** FINISH wo_budget RandomForestRegressor  *****\n",
      "\n"
     ]
    },
    {
     "data": {
      "text/html": [
       "<div>\n",
       "<style scoped>\n",
       "    .dataframe tbody tr th:only-of-type {\n",
       "        vertical-align: middle;\n",
       "    }\n",
       "\n",
       "    .dataframe tbody tr th {\n",
       "        vertical-align: top;\n",
       "    }\n",
       "\n",
       "    .dataframe thead th {\n",
       "        text-align: right;\n",
       "    }\n",
       "</style>\n",
       "<table border=\"1\" class=\"dataframe\">\n",
       "  <thead>\n",
       "    <tr style=\"text-align: right;\">\n",
       "      <th></th>\n",
       "      <th>ExpID</th>\n",
       "      <th>Train Score</th>\n",
       "      <th>CV Score</th>\n",
       "      <th>Test Score</th>\n",
       "      <th>Train Time(s)</th>\n",
       "      <th>Test Time(s)</th>\n",
       "    </tr>\n",
       "  </thead>\n",
       "  <tbody>\n",
       "    <tr>\n",
       "      <th>0</th>\n",
       "      <td>Baseline_Cond_Ridge</td>\n",
       "      <td>---</td>\n",
       "      <td>1.01968</td>\n",
       "      <td>2.31510</td>\n",
       "      <td>---</td>\n",
       "      <td>---</td>\n",
       "    </tr>\n",
       "    <tr>\n",
       "      <th>1</th>\n",
       "      <td>wo_budgetRidge</td>\n",
       "      <td>2.67191</td>\n",
       "      <td>3.21447</td>\n",
       "      <td>3.13908</td>\n",
       "      <td>0.3105</td>\n",
       "      <td>0.0278</td>\n",
       "    </tr>\n",
       "    <tr>\n",
       "      <th>2</th>\n",
       "      <td>wo_budgetExtraTreesRegressor</td>\n",
       "      <td>2.65535</td>\n",
       "      <td>3.14939</td>\n",
       "      <td>2.99258</td>\n",
       "      <td>1.5931</td>\n",
       "      <td>0.0391</td>\n",
       "    </tr>\n",
       "    <tr>\n",
       "      <th>3</th>\n",
       "      <td>wo_budgetKNeighborsRegressor</td>\n",
       "      <td>0.00029</td>\n",
       "      <td>3.33616</td>\n",
       "      <td>3.23951</td>\n",
       "      <td>0.1666</td>\n",
       "      <td>0.0389</td>\n",
       "    </tr>\n",
       "    <tr>\n",
       "      <th>4</th>\n",
       "      <td>wo_budgetRandomForestRegressor</td>\n",
       "      <td>2.36839</td>\n",
       "      <td>3.13262</td>\n",
       "      <td>2.93220</td>\n",
       "      <td>1.2626</td>\n",
       "      <td>0.0438</td>\n",
       "    </tr>\n",
       "  </tbody>\n",
       "</table>\n",
       "</div>"
      ],
      "text/plain": [
       "                            ExpID Train Score  CV Score  Test Score  \\\n",
       "0             Baseline_Cond_Ridge         ---   1.01968     2.31510   \n",
       "1                  wo_budgetRidge     2.67191   3.21447     3.13908   \n",
       "2    wo_budgetExtraTreesRegressor     2.65535   3.14939     2.99258   \n",
       "3    wo_budgetKNeighborsRegressor     0.00029   3.33616     3.23951   \n",
       "4  wo_budgetRandomForestRegressor     2.36839   3.13262     2.93220   \n",
       "\n",
       "  Train Time(s) Test Time(s)  \n",
       "0           ---          ---  \n",
       "1        0.3105       0.0278  \n",
       "2        1.5931       0.0391  \n",
       "3        0.1666       0.0389  \n",
       "4        1.2626       0.0438  "
      ]
     },
     "execution_count": 919,
     "metadata": {},
     "output_type": "execute_result"
    }
   ],
   "source": [
    "models = [\n",
    "    ('Ridge', Ridge(alpha=25)),\n",
    "    ('ExtraTreesRegressor', ExtraTreesRegressor(n_estimators=200, random_state=1000, max_depth=16, min_samples_split=48, min_samples_leaf=10, bootstrap=False)),\n",
    "    ('KNeighborsRegressor', KNeighborsRegressor(n_neighbors = 15, p=2, weights='distance')),\n",
    "    ('RandomForestRegressor', RandomForestRegressor(n_estimators=300, max_depth=40, max_features=\"auto\", min_samples_split=20, min_samples_leaf=10, n_jobs=4))\n",
    "]\n",
    "\n",
    "param_grid = {\n",
    "    # 'features': {\n",
    "    #     'preparation__Keywords__pca__n_components': [30, 100, 300]\n",
    "    # },\n",
    "    'Ridge': {\n",
    "        # 'alpha': range(20, 32) #25 #log_linear(20, 30, 10)\n",
    "    },\n",
    "    'KNeighborsRegressor': {\n",
    "        # 'n_neighbors': np.arange(1,21,2),\n",
    "        # 'weights': ['uniform', 'distance'],\n",
    "        # 'p': [1, 2]\n",
    "    },\n",
    "    'RandomForestRegressor': {\n",
    "            # 'max_depth': list(range(35, 45, 2)), #40\n",
    "            # 'max_features': [\"auto\", \"sqrt\", \"log2\"], #auto\n",
    "            # 'min_samples_split': [15, 20, 25, 30, 35, 40, 45, 50], # 20, 25\n",
    "            # 'min_samples_leaf': [5, 7, 10, 12, 14, 16], # 10\n",
    "            # 'bootstrap': [True, False], # True which is the default\n",
    "            # 'n_estimators':[100, 200, 300] # 300\n",
    "    },\n",
    "    'ExtraTreesRegressor': {\n",
    "            # 'max_depth': list(range(10, 20)), #16\n",
    "            # 'max_features': [\"auto\", \"sqrt\", \"log2\"], #auto\n",
    "            # 'min_samples_split': range(40, 52, 2), # 47, 48\n",
    "            # 'min_samples_leaf': [1, 5, 7, 10, 12, 14, 16], # 10\n",
    "            # 'bootstrap': [True, False], # True which is the default\n",
    "            # 'n_estimators':[100, 200, 300], # 200\n",
    "    }\n",
    "}\n",
    "\n",
    "prep_pipeline = make_prep_pipeline(include_budget=False)\n",
    "\n",
    "mask = train_data['budget'] < 500\n",
    "B = train_data[mask]\n",
    "y = np.log(B['revenue'])\n",
    "X = B.drop(['revenue'], axis=1)\n",
    "X_train, X_test, y_train, y_test = train_test_split(X, y, test_size=0.2, shuffle=True, random_state=0)\n",
    "\n",
    "print(X_train.shape, X_test.shape, y_train.shape, y_test.shape)\n",
    "\n",
    "conductGridSearch(models, param_grid, prep_pipeline, root_mean_squared_error, \n",
    "                 X_train, y_train, X_test, y_test,\n",
    "                 results, prefix='wo_budget')\n",
    "results"
   ]
  },
  {
   "cell_type": "markdown",
   "id": "aac14f1b-6b1b-4a60-ba82-5217123d0e4f",
   "metadata": {},
   "source": [
    "### Random Forest Regressor - Feature Importances"
   ]
  },
  {
   "cell_type": "code",
   "execution_count": 1050,
   "id": "bc5fbe18-0052-4b34-8224-fe0e5194d4d0",
   "metadata": {},
   "outputs": [
    {
     "data": {
      "text/plain": [
       "Pipeline(steps=[('columntransformer',\n",
       "                 ColumnTransformer(transformers=[('popularity',\n",
       "                                                  Pipeline(steps=[('simpleimputer',\n",
       "                                                                   SimpleImputer(strategy='median')),\n",
       "                                                                  ('standardscaler',\n",
       "                                                                   StandardScaler())]),\n",
       "                                                  ['popularity']),\n",
       "                                                 ('runtime',\n",
       "                                                  Pipeline(steps=[('pipeline',\n",
       "                                                                   Pipeline(steps=[('simpleimputer-1',\n",
       "                                                                                    SimpleImputer(strategy='median')),\n",
       "                                                                                   ('simpleimputer-2',\n",
       "                                                                                    SimpleImputer(missi...\n",
       "                                                                   SimpleImputer(fill_value='[]',\n",
       "                                                                                 strategy='constant')),\n",
       "                                                                  ('attributecounttransformer',\n",
       "                                                                   AttributeCountTransformer()),\n",
       "                                                                  ('simpleimputer-2',\n",
       "                                                                   SimpleImputer(missing_values=0,\n",
       "                                                                                 strategy='median')),\n",
       "                                                                  ('standardscaler',\n",
       "                                                                   StandardScaler())]),\n",
       "                                                  ['spoken_languages'])])),\n",
       "                ('randomforestregressor',\n",
       "                 RandomForestRegressor(max_depth=40, min_samples_leaf=10,\n",
       "                                       min_samples_split=20, n_estimators=300,\n",
       "                                       n_jobs=4))])"
      ]
     },
     "execution_count": 1050,
     "metadata": {},
     "output_type": "execute_result"
    }
   ],
   "source": [
    "mask = train_data['budget'] < 500\n",
    "B = train_data[mask]\n",
    "y = np.log(B['revenue'])\n",
    "X = B.drop(['revenue'], axis=1)\n",
    "X_train, X_test, y_train, y_test = train_test_split(X, y, test_size=0.2, shuffle=True, random_state=0)\n",
    "\n",
    "rfr = RandomForestRegressor(n_estimators=300, max_depth=40, max_features=\"auto\", min_samples_split=20, min_samples_leaf=10, n_jobs=4)\n",
    "prep_pipeline = make_prep_pipeline(include_budget=False) # change this to False\n",
    "full_pipeline = make_pipeline(prep_pipeline, rfr)\n",
    "full_pipeline.fit(X_train, y_train)"
   ]
  },
  {
   "cell_type": "code",
   "execution_count": 1051,
   "id": "03c65807-b4b7-4053-9fbb-768c3a860610",
   "metadata": {},
   "outputs": [],
   "source": [
    "feat_imp = pd.DataFrame(rfr.feature_importances_.reshape(1, -1), columns=get_features(prep_pipeline, budget=False))"
   ]
  },
  {
   "cell_type": "code",
   "execution_count": 1052,
   "id": "b9b59d2f-3dc6-4333-88be-f63cacd59148",
   "metadata": {},
   "outputs": [
    {
     "data": {
      "text/plain": [
       "(-2.3539509937056713, -2.928854140986205)"
      ]
     },
     "execution_count": 1052,
     "metadata": {},
     "output_type": "execute_result"
    }
   ],
   "source": [
    "root_mean_squared_error(full_pipeline, X_train, y_train), root_mean_squared_error(full_pipeline, X_test, y_test)"
   ]
  },
  {
   "cell_type": "code",
   "execution_count": 1053,
   "id": "15830e7a-ed1f-467c-b8d5-b8d194b61b7b",
   "metadata": {},
   "outputs": [
    {
     "data": {
      "text/html": [
       "<div>\n",
       "<style scoped>\n",
       "    .dataframe tbody tr th:only-of-type {\n",
       "        vertical-align: middle;\n",
       "    }\n",
       "\n",
       "    .dataframe tbody tr th {\n",
       "        vertical-align: top;\n",
       "    }\n",
       "\n",
       "    .dataframe thead th {\n",
       "        text-align: right;\n",
       "    }\n",
       "</style>\n",
       "<table border=\"1\" class=\"dataframe\">\n",
       "  <thead>\n",
       "    <tr style=\"text-align: right;\">\n",
       "      <th></th>\n",
       "      <th>0</th>\n",
       "      <th>imp_cumsum</th>\n",
       "    </tr>\n",
       "  </thead>\n",
       "  <tbody>\n",
       "    <tr>\n",
       "      <th>popularity</th>\n",
       "      <td>0.283984</td>\n",
       "      <td>0.283984</td>\n",
       "    </tr>\n",
       "    <tr>\n",
       "      <th>release_year</th>\n",
       "      <td>0.196211</td>\n",
       "      <td>0.480195</td>\n",
       "    </tr>\n",
       "    <tr>\n",
       "      <th>runtime</th>\n",
       "      <td>0.056530</td>\n",
       "      <td>0.536725</td>\n",
       "    </tr>\n",
       "    <tr>\n",
       "      <th>release_month</th>\n",
       "      <td>0.034939</td>\n",
       "      <td>0.571664</td>\n",
       "    </tr>\n",
       "    <tr>\n",
       "      <th>cast_counts</th>\n",
       "      <td>0.015964</td>\n",
       "      <td>0.587628</td>\n",
       "    </tr>\n",
       "    <tr>\n",
       "      <th>crew_counts</th>\n",
       "      <td>0.015323</td>\n",
       "      <td>0.602951</td>\n",
       "    </tr>\n",
       "    <tr>\n",
       "      <th>kw_38</th>\n",
       "      <td>0.011696</td>\n",
       "      <td>0.614647</td>\n",
       "    </tr>\n",
       "    <tr>\n",
       "      <th>kw_62</th>\n",
       "      <td>0.011216</td>\n",
       "      <td>0.625864</td>\n",
       "    </tr>\n",
       "    <tr>\n",
       "      <th>kw_72</th>\n",
       "      <td>0.010977</td>\n",
       "      <td>0.636841</td>\n",
       "    </tr>\n",
       "    <tr>\n",
       "      <th>kw_0</th>\n",
       "      <td>0.010641</td>\n",
       "      <td>0.647482</td>\n",
       "    </tr>\n",
       "    <tr>\n",
       "      <th>kw_68</th>\n",
       "      <td>0.009486</td>\n",
       "      <td>0.656967</td>\n",
       "    </tr>\n",
       "    <tr>\n",
       "      <th>kw_52</th>\n",
       "      <td>0.008496</td>\n",
       "      <td>0.665463</td>\n",
       "    </tr>\n",
       "    <tr>\n",
       "      <th>kw_63</th>\n",
       "      <td>0.008456</td>\n",
       "      <td>0.673919</td>\n",
       "    </tr>\n",
       "    <tr>\n",
       "      <th>kw_31</th>\n",
       "      <td>0.008155</td>\n",
       "      <td>0.682074</td>\n",
       "    </tr>\n",
       "    <tr>\n",
       "      <th>kw_87</th>\n",
       "      <td>0.007784</td>\n",
       "      <td>0.689858</td>\n",
       "    </tr>\n",
       "    <tr>\n",
       "      <th>kw_39</th>\n",
       "      <td>0.007346</td>\n",
       "      <td>0.697205</td>\n",
       "    </tr>\n",
       "    <tr>\n",
       "      <th>kw_67</th>\n",
       "      <td>0.007185</td>\n",
       "      <td>0.704390</td>\n",
       "    </tr>\n",
       "    <tr>\n",
       "      <th>kw_11</th>\n",
       "      <td>0.006385</td>\n",
       "      <td>0.710775</td>\n",
       "    </tr>\n",
       "    <tr>\n",
       "      <th>genre_Comedy</th>\n",
       "      <td>0.006354</td>\n",
       "      <td>0.717129</td>\n",
       "    </tr>\n",
       "    <tr>\n",
       "      <th>kw_28</th>\n",
       "      <td>0.005867</td>\n",
       "      <td>0.722997</td>\n",
       "    </tr>\n",
       "    <tr>\n",
       "      <th>kw_88</th>\n",
       "      <td>0.005448</td>\n",
       "      <td>0.728445</td>\n",
       "    </tr>\n",
       "    <tr>\n",
       "      <th>kw_1</th>\n",
       "      <td>0.005307</td>\n",
       "      <td>0.733753</td>\n",
       "    </tr>\n",
       "    <tr>\n",
       "      <th>kw_99</th>\n",
       "      <td>0.004993</td>\n",
       "      <td>0.738746</td>\n",
       "    </tr>\n",
       "    <tr>\n",
       "      <th>kw_45</th>\n",
       "      <td>0.004940</td>\n",
       "      <td>0.743686</td>\n",
       "    </tr>\n",
       "    <tr>\n",
       "      <th>kw_27</th>\n",
       "      <td>0.004937</td>\n",
       "      <td>0.748622</td>\n",
       "    </tr>\n",
       "  </tbody>\n",
       "</table>\n",
       "</div>"
      ],
      "text/plain": [
       "                      0  imp_cumsum\n",
       "popularity     0.283984    0.283984\n",
       "release_year   0.196211    0.480195\n",
       "runtime        0.056530    0.536725\n",
       "release_month  0.034939    0.571664\n",
       "cast_counts    0.015964    0.587628\n",
       "crew_counts    0.015323    0.602951\n",
       "kw_38          0.011696    0.614647\n",
       "kw_62          0.011216    0.625864\n",
       "kw_72          0.010977    0.636841\n",
       "kw_0           0.010641    0.647482\n",
       "kw_68          0.009486    0.656967\n",
       "kw_52          0.008496    0.665463\n",
       "kw_63          0.008456    0.673919\n",
       "kw_31          0.008155    0.682074\n",
       "kw_87          0.007784    0.689858\n",
       "kw_39          0.007346    0.697205\n",
       "kw_67          0.007185    0.704390\n",
       "kw_11          0.006385    0.710775\n",
       "genre_Comedy   0.006354    0.717129\n",
       "kw_28          0.005867    0.722997\n",
       "kw_88          0.005448    0.728445\n",
       "kw_1           0.005307    0.733753\n",
       "kw_99          0.004993    0.738746\n",
       "kw_45          0.004940    0.743686\n",
       "kw_27          0.004937    0.748622"
      ]
     },
     "execution_count": 1053,
     "metadata": {},
     "output_type": "execute_result"
    }
   ],
   "source": [
    "feat_imp_sorted = feat_imp.T.sort_values(by=0, ascending=False)\n",
    "feat_imp_sorted['imp_cumsum'] = feat_imp_sorted.cumsum()\n",
    "feat_imp_sorted.iloc[:25]"
   ]
  },
  {
   "cell_type": "markdown",
   "id": "f1018fa5-f594-4762-8d4d-9078652a3169",
   "metadata": {
    "tags": []
   },
   "source": [
    "## Kaggle Submission"
   ]
  },
  {
   "cell_type": "code",
   "execution_count": 950,
   "id": "26f072fd-ebda-49c5-a029-a46af3811a53",
   "metadata": {},
   "outputs": [
    {
     "name": "stdout",
     "output_type": "stream",
     "text": [
      "(2400, 22) (600, 22) (2400,) (600,)\n",
      "train error: 1.64578; \t test error: 2.10024\n"
     ]
    }
   ],
   "source": [
    "y = np.log(train_data['revenue'])\n",
    "X = train_data.drop(['revenue'], axis=1)\n",
    "X_train, X_test, y_train, y_test = train_test_split(X, y, test_size=0.2, random_state=0, shuffle=True)\n",
    "    \n",
    "print(X_train.shape, X_test.shape, y_train.shape, y_test.shape)\n",
    "\n",
    "predA = RandomForestRegressor(n_estimators=300, max_depth=40, max_features=\"auto\", min_samples_split=20, min_samples_leaf=10, n_jobs=4)\n",
    "predB = RandomForestRegressor(max_depth=40, min_samples_leaf=10, n_jobs=4)\n",
    "\n",
    "full_cond_pipeline = make_full_cond_pipeline(predA, predB)\n",
    "full_cond_pipeline.fit(X_train, y_train)\n",
    "y_pred = full_cond_pipeline.predict(X_test)\n",
    "rmsle = mean_squared_error(y_test, y_pred, squared=False)\n",
    "train_error = mean_squared_error(y_train, full_cond_pipeline.predict(X_train), squared=False)\n",
    "\n",
    "print(f'train error: {np.round(train_error, 5)}; \\t test error: {np.round(rmsle, 5)}')"
   ]
  },
  {
   "cell_type": "code",
   "execution_count": 949,
   "id": "e80ee6cd-92b0-4e3f-91ca-7cd4948e2678",
   "metadata": {},
   "outputs": [
    {
     "name": "stdout",
     "output_type": "stream",
     "text": [
      "kaggle competitions submit -c tmdb-box-office-prediction -f predictions/cond_tuned_rf_rf.csv -m \"cond_tuned_rf_rf\"\n"
     ]
    }
   ],
   "source": [
    "kaggle_submission('cond_tuned_rf_rf', full_cond_pipeline, X, y, test_data, 'data/sample_submission.csv', 'predictions')"
   ]
  },
  {
   "cell_type": "code",
   "execution_count": null,
   "id": "b8c14ded-ef95-47b7-b3b9-700ad4bb9821",
   "metadata": {},
   "outputs": [],
   "source": []
  },
  {
   "cell_type": "code",
   "execution_count": null,
   "id": "8badd8ce-f1aa-4fca-bd90-d9447f38f5cc",
   "metadata": {},
   "outputs": [],
   "source": []
  },
  {
   "cell_type": "code",
   "execution_count": null,
   "id": "162ff7a6-ce9d-40ec-b48d-85d31e2c7443",
   "metadata": {},
   "outputs": [],
   "source": []
  },
  {
   "cell_type": "code",
   "execution_count": null,
   "id": "67ff7f1d-f6b9-455c-b072-9daf80a004e1",
   "metadata": {},
   "outputs": [],
   "source": []
  },
  {
   "cell_type": "code",
   "execution_count": null,
   "id": "8aaae73c-ce3f-4d8a-b901-279d50844a49",
   "metadata": {},
   "outputs": [],
   "source": []
  },
  {
   "cell_type": "code",
   "execution_count": null,
   "id": "3ce9c683-d168-4c89-a129-86c8ac2120fa",
   "metadata": {},
   "outputs": [],
   "source": []
  },
  {
   "cell_type": "code",
   "execution_count": null,
   "id": "6fc78ff9-3d79-4e9e-a9bf-7ed7bed83aea",
   "metadata": {},
   "outputs": [],
   "source": []
  },
  {
   "cell_type": "code",
   "execution_count": null,
   "id": "1f7e33a0-9e42-4852-90ed-a5a52e8109ce",
   "metadata": {},
   "outputs": [],
   "source": []
  },
  {
   "cell_type": "code",
   "execution_count": null,
   "id": "b8b4dd14-6dc6-4a7c-95a5-0c7f46d320ca",
   "metadata": {},
   "outputs": [],
   "source": []
  },
  {
   "cell_type": "code",
   "execution_count": null,
   "id": "f98b6554-d9b8-46fc-ba0a-9fba012fff66",
   "metadata": {},
   "outputs": [],
   "source": []
  },
  {
   "cell_type": "code",
   "execution_count": null,
   "id": "a47c3ae5-473c-4fa1-91de-405be56763b8",
   "metadata": {},
   "outputs": [],
   "source": []
  },
  {
   "cell_type": "markdown",
   "id": "eb3b474f-cb80-4e12-baa9-18a005791123",
   "metadata": {
    "jp-MarkdownHeadingCollapsed": true,
    "tags": []
   },
   "source": [
    "## Amazon Review Confidence Interval"
   ]
  },
  {
   "cell_type": "code",
   "execution_count": 874,
   "id": "6c9c4266-ad06-4a2a-8be2-896100776ccc",
   "metadata": {},
   "outputs": [
    {
     "data": {
      "text/plain": [
       "(array([4. , 4.4]), 100, 10)"
      ]
     },
     "execution_count": 874,
     "metadata": {},
     "output_type": "execute_result"
    }
   ],
   "source": [
    "ratings = np.arange(1,6)\n",
    "product1 = np.array([4, 6, 9, 51, 30])\n",
    "product2 = np.array([1, 0, 0, 2, 7])\n",
    "\n",
    "np.round((np.average(ratings, weights=product1), np.average(ratings, weights=product2)),1), np.sum(product1), np.sum(product2)"
   ]
  },
  {
   "cell_type": "code",
   "execution_count": 875,
   "id": "7da77782-6b04-48ca-96e5-836a32afc8be",
   "metadata": {},
   "outputs": [
    {
     "data": {
      "text/plain": [
       "array([[3.95, 3.99],\n",
       "       [4.16, 4.64]])"
      ]
     },
     "execution_count": 875,
     "metadata": {},
     "output_type": "execute_result"
    }
   ],
   "source": [
    "p1 = np.repeat(ratings, repeats=product1)\n",
    "p2 = np.repeat(ratings, repeats=product2)\n",
    "\n",
    "se1 = np.std(p1)/np.sum(product1)\n",
    "se2 = np.std(p2)/np.sum(product2)\n",
    "\n",
    "se1, se2\n",
    "\n",
    "mu1, mu2 = np.mean(p1), np.mean(p2)\n",
    "mu1, mu2\n",
    "\n",
    "q = scipy.stats.norm.ppf(0.975)\n",
    "\n",
    "np.round(((mu1 - q*se1, mu1 + q*se1), (mu2 - q*se2, mu2 + q*se2)),2)"
   ]
  }
 ],
 "metadata": {
  "kernelspec": {
   "display_name": "Python 3 (ipykernel)",
   "language": "python",
   "name": "python3"
  },
  "language_info": {
   "codemirror_mode": {
    "name": "ipython",
    "version": 3
   },
   "file_extension": ".py",
   "mimetype": "text/x-python",
   "name": "python",
   "nbconvert_exporter": "python",
   "pygments_lexer": "ipython3",
   "version": "3.9.6"
  },
  "toc": {
   "base_numbering": 1,
   "nav_menu": {},
   "number_sections": true,
   "sideBar": true,
   "skip_h1_title": false,
   "title_cell": "Table of Contents",
   "title_sidebar": "Contents",
   "toc_cell": false,
   "toc_position": {},
   "toc_section_display": true,
   "toc_window_display": false
  },
  "toc-autonumbering": true,
  "toc-showcode": false,
  "toc-showmarkdowntxt": false
 },
 "nbformat": 4,
 "nbformat_minor": 5
}
