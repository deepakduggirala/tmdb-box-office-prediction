{
 "cells": [
  {
   "cell_type": "code",
   "execution_count": 1,
   "id": "a20ecf93-c351-4140-8f1e-0d9311306261",
   "metadata": {},
   "outputs": [],
   "source": [
    "import numpy as np\n",
    "import pandas as pd\n",
    "import matplotlib.pyplot as plt\n",
    "import scipy\n",
    "from scipy import stats\n",
    "%matplotlib inline"
   ]
  },
  {
   "cell_type": "code",
   "execution_count": 20,
   "id": "be805dbf-db83-4bc7-89f1-5c863a34641c",
   "metadata": {},
   "outputs": [],
   "source": [
    "from sklearn.preprocessing import OneHotEncoder\n",
    "from sklearn.base import BaseEstimator, TransformerMixin\n",
    "from sklearn.impute import SimpleImputer\n",
    "from sklearn.pipeline import make_pipeline\n",
    "from sklearn.compose import ColumnTransformer\n",
    "from sklearn.preprocessing import StandardScaler\n",
    "from sklearn.model_selection import train_test_split\n",
    "from sklearn.preprocessing import FunctionTransformer\n",
    "from sklearn.pipeline import Pipeline\n",
    "\n",
    "from sklearn.linear_model import LinearRegression\n",
    "\n",
    "from sklearn.metrics import mean_squared_error\n",
    "from sklearn.metrics import make_scorer\n",
    "\n",
    "from sklearn import set_config\n",
    "set_config(display='diagram')"
   ]
  },
  {
   "cell_type": "code",
   "execution_count": 63,
   "id": "92eae882-4935-4cb6-8578-a9187c52b8be",
   "metadata": {},
   "outputs": [
    {
     "data": {
      "text/plain": [
       "<module 'utils' from '/Users/deepakduggirala/Documents/kaggle/tmdb-box-office-prediction/utils.py'>"
      ]
     },
     "execution_count": 63,
     "metadata": {},
     "output_type": "execute_result"
    }
   ],
   "source": [
    "import importlib\n",
    "importlib.reload(ctf)\n",
    "importlib.reload(utils)"
   ]
  },
  {
   "cell_type": "code",
   "execution_count": 64,
   "id": "8f1aef50-f04e-4461-ac28-1e471df1bc54",
   "metadata": {},
   "outputs": [],
   "source": [
    "import custom_transformers as ctf\n",
    "from custom_transformers import *\n",
    "\n",
    "import utils as utils\n",
    "from utils import *"
   ]
  },
  {
   "cell_type": "markdown",
   "id": "9f933dd4-96ce-45ae-9093-f4cd89c6fa9a",
   "metadata": {
    "tags": []
   },
   "source": [
    "## Load Data"
   ]
  },
  {
   "cell_type": "code",
   "execution_count": 3,
   "id": "b9ddb9fb-16f4-48d5-8dc9-db585a2169cf",
   "metadata": {},
   "outputs": [],
   "source": [
    "train_data = pd.read_csv('data/train.csv')\n",
    "test_data = pd.read_csv('data/test.csv')"
   ]
  },
  {
   "cell_type": "markdown",
   "id": "617bf7dc-6045-4990-8717-5f51599a8049",
   "metadata": {},
   "source": [
    "## Features\n",
    "\n",
    "Questions to ask while exploring the data:\n",
    "- are there any missing values?\n",
    "- is the data cut-off or transformed to exist in a min and max values?\n",
    "- is the distribution skewed? - why is this a problem?\n",
    "    - very few datapoints have very high / low values - so what?\n",
    "\n",
    "Numerical:\n",
    "- budget\n",
    "    - there are movies with budget 0; 826 movies with below budget of 100 - what to do?; bad data; most likely that testing data will have the same problem.\n",
    "    - right skewed; use log1p transformation\n",
    "    - what are the units? (same units for films filmed outside US?)\n",
    "    - test set have 1211 values with budget = 0 and 1245 with budget <= 500\n",
    "    - either estimate budget from fields or develope two models one where budget has a meaningful value and other model without the budget feature\n",
    "- popularity\n",
    "    - how is it measured / interpretted?\n",
    "    - what is its intended scale?\n",
    "    - has outliers - valid or noise from data measurement?\n",
    "- month\n",
    "    - December has the highest number of releases\n",
    "- year\n",
    "    - follows yy convention. hard to distinguish a yy such that 00<=yy<=18 if it belongs to 1900-1918 or 2000-2018?\n",
    "    - if yy > 17, assume 19yy, esle 20yy\n",
    "- day of the month\n",
    "- day of the week\n",
    "- runtime\n",
    "    - has 2 null values; replace with median\n",
    "    - has 12 zero values; replace with median\n",
    "- revenue\n",
    "    - right skewed\n",
    "    - min is 1\n",
    "    - what are the units?\n",
    "    - 39 movies with revenue below 100; bad data; most likely that testing data will have the same problem.\n",
    "    \n",
    "    \n",
    "    "
   ]
  },
  {
   "cell_type": "markdown",
   "id": "055d0c42-5945-4f01-b0a7-991618665398",
   "metadata": {},
   "source": [
    "## Base Estimator\n",
    "\n",
    "Conditional Pipelien: Train two models, one on data where a meaningful budget is present, other without the budget feature"
   ]
  },
  {
   "cell_type": "code",
   "execution_count": 74,
   "id": "319a41ad-8d14-424b-bce8-8f0ebb61bd78",
   "metadata": {},
   "outputs": [],
   "source": [
    "y = np.log(train_data['revenue'])\n",
    "X = train_data.drop(['revenue'], axis=1)\n",
    "X_train, X_test, y_train, y_test = train_test_split(X, y, test_size=0.2, random_state=0, shuffle=True)\n",
    "\n",
    "def make_mask(X, thresh=500):\n",
    "    return X['budget'] < thresh"
   ]
  },
  {
   "cell_type": "code",
   "execution_count": 112,
   "id": "b8b095d5-fd76-45bb-9cc3-14e88b46ee7d",
   "metadata": {},
   "outputs": [],
   "source": [
    "class FeaturePipelines():\n",
    "    def __init__(self):\n",
    "        pass\n",
    "        \n",
    "    def get_config(self, include_budget=True):\n",
    "        common_config = [\n",
    "            ('popularity', make_pipeline(\n",
    "                SimpleImputer(strategy='median'), \n",
    "                StandardScaler()\n",
    "            ), ['popularity']),\n",
    "\n",
    "            ('runtime', make_pipeline(\n",
    "                RuntimeImputer, \n",
    "                StandardScaler()\n",
    "            ), ['runtime']),\n",
    "\n",
    "            ('release_date', make_pipeline(\n",
    "                SimpleImputer(strategy='most_frequent'), \n",
    "                ReleaseDateTransformer()\n",
    "            ), ['release_date'])\n",
    "        ]\n",
    "        \n",
    "        budget_config = [\n",
    "            ('budget', make_pipeline(\n",
    "                SimpleImputer(strategy='median'),\n",
    "                FunctionTransformer(np.log1p),\n",
    "                StandardScaler()\n",
    "            ), ['budget'])\n",
    "        ]\n",
    "        \n",
    "        return (budget_config if include_budget else []) + common_config\n",
    "    \n",
    "    def get_features(self, include_budget=True):\n",
    "        return (['budget'] if include_budget else []) + (['popularity', 'runtime', 'release_year', 'release_month', 'release_DOW'])\n",
    "    "
   ]
  },
  {
   "cell_type": "code",
   "execution_count": 117,
   "id": "d3444651-d43a-4387-b73f-408b93ee38a6",
   "metadata": {},
   "outputs": [
    {
     "data": {
      "text/html": [
       "<style>#sk-90000e47-83fc-434b-83b0-c2995c23d34f {color: black;background-color: white;}#sk-90000e47-83fc-434b-83b0-c2995c23d34f pre{padding: 0;}#sk-90000e47-83fc-434b-83b0-c2995c23d34f div.sk-toggleable {background-color: white;}#sk-90000e47-83fc-434b-83b0-c2995c23d34f label.sk-toggleable__label {cursor: pointer;display: block;width: 100%;margin-bottom: 0;padding: 0.2em 0.3em;box-sizing: border-box;text-align: center;}#sk-90000e47-83fc-434b-83b0-c2995c23d34f div.sk-toggleable__content {max-height: 0;max-width: 0;overflow: hidden;text-align: left;background-color: #f0f8ff;}#sk-90000e47-83fc-434b-83b0-c2995c23d34f div.sk-toggleable__content pre {margin: 0.2em;color: black;border-radius: 0.25em;background-color: #f0f8ff;}#sk-90000e47-83fc-434b-83b0-c2995c23d34f input.sk-toggleable__control:checked~div.sk-toggleable__content {max-height: 200px;max-width: 100%;overflow: auto;}#sk-90000e47-83fc-434b-83b0-c2995c23d34f div.sk-estimator input.sk-toggleable__control:checked~label.sk-toggleable__label {background-color: #d4ebff;}#sk-90000e47-83fc-434b-83b0-c2995c23d34f div.sk-label input.sk-toggleable__control:checked~label.sk-toggleable__label {background-color: #d4ebff;}#sk-90000e47-83fc-434b-83b0-c2995c23d34f input.sk-hidden--visually {border: 0;clip: rect(1px 1px 1px 1px);clip: rect(1px, 1px, 1px, 1px);height: 1px;margin: -1px;overflow: hidden;padding: 0;position: absolute;width: 1px;}#sk-90000e47-83fc-434b-83b0-c2995c23d34f div.sk-estimator {font-family: monospace;background-color: #f0f8ff;margin: 0.25em 0.25em;border: 1px dotted black;border-radius: 0.25em;box-sizing: border-box;}#sk-90000e47-83fc-434b-83b0-c2995c23d34f div.sk-estimator:hover {background-color: #d4ebff;}#sk-90000e47-83fc-434b-83b0-c2995c23d34f div.sk-parallel-item::after {content: \"\";width: 100%;border-bottom: 1px solid gray;flex-grow: 1;}#sk-90000e47-83fc-434b-83b0-c2995c23d34f div.sk-label:hover label.sk-toggleable__label {background-color: #d4ebff;}#sk-90000e47-83fc-434b-83b0-c2995c23d34f div.sk-serial::before {content: \"\";position: absolute;border-left: 1px solid gray;box-sizing: border-box;top: 2em;bottom: 0;left: 50%;}#sk-90000e47-83fc-434b-83b0-c2995c23d34f div.sk-serial {display: flex;flex-direction: column;align-items: center;background-color: white;}#sk-90000e47-83fc-434b-83b0-c2995c23d34f div.sk-item {z-index: 1;}#sk-90000e47-83fc-434b-83b0-c2995c23d34f div.sk-parallel {display: flex;align-items: stretch;justify-content: center;background-color: white;}#sk-90000e47-83fc-434b-83b0-c2995c23d34f div.sk-parallel-item {display: flex;flex-direction: column;position: relative;background-color: white;}#sk-90000e47-83fc-434b-83b0-c2995c23d34f div.sk-parallel-item:first-child::after {align-self: flex-end;width: 50%;}#sk-90000e47-83fc-434b-83b0-c2995c23d34f div.sk-parallel-item:last-child::after {align-self: flex-start;width: 50%;}#sk-90000e47-83fc-434b-83b0-c2995c23d34f div.sk-parallel-item:only-child::after {width: 0;}#sk-90000e47-83fc-434b-83b0-c2995c23d34f div.sk-dashed-wrapped {border: 1px dashed gray;margin: 0.2em;box-sizing: border-box;padding-bottom: 0.1em;background-color: white;position: relative;}#sk-90000e47-83fc-434b-83b0-c2995c23d34f div.sk-label label {font-family: monospace;font-weight: bold;background-color: white;display: inline-block;line-height: 1.2em;}#sk-90000e47-83fc-434b-83b0-c2995c23d34f div.sk-label-container {position: relative;z-index: 2;text-align: center;}#sk-90000e47-83fc-434b-83b0-c2995c23d34f div.sk-container {display: inline-block;position: relative;}</style><div id=\"sk-90000e47-83fc-434b-83b0-c2995c23d34f\" class\"sk-top-container\"><div class=\"sk-container\"><div class=\"sk-item sk-dashed-wrapped\"><div class=\"sk-label-container\"><div class=\"sk-label sk-toggleable\"><input class=\"sk-toggleable__control sk-hidden--visually\" id=\"cc1d5e35-d597-4acb-841e-162c47cdcba9\" type=\"checkbox\" ><label class=\"sk-toggleable__label\" for=\"cc1d5e35-d597-4acb-841e-162c47cdcba9\">ConditionalPredictor</label><div class=\"sk-toggleable__content\"><pre>ConditionalPredictor(make_mask=<function make_mask at 0x108354b80>,\n",
       "                     pipelineA=Pipeline(steps=[('prep_A',\n",
       "                                                ColumnTransformer(transformers=[('popularity',\n",
       "                                                                                 Pipeline(steps=[('simpleimputer',\n",
       "                                                                                                  SimpleImputer(strategy='median')),\n",
       "                                                                                                 ('standardscaler',\n",
       "                                                                                                  StandardScaler())]),\n",
       "                                                                                 ['popularity']),\n",
       "                                                                                ('runtime',\n",
       "                                                                                 Pipeline(steps=[('pipeline',\n",
       "                                                                                                  Pipeline(steps=[('simpleimputer-1',\n",
       "                                                                                                                   SimpleImp...\n",
       "                                                                                                                   SimpleImputer(strategy='median')),\n",
       "                                                                                                                  ('simpleimputer-2',\n",
       "                                                                                                                   SimpleImputer(missing_values=0,\n",
       "                                                                                                                                 strategy='median'))])),\n",
       "                                                                                                 ('standardscaler',\n",
       "                                                                                                  StandardScaler())]),\n",
       "                                                                                 ['runtime']),\n",
       "                                                                                ('release_date',\n",
       "                                                                                 Pipeline(steps=[('simpleimputer',\n",
       "                                                                                                  SimpleImputer(strategy='most_frequent')),\n",
       "                                                                                                 ('releasedatetransformer',\n",
       "                                                                                                  ReleaseDateTransformer())]),\n",
       "                                                                                 ['release_date'])])),\n",
       "                                               ('model', LinearRegression())]),\n",
       "                     thresh=50)</pre></div></div></div><div class=\"sk-parallel\"><div class=\"sk-parallel-item\"><div class=\"sk-item\"><div class=\"sk-serial\"><div class=\"sk-item\"><div class=\"sk-serial\"><div class=\"sk-item sk-dashed-wrapped\"><div class=\"sk-label-container\"><div class=\"sk-label sk-toggleable\"><input class=\"sk-toggleable__control sk-hidden--visually\" id=\"da2a01c8-5ee0-4fd1-9ea1-51074fda30e5\" type=\"checkbox\" ><label class=\"sk-toggleable__label\" for=\"da2a01c8-5ee0-4fd1-9ea1-51074fda30e5\">prep_A: ColumnTransformer</label><div class=\"sk-toggleable__content\"><pre>ColumnTransformer(transformers=[('popularity',\n",
       "                                 Pipeline(steps=[('simpleimputer',\n",
       "                                                  SimpleImputer(strategy='median')),\n",
       "                                                 ('standardscaler',\n",
       "                                                  StandardScaler())]),\n",
       "                                 ['popularity']),\n",
       "                                ('runtime',\n",
       "                                 Pipeline(steps=[('pipeline',\n",
       "                                                  Pipeline(steps=[('simpleimputer-1',\n",
       "                                                                   SimpleImputer(strategy='median')),\n",
       "                                                                  ('simpleimputer-2',\n",
       "                                                                   SimpleImputer(missing_values=0,\n",
       "                                                                                 strategy='median'))])),\n",
       "                                                 ('standardscaler',\n",
       "                                                  StandardScaler())]),\n",
       "                                 ['runtime']),\n",
       "                                ('release_date',\n",
       "                                 Pipeline(steps=[('simpleimputer',\n",
       "                                                  SimpleImputer(strategy='most_frequent')),\n",
       "                                                 ('releasedatetransformer',\n",
       "                                                  ReleaseDateTransformer())]),\n",
       "                                 ['release_date'])])</pre></div></div></div><div class=\"sk-parallel\"><div class=\"sk-parallel-item\"><div class=\"sk-item\"><div class=\"sk-label-container\"><div class=\"sk-label sk-toggleable\"><input class=\"sk-toggleable__control sk-hidden--visually\" id=\"f2d07e71-2344-4b2c-b06f-45995e9d1c09\" type=\"checkbox\" ><label class=\"sk-toggleable__label\" for=\"f2d07e71-2344-4b2c-b06f-45995e9d1c09\">popularity</label><div class=\"sk-toggleable__content\"><pre>['popularity']</pre></div></div></div><div class=\"sk-serial\"><div class=\"sk-item\"><div class=\"sk-serial\"><div class=\"sk-item\"><div class=\"sk-estimator sk-toggleable\"><input class=\"sk-toggleable__control sk-hidden--visually\" id=\"c02d3cb1-03bf-4a4d-b108-20f19a79b2ff\" type=\"checkbox\" ><label class=\"sk-toggleable__label\" for=\"c02d3cb1-03bf-4a4d-b108-20f19a79b2ff\">SimpleImputer</label><div class=\"sk-toggleable__content\"><pre>SimpleImputer(strategy='median')</pre></div></div></div><div class=\"sk-item\"><div class=\"sk-estimator sk-toggleable\"><input class=\"sk-toggleable__control sk-hidden--visually\" id=\"544d4948-4d17-42be-bffa-762f89b25447\" type=\"checkbox\" ><label class=\"sk-toggleable__label\" for=\"544d4948-4d17-42be-bffa-762f89b25447\">StandardScaler</label><div class=\"sk-toggleable__content\"><pre>StandardScaler()</pre></div></div></div></div></div></div></div></div><div class=\"sk-parallel-item\"><div class=\"sk-item\"><div class=\"sk-label-container\"><div class=\"sk-label sk-toggleable\"><input class=\"sk-toggleable__control sk-hidden--visually\" id=\"51abafaf-b94f-465b-a6bf-3266369a13ea\" type=\"checkbox\" ><label class=\"sk-toggleable__label\" for=\"51abafaf-b94f-465b-a6bf-3266369a13ea\">runtime</label><div class=\"sk-toggleable__content\"><pre>['runtime']</pre></div></div></div><div class=\"sk-serial\"><div class=\"sk-item\"><div class=\"sk-serial\"><div class=\"sk-item\"><div class=\"sk-label-container\"><div class=\"sk-label sk-toggleable\"><input class=\"sk-toggleable__control sk-hidden--visually\" id=\"81d72f58-f02b-423c-b5dd-1c3bff064d89\" type=\"checkbox\" ><label class=\"sk-toggleable__label\" for=\"81d72f58-f02b-423c-b5dd-1c3bff064d89\">pipeline: Pipeline</label><div class=\"sk-toggleable__content\"><pre>Pipeline(steps=[('simpleimputer-1', SimpleImputer(strategy='median')),\n",
       "                ('simpleimputer-2',\n",
       "                 SimpleImputer(missing_values=0, strategy='median'))])</pre></div></div></div><div class=\"sk-serial\"><div class=\"sk-item\"><div class=\"sk-estimator sk-toggleable\"><input class=\"sk-toggleable__control sk-hidden--visually\" id=\"2665ab6f-6d38-46a2-a421-15a9fd06e176\" type=\"checkbox\" ><label class=\"sk-toggleable__label\" for=\"2665ab6f-6d38-46a2-a421-15a9fd06e176\">SimpleImputer</label><div class=\"sk-toggleable__content\"><pre>SimpleImputer(strategy='median')</pre></div></div></div><div class=\"sk-item\"><div class=\"sk-estimator sk-toggleable\"><input class=\"sk-toggleable__control sk-hidden--visually\" id=\"dae3eef3-3fd4-4794-822a-9de05046aed3\" type=\"checkbox\" ><label class=\"sk-toggleable__label\" for=\"dae3eef3-3fd4-4794-822a-9de05046aed3\">SimpleImputer</label><div class=\"sk-toggleable__content\"><pre>SimpleImputer(missing_values=0, strategy='median')</pre></div></div></div></div></div><div class=\"sk-item\"><div class=\"sk-estimator sk-toggleable\"><input class=\"sk-toggleable__control sk-hidden--visually\" id=\"b29a1048-ae54-4776-9ef1-355adba03142\" type=\"checkbox\" ><label class=\"sk-toggleable__label\" for=\"b29a1048-ae54-4776-9ef1-355adba03142\">StandardScaler</label><div class=\"sk-toggleable__content\"><pre>StandardScaler()</pre></div></div></div></div></div></div></div></div><div class=\"sk-parallel-item\"><div class=\"sk-item\"><div class=\"sk-label-container\"><div class=\"sk-label sk-toggleable\"><input class=\"sk-toggleable__control sk-hidden--visually\" id=\"448af391-2a7c-4908-a27d-180dd751a976\" type=\"checkbox\" ><label class=\"sk-toggleable__label\" for=\"448af391-2a7c-4908-a27d-180dd751a976\">release_date</label><div class=\"sk-toggleable__content\"><pre>['release_date']</pre></div></div></div><div class=\"sk-serial\"><div class=\"sk-item\"><div class=\"sk-serial\"><div class=\"sk-item\"><div class=\"sk-estimator sk-toggleable\"><input class=\"sk-toggleable__control sk-hidden--visually\" id=\"65164edc-d09e-48db-a50b-23967b79d0eb\" type=\"checkbox\" ><label class=\"sk-toggleable__label\" for=\"65164edc-d09e-48db-a50b-23967b79d0eb\">SimpleImputer</label><div class=\"sk-toggleable__content\"><pre>SimpleImputer(strategy='most_frequent')</pre></div></div></div><div class=\"sk-item\"><div class=\"sk-estimator sk-toggleable\"><input class=\"sk-toggleable__control sk-hidden--visually\" id=\"925cf8f3-0206-4a91-991d-110da27e5367\" type=\"checkbox\" ><label class=\"sk-toggleable__label\" for=\"925cf8f3-0206-4a91-991d-110da27e5367\">ReleaseDateTransformer</label><div class=\"sk-toggleable__content\"><pre>ReleaseDateTransformer()</pre></div></div></div></div></div></div></div></div></div></div><div class=\"sk-item\"><div class=\"sk-estimator sk-toggleable\"><input class=\"sk-toggleable__control sk-hidden--visually\" id=\"71f98db6-3f4f-4658-8379-e8af7ff80245\" type=\"checkbox\" ><label class=\"sk-toggleable__label\" for=\"71f98db6-3f4f-4658-8379-e8af7ff80245\">LinearRegression</label><div class=\"sk-toggleable__content\"><pre>LinearRegression()</pre></div></div></div></div></div></div></div></div><div class=\"sk-parallel-item\"><div class=\"sk-item\"><div class=\"sk-serial\"><div class=\"sk-item\"><div class=\"sk-serial\"><div class=\"sk-item sk-dashed-wrapped\"><div class=\"sk-label-container\"><div class=\"sk-label sk-toggleable\"><input class=\"sk-toggleable__control sk-hidden--visually\" id=\"7727f44b-cb47-4122-af1f-c11e7b20243c\" type=\"checkbox\" ><label class=\"sk-toggleable__label\" for=\"7727f44b-cb47-4122-af1f-c11e7b20243c\">prep_B: ColumnTransformer</label><div class=\"sk-toggleable__content\"><pre>ColumnTransformer(transformers=[('budget',\n",
       "                                 Pipeline(steps=[('simpleimputer',\n",
       "                                                  SimpleImputer(strategy='median')),\n",
       "                                                 ('functiontransformer',\n",
       "                                                  FunctionTransformer(func=<ufunc 'log1p'>)),\n",
       "                                                 ('standardscaler',\n",
       "                                                  StandardScaler())]),\n",
       "                                 ['budget']),\n",
       "                                ('popularity',\n",
       "                                 Pipeline(steps=[('simpleimputer',\n",
       "                                                  SimpleImputer(strategy='median')),\n",
       "                                                 ('standardscaler',\n",
       "                                                  StandardScaler())]),\n",
       "                                 ['popul...\n",
       "                                                  Pipeline(steps=[('simpleimputer-1',\n",
       "                                                                   SimpleImputer(strategy='median')),\n",
       "                                                                  ('simpleimputer-2',\n",
       "                                                                   SimpleImputer(missing_values=0,\n",
       "                                                                                 strategy='median'))])),\n",
       "                                                 ('standardscaler',\n",
       "                                                  StandardScaler())]),\n",
       "                                 ['runtime']),\n",
       "                                ('release_date',\n",
       "                                 Pipeline(steps=[('simpleimputer',\n",
       "                                                  SimpleImputer(strategy='most_frequent')),\n",
       "                                                 ('releasedatetransformer',\n",
       "                                                  ReleaseDateTransformer())]),\n",
       "                                 ['release_date'])])</pre></div></div></div><div class=\"sk-parallel\"><div class=\"sk-parallel-item\"><div class=\"sk-item\"><div class=\"sk-label-container\"><div class=\"sk-label sk-toggleable\"><input class=\"sk-toggleable__control sk-hidden--visually\" id=\"72d71604-391c-47e6-8e98-b2b5e3d44bcf\" type=\"checkbox\" ><label class=\"sk-toggleable__label\" for=\"72d71604-391c-47e6-8e98-b2b5e3d44bcf\">budget</label><div class=\"sk-toggleable__content\"><pre>['budget']</pre></div></div></div><div class=\"sk-serial\"><div class=\"sk-item\"><div class=\"sk-serial\"><div class=\"sk-item\"><div class=\"sk-estimator sk-toggleable\"><input class=\"sk-toggleable__control sk-hidden--visually\" id=\"3f5f90f9-e13d-4a85-985d-5a643a8bba26\" type=\"checkbox\" ><label class=\"sk-toggleable__label\" for=\"3f5f90f9-e13d-4a85-985d-5a643a8bba26\">SimpleImputer</label><div class=\"sk-toggleable__content\"><pre>SimpleImputer(strategy='median')</pre></div></div></div><div class=\"sk-item\"><div class=\"sk-estimator sk-toggleable\"><input class=\"sk-toggleable__control sk-hidden--visually\" id=\"24295b34-97f6-4a07-a850-42d2853cf372\" type=\"checkbox\" ><label class=\"sk-toggleable__label\" for=\"24295b34-97f6-4a07-a850-42d2853cf372\">FunctionTransformer</label><div class=\"sk-toggleable__content\"><pre>FunctionTransformer(func=<ufunc 'log1p'>)</pre></div></div></div><div class=\"sk-item\"><div class=\"sk-estimator sk-toggleable\"><input class=\"sk-toggleable__control sk-hidden--visually\" id=\"5293f5b5-0377-4bb0-9829-ade2271a62c5\" type=\"checkbox\" ><label class=\"sk-toggleable__label\" for=\"5293f5b5-0377-4bb0-9829-ade2271a62c5\">StandardScaler</label><div class=\"sk-toggleable__content\"><pre>StandardScaler()</pre></div></div></div></div></div></div></div></div><div class=\"sk-parallel-item\"><div class=\"sk-item\"><div class=\"sk-label-container\"><div class=\"sk-label sk-toggleable\"><input class=\"sk-toggleable__control sk-hidden--visually\" id=\"1261bb81-e58f-49c3-b441-d14ffb62a03c\" type=\"checkbox\" ><label class=\"sk-toggleable__label\" for=\"1261bb81-e58f-49c3-b441-d14ffb62a03c\">popularity</label><div class=\"sk-toggleable__content\"><pre>['popularity']</pre></div></div></div><div class=\"sk-serial\"><div class=\"sk-item\"><div class=\"sk-serial\"><div class=\"sk-item\"><div class=\"sk-estimator sk-toggleable\"><input class=\"sk-toggleable__control sk-hidden--visually\" id=\"48226eaf-91b8-4a0f-ae84-611c4bd2ef78\" type=\"checkbox\" ><label class=\"sk-toggleable__label\" for=\"48226eaf-91b8-4a0f-ae84-611c4bd2ef78\">SimpleImputer</label><div class=\"sk-toggleable__content\"><pre>SimpleImputer(strategy='median')</pre></div></div></div><div class=\"sk-item\"><div class=\"sk-estimator sk-toggleable\"><input class=\"sk-toggleable__control sk-hidden--visually\" id=\"ec51fef2-6506-4266-a029-0c9d99816342\" type=\"checkbox\" ><label class=\"sk-toggleable__label\" for=\"ec51fef2-6506-4266-a029-0c9d99816342\">StandardScaler</label><div class=\"sk-toggleable__content\"><pre>StandardScaler()</pre></div></div></div></div></div></div></div></div><div class=\"sk-parallel-item\"><div class=\"sk-item\"><div class=\"sk-label-container\"><div class=\"sk-label sk-toggleable\"><input class=\"sk-toggleable__control sk-hidden--visually\" id=\"32e7f5ba-3a32-4f30-8353-edd4171586bb\" type=\"checkbox\" ><label class=\"sk-toggleable__label\" for=\"32e7f5ba-3a32-4f30-8353-edd4171586bb\">runtime</label><div class=\"sk-toggleable__content\"><pre>['runtime']</pre></div></div></div><div class=\"sk-serial\"><div class=\"sk-item\"><div class=\"sk-serial\"><div class=\"sk-item\"><div class=\"sk-label-container\"><div class=\"sk-label sk-toggleable\"><input class=\"sk-toggleable__control sk-hidden--visually\" id=\"ce0c4b76-1e71-40f0-abb3-da736769bccd\" type=\"checkbox\" ><label class=\"sk-toggleable__label\" for=\"ce0c4b76-1e71-40f0-abb3-da736769bccd\">pipeline: Pipeline</label><div class=\"sk-toggleable__content\"><pre>Pipeline(steps=[('simpleimputer-1', SimpleImputer(strategy='median')),\n",
       "                ('simpleimputer-2',\n",
       "                 SimpleImputer(missing_values=0, strategy='median'))])</pre></div></div></div><div class=\"sk-serial\"><div class=\"sk-item\"><div class=\"sk-estimator sk-toggleable\"><input class=\"sk-toggleable__control sk-hidden--visually\" id=\"6fab3822-0fb3-409a-a01f-3a1e3e20985b\" type=\"checkbox\" ><label class=\"sk-toggleable__label\" for=\"6fab3822-0fb3-409a-a01f-3a1e3e20985b\">SimpleImputer</label><div class=\"sk-toggleable__content\"><pre>SimpleImputer(strategy='median')</pre></div></div></div><div class=\"sk-item\"><div class=\"sk-estimator sk-toggleable\"><input class=\"sk-toggleable__control sk-hidden--visually\" id=\"66069844-07db-4bef-bc10-bef2d863ca34\" type=\"checkbox\" ><label class=\"sk-toggleable__label\" for=\"66069844-07db-4bef-bc10-bef2d863ca34\">SimpleImputer</label><div class=\"sk-toggleable__content\"><pre>SimpleImputer(missing_values=0, strategy='median')</pre></div></div></div></div></div><div class=\"sk-item\"><div class=\"sk-estimator sk-toggleable\"><input class=\"sk-toggleable__control sk-hidden--visually\" id=\"e1b475dc-00d8-4fde-a911-9a4282a75ed5\" type=\"checkbox\" ><label class=\"sk-toggleable__label\" for=\"e1b475dc-00d8-4fde-a911-9a4282a75ed5\">StandardScaler</label><div class=\"sk-toggleable__content\"><pre>StandardScaler()</pre></div></div></div></div></div></div></div></div><div class=\"sk-parallel-item\"><div class=\"sk-item\"><div class=\"sk-label-container\"><div class=\"sk-label sk-toggleable\"><input class=\"sk-toggleable__control sk-hidden--visually\" id=\"17f92320-3e30-4c17-9b71-499c1b8a3b53\" type=\"checkbox\" ><label class=\"sk-toggleable__label\" for=\"17f92320-3e30-4c17-9b71-499c1b8a3b53\">release_date</label><div class=\"sk-toggleable__content\"><pre>['release_date']</pre></div></div></div><div class=\"sk-serial\"><div class=\"sk-item\"><div class=\"sk-serial\"><div class=\"sk-item\"><div class=\"sk-estimator sk-toggleable\"><input class=\"sk-toggleable__control sk-hidden--visually\" id=\"9856a097-332f-432e-8e19-09c45f50e761\" type=\"checkbox\" ><label class=\"sk-toggleable__label\" for=\"9856a097-332f-432e-8e19-09c45f50e761\">SimpleImputer</label><div class=\"sk-toggleable__content\"><pre>SimpleImputer(strategy='most_frequent')</pre></div></div></div><div class=\"sk-item\"><div class=\"sk-estimator sk-toggleable\"><input class=\"sk-toggleable__control sk-hidden--visually\" id=\"36a21402-8ba7-4b72-8481-d510bd6d2d98\" type=\"checkbox\" ><label class=\"sk-toggleable__label\" for=\"36a21402-8ba7-4b72-8481-d510bd6d2d98\">ReleaseDateTransformer</label><div class=\"sk-toggleable__content\"><pre>ReleaseDateTransformer()</pre></div></div></div></div></div></div></div></div></div></div><div class=\"sk-item\"><div class=\"sk-estimator sk-toggleable\"><input class=\"sk-toggleable__control sk-hidden--visually\" id=\"c5c72dac-a900-476b-adea-f6545607cca2\" type=\"checkbox\" ><label class=\"sk-toggleable__label\" for=\"c5c72dac-a900-476b-adea-f6545607cca2\">LinearRegression</label><div class=\"sk-toggleable__content\"><pre>LinearRegression()</pre></div></div></div></div></div></div></div></div></div></div></div></div>"
      ],
      "text/plain": [
       "ConditionalPredictor(make_mask=<function make_mask at 0x108354b80>,\n",
       "                     pipelineA=Pipeline(steps=[('prep_A',\n",
       "                                                ColumnTransformer(transformers=[('popularity',\n",
       "                                                                                 Pipeline(steps=[('simpleimputer',\n",
       "                                                                                                  SimpleImputer(strategy='median')),\n",
       "                                                                                                 ('standardscaler',\n",
       "                                                                                                  StandardScaler())]),\n",
       "                                                                                 ['popularity']),\n",
       "                                                                                ('runtime',\n",
       "                                                                                 Pipeline(steps=[('pipeline',\n",
       "                                                                                                  Pipeline(steps=[('simpleimputer-1',\n",
       "                                                                                                                   SimpleImp...\n",
       "                                                                                                                   SimpleImputer(strategy='median')),\n",
       "                                                                                                                  ('simpleimputer-2',\n",
       "                                                                                                                   SimpleImputer(missing_values=0,\n",
       "                                                                                                                                 strategy='median'))])),\n",
       "                                                                                                 ('standardscaler',\n",
       "                                                                                                  StandardScaler())]),\n",
       "                                                                                 ['runtime']),\n",
       "                                                                                ('release_date',\n",
       "                                                                                 Pipeline(steps=[('simpleimputer',\n",
       "                                                                                                  SimpleImputer(strategy='most_frequent')),\n",
       "                                                                                                 ('releasedatetransformer',\n",
       "                                                                                                  ReleaseDateTransformer())]),\n",
       "                                                                                 ['release_date'])])),\n",
       "                                               ('model', LinearRegression())]),\n",
       "                     thresh=50)"
      ]
     },
     "execution_count": 117,
     "metadata": {},
     "output_type": "execute_result"
    }
   ],
   "source": [
    "featurePipelines = FeaturePipelines()\n",
    "\n",
    "prep_pipeline_A = ColumnTransformer(featurePipelines.get_config(include_budget=False), remainder='drop')\n",
    "prep_pipeline_B = ColumnTransformer(featurePipelines.get_config(), remainder='drop')\n",
    "\n",
    "full_pipeline_A = Pipeline([('prep_A', prep_pipeline_A), ('model', LinearRegression())])\n",
    "full_pipeline_B = Pipeline([('prep_B', prep_pipeline_B), ('model', LinearRegression())])\n",
    "\n",
    "base_pipeline = ConditionalPredictor(full_pipeline_A, full_pipeline_B, make_mask, 50)\n",
    "base_pipeline.fit(X_train, y_train)"
   ]
  },
  {
   "cell_type": "code",
   "execution_count": 118,
   "id": "400224f1-d498-4f9a-9d9c-ea9fb3dc3941",
   "metadata": {},
   "outputs": [
    {
     "data": {
      "text/html": [
       "<div>\n",
       "<style scoped>\n",
       "    .dataframe tbody tr th:only-of-type {\n",
       "        vertical-align: middle;\n",
       "    }\n",
       "\n",
       "    .dataframe tbody tr th {\n",
       "        vertical-align: top;\n",
       "    }\n",
       "\n",
       "    .dataframe thead th {\n",
       "        text-align: right;\n",
       "    }\n",
       "</style>\n",
       "<table border=\"1\" class=\"dataframe\">\n",
       "  <thead>\n",
       "    <tr style=\"text-align: right;\">\n",
       "      <th></th>\n",
       "      <th>exp_name</th>\n",
       "      <th>Train MSE</th>\n",
       "      <th>Valid MSE</th>\n",
       "      <th>Test  MSE</th>\n",
       "    </tr>\n",
       "  </thead>\n",
       "  <tbody>\n",
       "    <tr>\n",
       "      <th>0</th>\n",
       "      <td>Baseline_LR</td>\n",
       "      <td>2.3603</td>\n",
       "      <td>0.0</td>\n",
       "      <td>2.2499</td>\n",
       "    </tr>\n",
       "  </tbody>\n",
       "</table>\n",
       "</div>"
      ],
      "text/plain": [
       "      exp_name  Train MSE  Valid MSE  Test  MSE\n",
       "0  Baseline_LR     2.3603        0.0     2.2499"
      ]
     },
     "execution_count": 118,
     "metadata": {},
     "output_type": "execute_result"
    }
   ],
   "source": [
    "expLog = pd.DataFrame(columns=[\"exp_name\", \n",
    "                               \"Train MSE\", \n",
    "                               \"Valid MSE\",\n",
    "                               \"Test  MSE\"\n",
    "                              ])\n",
    "\n",
    "\n",
    "exp_name = f\"Baseline_LR\"\n",
    "expLog.loc[len(expLog)] = [f\"{exp_name}\"] + list(np.round([\n",
    "    mean_squared_error(y_train, base_pipeline.predict(X_train), squared=False), \n",
    "    0,\n",
    "    mean_squared_error(y_test, base_pipeline.predict(X_test), squared=False),\n",
    "], 4)) \n",
    "expLog\n",
    "\n"
   ]
  },
  {
   "cell_type": "markdown",
   "id": "e9dae4cf-4a5c-4c52-bc1a-0c1902aa5661",
   "metadata": {},
   "source": [
    "## Kaggle Submission"
   ]
  },
  {
   "cell_type": "code",
   "execution_count": 61,
   "id": "263e986a-ccf5-44a1-bf96-287470cba6a1",
   "metadata": {},
   "outputs": [
    {
     "name": "stdout",
     "output_type": "stream",
     "text": [
      "kaggle competitions submit -c tmdb-box-office-prediction -f predictions/Baseline_LR.csv -m \"Baseline_LR\"\n"
     ]
    }
   ],
   "source": [
    "make_submission_file(exp_name, base_pipeline, X, y, test_data, 'data/sample_submission.csv', 'predictions')"
   ]
  },
  {
   "cell_type": "code",
   "execution_count": 62,
   "id": "56eddbfd-a082-4b3c-b3c3-d4affbe5cb33",
   "metadata": {},
   "outputs": [
    {
     "name": "stdout",
     "output_type": "stream",
     "text": [
      "100%|████████████████████████████████████████| 100k/100k [00:01<00:00, 64.6kB/s]\n",
      "Successfully submitted to TMDB Box Office Prediction"
     ]
    }
   ],
   "source": [
    "!kaggle competitions submit -c tmdb-box-office-prediction -f predictions/Baseline_LR.csv -m \"Baseline_LR\""
   ]
  },
  {
   "attachments": {
    "66684e5f-e0cc-4ba1-abfa-19350893401f.png": {
     "image/png": "[encoded data removed]"
    }
   },
   "cell_type": "markdown",
   "id": "369cd2ba-3100-4f45-afbb-89a9dd213692",
   "metadata": {},
   "source": [
    "![image.png](attachment:66684e5f-e0cc-4ba1-abfa-19350893401f.png)"
   ]
  },
  {
   "cell_type": "markdown",
   "id": "2ff24f19-d24f-435b-999f-1888de3e4d19",
   "metadata": {},
   "source": [
    "## Feature Importance"
   ]
  },
  {
   "cell_type": "code",
   "execution_count": 119,
   "id": "81cdaef8-e4eb-41dc-9d5c-06e0812baf85",
   "metadata": {},
   "outputs": [
    {
     "data": {
      "text/html": [
       "<div>\n",
       "<style scoped>\n",
       "    .dataframe tbody tr th:only-of-type {\n",
       "        vertical-align: middle;\n",
       "    }\n",
       "\n",
       "    .dataframe tbody tr th {\n",
       "        vertical-align: top;\n",
       "    }\n",
       "\n",
       "    .dataframe thead th {\n",
       "        text-align: right;\n",
       "    }\n",
       "</style>\n",
       "<table border=\"1\" class=\"dataframe\">\n",
       "  <thead>\n",
       "    <tr style=\"text-align: right;\">\n",
       "      <th></th>\n",
       "      <th>popularity</th>\n",
       "      <th>runtime</th>\n",
       "      <th>release_year</th>\n",
       "      <th>release_month</th>\n",
       "      <th>release_DOW</th>\n",
       "    </tr>\n",
       "  </thead>\n",
       "  <tbody>\n",
       "    <tr>\n",
       "      <th>0</th>\n",
       "      <td>0.955263</td>\n",
       "      <td>0.325082</td>\n",
       "      <td>-0.023875</td>\n",
       "      <td>0.029534</td>\n",
       "      <td>0.17113</td>\n",
       "    </tr>\n",
       "  </tbody>\n",
       "</table>\n",
       "</div>"
      ],
      "text/plain": [
       "   popularity   runtime  release_year  release_month  release_DOW\n",
       "0    0.955263  0.325082     -0.023875       0.029534      0.17113"
      ]
     },
     "execution_count": 119,
     "metadata": {},
     "output_type": "execute_result"
    }
   ],
   "source": [
    "lr = base_pipeline.pipelineA.named_steps['model']\n",
    "coef_A = pd.DataFrame(lr.coef_.reshape(1, -1), columns=featurePipelines.get_features(include_budget=False))\n",
    "coef_A"
   ]
  },
  {
   "cell_type": "code",
   "execution_count": 120,
   "id": "44ae093f-b467-43e1-82ef-b62408dc69ce",
   "metadata": {},
   "outputs": [
    {
     "data": {
      "text/html": [
       "<div>\n",
       "<style scoped>\n",
       "    .dataframe tbody tr th:only-of-type {\n",
       "        vertical-align: middle;\n",
       "    }\n",
       "\n",
       "    .dataframe tbody tr th {\n",
       "        vertical-align: top;\n",
       "    }\n",
       "\n",
       "    .dataframe thead th {\n",
       "        text-align: right;\n",
       "    }\n",
       "</style>\n",
       "<table border=\"1\" class=\"dataframe\">\n",
       "  <thead>\n",
       "    <tr style=\"text-align: right;\">\n",
       "      <th></th>\n",
       "      <th>budget</th>\n",
       "      <th>popularity</th>\n",
       "      <th>runtime</th>\n",
       "      <th>release_year</th>\n",
       "      <th>release_month</th>\n",
       "      <th>release_DOW</th>\n",
       "    </tr>\n",
       "  </thead>\n",
       "  <tbody>\n",
       "    <tr>\n",
       "      <th>0</th>\n",
       "      <td>1.506497</td>\n",
       "      <td>0.337232</td>\n",
       "      <td>0.11517</td>\n",
       "      <td>-0.018782</td>\n",
       "      <td>0.007219</td>\n",
       "      <td>-0.045502</td>\n",
       "    </tr>\n",
       "  </tbody>\n",
       "</table>\n",
       "</div>"
      ],
      "text/plain": [
       "     budget  popularity  runtime  release_year  release_month  release_DOW\n",
       "0  1.506497    0.337232  0.11517     -0.018782       0.007219    -0.045502"
      ]
     },
     "execution_count": 120,
     "metadata": {},
     "output_type": "execute_result"
    }
   ],
   "source": [
    "lr = base_pipeline.pipelineB.named_steps['model']\n",
    "coef_B = pd.DataFrame(lr.coef_.reshape(1, -1), columns=get_features(base_pipeline, include_budget=True))\n",
    "coef_B"
   ]
  },
  {
   "cell_type": "code",
   "execution_count": 121,
   "id": "59fab51e-4614-46f4-b2dd-4ee9d4ef34c8",
   "metadata": {},
   "outputs": [
    {
     "data": {
      "text/html": [
       "<div>\n",
       "<style scoped>\n",
       "    .dataframe tbody tr th:only-of-type {\n",
       "        vertical-align: middle;\n",
       "    }\n",
       "\n",
       "    .dataframe tbody tr th {\n",
       "        vertical-align: top;\n",
       "    }\n",
       "\n",
       "    .dataframe thead th {\n",
       "        text-align: right;\n",
       "    }\n",
       "</style>\n",
       "<table border=\"1\" class=\"dataframe\">\n",
       "  <thead>\n",
       "    <tr style=\"text-align: right;\">\n",
       "      <th></th>\n",
       "      <th>release_year</th>\n",
       "      <th>release_month</th>\n",
       "      <th>release_DOW</th>\n",
       "      <th>runtime</th>\n",
       "      <th>popularity</th>\n",
       "    </tr>\n",
       "  </thead>\n",
       "  <tbody>\n",
       "    <tr>\n",
       "      <th>0</th>\n",
       "      <td>1.59</td>\n",
       "      <td>1.96</td>\n",
       "      <td>11.37</td>\n",
       "      <td>21.6</td>\n",
       "      <td>63.48</td>\n",
       "    </tr>\n",
       "  </tbody>\n",
       "</table>\n",
       "</div>"
      ],
      "text/plain": [
       "   release_year  release_month  release_DOW  runtime  popularity\n",
       "0          1.59           1.96        11.37     21.6       63.48"
      ]
     },
     "execution_count": 121,
     "metadata": {},
     "output_type": "execute_result"
    }
   ],
   "source": [
    "x=coef_A.abs().sort_values(by=0, axis=1)\n",
    "np.round(100*x/x.sum(axis=1)[0],2)"
   ]
  },
  {
   "cell_type": "code",
   "execution_count": 122,
   "id": "f6f361ad-b02c-4916-b67f-332cdd381459",
   "metadata": {},
   "outputs": [
    {
     "data": {
      "text/html": [
       "<div>\n",
       "<style scoped>\n",
       "    .dataframe tbody tr th:only-of-type {\n",
       "        vertical-align: middle;\n",
       "    }\n",
       "\n",
       "    .dataframe tbody tr th {\n",
       "        vertical-align: top;\n",
       "    }\n",
       "\n",
       "    .dataframe thead th {\n",
       "        text-align: right;\n",
       "    }\n",
       "</style>\n",
       "<table border=\"1\" class=\"dataframe\">\n",
       "  <thead>\n",
       "    <tr style=\"text-align: right;\">\n",
       "      <th></th>\n",
       "      <th>release_month</th>\n",
       "      <th>release_year</th>\n",
       "      <th>release_DOW</th>\n",
       "      <th>runtime</th>\n",
       "      <th>popularity</th>\n",
       "      <th>budget</th>\n",
       "    </tr>\n",
       "  </thead>\n",
       "  <tbody>\n",
       "    <tr>\n",
       "      <th>0</th>\n",
       "      <td>0.36</td>\n",
       "      <td>0.93</td>\n",
       "      <td>2.24</td>\n",
       "      <td>5.67</td>\n",
       "      <td>16.61</td>\n",
       "      <td>74.2</td>\n",
       "    </tr>\n",
       "  </tbody>\n",
       "</table>\n",
       "</div>"
      ],
      "text/plain": [
       "   release_month  release_year  release_DOW  runtime  popularity  budget\n",
       "0           0.36          0.93         2.24     5.67       16.61    74.2"
      ]
     },
     "execution_count": 122,
     "metadata": {},
     "output_type": "execute_result"
    }
   ],
   "source": [
    "x=coef_B.abs().sort_values(by=0, axis=1)\n",
    "np.round(100*x/x.sum(axis=1)[0],2)"
   ]
  }
 ],
 "metadata": {
  "kernelspec": {
   "display_name": "Python 3 (ipykernel)",
   "language": "python",
   "name": "python3"
  },
  "language_info": {
   "codemirror_mode": {
    "name": "ipython",
    "version": 3
   },
   "file_extension": ".py",
   "mimetype": "text/x-python",
   "name": "python",
   "nbconvert_exporter": "python",
   "pygments_lexer": "ipython3",
   "version": "3.9.6"
  }
 },
 "nbformat": 4,
 "nbformat_minor": 5
}
